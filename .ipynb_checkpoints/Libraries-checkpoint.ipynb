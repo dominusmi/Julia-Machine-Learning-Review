{
 "cells": [
  {
   "cell_type": "markdown",
   "metadata": {},
   "source": [
    "## Linear Regression\n",
    "\n",
    "|        | [SparseRegression.jl](Scouting/Sparse Regression.ipynb) |  [MultivariateStats.jl](Scouting/MultivariateStats.ipynb) | [OnlineStats.jl](Scouting/OnlineStats.ipynb) |\n",
    "| ------------- |:-------------:|:-------------:|:-:|\n",
    "| Package works | yes | yes | yes |\n",
    "| Deprecations warnings      | No | No | No |\n",
    "| Compatible with JuliaDB | If transformed into matrix | If transformed into matrix |\n",
    "| Contains documentation | yes, but not great | very good |\n",
    "| Simplicity | good | good |\n",
    "\n",
    "\n",
    "\n",
    "## Decision Trees\n",
    "\n",
    "|                       | [DecisionTrees.jl](Scouting/DecisionTree.ipynb) |  [ScikitLearn.jl](Scouting/ScikitLearn.jl.ipynb) |\n",
    "| :- | :- |\n",
    "| Packages works            | yes                               | Yes |\n",
    "| Deprecation warnings      | None                              | Some      |\n",
    "| Compatible with JuliaDB   | If tables are converted to arrays | Yes (transformation of tables to arrays required) |\n",
    "| Contains Documetation     | No, but many examples             | Yes (very good!) |\n",
    "| Simplicity                | Good, like sklearn                | good |"
   ]
  }
 ],
 "metadata": {
  "kernelspec": {
   "display_name": "Julia 0.6.2",
   "language": "julia",
   "name": "julia-0.6"
  },
  "language_info": {
   "file_extension": ".jl",
   "mimetype": "application/julia",
   "name": "julia",
   "version": "0.6.2"
  }
 },
 "nbformat": 4,
 "nbformat_minor": 2
}
