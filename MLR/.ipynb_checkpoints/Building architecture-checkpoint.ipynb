{
 "cells": [
  {
   "cell_type": "code",
   "execution_count": 30,
   "metadata": {},
   "outputs": [],
   "source": [
    "import StatsBase: predict\n",
    "import Base: getindex, show\n",
    "import MLBase: Kfold\n",
    "using MLMetrics\n",
    "using SparseRegression"
   ]
  },
  {
   "cell_type": "code",
   "execution_count": 2,
   "metadata": {},
   "outputs": [
    {
     "data": {
      "text/plain": [
       "FakeData (generic function with 1 method)"
      ]
     },
     "execution_count": 2,
     "metadata": {},
     "output_type": "execute_result"
    }
   ],
   "source": [
    "function FakeData(N,d)\n",
    "    n_obs = 100\n",
    "    x = randn((n_obs,d))\n",
    "    y = sum(2*x,2)\n",
    "    \n",
    "    hcat(x,y)\n",
    "end"
   ]
  },
  {
   "cell_type": "code",
   "execution_count": 31,
   "metadata": {},
   "outputs": [],
   "source": [
    "immutable Task \n",
    "    task_type::String\n",
    "    target::Int\n",
    "    features::Array{Int}\n",
    "end\n",
    "\n",
    "function Task(;task_type=\"regression\", target=nothing, data=nothing)\n",
    "    if target == nothing || data == nothing\n",
    "        throw(\"Requires target and data to be set\")\n",
    "    end\n",
    "    \n",
    "    features = size(data,2)\n",
    "    features = deleteat!( collect(1:features), target)\n",
    "    \n",
    "    Task(task_type, target, features)\n",
    "end\n",
    "\n",
    "immutable Learner\n",
    "    name::String\n",
    "    parameters::Union{Void,Dict{Any}}\n",
    "    Learner(learner::String) = new(learner, Dict())\n",
    "    Learner(learner::String, parameters::Dict{Any}) = new(learner, parameters)\n",
    "end\n",
    "\n",
    "function show(io::IO,l::Learner)\n",
    "    println(\"Learner: $(l.name)\")\n",
    "    for (key, value) in l.parameters\n",
    "       println(\" ▁ ▂ ▃ $key: $value\") \n",
    "    end\n",
    "end\n",
    "\n",
    "immutable Resampling\n",
    "    method::String\n",
    "    iterations::Int\n",
    "    Resampling() = new(\"KFold\", 3)\n",
    "end\n",
    "\n",
    "abstract type Parameter end\n",
    "\n",
    "immutable DiscreteParameter <: Parameter \n",
    "    name::String\n",
    "    values::Array{Any}\n",
    "    DiscreteParameter(;name=nothing,values=nothing) = new(name, values)\n",
    "end\n",
    "\n",
    "immutable ContinuousParameter <: Parameter\n",
    "    name::String\n",
    "    lower::Real\n",
    "    upper::Real\n",
    "    transform::Function\n",
    "    ContinuousParameter(;name=nothing, lower=nothing, upper=nothing, transform=nothing) = new(name, lower, upper, transform)\n",
    "end\n",
    "\n",
    "\n",
    "immutable ParametersSet\n",
    "   parameters::Array{Parameter}\n",
    "end\n",
    "\n",
    "getindex(p::ParametersSet, i::Int64) = p.parameters[i]\n",
    "\n",
    "immutable MLRModel{T}\n",
    "    model::T\n",
    "    parameters\n",
    "end"
   ]
  },
  {
   "cell_type": "code",
   "execution_count": 4,
   "metadata": {},
   "outputs": [
    {
     "data": {
      "text/plain": [
       "learnᵧ (generic function with 1 method)"
      ]
     },
     "execution_count": 4,
     "metadata": {},
     "output_type": "execute_result"
    }
   ],
   "source": [
    "#### ABSTRACT FUNCTIONS ####\n",
    "\n",
    "function MLRModel(learner::Learner, task::Task, data)\n",
    "    # Calls function with name \"makeModelname\"\n",
    "    f_name = learner.name\n",
    "    f_name = \"make\" * titlecase(f_name)\n",
    "    \n",
    "    f = getfield(Main, Symbol(f_name))\n",
    "    f(learner, task, data)\n",
    "end    \n",
    "\n",
    "function learnᵧ(learner::Learner, task::Task, data)\n",
    "    modelᵧ = MLRModel(learner, task, data)\n",
    "    learnᵧ!(modelᵧ, learner=learner, task=task, data=data)\n",
    "    modelᵧ\n",
    "end"
   ]
  },
  {
   "cell_type": "code",
   "execution_count": 5,
   "metadata": {},
   "outputs": [
    {
     "data": {
      "text/plain": [
       "makeGlm (generic function with 1 method)"
      ]
     },
     "execution_count": 5,
     "metadata": {},
     "output_type": "execute_result"
    }
   ],
   "source": [
    "### TRANSITION ###\n",
    "function makeRidge(learner::Learner, task::Task, data)\n",
    "    if isempty(learner.parameters)\n",
    "        model = SModel(data[:, task.features], data[:, task.target])\n",
    "    else\n",
    "        parameters = []\n",
    "        push!(parameters, get_λ(learner.parameters, data))\n",
    "        model = SModel(data[:, task.features], data[:, task.target], L2DistLoss(), L2Penalty(), parameters...)\n",
    "    end\n",
    "    MLRModel(model, copy(learner.parameters))\n",
    "end\n",
    "\n",
    "function makeGlm(learner::Learner, task::Task, data)\n",
    "    if isempty(learner.parameters)\n",
    "        model = SModel(data[:, task.features], data[:, task.target])\n",
    "    else\n",
    "        parameters = []\n",
    "        if get(learner.parameters, \"λ\", false) !== false\n",
    "            # Add λ\n",
    "            push!(parameters, get_λ(learner.parameters, task))\n",
    "        end\n",
    "        if get(learner.parameters, \"penalty\", false) !== false\n",
    "            # Add penalty\n",
    "            push!(parameters, learner.parameters[\"penalty\"])\n",
    "        end\n",
    "        if get(learner.parameters, \"loss\", false) !== false\n",
    "            # Add penalty\n",
    "            push!(parameters, learner.parameters[\"loss\"])\n",
    "        end\n",
    "        model = SModel(data[:, task.features], data[:, task.target], parameters...)\n",
    "    end\n",
    "    MLRModel(model, copy(learner.parameters))\n",
    "end"
   ]
  },
  {
   "cell_type": "code",
   "execution_count": 6,
   "metadata": {},
   "outputs": [
    {
     "data": {
      "text/plain": [
       "learnᵧ! (generic function with 1 method)"
      ]
     },
     "execution_count": 6,
     "metadata": {},
     "output_type": "execute_result"
    }
   ],
   "source": [
    "#### MODEL WRAPPERS ####\n",
    "using SparseRegression\n",
    "\n",
    "function get_λ(parameters, task)\n",
    "    if get(parameters, \"λ\", false) == false\n",
    "        lambda = fill(0.0, task.features)\n",
    "    elseif typeof(parameters[\"λ\"]) <: Real\n",
    "        lambda = fill(parameters[\"λ\"], length(task.features) )\n",
    "    elseif typeof(parameters[\"λ\"]) <: Vector{Float64}\n",
    "        lambda = copy(parameters[\"λ\"])\n",
    "    end\n",
    "    lambda\n",
    "end\n",
    "\n",
    "\n",
    "function predictᵧ(modelᵧ::MLRModel{<:SModel}; data=data, task=task)\n",
    "    predict(modelᵧ.model, data[:, task.features])\n",
    "end\n",
    "\n",
    "function learnᵧ!(modelᵧ::MLRModel{<:SModel}; learner=nothing::Learner, data=nothing::Matrix{Real}, task=nothing::Task)\n",
    "    learn!(modelᵧ.model)\n",
    "end"
   ]
  },
  {
   "cell_type": "code",
   "execution_count": 32,
   "metadata": {},
   "outputs": [
    {
     "data": {
      "text/plain": [
       "tune (generic function with 1 method)"
      ]
     },
     "execution_count": 32,
     "metadata": {},
     "output_type": "execute_result"
    }
   ],
   "source": [
    "function update_parameters!(array, range) \n",
    "    array[1] += 1\n",
    "    for i in 1:length(array)\n",
    "        if array[i] > range[i][end]\n",
    "            array[i+1] += 1\n",
    "            array[i] = range[i][1]\n",
    "        end\n",
    "    end\n",
    "end\n",
    "\n",
    "function parameters_dictionary(ps::ParametersSet, array, discrete_dictionary)\n",
    "    dict = Dict()\n",
    "    for i in 1:length(array)\n",
    "        if typeof(ps[i]) <: ContinuousParameter\n",
    "            dict[ps[i].name] = ps[i].transform( convert(Float64, array[i]) )\n",
    "        else\n",
    "            dict[ps[i].name] = discrete_dictionary[ps[i].name][array[i]]\n",
    "        end\n",
    "    end\n",
    "    dict\n",
    "end\n",
    "\n",
    "function get_samples(sampler::Resampling, n_obs::Int64)\n",
    "    trainᵢ = []\n",
    "    testᵢ = []\n",
    "    if sampler.method == \"KFold\"\n",
    "        kfold = Kfold(n_obs, sampler.iterations)\n",
    "        for train in kfold\n",
    "            push!(trainᵢ, collect(train))\n",
    "            push!(testᵢ, setdiff(1:n_obs, trainᵢ[end]))\n",
    "        end\n",
    "    end  \n",
    "    trainᵢ, testᵢ\n",
    "end\n",
    "\n",
    "function tune(;learner=nothing::Learner, task=nothing::Task, data=nothing::Matrix{Real}, \n",
    "                parameters_set=nothing::ParametersSet, sampler=Resampling()::Resampling, \n",
    "                measure=nothing::Function)\n",
    "    \n",
    "    n_parameters = length(parameters_set.parameters)\n",
    "    n_obs        = size(data,1)\n",
    "        \n",
    "    parameters_array = Array{Any}(n_parameters)\n",
    "    parameters_range = Array{Tuple}(n_parameters)\n",
    "    \n",
    "    # For discrete parameters, the range is set to 1:n_discrete_values\n",
    "    # The discrete dictionary variable allows to connect this range to \n",
    "    # the actual discrete value\n",
    "    discrete_dictionary = Dict()\n",
    "    \n",
    "    total_parameters = 1\n",
    "    \n",
    "    # Prepare parameters\n",
    "    for i in 1:n_parameters\n",
    "        if typeof(parameters_set[i]) <: ContinuousParameter \n",
    "            lower = parameters_set[i].lower\n",
    "            upper = parameters_set[i].upper\n",
    "            parameters_array[i] = lower\n",
    "            parameters_range[i] = Tuple(lower:upper)\n",
    "            params = length(lower:upper)\n",
    "        else\n",
    "            parameters_array[i] = 1\n",
    "            parameters_range[i] = Tuple(1:length(parameters_set[i].values))\n",
    "            discrete_dictionary[parameters_set[i].name] = parameters_set[i].values\n",
    "            params = length(parameters_set[i].values)\n",
    "        end\n",
    "        total_parameters *= params\n",
    "    end\n",
    "    \n",
    "    \n",
    "    \n",
    "    # Loop over parameters\n",
    "    for i in 1:total_parameters\n",
    "        # Set new parametersparameters_set[i].values\n",
    "        update_parameters!(parameters_array, parameters_range) \n",
    "        pd = parameters_dictionary(parameters_set, parameters_array, discrete_dictionary)\n",
    "\n",
    "        # Update learner with new parameters\n",
    "        lrn = Learner(learner.name, pd)\n",
    "                \n",
    "        # Get training/testing validation sets\n",
    "        trainⱼ, testⱼ = get_samples(sampler, n_obs)\n",
    "        \n",
    "        scores = []\n",
    "        for j in 1:length(trainⱼ)  \n",
    "            modelᵧ = learnᵧ(lrn, task, data[trainⱼ[j], :])\n",
    "            preds = predictᵧ(modelᵧ, data=data[testⱼ[j],:], task=task)\n",
    "            \n",
    "            score = measure( data[testⱼ[j], task.target], preds)\n",
    "            push!(scores, score)\n",
    "        end\n",
    "        println(\"Trained $(lrn)\")\n",
    "        println(\"Average accuracy over cross validation: $(mean(scores))\\n\")\n",
    "    end\n",
    "end"
   ]
  },
  {
   "cell_type": "code",
   "execution_count": 33,
   "metadata": {
    "scrolled": true
   },
   "outputs": [
    {
     "name": "stdout",
     "output_type": "stream",
     "text": [
      "Learner: glm\n",
      " ▁ ▂ ▃ penalty: L1Penalty\n",
      " ▁ ▂ ▃ λ: 0.001\n",
      "Trained \n",
      "Average accuracy over cross validation: 3.538080270963546e-6\n",
      "Learner: glm\n",
      " ▁ ▂ ▃ penalty: L1Penalty\n",
      " ▁ ▂ ▃ λ: 0.01\n",
      "Trained \n",
      "Average accuracy over cross validation: 0.00043806065921001155\n",
      "Learner: glm\n",
      " ▁ ▂ ▃ penalty: L1Penalty\n",
      " ▁ ▂ ▃ λ: 0.1\n",
      "Trained \n",
      "Average accuracy over cross validation: 0.03615664079135719\n",
      "Learner: glm\n",
      " ▁ ▂ ▃ penalty: L1Penalty\n",
      " ▁ ▂ ▃ λ: 1.0\n",
      "Trained \n",
      "Average accuracy over cross validation: 3.9079170105314702\n",
      "Learner: glm\n",
      " ▁ ▂ ▃ penalty: L1Penalty\n",
      " ▁ ▂ ▃ λ: 10.0\n",
      "Trained \n",
      "Average accuracy over cross validation: 11.50921617683076\n",
      "Learner: glm\n",
      " ▁ ▂ ▃ penalty: L2Penalty\n",
      " ▁ ▂ ▃ λ: 0.0001\n",
      "Trained \n",
      "Average accuracy over cross validation: 1.438020615050435e-7\n",
      "Learner: glm\n",
      " ▁ ▂ ▃ penalty: L2Penalty\n",
      " ▁ ▂ ▃ λ: 0.001\n",
      "Trained \n",
      "Average accuracy over cross validation: 1.5785405703058397e-5\n",
      "Learner: glm\n",
      " ▁ ▂ ▃ penalty: L2Penalty\n",
      " ▁ ▂ ▃ λ: 0.01\n",
      "Trained \n",
      "Average accuracy over cross validation: 0.0013683689107426755\n",
      "Learner: glm\n",
      " ▁ ▂ ▃ penalty: L2Penalty\n",
      " ▁ ▂ ▃ λ: 0.1\n",
      "Trained \n",
      "Average accuracy over cross validation: 0.11601921866210785\n",
      "Learner: glm\n",
      " ▁ ▂ ▃ penalty: L2Penalty\n",
      " ▁ ▂ ▃ λ: 1.0\n",
      "Trained \n",
      "Average accuracy over cross validation: 3.1239355849330415\n",
      "Learner: glm\n",
      " ▁ ▂ ▃ penalty: L2Penalty\n",
      " ▁ ▂ ▃ λ: 10.0\n",
      "Trained \n",
      "Average accuracy over cross validation: 9.552659962772617\n"
     ]
    },
    {
     "name": "stderr",
     "output_type": "stream",
     "text": [
      "\u001b[1m\u001b[36mINFO: \u001b[39m\u001b[22m\u001b[36mConverged after 20 iterations: [1.99896, 1.99851, 1.99916]\n",
      "\u001b[39m\u001b[1m\u001b[36mINFO: \u001b[39m\u001b[22m\u001b[36mConverged after 21 iterations: [1.99908, 1.99878, 1.99923]\n",
      "\u001b[39m\u001b[1m\u001b[36mINFO: \u001b[39m\u001b[22m\u001b[36mConverged after 21 iterations: [1.99876, 1.99855, 1.99903]\n",
      "\u001b[39m\u001b[1m\u001b[36mINFO: \u001b[39m\u001b[22m\u001b[36mConverged after 18 iterations: [1.99192, 1.98674, 1.99202]\n",
      "\u001b[39m\u001b[1m\u001b[36mINFO: \u001b[39m\u001b[22m\u001b[36mConverged after 25 iterations: [1.98662, 1.98274, 1.98715]\n",
      "\u001b[39m\u001b[1m\u001b[36mINFO: \u001b[39m\u001b[22m\u001b[36mConverged after 17 iterations: [1.98876, 1.98799, 1.99323]\n",
      "\u001b[39m\u001b[1m\u001b[36mINFO: \u001b[39m\u001b[22m\u001b[36mConverged after 17 iterations: [1.88998, 1.87604, 1.89706]\n",
      "\u001b[39m\u001b[1m\u001b[36mINFO: \u001b[39m\u001b[22m\u001b[36mConverged after 20 iterations: [1.89153, 1.87197, 1.92508]\n",
      "\u001b[39m\u001b[1m\u001b[36mINFO: \u001b[39m\u001b[22m\u001b[36mConverged after 22 iterations: [1.89944, 1.83706, 1.91525]\n",
      "\u001b[39m\u001b[1m\u001b[36mINFO: \u001b[39m\u001b[22m\u001b[36mConverged after 17 iterations: [0.950501, 0.759181, 1.30731]\n",
      "\u001b[39m\u001b[1m\u001b[36mINFO: \u001b[39m\u001b[22m\u001b[36mConverged after 21 iterations: [0.757754, 0.217904, 0.920794]\n",
      "\u001b[39m\u001b[1m\u001b[36mINFO: \u001b[39m\u001b[22m\u001b[36mConverged after 15 iterations: [1.08494, 0.775856, 1.13088]\n",
      "\u001b[39m\u001b[1m\u001b[36mINFO: \u001b[39m\u001b[22m\u001b[36mConverged after 2 iterations: [0.0, 0.0, 0.0]\n",
      "\u001b[39m\u001b[1m\u001b[36mINFO: \u001b[39m\u001b[22m\u001b[36mConverged after 2 iterations: [0.0, 0.0, 0.0]\n",
      "\u001b[39m\u001b[1m\u001b[36mINFO: \u001b[39m\u001b[22m\u001b[36mConverged after 2 iterations: [0.0, 0.0, 0.0]\n",
      "\u001b[39m\u001b[1m\u001b[36mINFO: \u001b[39m\u001b[22m\u001b[36mSweep finished\n",
      "\u001b[39m\u001b[1m\u001b[36mINFO: \u001b[39m\u001b[22m\u001b[36mSweep finished\n",
      "\u001b[39m\u001b[1m\u001b[36mINFO: \u001b[39m\u001b[22m\u001b[36mSweep finished\n",
      "\u001b[39m\u001b[1m\u001b[36mINFO: \u001b[39m\u001b[22m\u001b[36mSweep finished\n",
      "\u001b[39m\u001b[1m\u001b[36mINFO: \u001b[39m\u001b[22m\u001b[36mSweep finished\n",
      "\u001b[39m\u001b[1m\u001b[36mINFO: \u001b[39m\u001b[22m\u001b[36mSweep finished\n",
      "\u001b[39m\u001b[1m\u001b[36mINFO: \u001b[39m\u001b[22m\u001b[36mSweep finished\n",
      "\u001b[39m\u001b[1m\u001b[36mINFO: \u001b[39m\u001b[22m\u001b[36mSweep finished\n",
      "\u001b[39m\u001b[1m\u001b[36mINFO: \u001b[39m\u001b[22m\u001b[36mSweep finished\n",
      "\u001b[39m\u001b[1m\u001b[36mINFO: \u001b[39m\u001b[22m\u001b[36mSweep finished\n",
      "\u001b[39m\u001b[1m\u001b[36mINFO: \u001b[39m\u001b[22m\u001b[36mSweep finished\n",
      "\u001b[39m\u001b[1m\u001b[36mINFO: \u001b[39m\u001b[22m\u001b[36mSweep finished\n",
      "\u001b[39m\u001b[1m\u001b[36mINFO: \u001b[39m\u001b[22m\u001b[36mSweep finished\n",
      "\u001b[39m\u001b[1m\u001b[36mINFO: \u001b[39m\u001b[22m\u001b[36mSweep finished\n",
      "\u001b[39m\u001b[1m\u001b[36mINFO: \u001b[39m\u001b[22m\u001b[36mSweep finished\n",
      "\u001b[39m\u001b[1m\u001b[36mINFO: \u001b[39m\u001b[22m\u001b[36mSweep finished\n",
      "\u001b[39m\u001b[1m\u001b[36mINFO: \u001b[39m\u001b[22m\u001b[36mSweep finished\n",
      "\u001b[39m\u001b[1m\u001b[36mINFO: \u001b[39m\u001b[22m\u001b[36mSweep finished\n",
      "\u001b[39m"
     ]
    },
    {
     "ename": "LoadError",
     "evalue": "\u001b[91mBoundsError: attempt to access 2-element Array{Any,1} at index [3]\u001b[39m",
     "output_type": "error",
     "traceback": [
      "\u001b[91mBoundsError: attempt to access 2-element Array{Any,1} at index [3]\u001b[39m",
      "",
      "Stacktrace:",
      " [1] \u001b[1mupdate_parameters!\u001b[22m\u001b[22m\u001b[1m(\u001b[22m\u001b[22m::Array{Any,1}, ::Array{Tuple,1}\u001b[1m)\u001b[22m\u001b[22m at \u001b[1m./In[32]:5\u001b[22m\u001b[22m",
      " [2] \u001b[1m#tune#28\u001b[22m\u001b[22m\u001b[1m(\u001b[22m\u001b[22m::Learner, ::Task, ::Array{Float64,2}, ::ParametersSet, ::Resampling, ::MLMetrics.#mean_squared_error, ::Function\u001b[1m)\u001b[22m\u001b[22m at \u001b[1m./In[32]:75\u001b[22m\u001b[22m",
      " [3] \u001b[1m(::#kw##tune)\u001b[22m\u001b[22m\u001b[1m(\u001b[22m\u001b[22m::Array{Any,1}, ::#tune\u001b[1m)\u001b[22m\u001b[22m at \u001b[1m./<missing>:0\u001b[22m\u001b[22m",
      " [4] \u001b[1minclude_string\u001b[22m\u001b[22m\u001b[1m(\u001b[22m\u001b[22m::String, ::String\u001b[1m)\u001b[22m\u001b[22m at \u001b[1m./loading.jl:522\u001b[22m\u001b[22m"
     ]
    }
   ],
   "source": [
    "ps = ParametersSet([\n",
    "    ContinuousParameter(\n",
    "        name = \"λ\",\n",
    "        lower = -4,\n",
    "        upper = 1,\n",
    "        transform = x->10^x\n",
    "    )\n",
    "        ,\n",
    "    DiscreteParameter(\n",
    "        name = \"penalty\",\n",
    "        values = [L1Penalty(), L2Penalty()]\n",
    "    )\n",
    "])\n",
    "\n",
    "data = FakeData(1000,3)\n",
    "\n",
    "task = Task(task_type=\"regression\", target=4, data=data)\n",
    "lrn = Learner(\"glm\")\n",
    "\n",
    "tune(learner=lrn, task=task, data=data, parameters_set=ps, measure=mean_squared_error)"
   ]
  },
  {
   "cell_type": "code",
   "execution_count": 9,
   "metadata": {},
   "outputs": [
    {
     "name": "stderr",
     "output_type": "stream",
     "text": [
      "\u001b[1m\u001b[36mINFO: \u001b[39m\u001b[22m\u001b[36mSweep finished\n",
      "\u001b[39m"
     ]
    },
    {
     "data": {
      "text/plain": [
       "0.04912842417017403"
      ]
     },
     "execution_count": 9,
     "metadata": {},
     "output_type": "execute_result"
    }
   ],
   "source": [
    "data = FakeData(1000,3)\n",
    "\n",
    "task = Task(task_type=\"regression\", target=4, data=data)\n",
    "lrn  = Learner(\"ridge\")\n",
    "\n",
    "train = 1:80\n",
    "test  = 81:100\n",
    "\n",
    "\n",
    "modelᵧ = learnᵧ(lrn, task, data[train,:])\n",
    "pred = predictᵧ(modelᵧ, data=data[test,:], task=task)\n",
    "\n",
    "mean_squared_error(data[test,task.target],pred)"
   ]
  },
  {
   "cell_type": "code",
   "execution_count": 10,
   "metadata": {},
   "outputs": [
    {
     "data": {
      "text/plain": [
       "1.5219312808631484"
      ]
     },
     "execution_count": 10,
     "metadata": {},
     "output_type": "execute_result"
    }
   ],
   "source": [
    "2*data[2,1]+2*data[2,2]+2*data[2,3]+3"
   ]
  },
  {
   "cell_type": "code",
   "execution_count": 11,
   "metadata": {},
   "outputs": [
    {
     "data": {
      "text/plain": [
       "1.0"
      ]
     },
     "execution_count": 11,
     "metadata": {},
     "output_type": "execute_result"
    }
   ],
   "source": [
    "mean_squared_error([1,1,1,1,1,1], [2,2,2,2,2,2])"
   ]
  }
 ],
 "metadata": {
  "kernelspec": {
   "display_name": "Julia 0.6.2",
   "language": "julia",
   "name": "julia-0.6"
  },
  "language_info": {
   "file_extension": ".jl",
   "mimetype": "application/julia",
   "name": "julia",
   "version": "0.6.2"
  }
 },
 "nbformat": 4,
 "nbformat_minor": 2
}
