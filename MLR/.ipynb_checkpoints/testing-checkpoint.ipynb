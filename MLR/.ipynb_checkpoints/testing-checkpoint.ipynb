{
 "cells": [
  {
   "cell_type": "code",
   "execution_count": 7,
   "metadata": {},
   "outputs": [
    {
     "data": {
      "text/plain": [
       "learnᵧ! (generic function with 1 method)"
      ]
     },
     "execution_count": 7,
     "metadata": {},
     "output_type": "execute_result"
    }
   ],
   "source": [
    "include(\"MLJ.jl\")\n",
    "include(\"Tuning.jl\")\n",
    "include(\"glm_wrapper.jl\")"
   ]
  },
  {
   "cell_type": "code",
   "execution_count": 8,
   "metadata": {},
   "outputs": [
    {
     "name": "stderr",
     "output_type": "stream",
     "text": [
      "\u001b[1m\u001b[36mINFO: \u001b[39m\u001b[22m\u001b[36mConverged after 21 iterations: [-0.832697, 1.99665, 1.73966]\n",
      "\u001b[39m\u001b[1m\u001b[36mINFO: \u001b[39m\u001b[22m\u001b[36mConverged after 15 iterations: [-0.832912, 1.99733, 1.74018]\n",
      "\u001b[39m\u001b[1m\u001b[36mINFO: \u001b[39m\u001b[22m\u001b[36mConverged after 17 iterations: [-0.832762, 1.9972, 1.74013]\n",
      "\u001b[39m"
     ]
    },
    {
     "name": "stdout",
     "output_type": "stream",
     "text": [
      "Trained:\n",
      "Learner: glm\n",
      " ▁ ▂ ▃ penalty: L1Penalty\n",
      " ▁ ▂ ▃ λ: 0.001\n",
      "\n",
      "Average CV accuracy: 3.961611679124649e-6\n",
      "\n",
      "Trained:\n",
      "Learner: glm\n",
      " ▁ ▂ ▃ penalty: L1Penalty\n",
      " ▁ ▂ ▃ λ: 0.01\n",
      "\n",
      "Average CV accuracy: 0.00030777488899822955\n",
      "\n",
      "Trained:\n",
      "Learner: glm\n",
      " ▁ ▂ ▃ penalty: L1Penalty\n",
      " ▁ ▂ ▃ λ: 0.1\n",
      "\n",
      "Average CV accuracy: 0.03795687829560599\n",
      "\n",
      "Trained:\n",
      "Learner: glm\n",
      " ▁ ▂ ▃ penalty: L1Penalty\n",
      " ▁ ▂ ▃ λ: 1.0\n",
      "\n",
      "Average CV accuracy: 3.255849649106562\n",
      "\n",
      "Trained:\n",
      "Learner: glm\n",
      " ▁ ▂ ▃ penalty: L1Penalty\n",
      " ▁ ▂ ▃ λ: 10.0\n",
      "\n",
      "Average CV accuracy: 8.467119451435611\n",
      "\n"
     ]
    },
    {
     "name": "stderr",
     "output_type": "stream",
     "text": [
      "\u001b[1m\u001b[36mINFO: \u001b[39m\u001b[22m\u001b[36mConverged after 17 iterations: [-0.822666, 1.99092, 1.73167]\n",
      "\u001b[39m\u001b[1m\u001b[36mINFO: \u001b[39m\u001b[22m\u001b[36mConverged after 16 iterations: [-0.822949, 1.99014, 1.731]\n",
      "\u001b[39m\u001b[1m\u001b[36mINFO: \u001b[39m\u001b[22m\u001b[36mConverged after 15 iterations: [-0.824042, 1.98786, 1.72995]\n",
      "\u001b[39m\u001b[1m\u001b[36mINFO: \u001b[39m\u001b[22m\u001b[36mConverged after 20 iterations: [-0.686102, 1.88927, 1.64903]\n",
      "\u001b[39m\u001b[1m\u001b[36mINFO: \u001b[39m\u001b[22m\u001b[36mConverged after 17 iterations: [-0.763664, 1.91777, 1.63568]\n",
      "\u001b[39m\u001b[1m\u001b[36mINFO: \u001b[39m\u001b[22m\u001b[36mConverged after 20 iterations: [-0.716621, 1.92926, 1.62909]\n",
      "\u001b[39m\u001b[1m\u001b[36mINFO: \u001b[39m\u001b[22m\u001b[36mConverged after 16 iterations: [-0.0020476, 1.06229, 1.05208]\n",
      "\u001b[39m\u001b[1m\u001b[36mINFO: \u001b[39m\u001b[22m\u001b[36mConverged after 11 iterations: [-0.0, 1.38312, 0.750406]\n",
      "\u001b[39m\u001b[1m\u001b[36mINFO: \u001b[39m\u001b[22m\u001b[36mConverged after 16 iterations: [-0.0, 0.943265, 0.322949]\n",
      "\u001b[39m\u001b[1m\u001b[36mINFO: \u001b[39m\u001b[22m\u001b[36mConverged after 2 iterations: [-0.0, 0.0, 0.0]\n",
      "\u001b[39m\u001b[1m\u001b[36mINFO: \u001b[39m\u001b[22m\u001b[36mConverged after 2 iterations: [-0.0, 0.0, 0.0]\n",
      "\u001b[39m\u001b[1m\u001b[36mINFO: \u001b[39m\u001b[22m\u001b[36mConverged after 2 iterations: [-0.0, 0.0, 0.0]\n",
      "\u001b[39m"
     ]
    },
    {
     "name": "stdout",
     "output_type": "stream",
     "text": [
      "Trained:\n",
      "Learner: glm\n",
      " ▁ ▂ ▃ penalty: L2Penalty\n",
      " ▁ ▂ ▃ λ: 0.0001\n",
      "\n",
      "Average CV accuracy: 9.715681949483074e-8\n",
      "\n",
      "Trained:\n",
      "Learner: glm\n",
      " ▁ ▂ ▃ penalty: L2Penalty\n",
      " ▁ ▂ ▃ λ: 0.001\n",
      "\n",
      "Average CV accuracy: 7.441400242449627e-6\n",
      "\n",
      "Trained:\n",
      "Learner: glm\n",
      " ▁ ▂ ▃ penalty: L2Penalty\n",
      " ▁ ▂ ▃ λ: 0.01\n",
      "\n",
      "Average CV accuracy: 0.0008518358940889859\n",
      "\n",
      "Trained:\n",
      "Learner: glm\n",
      " ▁ ▂ ▃ penalty: L2Penalty\n",
      " ▁ ▂ ▃ λ: 0.1\n",
      "\n",
      "Average CV accuracy: 0.061938985854598914\n",
      "\n",
      "Trained:\n",
      "Learner: glm\n",
      " ▁ ▂ ▃ penalty: L2Penalty\n",
      " ▁ ▂ ▃ λ: 1.0\n",
      "\n",
      "Average CV accuracy: 2.1333878888907116\n",
      "\n",
      "Trained:\n",
      "Learner: glm\n",
      " ▁ ▂ ▃ penalty: L2Penalty\n",
      " ▁ ▂ ▃ λ: 10.0\n",
      "\n",
      "Average CV accuracy: 6.9378411437869785\n",
      "\n"
     ]
    },
    {
     "name": "stderr",
     "output_type": "stream",
     "text": [
      "\u001b[1m\u001b[36mINFO: \u001b[39m\u001b[22m\u001b[36mSweep finished\n",
      "\u001b[39m\u001b[1m\u001b[36mINFO: \u001b[39m\u001b[22m\u001b[36mSweep finished\n",
      "\u001b[39m\u001b[1m\u001b[36mINFO: \u001b[39m\u001b[22m\u001b[36mSweep finished\n",
      "\u001b[39m\u001b[1m\u001b[36mINFO: \u001b[39m\u001b[22m\u001b[36mSweep finished\n",
      "\u001b[39m\u001b[1m\u001b[36mINFO: \u001b[39m\u001b[22m\u001b[36mSweep finished\n",
      "\u001b[39m\u001b[1m\u001b[36mINFO: \u001b[39m\u001b[22m\u001b[36mSweep finished\n",
      "\u001b[39m\u001b[1m\u001b[36mINFO: \u001b[39m\u001b[22m\u001b[36mSweep finished\n",
      "\u001b[39m\u001b[1m\u001b[36mINFO: \u001b[39m\u001b[22m\u001b[36mSweep finished\n",
      "\u001b[39m\u001b[1m\u001b[36mINFO: \u001b[39m\u001b[22m\u001b[36mSweep finished\n",
      "\u001b[39m\u001b[1m\u001b[36mINFO: \u001b[39m\u001b[22m\u001b[36mSweep finished\n",
      "\u001b[39m\u001b[1m\u001b[36mINFO: \u001b[39m\u001b[22m\u001b[36mSweep finished\n",
      "\u001b[39m\u001b[1m\u001b[36mINFO: \u001b[39m\u001b[22m\u001b[36mSweep finished\n",
      "\u001b[39m\u001b[1m\u001b[36mINFO: \u001b[39m\u001b[22m\u001b[36mSweep finished\n",
      "\u001b[39m\u001b[1m\u001b[36mINFO: \u001b[39m\u001b[22m\u001b[36mSweep finished\n",
      "\u001b[39m\u001b[1m\u001b[36mINFO: \u001b[39m\u001b[22m\u001b[36mSweep finished\n",
      "\u001b[39m\u001b[1m\u001b[36mINFO: \u001b[39m\u001b[22m\u001b[36mSweep finished\n",
      "\u001b[39m\u001b[1m\u001b[36mINFO: \u001b[39m\u001b[22m\u001b[36mSweep finished\n",
      "\u001b[39m\u001b[1m\u001b[36mINFO: \u001b[39m\u001b[22m\u001b[36mSweep finished\n",
      "\u001b[39m"
     ]
    },
    {
     "ename": "LoadError",
     "evalue": "\u001b[91mBoundsError: attempt to access 2-element Array{Any,1} at index [3]\u001b[39m",
     "output_type": "error",
     "traceback": [
      "\u001b[91mBoundsError: attempt to access 2-element Array{Any,1} at index [3]\u001b[39m",
      "",
      "Stacktrace:",
      " [1] \u001b[1mupdate_parameters!\u001b[22m\u001b[22m\u001b[1m(\u001b[22m\u001b[22m::Array{Any,1}, ::Array{Tuple,1}\u001b[1m)\u001b[22m\u001b[22m at \u001b[1m/home/edoardo/Documents/programming/warwick-rsg/MLR/Tuning.jl:10\u001b[22m\u001b[22m",
      " [2] \u001b[1m#tune#36\u001b[22m\u001b[22m\u001b[1m(\u001b[22m\u001b[22m::Learner, ::Task, ::Array{Float64,2}, ::ParametersSet, ::Resampling, ::MLMetrics.#mean_squared_error, ::Function\u001b[1m)\u001b[22m\u001b[22m at \u001b[1m/home/edoardo/Documents/programming/warwick-rsg/MLR/Tuning.jl:89\u001b[22m\u001b[22m",
      " [3] \u001b[1m(::#kw##tune)\u001b[22m\u001b[22m\u001b[1m(\u001b[22m\u001b[22m::Array{Any,1}, ::#tune\u001b[1m)\u001b[22m\u001b[22m at \u001b[1m./<missing>:0\u001b[22m\u001b[22m",
      " [4] \u001b[1minclude_string\u001b[22m\u001b[22m\u001b[1m(\u001b[22m\u001b[22m::String, ::String\u001b[1m)\u001b[22m\u001b[22m at \u001b[1m./loading.jl:522\u001b[22m\u001b[22m"
     ]
    }
   ],
   "source": [
    "ps = ParametersSet([\n",
    "    ContinuousParameter(\n",
    "        name = \"λ\",\n",
    "        lower = -4,\n",
    "        upper = 1,\n",
    "        transform = x->10^x\n",
    "    )\n",
    "        ,\n",
    "    DiscreteParameter(\n",
    "        name = \"penalty\",\n",
    "        values = [L1Penalty(), L2Penalty(), ElasticNet()]\n",
    "    )\n",
    "])\n",
    "\n",
    "data = Fakedata(1000,3)\n",
    "\n",
    "task = Task(task_type=\"regression\", target=4, data=data)\n",
    "lrn = Learner(\"glm\")\n",
    "\n",
    "tune(learner=lrn, task=task, data=data, parameters_set=ps, measure=mean_squared_error)"
   ]
  }
 ],
 "metadata": {
  "kernelspec": {
   "display_name": "Julia 0.6.2",
   "language": "julia",
   "name": "julia-0.6"
  },
  "language_info": {
   "file_extension": ".jl",
   "mimetype": "application/julia",
   "name": "julia",
   "version": "0.6.2"
  }
 },
 "nbformat": 4,
 "nbformat_minor": 2
}
