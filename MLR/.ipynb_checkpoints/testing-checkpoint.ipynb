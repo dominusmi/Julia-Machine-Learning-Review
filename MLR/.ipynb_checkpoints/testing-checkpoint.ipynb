{
 "cells": [
  {
   "cell_type": "code",
   "execution_count": 1,
   "metadata": {},
   "outputs": [
    {
     "name": "stderr",
     "output_type": "stream",
     "text": [
      "\n",
      "WARNING: deprecated syntax \"abstract AvgMode\" at /home/edoardo/.julia/v0.6/MLMetrics/src/averagemode.jl:10.\n",
      "Use \"abstract type AvgMode end\" instead.\n",
      "\n",
      "WARNING: deprecated syntax \"abstract AbstractBinary\" at /home/edoardo/.julia/v0.6/MLMetrics/src/classification/comparemode.jl:17.\n",
      "Use \"abstract type AbstractBinary end\" instead.\n",
      "\n",
      "WARNING: deprecated syntax \"abstract AbstractMultiClass\" at /home/edoardo/.julia/v0.6/MLMetrics/src/classification/comparemode.jl:49.\n",
      "Use \"abstract type AbstractMultiClass end\" instead.\n",
      "\n",
      "WARNING: deprecated syntax \"inner constructor MultiClass(...) around /home/edoardo/.julia/v0.6/MLMetrics/src/classification/comparemode.jl:66\".\n",
      "Use \"MultiClass{T,N}(...) where {T,N}\" instead.\n",
      "WARNING: Method definition auto(Bool, Bool) in module CompareMode at /home/edoardo/.julia/v0.6/MLMetrics/src/classification/comparemode.jl:100 overwritten at /home/edoardo/.julia/v0.6/MLMetrics/src/classification/comparemode.jl:107.\n",
      "WARNING: Method definition auto(Bool, Bool) in module CompareMode at /home/edoardo/.julia/v0.6/MLMetrics/src/classification/comparemode.jl:107 overwritten at /home/edoardo/.julia/v0.6/MLMetrics/src/classification/comparemode.jl:108.\n"
     ]
    }
   ],
   "source": [
    "import StatsBase: predict\n",
    "import Base: getindex\n",
    "import MLBase: Kfold\n",
    "using MLMetrics\n",
    "using SparseRegression"
   ]
  },
  {
   "cell_type": "code",
   "execution_count": 2,
   "metadata": {},
   "outputs": [
    {
     "data": {
      "text/plain": [
       "FakeData (generic function with 1 method)"
      ]
     },
     "execution_count": 2,
     "metadata": {},
     "output_type": "execute_result"
    }
   ],
   "source": [
    "function FakeData(N,d)\n",
    "    n_obs = 100\n",
    "    x = randn((n_obs,d))\n",
    "    y = sum(2*x,2)\n",
    "    \n",
    "    hcat(x,y)\n",
    "end"
   ]
  },
  {
   "cell_type": "code",
   "execution_count": 3,
   "metadata": {},
   "outputs": [],
   "source": [
    "immutable Task \n",
    "    task_type::String\n",
    "    target::Int\n",
    "    features::Array{Int}\n",
    "end\n",
    "\n",
    "function Task(;task_type=\"regression\", target=nothing, data=nothing)\n",
    "    if target == nothing || data == nothing\n",
    "        throw(\"Requires target and data to be set\")\n",
    "    end\n",
    "    \n",
    "    features = size(data,2)\n",
    "    features = deleteat!( collect(1:features), target)\n",
    "    \n",
    "    Task(task_type, target, features)\n",
    "end\n",
    "\n",
    "immutable Learner\n",
    "    name::String\n",
    "    parameters::Union{Void,Dict{Any}}\n",
    "    Learner(learner::String) = new(learner, Dict())\n",
    "    Learner(learner::String, parameters::Dict{Any}) = new(learner, parameters)\n",
    "end\n",
    "\n",
    "immutable Resampling\n",
    "    method::String\n",
    "    iterations::Int\n",
    "    Resampling() = new(\"KFold\", 3)\n",
    "end\n",
    "\n",
    "abstract type Parameter end\n",
    "\n",
    "immutable DiscreteParameter <: Parameter \n",
    "    name::String\n",
    "    values::Array{Any}\n",
    "    DiscreteParameter(;name=nothing,values=nothing) = new(name, values)\n",
    "end\n",
    "\n",
    "immutable ContinuousParameter <: Parameter\n",
    "    name::String\n",
    "    lower::Real\n",
    "    upper::Real\n",
    "    transform::Function\n",
    "    ContinuousParameter(;name=nothing, lower=nothing, upper=nothing, transform=nothing) = new(name, lower, upper, transform)\n",
    "end\n",
    "\n",
    "\n",
    "immutable ParametersSet\n",
    "   parameters::Array{Parameter}\n",
    "end\n",
    "\n",
    "getindex(p::ParametersSet, i::Int64) = p.parameters[i]\n",
    "\n",
    "immutable MLRModel{T}\n",
    "    model::T\n",
    "    parameters\n",
    "end"
   ]
  },
  {
   "cell_type": "code",
   "execution_count": 4,
   "metadata": {},
   "outputs": [
    {
     "data": {
      "text/plain": [
       "learnᵧ (generic function with 1 method)"
      ]
     },
     "execution_count": 4,
     "metadata": {},
     "output_type": "execute_result"
    }
   ],
   "source": [
    "#### ABSTRACT FUNCTIONS ####\n",
    "\n",
    "function MLRModel(learner::Learner, task::Task, data)\n",
    "    # Calls function with name \"makeModelname\"\n",
    "    f_name = learner.name\n",
    "    f_name = \"make\" * titlecase(f_name)\n",
    "    \n",
    "    f = getfield(Main, Symbol(f_name))\n",
    "    f(learner, task, data)\n",
    "end    \n",
    "\n",
    "function learnᵧ(learner::Learner, task::Task, data)\n",
    "    modelᵧ = MLRModel(learner, task, data)\n",
    "    learnᵧ!(modelᵧ, learner=learner, task=task, data=data)\n",
    "    modelᵧ\n",
    "end"
   ]
  },
  {
   "cell_type": "code",
   "execution_count": 50,
   "metadata": {},
   "outputs": [
    {
     "data": {
      "text/plain": [
       "makeGlm (generic function with 1 method)"
      ]
     },
     "execution_count": 50,
     "metadata": {},
     "output_type": "execute_result"
    }
   ],
   "source": [
    "### TRANSITION ###\n",
    "function makeRidge(learner::Learner, task::Task, data)\n",
    "    if isempty(learner.parameters)\n",
    "        model = SModel(data[:, task.features], data[:, task.target])\n",
    "    else\n",
    "        parameters = []\n",
    "        push!(parameters, get_λ(learner.parameters, data))\n",
    "        model = SModel(data[:, task.features], data[:, task.target], L2DistLoss(), L2Penalty(), parameters...)\n",
    "    end\n",
    "    MLRModel(model, copy(learner.parameters))\n",
    "end\n",
    "\n",
    "function makeGlm(learner::Learner, task::Task, data)\n",
    "    if isempty(learner.parameters)\n",
    "        model = SModel(data[:, task.features], data[:, task.target])\n",
    "    else\n",
    "        parameters = []\n",
    "        if get(learner.parameters, \"λ\", false) !== false\n",
    "            # Add λ\n",
    "            push!(parameters, get_λ(learner.parameters, task))\n",
    "        end\n",
    "        if get(learner.parameters, \"penalty\", false) !== false\n",
    "            # Add penalty\n",
    "            push!(parameters, learner.parameters[\"penalty\"])\n",
    "        end\n",
    "        if get(learner.parameters, \"loss\", false) !== false\n",
    "            # Add penalty\n",
    "            push!(parameters, learner.parameters[\"loss\"])\n",
    "        end\n",
    "        model = SModel(data[:, task.features], data[:, task.target], parameters...)\n",
    "    end\n",
    "    MLRModel(model, copy(learner.parameters))\n",
    "end"
   ]
  },
  {
   "cell_type": "code",
   "execution_count": 6,
   "metadata": {},
   "outputs": [
    {
     "data": {
      "text/plain": [
       "learnᵧ! (generic function with 1 method)"
      ]
     },
     "execution_count": 6,
     "metadata": {},
     "output_type": "execute_result"
    }
   ],
   "source": [
    "#### MODEL WRAPPERS ####\n",
    "using SparseRegression\n",
    "\n",
    "function get_λ(parameters, task)\n",
    "    if get(parameters, \"λ\", false) == false\n",
    "        lambda = fill(0.0, task.features)\n",
    "    elseif typeof(parameters[\"λ\"]) <: Real\n",
    "        lambda = fill(parameters[\"λ\"], length(task.features) )\n",
    "    elseif typeof(parameters[\"λ\"]) <: Vector{Float64}\n",
    "        lambda = copy(parameters[\"λ\"])\n",
    "    end\n",
    "    lambda\n",
    "end\n",
    "\n",
    "\n",
    "function predictᵧ(modelᵧ::MLRModel{<:SModel}; data=data, task=task)\n",
    "    predict(modelᵧ.model, data[:, task.features])\n",
    "end\n",
    "\n",
    "function learnᵧ!(modelᵧ::MLRModel{<:SModel}; learner=nothing::Learner, data=nothing::Matrix{Real}, task=nothing::Task)\n",
    "    learn!(modelᵧ.model)\n",
    "end"
   ]
  },
  {
   "cell_type": "code",
   "execution_count": 60,
   "metadata": {},
   "outputs": [
    {
     "data": {
      "text/plain": [
       "tune (generic function with 1 method)"
      ]
     },
     "execution_count": 60,
     "metadata": {},
     "output_type": "execute_result"
    }
   ],
   "source": [
    "function update_parameters!(array, range) \n",
    "    array[1] += 1\n",
    "    for i in 1:length(array)\n",
    "        println(\"Array: $(array[i]) range: $(range[i])\")\n",
    "        if array[i] > range[i][end]\n",
    "            array[i+1] += 1\n",
    "            array[i] = range[i][1]\n",
    "        end\n",
    "    end\n",
    "end\n",
    "\n",
    "function parameters_dictionary(ps::ParametersSet, array, discrete_dictionary)\n",
    "    dict = Dict()\n",
    "    for i in 1:length(array)\n",
    "        if typeof(ps[i]) <: ContinuousParameter\n",
    "            dict[ps[i].name] = ps[i].transform( convert(Float64, array[i]) )\n",
    "        else\n",
    "            dict[ps[i].name] = discrete_dictionary[ps[i].name][array[i]]\n",
    "        end\n",
    "    end\n",
    "    dict\n",
    "end\n",
    "\n",
    "function get_samples(sampler::Resampling, n_obs::Int64)\n",
    "    trainᵢ = []\n",
    "    testᵢ = []\n",
    "    if sampler.method == \"KFold\"\n",
    "        kfold = Kfold(n_obs, sampler.iterations)\n",
    "        for train in kfold\n",
    "            push!(trainᵢ, collect(train))\n",
    "            push!(testᵢ, setdiff(1:n_obs, trainᵢ[end]))\n",
    "        end\n",
    "    end  \n",
    "    trainᵢ, testᵢ\n",
    "end\n",
    "\n",
    "function tune(;learner=nothing::Learner, task=nothing::Task, data=nothing::Matrix{Real}, \n",
    "                parameters_set=nothing::ParametersSet, sampler=Resampling()::Resampling, \n",
    "                measure=nothing::Function)\n",
    "    \n",
    "    n_parameters = length(parameters_set.parameters)\n",
    "    n_obs        = size(data,1)\n",
    "        \n",
    "    parameters_array = Array{Any}(n_parameters)\n",
    "    parameters_range = Array{Tuple}(n_parameters)\n",
    "    \n",
    "    # For discrete parameters, the range is set to 1:n_discrete_values\n",
    "    # The discrete dictionary variable allows to connect this range to \n",
    "    # the actual discrete value\n",
    "    discrete_dictionary = Dict()\n",
    "    \n",
    "    total_parameters = 1\n",
    "    \n",
    "    # Prepare parameters\n",
    "    for i in 1:n_parameters\n",
    "        if typeof(parameters_set[i]) <: ContinuousParameter \n",
    "            lower = parameters_set[i].lower\n",
    "            upper = parameters_set[i].upper\n",
    "            parameters_array[i] = 1\n",
    "            parameters_range[i] = Tuple(lower:upper)\n",
    "            params = length(lower:upper)\n",
    "        else\n",
    "            parameters_array[i] = 1\n",
    "            parameters_range[i] = Tuple(1:length(parameters_set[i].values))\n",
    "            discrete_dictionary[parameters_set[i].name] = parameters_set[i].values\n",
    "            params = length(parameters_set[i].values)\n",
    "        end\n",
    "        total_parameters *= params\n",
    "    end\n",
    "    \n",
    "    println(\"Array $parameters_array\")\n",
    "    println(\"Ranges $parameters_range\")\n",
    "    println(\"Dict $discrete_dictionary\")\n",
    "    \n",
    "    \n",
    "    # Loop over parameters\n",
    "    for i in 1:total_parameters\n",
    "        # Set new parametersparameters_set[i].values\n",
    "        update_parameters!(parameters_array, parameters_range) \n",
    "        pd = parameters_dictionary(parameters_set, parameters_array, discrete_dictionary)\n",
    "\n",
    "        # Update learner with new parameters\n",
    "        lrn = Learner(learner.name, pd)\n",
    "                \n",
    "        # Get training/testing samples\n",
    "        trainⱼ, testⱼ = get_samples(sampler, n_obs)\n",
    "        for j in 1:length(trainⱼ)  \n",
    "            modelᵧ = learnᵧ(lrn, task, data[trainⱼ[j], :])\n",
    "            preds = predictᵧ(modelᵧ, data=data[testⱼ[j],:], task=task)\n",
    "            \n",
    "            error = mean_squared_error( data[testⱼ[j], task.target], preds)\n",
    "#             println(\"    --> Error: $error\")\n",
    "#             println(modelᵧ.model)\n",
    "        end\n",
    "        \n",
    "    end\n",
    "end"
   ]
  },
  {
   "cell_type": "code",
   "execution_count": 59,
   "metadata": {
    "scrolled": true
   },
   "outputs": [
    {
     "name": "stdout",
     "output_type": "stream",
     "text": [
      "Array Any[-4, 1]\n",
      "Ranges Tuple[(-4, -3, -2, -1, 0, 1), (1, 2)]\n",
      "Dict Dict{Any,Any}(Pair{Any,Any}(\"penalty\", Any[L1Penalty, L2Penalty]))\n",
      "Array: -3 range: (-4, -3, -2, -1, 0, 1)\n",
      "Array: 1 range: (1, 2)\n",
      "Array: -2 range: (-4, -3, -2, -1, 0, 1)\n",
      "Array: 1 range: (1, 2)\n",
      "Array: -1 range: (-4, -3, -2, -1, 0, 1)\n",
      "Array: 1 range: (1, 2)\n",
      "Array: 0 range: (-4, -3, -2, -1, 0, 1)\n",
      "Array: 1 range: (1, 2)\n",
      "Array: 1 range: (-4, -3, -2, -1, 0, 1)\n",
      "Array: 1 range: (1, 2)\n",
      "Array: 2 range: (-4, -3, -2, -1, 0, 1)\n",
      "Array: 1 range: (1, 2)\n",
      "Array: 3 range: (-4, -3, -2, -1, 0, 1)\n",
      "Array: 1 range: (1, 2)\n",
      "Array: 4 range: (-4, -3, -2, -1, 0, 1)\n",
      "Array: 1 range: (1, 2)\n",
      "Array: 5 range: (-4, -3, -2, -1, 0, 1)\n",
      "Array: 1 range: (1, 2)\n",
      "Array: 6 range: (-4, -3, -2, -1, 0, 1)\n",
      "Array: 1 range: (1, 2)\n",
      "Array: 7 range: (-4, -3, -2, -1, 0, 1)\n",
      "Array: 2 range: (1, 2)\n",
      "Array: 2 range: (-4, -3, -2, -1, 0, 1)\n",
      "Array: 2 range: (1, 2)\n"
     ]
    },
    {
     "name": "stderr",
     "output_type": "stream",
     "text": [
      "\u001b[1m\u001b[36mINFO: \u001b[39m\u001b[22m\u001b[36mConverged after 24 iterations: [1.99868, 1.99844, 1.99908]\n",
      "\u001b[39m\u001b[1m\u001b[36mINFO: \u001b[39m\u001b[22m\u001b[36mConverged after 17 iterations: [1.99882, 1.99893, 1.99917]\n",
      "\u001b[39m\u001b[1m\u001b[36mINFO: \u001b[39m\u001b[22m\u001b[36mConverged after 24 iterations: [1.99834, 1.99885, 1.9991]\n",
      "\u001b[39m\u001b[1m\u001b[36mINFO: \u001b[39m\u001b[22m\u001b[36mConverged after 20 iterations: [1.98659, 1.98937, 1.99282]\n",
      "\u001b[39m\u001b[1m\u001b[36mINFO: \u001b[39m\u001b[22m\u001b[36mConverged after 21 iterations: [1.98556, 1.98685, 1.99]\n",
      "\u001b[39m\u001b[1m\u001b[36mINFO: \u001b[39m\u001b[22m\u001b[36mConverged after 24 iterations: [1.98704, 1.98595, 1.99077]\n",
      "\u001b[39m\u001b[1m\u001b[36mINFO: \u001b[39m\u001b[22m\u001b[36mConverged after 25 iterations: [1.84061, 1.84735, 1.90877]\n",
      "\u001b[39m\u001b[1m\u001b[36mINFO: \u001b[39m\u001b[22m\u001b[36mConverged after 22 iterations: [1.86553, 1.87288, 1.92484]\n",
      "\u001b[39m\u001b[1m\u001b[36mINFO: \u001b[39m\u001b[22m\u001b[36mConverged after 18 iterations: [1.87888, 1.90028, 1.90343]\n",
      "\u001b[39m\u001b[1m\u001b[36mINFO: \u001b[39m\u001b[22m\u001b[36mConverged after 19 iterations: [0.637052, 0.691663, 1.1139]\n",
      "\u001b[39m\u001b[1m\u001b[36mINFO: \u001b[39m\u001b[22m\u001b[36mConverged after 24 iterations: [0.350888, 0.597324, 1.15693]\n",
      "\u001b[39m\u001b[1m\u001b[36mINFO: \u001b[39m\u001b[22m\u001b[36mConverged after 15 iterations: [0.849758, 0.958027, 1.11558]\n",
      "\u001b[39m\u001b[1m\u001b[36mINFO: \u001b[39m\u001b[22m\u001b[36mConverged after 2 iterations: [0.0, 0.0, 0.0]\n",
      "\u001b[39m\u001b[1m\u001b[36mINFO: \u001b[39m\u001b[22m\u001b[36mConverged after 2 iterations: [0.0, 0.0, 0.0]\n",
      "\u001b[39m\u001b[1m\u001b[36mINFO: \u001b[39m\u001b[22m\u001b[36mConverged after 2 iterations: [0.0, 0.0, 0.0]\n",
      "\u001b[39m\u001b[1m\u001b[36mINFO: \u001b[39m\u001b[22m\u001b[36mConverged after 2 iterations: [0.0, 0.0, 0.0]\n",
      "\u001b[39m\u001b[1m\u001b[36mINFO: \u001b[39m\u001b[22m\u001b[36mConverged after 2 iterations: [0.0, 0.0, 0.0]\n",
      "\u001b[39m\u001b[1m\u001b[36mINFO: \u001b[39m\u001b[22m\u001b[36mConverged after 2 iterations: [0.0, 0.0, 0.0]\n",
      "\u001b[39m\u001b[1m\u001b[36mINFO: \u001b[39m\u001b[22m\u001b[36mConverged after 2 iterations: [0.0, 0.0, 0.0]\n",
      "\u001b[39m\u001b[1m\u001b[36mINFO: \u001b[39m\u001b[22m\u001b[36mConverged after 2 iterations: [0.0, 0.0, 0.0]\n",
      "\u001b[39m\u001b[1m\u001b[36mINFO: \u001b[39m\u001b[22m\u001b[36mConverged after 2 iterations: [0.0, 0.0, 0.0]\n",
      "\u001b[39m\u001b[1m\u001b[36mINFO: \u001b[39m\u001b[22m\u001b[36mConverged after 2 iterations: [0.0, 0.0, 0.0]\n",
      "\u001b[39m\u001b[1m\u001b[36mINFO: \u001b[39m\u001b[22m\u001b[36mConverged after 2 iterations: [0.0, 0.0, 0.0]\n",
      "\u001b[39m\u001b[1m\u001b[36mINFO: \u001b[39m\u001b[22m\u001b[36mConverged after 2 iterations: [0.0, 0.0, 0.0]\n",
      "\u001b[39m\u001b[1m\u001b[36mINFO: \u001b[39m\u001b[22m\u001b[36mConverged after 2 iterations: [0.0, 0.0, 0.0]\n",
      "\u001b[39m\u001b[1m\u001b[36mINFO: \u001b[39m\u001b[22m\u001b[36mConverged after 2 iterations: [0.0, 0.0, 0.0]\n",
      "\u001b[39m\u001b[1m\u001b[36mINFO: \u001b[39m\u001b[22m\u001b[36mConverged after 2 iterations: [0.0, 0.0, 0.0]\n",
      "\u001b[39m\u001b[1m\u001b[36mINFO: \u001b[39m\u001b[22m\u001b[36mConverged after 2 iterations: [0.0, 0.0, 0.0]\n",
      "\u001b[39m\u001b[1m\u001b[36mINFO: \u001b[39m\u001b[22m\u001b[36mConverged after 2 iterations: [0.0, 0.0, 0.0]\n",
      "\u001b[39m\u001b[1m\u001b[36mINFO: \u001b[39m\u001b[22m\u001b[36mConverged after 2 iterations: [0.0, 0.0, 0.0]\n",
      "\u001b[39m\u001b[1m\u001b[36mINFO: \u001b[39m\u001b[22m\u001b[36mSweep finished\n",
      "\u001b[39m\u001b[1m\u001b[36mINFO: \u001b[39m\u001b[22m\u001b[36mSweep finished\n",
      "\u001b[39m\u001b[1m\u001b[36mINFO: \u001b[39m\u001b[22m\u001b[36mSweep finished\n",
      "\u001b[39m\u001b[1m\u001b[36mINFO: \u001b[39m\u001b[22m\u001b[36mSweep finished\n",
      "\u001b[39m\u001b[1m\u001b[36mINFO: \u001b[39m\u001b[22m\u001b[36mSweep finished\n",
      "\u001b[39m\u001b[1m\u001b[36mINFO: \u001b[39m\u001b[22m\u001b[36mSweep finished\n",
      "\u001b[39m"
     ]
    }
   ],
   "source": [
    "ps = ParametersSet([\n",
    "    ContinuousParameter(\n",
    "        name = \"λ\",\n",
    "        lower = -4,\n",
    "        upper = 1,\n",
    "        transform = x->10^x\n",
    "    )\n",
    "        ,\n",
    "    DiscreteParameter(\n",
    "        name = \"penalty\",\n",
    "        values = [L1Penalty(), L2Penalty()]\n",
    "    )\n",
    "])\n",
    "\n",
    "data = FakeData(1000,3)\n",
    "\n",
    "task = Task(task_type=\"regression\", target=4, data=data)\n",
    "lrn = Learner(\"glm\")\n",
    "\n",
    "tune(learner=lrn, task=task, data=data, parameters_set=ps, measure=mean_squared_error)"
   ]
  },
  {
   "cell_type": "code",
   "execution_count": 9,
   "metadata": {},
   "outputs": [
    {
     "name": "stderr",
     "output_type": "stream",
     "text": [
      "\u001b[1m\u001b[36mINFO: \u001b[39m\u001b[22m\u001b[36mSweep finished\n",
      "\u001b[39m"
     ]
    },
    {
     "data": {
      "text/plain": [
       "0.13596084571572437"
      ]
     },
     "execution_count": 9,
     "metadata": {},
     "output_type": "execute_result"
    }
   ],
   "source": [
    "data = FakeData(1000,3)\n",
    "\n",
    "task = Task(task_type=\"regression\", target=4, data=data)\n",
    "lrn  = Learner(\"ridge\")\n",
    "\n",
    "train = 1:80\n",
    "test  = 81:100\n",
    "\n",
    "\n",
    "modelᵧ = learnᵧ(lrn, task, data[train,:])\n",
    "pred = predictᵧ(modelᵧ, data=data[test,:], task=task)\n",
    "\n",
    "mean_squared_error(data[test,task.target],pred)"
   ]
  },
  {
   "cell_type": "code",
   "execution_count": 10,
   "metadata": {},
   "outputs": [
    {
     "data": {
      "text/plain": [
       "2.0171995843927104"
      ]
     },
     "execution_count": 10,
     "metadata": {},
     "output_type": "execute_result"
    }
   ],
   "source": [
    "2*data[2,1]+2*data[2,2]+2*data[2,3]+3"
   ]
  },
  {
   "cell_type": "code",
   "execution_count": 11,
   "metadata": {},
   "outputs": [
    {
     "data": {
      "text/plain": [
       "1.0"
      ]
     },
     "execution_count": 11,
     "metadata": {},
     "output_type": "execute_result"
    }
   ],
   "source": [
    "mean_squared_error([1,1,1,1,1,1], [2,2,2,2,2,2])"
   ]
  }
 ],
 "metadata": {
  "kernelspec": {
   "display_name": "Julia 0.6.2",
   "language": "julia",
   "name": "julia-0.6"
  },
  "language_info": {
   "file_extension": ".jl",
   "mimetype": "application/julia",
   "name": "julia",
   "version": "0.6.2"
  }
 },
 "nbformat": 4,
 "nbformat_minor": 2
}
