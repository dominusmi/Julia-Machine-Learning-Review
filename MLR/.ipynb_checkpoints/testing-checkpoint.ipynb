{
 "cells": [
  {
   "cell_type": "code",
   "execution_count": 19,
   "metadata": {},
   "outputs": [],
   "source": [
    "import StatsBase: predict\n",
    "import Base: getindex\n",
    "import MLBase: Kfold\n",
    "using MLMetrics\n",
    "using SparseRegression"
   ]
  },
  {
   "cell_type": "code",
   "execution_count": 55,
   "metadata": {},
   "outputs": [
    {
     "data": {
      "text/plain": [
       "FakeData (generic function with 1 method)"
      ]
     },
     "execution_count": 55,
     "metadata": {},
     "output_type": "execute_result"
    }
   ],
   "source": [
    "function FakeData(N,d)\n",
    "    n_obs = 100\n",
    "    x = randn((n_obs,d))\n",
    "    y = sum(2*x,2)\n",
    "    \n",
    "    hcat(x,y)\n",
    "end"
   ]
  },
  {
   "cell_type": "code",
   "execution_count": 3,
   "metadata": {},
   "outputs": [],
   "source": [
    "immutable Task \n",
    "    task_type::String\n",
    "    target::Int\n",
    "    features::Array{Int}\n",
    "end\n",
    "\n",
    "function Task(;task_type=\"regression\", target=nothing, data=nothing)\n",
    "    if target == nothing || data == nothing\n",
    "        throw(\"Requires target and data to be set\")\n",
    "    end\n",
    "    \n",
    "    features = size(data,2)\n",
    "    features = deleteat!( collect(1:features), target)\n",
    "    \n",
    "    Task(task_type, target, features)\n",
    "end\n",
    "\n",
    "immutable Learner\n",
    "    name::String\n",
    "    parameters::Union{Void,Dict{String, Float64}}\n",
    "    Learner(learner::String) = new(learner, Dict())\n",
    "    Learner(learner::String, parameters::Dict{Any}) = new(learner, parameters)\n",
    "end\n",
    "\n",
    "immutable Resampling\n",
    "    method::String\n",
    "    iterations::Int\n",
    "    Resampling() = new(\"KFold\", 3)\n",
    "end\n",
    "\n",
    "abstract type Parameter end\n",
    "\n",
    "immutable DiscreteParameter <: Parameter \n",
    "    name::String\n",
    "    values::Array{Any}\n",
    "end\n",
    "\n",
    "immutable ContinuousParameter <: Parameter\n",
    "    name::String\n",
    "    lower::Real\n",
    "    upper::Real\n",
    "    transform::Function\n",
    "    ContinuousParameter(;name=nothing, lower=nothing, upper=nothing, transform=nothing) = new(name, lower, upper, transform)\n",
    "end\n",
    "\n",
    "\n",
    "immutable ParametersSet\n",
    "   parameters::Array{Parameter}\n",
    "end\n",
    "\n",
    "getindex(p::ParametersSet, i::Int64) = p.parameters[i]\n",
    "\n",
    "immutable MLRModel{T}\n",
    "    model::T\n",
    "    parameters\n",
    "end"
   ]
  },
  {
   "cell_type": "code",
   "execution_count": 4,
   "metadata": {},
   "outputs": [
    {
     "data": {
      "text/plain": [
       "learnᵧ (generic function with 1 method)"
      ]
     },
     "execution_count": 4,
     "metadata": {},
     "output_type": "execute_result"
    }
   ],
   "source": [
    "#### ABSTRACT FUNCTIONS ####\n",
    "\n",
    "function MLRModel(learner::Learner, task::Task, data)\n",
    "    if learner.name == \"ridge\"\n",
    "        makeRidge(learner, task, data)\n",
    "    end\n",
    "end    \n",
    "\n",
    "function learnᵧ(learner::Learner, task::Task, data)\n",
    "    modelᵧ = MLRModel(learner, task, data)\n",
    "    learnᵧ!(modelᵧ, learner=learner, task=task, data=data)\n",
    "    modelᵧ\n",
    "end"
   ]
  },
  {
   "cell_type": "code",
   "execution_count": 77,
   "metadata": {},
   "outputs": [
    {
     "data": {
      "text/plain": [
       "makeGLM (generic function with 1 method)"
      ]
     },
     "execution_count": 77,
     "metadata": {},
     "output_type": "execute_result"
    }
   ],
   "source": [
    "### TRANSITION ###\n",
    "function makeRidge(learner::Learner, task::Task, data)\n",
    "    if isempty(learner.parameters)\n",
    "        model = SModel(data[:, task.features], data[:, task.target])\n",
    "    else\n",
    "        parameters = []\n",
    "        push!(parameters, get_λ(learner.parameters, data))\n",
    "        model = SModel(data[:, task.features], data[:, task.target], L2DistLoss(), L2Penalty(), parameters...)\n",
    "    end\n",
    "    MLRModel(model, copy(learner.parameters))\n",
    "end\n",
    "\n",
    "function makeGLM(learner::Learner, task::Task, data)\n",
    "    if isempty(learner.parameters)\n",
    "        model = SModel(data[:, task.features], data[:, task.target])\n",
    "    else\n",
    "        parameters = []\n",
    "        if get(learner.parameters, \"λ\", false) !== false\n",
    "            # Add λ\n",
    "            push!(parameters, get_λ(learner.parameters, task))\n",
    "        end\n",
    "        if get(learner.parameters, \"penalty\", false) !== false\n",
    "            # Add penalty\n",
    "            push!(parameters, learner.parameters[\"penalty\"])\n",
    "        end\n",
    "        if get(learner.parameters, \"loss\", false) !== false\n",
    "            # Add penalty\n",
    "            push!(parameters, learner.parameters[\"loss\"])\n",
    "        end\n",
    "        model = SModel(data[:, task.features], data[:, task.target], parameters...)\n",
    "    end\n",
    "    MLRModel(model, copy(learner.parameters))\n",
    "end"
   ]
  },
  {
   "cell_type": "code",
   "execution_count": 35,
   "metadata": {},
   "outputs": [
    {
     "data": {
      "text/plain": [
       "learnᵧ! (generic function with 1 method)"
      ]
     },
     "execution_count": 35,
     "metadata": {},
     "output_type": "execute_result"
    }
   ],
   "source": [
    "#### MODEL WRAPPERS ####\n",
    "using SparseRegression\n",
    "\n",
    "function get_λ(parameters, task)\n",
    "    if get(parameters, \"λ\", false) == false\n",
    "        lambda = fill(0.0, task.features)\n",
    "    elseif typeof(parameters[\"λ\"]) <: Real\n",
    "        lambda = fill(parameters[\"λ\"], task.features)\n",
    "    elseif typeof(parameters[\"λ\"]) <: Vector{Float64}\n",
    "        lambda = copy(parameters[\"λ\"])\n",
    "    end\n",
    "    lambda\n",
    "end\n",
    "\n",
    "\n",
    "function predictᵧ(modelᵧ::MLRModel{<:SModel}; data=data, task=task)\n",
    "    predict(modelᵧ.model, data[:, task.features])\n",
    "end\n",
    "\n",
    "function learnᵧ!(modelᵧ::MLRModel{<:SModel}; learner=nothing::Learner, data=nothing::Matrix{Real}, task=nothing::Task)\n",
    "    learn!(modelᵧ.model)\n",
    "end"
   ]
  },
  {
   "cell_type": "code",
   "execution_count": 70,
   "metadata": {},
   "outputs": [
    {
     "data": {
      "text/plain": [
       "tune (generic function with 1 method)"
      ]
     },
     "execution_count": 70,
     "metadata": {},
     "output_type": "execute_result"
    }
   ],
   "source": [
    "function update_parameters!(array, range) \n",
    "    array[1] += 1\n",
    "    for i in 1:length(array)\n",
    "        if array[i] > range[i][2]\n",
    "            array[i+1] += 1\n",
    "            array[i] = range[i][1]\n",
    "        end\n",
    "    end\n",
    "end\n",
    "\n",
    "function parameters_dictionary(ps::ParametersSet, array)\n",
    "    dict = Dict()\n",
    "    for i in 1:length(array)\n",
    "        if typeof(ps[i]) <: ContinuousParameter\n",
    "           dict[ps[i].name] = ps[i].transform( array[i] )\n",
    "        else\n",
    "            dict[ps[i].name] = array[i]\n",
    "        end\n",
    "    end\n",
    "    dict\n",
    "end\n",
    "\n",
    "function get_samples(sampler::Resampling, n_obs::Int64)\n",
    "    trainᵢ = []\n",
    "    testᵢ = []\n",
    "    if sampler.method == \"KFold\"\n",
    "        kfold = Kfold(n_obs, sampler.iterations)\n",
    "        for train in kfold\n",
    "            push!(trainᵢ, collect(train))\n",
    "            push!(testᵢ, setdiff(1:n_obs, trainᵢ[end]))\n",
    "        end\n",
    "    end  \n",
    "    trainᵢ, testᵢ\n",
    "end\n",
    "\n",
    "function tune(;learner=nothing::Learner, task=nothing::Task, data=nothing::Matrix{Real}, \n",
    "                parameters_set=nothing::ParametersSet, sampler=Resampling()::Resampling, measure=nothing::Function)\n",
    "    \n",
    "    n_parameters = length(parameters_set.parameters)\n",
    "    n_obs        = size(data,1)\n",
    "        \n",
    "    parameters_array = Array{Any}(n_parameters)\n",
    "    parameters_range = Array{Tuple{Int64,Int64}}(n_parameters)\n",
    "    \n",
    "    total_parameters = 0\n",
    "    \n",
    "    # Prepare parameters\n",
    "    for i in 1:n_parameters\n",
    "        lower = parameters_set[i].lower\n",
    "        upper = parameters_set[i].upper\n",
    "        parameters_array[i] = lower\n",
    "        parameters_range[i] = (lower,upper)\n",
    "        total_parameters += abs(upper-lower)+1\n",
    "    end\n",
    "    \n",
    "    # Loop over parameters\n",
    "    for i in 1:total_parameters\n",
    "        println(\"Cross validating $parameters_array\")\n",
    "        # Set new parameters\n",
    "        update_parameters!(parameters_array, parameters_range) \n",
    "        pd = parameters_dictionary(parameters_set, parameters_array)\n",
    "\n",
    "        # Update learner with new parameters\n",
    "        lrn = Learner(learner.name, pd)\n",
    "                \n",
    "        # Get training/testing samples\n",
    "        trainⱼ, testⱼ = get_samples(sampler, n_obs)\n",
    "        for j in 1:length(trainⱼ)  \n",
    "            modelᵧ = learnᵧ(lrn, task, data[trainⱼ[j], :])\n",
    "            preds = predictᵧ(modelᵧ, data=data[testⱼ[j],:], task=task)\n",
    "            \n",
    "            error = mean_squared_error( data[testⱼ[j], task.target], preds)\n",
    "            println(\"    --> Error: $error\")\n",
    "        end\n",
    "        \n",
    "    end\n",
    "end"
   ]
  },
  {
   "cell_type": "code",
   "execution_count": 72,
   "metadata": {
    "scrolled": true
   },
   "outputs": [
    {
     "name": "stdout",
     "output_type": "stream",
     "text": [
      "Cross validating [-4.0]\n",
      "    --> Error: 1.3526313161973208e-5\n",
      "    --> Error: 7.75962176600907e-6\n",
      "    --> Error: 1.2207078965633208e-5\n",
      "Cross validating [-3.0]\n",
      "    --> Error: 0.000950516329265247\n",
      "    --> Error: 0.0007535299298411125\n",
      "    --> Error: 0.001264545500673288\n",
      "Cross validating [-2.0]\n",
      "    --> Error: 0.08939166215261694\n",
      "    --> Error: 0.09594166292127079\n",
      "    --> Error: 0.06848532121127057\n",
      "Cross validating [-1.0]\n",
      "    --> Error: 3.488083251593377\n",
      "    --> Error: 4.741811380118283\n",
      "    --> Error: 1.7981541778982075\n",
      "Cross validating [0.0]\n",
      "    --> Error: 7.536280902880949\n",
      "    --> Error: 14.099075005027823\n",
      "    --> Error: 14.209249657578672\n",
      "Cross validating [1.0]\n",
      "    --> Error: 17.93676220360404\n",
      "    --> Error: 13.548942334354585\n",
      "    --> Error: 12.44335647801738\n"
     ]
    },
    {
     "name": "stderr",
     "output_type": "stream",
     "text": [
      "\u001b[1m\u001b[36mINFO: \u001b[39m\u001b[22m\u001b[36mSweep finished\n",
      "\u001b[39m\u001b[1m\u001b[36mINFO: \u001b[39m\u001b[22m\u001b[36mSweep finished\n",
      "\u001b[39m\u001b[1m\u001b[36mINFO: \u001b[39m\u001b[22m\u001b[36mSweep finished\n",
      "\u001b[39m\u001b[1m\u001b[36mINFO: \u001b[39m\u001b[22m\u001b[36mSweep finished\n",
      "\u001b[39m\u001b[1m\u001b[36mINFO: \u001b[39m\u001b[22m\u001b[36mSweep finished\n",
      "\u001b[39m\u001b[1m\u001b[36mINFO: \u001b[39m\u001b[22m\u001b[36mSweep finished\n",
      "\u001b[39m\u001b[1m\u001b[36mINFO: \u001b[39m\u001b[22m\u001b[36mSweep finished\n",
      "\u001b[39m\u001b[1m\u001b[36mINFO: \u001b[39m\u001b[22m\u001b[36mSweep finished\n",
      "\u001b[39m\u001b[1m\u001b[36mINFO: \u001b[39m\u001b[22m\u001b[36mSweep finished\n",
      "\u001b[39m\u001b[1m\u001b[36mINFO: \u001b[39m\u001b[22m\u001b[36mSweep finished\n",
      "\u001b[39m\u001b[1m\u001b[36mINFO: \u001b[39m\u001b[22m\u001b[36mSweep finished\n",
      "\u001b[39m\u001b[1m\u001b[36mINFO: \u001b[39m\u001b[22m\u001b[36mSweep finished\n",
      "\u001b[39m\u001b[1m\u001b[36mINFO: \u001b[39m\u001b[22m\u001b[36mSweep finished\n",
      "\u001b[39m\u001b[1m\u001b[36mINFO: \u001b[39m\u001b[22m\u001b[36mSweep finished\n",
      "\u001b[39m\u001b[1m\u001b[36mINFO: \u001b[39m\u001b[22m\u001b[36mSweep finished\n",
      "\u001b[39m\u001b[1m\u001b[36mINFO: \u001b[39m\u001b[22m\u001b[36mSweep finished\n",
      "\u001b[39m\u001b[1m\u001b[36mINFO: \u001b[39m\u001b[22m\u001b[36mSweep finished\n",
      "\u001b[39m\u001b[1m\u001b[36mINFO: \u001b[39m\u001b[22m\u001b[36mSweep finished\n",
      "\u001b[39m"
     ]
    }
   ],
   "source": [
    "ps = ParametersSet([\n",
    "    ContinuousParameter(\n",
    "            name = \"λ\",\n",
    "            lower = -4,\n",
    "            upper = 2,\n",
    "            transform = x->10^x\n",
    "        )\n",
    "])\n",
    "\n",
    "data = FakeData(1000,3)\n",
    "\n",
    "task = Task(task_type=\"regression\", target=4, data=data)\n",
    "lrn = Learner(\"ridge\")\n",
    "\n",
    "tune(learner=lrn, task=task, data=data, parameters_set=ps, measure=mean_squared_error)"
   ]
  },
  {
   "cell_type": "code",
   "execution_count": 73,
   "metadata": {},
   "outputs": [
    {
     "name": "stderr",
     "output_type": "stream",
     "text": [
      "\u001b[1m\u001b[36mINFO: \u001b[39m\u001b[22m\u001b[36mSweep finished\n",
      "\u001b[39m"
     ]
    },
    {
     "data": {
      "text/plain": [
       "0.09265461914856005"
      ]
     },
     "execution_count": 73,
     "metadata": {},
     "output_type": "execute_result"
    }
   ],
   "source": [
    "data = FakeData(1000,3)\n",
    "\n",
    "task = Task(task_type=\"regression\", target=4, data=data)\n",
    "lrn  = Learner(\"ridge\")\n",
    "\n",
    "train = 1:80\n",
    "test  = 81:100\n",
    "\n",
    "\n",
    "modelᵧ = learnᵧ(lrn, task, data[train,:])\n",
    "pred = predictᵧ(modelᵧ, data=data[test,:], task=task)\n",
    "\n",
    "mean_squared_error(data[test,task.target],pred)"
   ]
  },
  {
   "cell_type": "code",
   "execution_count": 33,
   "metadata": {},
   "outputs": [
    {
     "data": {
      "text/plain": [
       "4.399200183091448"
      ]
     },
     "execution_count": 33,
     "metadata": {},
     "output_type": "execute_result"
    }
   ],
   "source": [
    "2*data[2,1]+2*data[2,2]+2*data[2,3]+3"
   ]
  },
  {
   "cell_type": "code",
   "execution_count": 42,
   "metadata": {},
   "outputs": [
    {
     "data": {
      "text/plain": [
       "1.0"
      ]
     },
     "execution_count": 42,
     "metadata": {},
     "output_type": "execute_result"
    }
   ],
   "source": [
    "mean_squared_error([1,1,1,1,1,1], [2,2,2,2,2,2])"
   ]
  }
 ],
 "metadata": {
  "kernelspec": {
   "display_name": "Julia 0.6.2",
   "language": "julia",
   "name": "julia-0.6"
  },
  "language_info": {
   "file_extension": ".jl",
   "mimetype": "application/julia",
   "name": "julia",
   "version": "0.6.2"
  }
 },
 "nbformat": 4,
 "nbformat_minor": 2
}
