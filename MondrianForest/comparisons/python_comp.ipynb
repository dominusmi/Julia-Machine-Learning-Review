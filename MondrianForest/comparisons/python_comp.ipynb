{
 "cells": [
  {
   "cell_type": "code",
   "execution_count": 2,
   "metadata": {},
   "outputs": [
    {
     "name": "stderr",
     "output_type": "stream",
     "text": [
      "/home/harvey/.local/lib/python3.5/site-packages/sklearn/cross_validation.py:41: DeprecationWarning: This module was deprecated in version 0.18 in favor of the model_selection module into which all the refactored classes and functions are moved. Also note that the interface of the new CV iterators are different from that of this module. This module will be removed in 0.20.\n",
      "  \"This module will be removed in 0.20.\", DeprecationWarning)\n"
     ]
    }
   ],
   "source": [
    "import mondrianforest as mf\n",
    "import numpy as np\n",
    "import time\n",
    "import sys\n",
    "import tracemalloc\n",
    "import matplotlib.pyplot as plt\n",
    "from sklearn import cross_validation"
   ]
  },
  {
   "cell_type": "code",
   "execution_count": 3,
   "metadata": {},
   "outputs": [],
   "source": [
    "def fake_data(n,dim):\n",
    "    x = np.random.randn(n,dim)\n",
    "    y = (np.sum(x/(1+np.exp(x)),axis=1))>0\n",
    "    return x,y"
   ]
  },
  {
   "cell_type": "code",
   "execution_count": 3,
   "metadata": {},
   "outputs": [],
   "source": [
    "x,y = fake_data(1000,5)\n",
    "X,Y = fake_data(100,5)"
   ]
  },
  {
   "cell_type": "code",
   "execution_count": 4,
   "metadata": {},
   "outputs": [
    {
     "name": "stderr",
     "output_type": "stream",
     "text": [
      "/home/harvey/.local/lib/python3.5/site-packages/mondrianforest/classifier.py:76: RuntimeWarning: invalid value encountered in double_scalars\n",
      "  res[label] /= sum_prob\n"
     ]
    },
    {
     "name": "stdout",
     "output_type": "stream",
     "text": [
      "28.17217493057251\n"
     ]
    }
   ],
   "source": [
    "a = time.time()\n",
    "f = mf.MondrianForestClassifier(n_tree=100)\n",
    "f.fit(x,y)\n",
    "f.predict_proba(X)\n",
    "print(time.time()-a)"
   ]
  },
  {
   "cell_type": "code",
   "execution_count": 5,
   "metadata": {},
   "outputs": [
    {
     "name": "stderr",
     "output_type": "stream",
     "text": [
      "/home/harvey/.local/lib/python3.5/site-packages/mondrianforest/classifier.py:76: RuntimeWarning: invalid value encountered in double_scalars\n",
      "  res[label] /= sum_prob\n"
     ]
    },
    {
     "data": {
      "text/plain": [
       "0.87"
      ]
     },
     "execution_count": 5,
     "metadata": {},
     "output_type": "execute_result"
    }
   ],
   "source": [
    "f.score(X,Y)"
   ]
  },
  {
   "cell_type": "code",
   "execution_count": 6,
   "metadata": {},
   "outputs": [
    {
     "name": "stderr",
     "output_type": "stream",
     "text": [
      "/home/harvey/.local/lib/python3.5/site-packages/mondrianforest/classifier.py:76: RuntimeWarning: invalid value encountered in double_scalars\n",
      "  res[label] /= sum_prob\n"
     ]
    }
   ],
   "source": [
    "tracemalloc.start()\n",
    "f = mf.MondrianForestClassifier(n_tree=100)\n",
    "f.fit(x,y)\n",
    "f.predict_proba(X)\n",
    "snap = tracemalloc.take_snapshot()"
   ]
  },
  {
   "cell_type": "code",
   "execution_count": 8,
   "metadata": {},
   "outputs": [],
   "source": [
    "s=0\n",
    "for stat in snap.statistics('lineno'):\n",
    "    s = s + stat.size/1024**2\n",
    "    #print(\"%s memory blocks: %.1f KiB\" % (stat.count, stat.size / 1024))"
   ]
  },
  {
   "cell_type": "code",
   "execution_count": 9,
   "metadata": {},
   "outputs": [
    {
     "name": "stdout",
     "output_type": "stream",
     "text": [
      "Total 276.0267696380615 MiB\n"
     ]
    }
   ],
   "source": [
    "print(\"Total {} MiB\".format(s))"
   ]
  }
 ],
 "metadata": {
  "kernelspec": {
   "display_name": "Python 3",
   "language": "python",
   "name": "python3"
  },
  "language_info": {
   "codemirror_mode": {
    "name": "ipython",
    "version": 3
   },
   "file_extension": ".py",
   "mimetype": "text/x-python",
   "name": "python",
   "nbconvert_exporter": "python",
   "pygments_lexer": "ipython3",
   "version": "3.5.2"
  }
 },
 "nbformat": 4,
 "nbformat_minor": 2
}
