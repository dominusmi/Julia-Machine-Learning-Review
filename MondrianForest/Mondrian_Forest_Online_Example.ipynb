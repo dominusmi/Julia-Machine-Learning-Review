{
 "cells": [
  {
   "cell_type": "markdown",
   "metadata": {},
   "source": [
    "## Example for extending Mondrian Trees"
   ]
  },
  {
   "cell_type": "code",
   "execution_count": 1,
   "metadata": {
    "scrolled": true
   },
   "outputs": [],
   "source": [
    "import Base.copy\n",
    "using Distributions\n",
    "using MLBase\n",
    "using Plots\n",
    "include(\"./Mondrian_Forest_Classifier.jl\"); \n",
    "# include(\"Mondrian_extention.jl\")"
   ]
  },
  {
   "cell_type": "markdown",
   "metadata": {},
   "source": [
    "This notebook explains how to extend Mondrian Trees and Mondrian Forests. Using an online algorithm, we can incorporate data points one by one."
   ]
  },
  {
   "cell_type": "markdown",
   "metadata": {},
   "source": [
    "### Functions\n",
    "\n",
    "All functions used in this section can be found in the files \"Mondrian_extention.jl\" and \"Mondrian_extention_utils.jl\". "
   ]
  },
  {
   "cell_type": "code",
   "execution_count": null,
   "metadata": {},
   "outputs": [],
   "source": [
    "?Extend_Mondrian_Tree!"
   ]
  },
  {
   "cell_type": "code",
   "execution_count": null,
   "metadata": {},
   "outputs": [],
   "source": [
    "?Extend_Mondrian_Tree!"
   ]
  },
  {
   "cell_type": "code",
   "execution_count": null,
   "metadata": {},
   "outputs": [],
   "source": [
    "?expand!"
   ]
  },
  {
   "cell_type": "code",
   "execution_count": null,
   "metadata": {},
   "outputs": [],
   "source": [
    "?expand_forest!"
   ]
  },
  {
   "cell_type": "markdown",
   "metadata": {},
   "source": [
    "#### 1) Prepare some data\n",
    "\n",
    "We generate two sets of fakedata (features + classes). We use the first one to train on and the second one to extend on."
   ]
  },
  {
   "cell_type": "code",
   "execution_count": 6,
   "metadata": {},
   "outputs": [
    {
     "data": {
      "text/plain": [
       "Fakedata3Classif (generic function with 2 methods)"
      ]
     },
     "execution_count": 6,
     "metadata": {},
     "output_type": "execute_result"
    }
   ],
   "source": [
    "using MLBase\n",
    "using Plots\n",
    "\n",
    "function Fakedata3Classif(N,d,N_test=0)\n",
    "    X = randn((N,d))\n",
    "    param1 = randn(d)\n",
    "    param2 = randn(d)\n",
    "    Y = ( sum(X*param1,2) .> mean(sum(X*param2,2)) )\n",
    "    Y=convert(Array{Int},Y)\n",
    "    for i in 1:size(X,1)\n",
    "        if X[i,2] > 1.5\n",
    "            Y[i] = 2\n",
    "        end\n",
    "    end\n",
    "    if (N_test > 0)\n",
    "        x = randn((N_test,d))\n",
    "        y = ( sum(x*param1,2) .> mean(sum(x*param2,2)) )\n",
    "        y=convert(Array{Int},y)\n",
    "        for i in 1:size(x,1)\n",
    "            \n",
    "            if x[i,2] > 1.5\n",
    "                y[i] = 2\n",
    "            end\n",
    "        end\n",
    "        return X,Y,x,y\n",
    "    end\n",
    "    return X,Y\n",
    "end"
   ]
  },
  {
   "cell_type": "code",
   "execution_count": 3,
   "metadata": {},
   "outputs": [],
   "source": [
    "X, Y, x, y = Fakedata3Classif(5000,2,5000);  #X,Y: train set ; x,y: extention data\n",
    "Y = Y.+1;\n",
    "y = y.+1;"
   ]
  },
  {
   "cell_type": "code",
   "execution_count": null,
   "metadata": {},
   "outputs": [],
   "source": [
    "if size(X,2)==2\n",
    "    plot()\n",
    "    for class in unique(Y)\n",
    "        scatter!(X[Y.==class,1],X[Y.==class,2],label=\"$class\")\n",
    "    end\n",
    "    plot!()\n",
    "end"
   ]
  },
  {
   "cell_type": "markdown",
   "metadata": {},
   "source": [
    "### 1) Extend a single tree\n",
    "\n",
    "To extend a single tree, we can just use the function expand!. We train a Mondrian Tree Classifier on the dataset X,Y and then extend it on the dataset x,y which we created above. We compute the training accuracy of the extended tree. For comparison, we then train a Mondrian Tree Classifier on the merges dataset X,x Y,y (it was then trained on all of the data the extended tree was trained on, without using extentions) and compute the training accuracy as well.  "
   ]
  },
  {
   "cell_type": "code",
   "execution_count": null,
   "metadata": {
    "scrolled": false
   },
   "outputs": [],
   "source": [
    "T = Mondrian_Tree_Classifier()\n",
    "train!(T,X,Y,1e9);  #Sample tree on training dataset"
   ]
  },
  {
   "cell_type": "code",
   "execution_count": null,
   "metadata": {},
   "outputs": [],
   "source": [
    "expand!(T,x,y,1e9);  #Expand the tree on the extention dataset"
   ]
  },
  {
   "cell_type": "code",
   "execution_count": null,
   "metadata": {},
   "outputs": [],
   "source": [
    "#merge training and extention data to get the total data the tree was trained on\n",
    "\n",
    "All_data=vcat(X,x);             \n",
    "all_labels = vcat(Y,y);"
   ]
  },
  {
   "cell_type": "code",
   "execution_count": null,
   "metadata": {},
   "outputs": [],
   "source": [
    "#let the extended tree predict the training data, compute training accuracy\n",
    "pred=predict!(T,All_data);     \n",
    "println(\"Train Accuracy of extended tree\")\n",
    "println(correctrate(all_labels,convert(Array{Int,1},pred)))"
   ]
  },
  {
   "cell_type": "code",
   "execution_count": null,
   "metadata": {},
   "outputs": [],
   "source": [
    "#compute a tree on the merged dataset (classic, no extention)\n",
    "T_full = Mondrian_Tree_Classifier()\n",
    "train!(T_full,All_data,all_labels,1e9);"
   ]
  },
  {
   "cell_type": "code",
   "execution_count": null,
   "metadata": {},
   "outputs": [],
   "source": [
    "#let the extended tree predict the training data, compute training accuracy\n",
    "\n",
    "println(\"Train Accuracy tree trained on whole dataset\")\n",
    "pred=predict!(T_full,All_data)\n",
    "println(correctrate(all_labels,convert(Array{Int,1},pred)))"
   ]
  },
  {
   "cell_type": "markdown",
   "metadata": {},
   "source": [
    "We see that the training accuracy is comparable weather we extend the tree or weather we sample the tree on the whole dataset immediatly. This proves that the extention implementation works."
   ]
  },
  {
   "cell_type": "markdown",
   "metadata": {},
   "source": [
    "### 2) Extend Mondrian Forests\n",
    "\n",
    "Now we extend a Mondrian Forest classifier that was pretrained on the  training same dataset (X,Y) as above. We again extend the classifier and then train a new classifier on the whole datset for comparison."
   ]
  },
  {
   "cell_type": "code",
   "execution_count": null,
   "metadata": {},
   "outputs": [],
   "source": [
    "MF = Mondrian_Forest_Classifier(50)  #initialise Mondrian Forest Classifier with 50 Trees"
   ]
  },
  {
   "cell_type": "code",
   "execution_count": null,
   "metadata": {},
   "outputs": [],
   "source": [
    "train!(MF, X, Y, 1e9);  #Train the classifier on the same dataset as before"
   ]
  },
  {
   "cell_type": "code",
   "execution_count": null,
   "metadata": {},
   "outputs": [],
   "source": [
    "expand_forest!(MF,x,y,1e9);  #expand the forest on the dataset x,y"
   ]
  },
  {
   "cell_type": "code",
   "execution_count": null,
   "metadata": {},
   "outputs": [],
   "source": [
    "#compute train accuracy for extended forest\n",
    "\n",
    "pred=predict!(MF, All_data);\n",
    "println(\"Train Accuracy\")\n",
    "println(correctrate(all_labels,convert(Array{Int,1},pred)))"
   ]
  },
  {
   "cell_type": "code",
   "execution_count": null,
   "metadata": {},
   "outputs": [],
   "source": [
    "MF_control = Mondrian_Forest_Classifier(50)   #initialise control classifier with 50 Trees\n",
    "train!(MF_control, All_data, all_labels, 1e9);  # train control classifier on merged dataset"
   ]
  },
  {
   "cell_type": "code",
   "execution_count": null,
   "metadata": {},
   "outputs": [],
   "source": [
    "#compute train accuracy for classic forest\n",
    "\n",
    "pred = predict!(MF_control,All_data);\n",
    "println(\"Train Accuracy\")\n",
    "println(correctrate(all_labels,convert(Array{Int,1},pred)))"
   ]
  },
  {
   "cell_type": "markdown",
   "metadata": {},
   "source": [
    "#### Some Testing and Benchmarking\n",
    "\n",
    "How fast is the extention? "
   ]
  },
  {
   "cell_type": "code",
   "execution_count": 83,
   "metadata": {},
   "outputs": [],
   "source": [
    "X, Y,x ,y = Fakedata3Classif(5000,4,5000); #X,Y: train set ; x,y: extention data\n",
    "Y = Y.+1;\n",
    "y = y.+1;"
   ]
  },
  {
   "cell_type": "code",
   "execution_count": 84,
   "metadata": {},
   "outputs": [
    {
     "name": "stdout",
     "output_type": "stream",
     "text": [
      "(5000, 4)\n"
     ]
    }
   ],
   "source": [
    "println(size(X))"
   ]
  },
  {
   "cell_type": "code",
   "execution_count": null,
   "metadata": {},
   "outputs": [],
   "source": [
    "MF=Mondrian_Forest_Classifier(100)\n",
    "Acc=zeros(150);\n",
    "Time=[];"
   ]
  },
  {
   "cell_type": "code",
   "execution_count": null,
   "metadata": {},
   "outputs": [],
   "source": [
    "counter=1\n",
    "train!(MF,X,Y,1e9);\n",
    "pred=predict!(MF,X)\n",
    "Acc[counter]=correctrate(Y,convert(Array{Int,1},pred))"
   ]
  },
  {
   "cell_type": "code",
   "execution_count": null,
   "metadata": {},
   "outputs": [],
   "source": [
    "expand_forest!(MF,x,y,1e9);\n",
    "pred=predict!(MF,vcat(X,x))\n",
    "Acc[counter]=correctrate(vcat(Y,y),convert(Array{Int,1},pred))"
   ]
  },
  {
   "cell_type": "code",
   "execution_count": null,
   "metadata": {},
   "outputs": [],
   "source": [
    "Acc"
   ]
  },
  {
   "cell_type": "markdown",
   "metadata": {},
   "source": [
    "XXXXXXXXXXXXXXXXXXXXXXXXXXXXXXXXXXXXXXXXXXXXXXXXXXXXXXXXXXXXXXXXXXXXXXXXXXXXXXXXXXXXXXXXXXXXXXXXXXXXXXXXXXX"
   ]
  },
  {
   "cell_type": "markdown",
   "metadata": {},
   "source": [
    "### batch training"
   ]
  },
  {
   "cell_type": "markdown",
   "metadata": {},
   "source": [
    "##### Single tree"
   ]
  },
  {
   "cell_type": "code",
   "execution_count": 138,
   "metadata": {},
   "outputs": [],
   "source": [
    "X, Y,x ,y = Fakedata3Classif(100,2,100); #X,Y: train set ; x,y: extention data\n",
    "Y = Y.+1;\n",
    "y = y.+1;"
   ]
  },
  {
   "cell_type": "code",
   "execution_count": 139,
   "metadata": {
    "scrolled": true
   },
   "outputs": [
    {
     "data": {
      "text/plain": []
     },
     "execution_count": 139,
     "metadata": {},
     "output_type": "execute_result"
    },
    {
     "name": "stdout",
     "output_type": "stream",
     "text": [
      "Mondrian Tree Classifier:\n",
      "    Mondrian Tree with 12 leaves"
     ]
    }
   ],
   "source": [
    "T = Mondrian_Tree_Classifier()\n",
    "train!(T,X[1:20,:],Y[1:20],1e9)  #Sample tree on training dataset"
   ]
  },
  {
   "cell_type": "code",
   "execution_count": 140,
   "metadata": {},
   "outputs": [
    {
     "name": "stdout",
     "output_type": "stream",
     "text": [
      "[8, 11, 1]\n",
      "[7, 8, 1]\n",
      "[1, 3, 0]\n",
      "node done\n",
      "[7, 8, 1]\n",
      "[3, 2, 0]\n",
      "[4, 6, 1]\n",
      "node done\n",
      "[3, 2, 0]\n",
      "[0, 2, 0]\n",
      "[3, 0, 0]\n",
      "node done\n",
      "[4, 6, 1]\n",
      "[4, 6, 0]\n",
      "[0, 0, 1]\n",
      "node done\n",
      "[4, 6, 0]\n",
      "[1, 0, 0]\n",
      "[3, 6, 0]\n",
      "node done\n",
      "[3, 6, 0]\n",
      "[0, 2, 0]\n",
      "[3, 4, 0]\n",
      "node done\n",
      "[3, 4, 0]\n",
      "[1, 4, 0]\n",
      "[2, 0, 0]\n",
      "node done\n",
      "[1, 4, 0]\n",
      "[1, 3, 0]\n",
      "[0, 1, 0]\n",
      "node done\n",
      "[1, 3, 0]\n",
      "[0, 3, 0]\n",
      "[1, 0, 0]\n",
      "node done\n",
      "[1, 3, 0]\n",
      "[0, 2, 0]\n",
      "[1, 1, 0]\n",
      "node done\n",
      "[1, 1, 0]\n",
      "[0, 1, 0]\n",
      "[1, 0, 0]\n",
      "node done\n"
     ]
    }
   ],
   "source": [
    "j_print((T.Tree).root);\n"
   ]
  },
  {
   "cell_type": "code",
   "execution_count": 141,
   "metadata": {},
   "outputs": [
    {
     "data": {
      "text/plain": [
       "0.53"
      ]
     },
     "execution_count": 141,
     "metadata": {},
     "output_type": "execute_result"
    }
   ],
   "source": [
    "pred=predict!(T,x);\n",
    "correctrate(y,convert(Array{Int,1},pred))"
   ]
  },
  {
   "cell_type": "code",
   "execution_count": 142,
   "metadata": {},
   "outputs": [
    {
     "data": {
      "text/plain": []
     },
     "execution_count": 142,
     "metadata": {},
     "output_type": "execute_result"
    },
    {
     "name": "stdout",
     "output_type": "stream",
     "text": [
      "Mondrian Tree Classifier:\n",
      "    Mondrian Tree with 26 leaves"
     ]
    }
   ],
   "source": [
    "expand!(T,X[21:40,:],Y[21:40],1e9)"
   ]
  },
  {
   "cell_type": "code",
   "execution_count": 143,
   "metadata": {},
   "outputs": [
    {
     "data": {
      "text/plain": [
       "0.25"
      ]
     },
     "execution_count": 143,
     "metadata": {},
     "output_type": "execute_result"
    }
   ],
   "source": [
    "pred=predict!(T,x)\n",
    "correctrate(y,convert(Array{Int,1},pred))"
   ]
  },
  {
   "cell_type": "code",
   "execution_count": 144,
   "metadata": {},
   "outputs": [
    {
     "data": {
      "text/plain": []
     },
     "execution_count": 144,
     "metadata": {},
     "output_type": "execute_result"
    },
    {
     "name": "stdout",
     "output_type": "stream",
     "text": [
      "Mondrian Tree Classifier:\n",
      "    Mondrian Tree with 39 leaves"
     ]
    }
   ],
   "source": [
    "expand!(T,X[41:60,:],Y[41:60],1e9)"
   ]
  },
  {
   "cell_type": "code",
   "execution_count": 145,
   "metadata": {
    "scrolled": false
   },
   "outputs": [
    {
     "data": {
      "text/plain": [
       "0.25"
      ]
     },
     "execution_count": 145,
     "metadata": {},
     "output_type": "execute_result"
    }
   ],
   "source": [
    "pred=predict!(T,x)\n",
    "correctrate(y,convert(Array{Int,1},pred))"
   ]
  },
  {
   "cell_type": "code",
   "execution_count": 146,
   "metadata": {},
   "outputs": [
    {
     "data": {
      "text/plain": []
     },
     "execution_count": 146,
     "metadata": {},
     "output_type": "execute_result"
    },
    {
     "name": "stdout",
     "output_type": "stream",
     "text": [
      "Mondrian Tree Classifier:\n",
      "    Mondrian Tree with 55 leaves"
     ]
    }
   ],
   "source": [
    "expand!(T,X[61:80,:],Y[61:80],1e9)"
   ]
  },
  {
   "cell_type": "code",
   "execution_count": 147,
   "metadata": {},
   "outputs": [
    {
     "data": {
      "text/plain": [
       "0.27"
      ]
     },
     "execution_count": 147,
     "metadata": {},
     "output_type": "execute_result"
    }
   ],
   "source": [
    "pred=predict!(T,x)\n",
    "correctrate(y,convert(Array{Int,1},pred))"
   ]
  },
  {
   "cell_type": "code",
   "execution_count": 148,
   "metadata": {},
   "outputs": [
    {
     "data": {
      "text/plain": []
     },
     "execution_count": 148,
     "metadata": {},
     "output_type": "execute_result"
    },
    {
     "name": "stdout",
     "output_type": "stream",
     "text": [
      "Mondrian Tree Classifier:\n",
      "    Mondrian Tree with 72 leaves"
     ]
    }
   ],
   "source": [
    "expand!(T,X[81:100,:],Y[81:100],1e9)"
   ]
  },
  {
   "cell_type": "code",
   "execution_count": 149,
   "metadata": {},
   "outputs": [
    {
     "data": {
      "text/plain": [
       "0.27"
      ]
     },
     "execution_count": 149,
     "metadata": {},
     "output_type": "execute_result"
    }
   ],
   "source": [
    "pred=predict!(T,x)\n",
    "correctrate(y,convert(Array{Int,1},pred))"
   ]
  },
  {
   "cell_type": "markdown",
   "metadata": {},
   "source": [
    "True Tree"
   ]
  },
  {
   "cell_type": "code",
   "execution_count": 150,
   "metadata": {},
   "outputs": [
    {
     "data": {
      "text/plain": []
     },
     "execution_count": 150,
     "metadata": {},
     "output_type": "execute_result"
    },
    {
     "name": "stdout",
     "output_type": "stream",
     "text": [
      "Mondrian Tree Classifier:\n",
      "    Mondrian Tree with 28 leaves"
     ]
    }
   ],
   "source": [
    "T=Mondrian_Tree_Classifier()\n",
    "train!(T,X,Y,1e9)"
   ]
  },
  {
   "cell_type": "code",
   "execution_count": 151,
   "metadata": {},
   "outputs": [
    {
     "data": {
      "text/plain": [
       "48"
      ]
     },
     "execution_count": 151,
     "metadata": {},
     "output_type": "execute_result"
    }
   ],
   "source": [
    "ϵ =  (T.Tree).root\n",
    "a = get(ϵ).left\n",
    " get(get(a).parent).c[2]\n",
    "# get(get(j_wave).parent).c[Y]"
   ]
  },
  {
   "cell_type": "code",
   "execution_count": 152,
   "metadata": {},
   "outputs": [
    {
     "data": {
      "text/plain": [
       "0.78"
      ]
     },
     "execution_count": 152,
     "metadata": {},
     "output_type": "execute_result"
    }
   ],
   "source": [
    "pred=predict!(T,x)\n",
    "correctrate(y,convert(Array{Int,1},pred))"
   ]
  },
  {
   "cell_type": "code",
   "execution_count": 153,
   "metadata": {},
   "outputs": [],
   "source": [
    "T=Mondrian_Tree_Classifier()\n",
    "Acc=[];\n",
    "Time=[];"
   ]
  },
  {
   "cell_type": "code",
   "execution_count": 154,
   "metadata": {},
   "outputs": [
    {
     "data": {
      "text/plain": [
       "1-element Array{Any,1}:\n",
       " 0.56"
      ]
     },
     "execution_count": 154,
     "metadata": {},
     "output_type": "execute_result"
    }
   ],
   "source": [
    "counter=1\n",
    "train!(T,X[1:20,:],Y[1:20],1e9);\n",
    "pred=predict!(T,x)\n",
    "append!(Acc,correctrate(y,convert(Array{Int,1},pred)))"
   ]
  },
  {
   "cell_type": "code",
   "execution_count": 155,
   "metadata": {},
   "outputs": [
    {
     "name": "stdout",
     "output_type": "stream",
     "text": [
      "Mondrian Tree Classifier:\n",
      "    Mondrian Tree with 22 leaves\n",
      "The time is\n",
      "0.004480399\n",
      "The accuracy is\n",
      "Any[0.56, 0.67]\n",
      "XXXXXXXXXXXXXXXXXXXXXXXXXXXXXXXXXXXXXXXXXXXXXXXXXXXXXXXXXXXXXXXXX\n",
      "Mondrian Tree Classifier:\n",
      "    Mondrian Tree with 30 leaves\n",
      "The time is\n",
      "0.004281849\n",
      "The accuracy is\n",
      "Any[0.56, 0.67, 0.69]\n",
      "XXXXXXXXXXXXXXXXXXXXXXXXXXXXXXXXXXXXXXXXXXXXXXXXXXXXXXXXXXXXXXXXX\n",
      "Mondrian Tree Classifier:\n",
      "    Mondrian Tree with 38 leaves\n",
      "The time is\n",
      "0.004487918\n",
      "The accuracy is\n",
      "Any[0.56, 0.67, 0.69, 0.69]\n",
      "XXXXXXXXXXXXXXXXXXXXXXXXXXXXXXXXXXXXXXXXXXXXXXXXXXXXXXXXXXXXXXXXX\n",
      "Mondrian Tree Classifier:\n",
      "    Mondrian Tree with 45 leaves\n",
      "The time is\n",
      "0.004846424\n",
      "The accuracy is\n",
      "Any[0.56, 0.67, 0.69, 0.69, 0.7]\n",
      "XXXXXXXXXXXXXXXXXXXXXXXXXXXXXXXXXXXXXXXXXXXXXXXXXXXXXXXXXXXXXXXXX\n"
     ]
    }
   ],
   "source": [
    "i=21\n",
    "while i<100\n",
    "    tic()\n",
    "    expand!(T,X[i:i+19,:],Y[i:i+19,:],1e9)\n",
    "    println(T)\n",
    "    t=toq()\n",
    "    println(\"The time is\")\n",
    "    println(t)\n",
    "    push!(Time,t)\n",
    "    pred=predict!(T,X)\n",
    "    append!(Acc,correctrate(Y,convert(Array{Int,1},pred)))\n",
    "    println(\"The accuracy is\")\n",
    "    println(Acc)\n",
    "    i=i+20\n",
    "    println(\"XXXXXXXXXXXXXXXXXXXXXXXXXXXXXXXXXXXXXXXXXXXXXXXXXXXXXXXXXXXXXXXXX\")\n",
    "end"
   ]
  },
  {
   "cell_type": "code",
   "execution_count": 156,
   "metadata": {},
   "outputs": [
    {
     "name": "stdout",
     "output_type": "stream",
     "text": [
      "Any[0.56, 0.67, 0.69, 0.69, 0.7]\n"
     ]
    }
   ],
   "source": [
    "println(Acc)"
   ]
  },
  {
   "cell_type": "code",
   "execution_count": null,
   "metadata": {},
   "outputs": [],
   "source": [
    "correctrate(Y,convert(Array{Int,1},pred))"
   ]
  },
  {
   "cell_type": "code",
   "execution_count": null,
   "metadata": {},
   "outputs": [],
   "source": [
    "pred=predict!(T,X)\n"
   ]
  },
  {
   "cell_type": "code",
   "execution_count": null,
   "metadata": {},
   "outputs": [],
   "source": [
    "j_print((T.Tree).root)"
   ]
  },
  {
   "cell_type": "code",
   "execution_count": null,
   "metadata": {},
   "outputs": [],
   "source": []
  },
  {
   "cell_type": "markdown",
   "metadata": {},
   "source": [
    "XXXXXXXXXXXXXXXXXXXXXXXXXXXXXXXXXXXXXXXXXXXXXXXXXXXXXXXXXXXXXXXXXXXXXXXXXXXXXXXXXXXXXXXXXXXXXXXXXXXXXXXXXXXXXXX"
   ]
  },
  {
   "cell_type": "code",
   "execution_count": null,
   "metadata": {},
   "outputs": [],
   "source": [
    "X, Y,x ,y = Fakedata3Classif(1500,26,1500); #X,Y: train set ; x,y: extention data\n",
    "Y = Y.+1;\n",
    "y = y.+1;"
   ]
  },
  {
   "cell_type": "code",
   "execution_count": null,
   "metadata": {},
   "outputs": [],
   "source": [
    "T=Mondrian_Tree_Classifier()\n",
    "Acc=zeros(10);\n",
    "Time=[];"
   ]
  },
  {
   "cell_type": "code",
   "execution_count": null,
   "metadata": {},
   "outputs": [],
   "source": [
    "counter=1\n",
    "train!(T,X[1:150,:],Y[1:150],1e9);\n",
    "pred=predict!(T,x)\n",
    "Acc[counter]=correctrate(y,convert(Array{Int,1},pred))"
   ]
  },
  {
   "cell_type": "code",
   "execution_count": null,
   "metadata": {},
   "outputs": [],
   "source": [
    "i=151\n",
    "while i<1500\n",
    "    counter = counter+1\n",
    "    tic()\n",
    "    expand!(T,X[i:i+149,:],Y[i:i+149,:],1e9);\n",
    "    println(T)\n",
    "    t=toq()\n",
    "    println(\"The time is\")\n",
    "    println(t)\n",
    "    push!(Time,t)\n",
    "    pred=predict!(T,x)\n",
    "    Acc[counter]=correctrate(y,convert(Array{Int,1},pred))\n",
    "    i=i+150\n",
    "    println(\"The accuracy\")\n",
    "    println(Acc[counter])\n",
    "    println(\"XXXXXXXXXXXXXXXXXXXXXXXXXXXXXXXXXXXXXXXXXXXXXXXXXXXXXXXXXXXXXXXXX\")\n",
    "end"
   ]
  },
  {
   "cell_type": "code",
   "execution_count": null,
   "metadata": {},
   "outputs": [],
   "source": [
    "Acc"
   ]
  },
  {
   "cell_type": "markdown",
   "metadata": {},
   "source": [
    "XXXXXXXXXXXXXXXXXXXXXXXXXXXXXXXXXXXXXXXXXXXXXXXXXXXXXXXXXXXXXXXXXXXXXXXXXXXXXXXXXXXXXXXXXXXXXXXXXXXXXXXXXXXXXXX"
   ]
  },
  {
   "cell_type": "code",
   "execution_count": null,
   "metadata": {},
   "outputs": [],
   "source": [
    "MF=Mondrian_Forest_Classifier(50)\n",
    "Acc=zeros(150);\n",
    "Time=[];\n"
   ]
  },
  {
   "cell_type": "code",
   "execution_count": null,
   "metadata": {
    "scrolled": true
   },
   "outputs": [],
   "source": [
    "counter=1\n",
    "tic()\n",
    "train!(MF,X[1:150,:],Y[1:150],1e9);\n",
    "toc()\n",
    "pred=predict!(MF,x)\n",
    "Acc[counter]=correctrate(y,convert(Array{Int,1},pred))"
   ]
  },
  {
   "cell_type": "code",
   "execution_count": null,
   "metadata": {},
   "outputs": [],
   "source": [
    "### i=151\n",
    "while i<1500\n",
    "    counter = counter+1\n",
    "    tic()\n",
    "    expand_forest!(MF,X[i:i+149,:],Y[i:i+149,:],1e9);\n",
    "    t=toq()\n",
    "    println(\"The time is\")\n",
    "    println(t)\n",
    "    push!(Time,t)\n",
    "    pred=predict!(MF,x)\n",
    "    Acc[counter]=correctrate(y,convert(Array{Int,1},pred))\n",
    "    i=i+150\n",
    "    println(\"The accrucary\")\n",
    "    println(Acc[counter])\n",
    "end"
   ]
  },
  {
   "cell_type": "code",
   "execution_count": null,
   "metadata": {},
   "outputs": [],
   "source": [
    "plotrange=linspace(1,9,9)\n",
    "plot(plotrange,Time)"
   ]
  },
  {
   "cell_type": "markdown",
   "metadata": {},
   "source": [
    "#### Letter dataset"
   ]
  },
  {
   "cell_type": "code",
   "execution_count": null,
   "metadata": {},
   "outputs": [],
   "source": [
    "Letter = readdlm(\"Letter.txt\");"
   ]
  },
  {
   "cell_type": "code",
   "execution_count": null,
   "metadata": {},
   "outputs": [],
   "source": [
    "classes = map(x->convert(Int,x[1][1]), Letter[:,1])\n",
    "classes -= minimum(classes);"
   ]
  },
  {
   "cell_type": "code",
   "execution_count": null,
   "metadata": {},
   "outputs": [],
   "source": [
    "train_data = Letter[1:15000,2:17]*1.0;"
   ]
  },
  {
   "cell_type": "code",
   "execution_count": null,
   "metadata": {},
   "outputs": [],
   "source": [
    "train_labels = classes[1:15000,1].+1;"
   ]
  },
  {
   "cell_type": "code",
   "execution_count": null,
   "metadata": {},
   "outputs": [],
   "source": [
    "test_data = Letter[15001:20000,2:17]*1.0;"
   ]
  },
  {
   "cell_type": "code",
   "execution_count": null,
   "metadata": {},
   "outputs": [],
   "source": [
    "test_labels = classes[15001:20000,1].+1;"
   ]
  },
  {
   "cell_type": "code",
   "execution_count": null,
   "metadata": {},
   "outputs": [],
   "source": [
    "MF=Mondrian_Forest_Classifier(5)\n",
    "Acc=zeros(150);\n",
    "Time=[]; "
   ]
  },
  {
   "cell_type": "code",
   "execution_count": null,
   "metadata": {},
<<<<<<< HEAD
   "outputs": [],
=======
   "outputs": [
    {
     "data": {
      "text/plain": [
       "0.9202"
      ]
     },
     "execution_count": 51,
     "metadata": {},
     "output_type": "execute_result"
    }
   ],
   "source": [
    "M = Mondrian_Forest_Classifier(10)\n",
    "train!(M, train_data, train_labels)\n",
    "p=predict!(M, test_data)\n",
    "correctrate(test_labels,convert(Array{Int,1},p))"
   ]
  },
  {
   "cell_type": "code",
   "execution_count": 26,
   "metadata": {},
   "outputs": [
    {
     "data": {
      "text/plain": [
       "0.3586"
      ]
     },
     "execution_count": 39,
     "metadata": {},
     "output_type": "execute_result"
    }
   ],
>>>>>>> 9a9dee91c6b0cf4ad9e390a34d091baf497a8373
   "source": [
    "counter=1\n",
    "tic\n",
    "train!(MF,train_data[1:150,:],train_labels[1:150],1e9);\n",
    "t=toq\n",
    "push!(Time,t)\n",
    "pred=predict!(MF,test_data)\n",
    "Acc[counter]=correctrate(test_labels,convert(Array{Int,1},pred))"
   ]
  },
  {
   "cell_type": "code",
   "execution_count": null,
   "metadata": {},
   "outputs": [],
   "source": [
    "i=151\n",
    "while i<15000\n",
    "    counter = counter+1\n",
    "    println(counter)\n",
    "    tic()\n",
    "    expand_forest!(MF,train_data[i:i+149,:],train_labels[i:i+149],1e9);\n",
    "    t=toq()\n",
    "    println(t)\n",
    "    push!(Time,t)\n",
    "    pred=predict!(MF,test_data)\n",
    "    Acc[counter]=correctrate(test_labels,convert(Array{Int,1},pred))\n",
    "    i=i+150\n",
    "    println(Acc[counter])\n",
    "end"
   ]
  },
  {
   "cell_type": "code",
   "execution_count": 4,
   "metadata": {},
   "outputs": [
    {
     "data": {
      "text/plain": [
       "0.2668"
      ]
     },
     "execution_count": 30,
     "metadata": {},
     "output_type": "execute_result"
    }
   ],
   "source": [
    "pred=predict!(MF,test_data)\n",
    "Acc[counter]=correctrate(test_labels,convert(Array{Int,1},pred))"
   ]
  },
  {
   "cell_type": "code",
   "execution_count": 39,
   "metadata": {},
   "outputs": [
    {
     "data": {
      "text/plain": [
       "2850×8 Array{Float64,2}:\n",
       " 4.0  4.0   3.0  0.0   2.0   3.0  10.0  2.0\n",
       " 8.0  2.0   7.0  7.0  10.0  13.0   8.0  8.0\n",
       " 6.0  5.0   5.0  5.0   4.0   7.0   7.0  5.0\n",
       " 6.0  4.0   5.0  3.0   4.0   8.0   8.0  6.0\n",
       " 4.0  2.0   1.0  2.0   2.0   8.0   5.0  5.0\n",
       " 4.0  2.0   2.0  2.0   2.0   5.0   2.0  3.0\n",
       " 5.0  1.0   6.0  5.0   2.0   8.0   6.0  6.0\n",
       " 4.0  0.0   8.0  1.0   3.0   7.0   4.0  5.0\n",
       " 3.0  2.0   5.0  3.0   2.0   3.0   7.0  1.0\n",
       " 3.0  1.0   7.0  4.0   2.0   4.0   7.0  3.0\n",
       " 4.0  5.0   6.0  3.0   3.0   5.0   7.0  4.0\n",
       " 8.0  5.0   4.0  3.0   9.0  15.0  11.0  8.0\n",
       " 3.0  1.0   3.0  3.0   2.0   7.0  11.0  4.0\n",
       " ⋮                           ⋮             \n",
       " 3.0  1.0   7.0  1.0   2.0   5.0   4.0  4.0\n",
       " 7.0  2.0   4.0  1.0   7.0  10.0  11.0  8.0\n",
       " 5.0  2.0   5.0  7.0   4.0   7.0   8.0  6.0\n",
       " 5.0  3.0   7.0  3.0   4.0   8.0   7.0  6.0\n",
       " 4.0  1.0   7.0  3.0   3.0   9.0  10.0  7.0\n",
       " 5.0  0.0  12.0  8.0   4.0  10.0   8.0  7.0\n",
       " 7.0  0.0   8.0  3.0   5.0  11.0   4.0  8.0\n",
       " 4.0  7.0   1.0  0.0   3.0   6.0   7.0  4.0\n",
       " 4.0  3.0   4.0  3.0   3.0   9.0   6.0  7.0\n",
       " 2.0  1.0   4.0  3.0   2.0   3.0  11.0  1.0\n",
       " 5.0  3.0   4.0  6.0   4.0  10.0  11.0  7.0\n",
       " 7.0  5.0   6.0  4.0   7.0  13.0   4.0  7.0"
      ]
     },
     "execution_count": 39,
     "metadata": {},
     "output_type": "execute_result"
    }
   ],
   "source": [
    "MF.Trees[3].X"
   ]
  },
  {
   "cell_type": "code",
   "execution_count": 24,
   "metadata": {},
   "outputs": [
    {
     "data": {
      "text/plain": [
       "expand_forest!"
      ]
     },
     "execution_count": 4,
     "metadata": {},
     "output_type": "execute_result"
    }
   ],
   "source": [
    "# include(\"Mondrian_extention_utils.jl\");\n",
    "\"\"\"\n",
    "`function Extend_Mondrian_Tree!(T::Mondrian_Tree,λ::Float64,X::Array{Float64} where N,Y::Int64) `\n",
    "\n",
    "This function extends an already existing Mondrian Tree by ONE new datapoint that gets incorperated in the tree. \n",
    "\n",
    "`Input`: Mondrian Tree T (abstract type Mondrian_Tree), Lifetime parameter λ (Float64), 1dim Array of Features Array X (Array of Float64), classlabel Y (Int64)\n",
    "\n",
    "`Output`: Mondrian Tree\n",
    "\n",
    "`Files needed to run this function`: \"Mondrian_Forest_Classifier.jl\", \"Mondrian_extention.jl\"\n",
    "\n",
    "This function calls the function Extend_Mondrian_Block.\n",
    "\n",
    "The usage of the function \"expand!\" is recommended to expand Mondrian Trees as it has a nicer user interface.\n",
    "\n",
    "\"\"\"\n",
    "## Algorithm 3 in the Paper \"Mondrian Forests: Efficient Online Random Forests\"\n",
    "function Extend_Mondrian_Tree!(T::Mondrian_Tree,λ::Float64,X::Array{Float64},Y::Int64) \n",
    "    ϵ=get(T.root)\n",
    "    Extend_Mondrian_Block!(T,λ,ϵ,X,Y)\n",
    "    return T\n",
    "end\n",
    "\n",
    "\n",
    "\"\"\"\n",
    "`function Extend_Mondrian_Block!(T::Mondrian_Tree,λ::Float64,j::Mondrian_Node,X::Array{Float64},Y::Int64)`\n",
    "\n",
    "This function extends a Mondrian Block to incorporate ONE new datapoint. \n",
    "\n",
    "`Input`: Mondrian Tree T (abstract type Mondrian_Tree), Lifetime parameter λ (Float64), Mondrian Node j (abstract type Mondrian_Node), 1dim Array of Features Array X (Array of Float64), classlabel Y (Int64)\n",
    "\n",
    "`Output`: Modified nodes in the input tree\n",
    "\n",
    "`Files needed to run this function`: Mondrian_Forest_Classifier.jl\", \"Mondrian_extention.jl\"\n",
    "\n",
    "This function calls the functions \n",
    "\n",
    "- Extended_dimension()\n",
    "\n",
    "- sample_extended_split_dimension\n",
    "\n",
    "- Sample_Mondrian_Block!\n",
    "\n",
    "- update_intervals\n",
    "\n",
    "\n",
    "\"\"\"\n",
    "\n",
    "## Algorithm 4 in the Paper \n",
    "function Extend_Mondrian_Block!(T::Mondrian_Tree,λ::Float64,j::Mondrian_Node,X::Array{Float64},Y::Int64)\n",
    "if sum(j.c .> 0) == 1  #check if all labels are identical\n",
    "     Θ = update_intervals(get(j.Θ),X)        # update extent\n",
    "     j.Θ=Θ \n",
    "         if findmax(j.c)[2] == Y\n",
    "             i = findmax(j.c)[2]\n",
    "             j.c[i] = j.c[i]+1\n",
    "             UpdatePosteriorCounts(j,Y)\n",
    "             return\n",
    "         else\n",
    "            j.node_type = [true,false,false]\n",
    "            p_data,p_labels = paused_train_data(j,X,Y)\n",
    "            Sample_Mondrian_Block!(j,get(j.Θ),λ,T,p_data,p_labels)\n",
    "         end        \n",
    "        \n",
    "else\n",
    "       #println(\"not a leaf\")\n",
    "    E = rand(Exponential(1/Extended_dimension(get(j.Θ),X)))  #sample value E\n",
    "    if j.node_type[3]==true\n",
    "        # check if the node we're looking at is the root (if yes the split time is assumed to be 0)\n",
    "            #println(\"j is the root\")\n",
    "        τₚ = 0\n",
    "    else\n",
    "            #println(\"j is not the root\")\n",
    "        τₚ = (get(j.parent)).τ                               # if it's not the root get the split time of the node above j\n",
    "    end\n",
    "    if τₚ + E < j.τ                                          # check if our split happens in time\n",
    "                                                           \n",
    "        d,x= sample_extended_split_dimension(get(j.Θ),X)     # sample new split dimension / split direction\n",
    "        Θ = update_intervals(get(j.Θ),X)                     # get the boxes for the new node\n",
    "        j_wave = init_j_wave(j,E,d,x,Θ)\n",
    "        j.parent=j_wave\n",
    "        j_prime = init_j_prime(j_wave,Y)\n",
    "        A,j_wave,j_prime = check_left_right!(j_wave,j,j_prime,X,d,x)\n",
    "        Sample_Mondrian_Block!(j_prime,get(j_prime.Θ),λ,T,A,[Y])\n",
    "\n",
    "    else                                 # if the split didn't occur in time\n",
    "        Θ = update_intervals(get(j.Θ),X)        # update the boxes of j\n",
    "        j.Θ=Θ\n",
    "        if j.node_type != [false,true,false]    # check if j is a leaf\n",
    "            if X[get(j.δ)] < get(j.ζ)           # if the new datapoint is in the boxes associated with the left child of j -> Extend towards the left child, else the right\n",
    "                     \n",
    "                Extend_Mondrian_Block!(T,λ,get(j.left),X,Y)\n",
    "            else\n",
    "                    \n",
    "                Extend_Mondrian_Block!(T,λ,get(j.right),X,Y)\n",
    "                \n",
    "            end\n",
    "        end\n",
    "    end\n",
    "end\n",
    "end\n",
    "\n",
    "\"\"\"\n",
    "`function expand!(T::Mondrian_Tree_Classifier,X::Array{Float64,N} where N,Y::Array{Int64},λ::Float64)`\n",
    "\n",
    "This function expands an already sampled Mondrian Tree Classifier by a desired number of datapoints. \n",
    "\n",
    "`Input`: Mondrian Tree Classifier T (abstract type Mondrian_Tree_Classifier), array of features X (Array of Float64), array of class labels (1dim of Float 64), Lifetime parameter λ (Float 64)\n",
    "\n",
    "Each row in the array X represents one set of features, the corresponding row in Y represents the class label. \n",
    "\n",
    "`Output`: Mondrian Tree Classifier with incoporated new datapoints\n",
    "\n",
    "`Files needed to run this function`: Mondrian_Forest_Classifier.jl\", \"Mondrian_extention.jl\"\n",
    "\n",
    "This function calls the function Extend_Mondrian_Tree. \n",
    "\"\"\"\n",
    "\n",
    "function expand!(T::Mondrian_Tree_Classifier,X::Array{Float64,N} where N,Y::Array{Int64},λ::Float64)    \n",
    "    # puts the extention in a nice framework, allows to extend by multiple datapoints\n",
    "    \n",
    "    for i=1:length(X[:,1])\n",
    "        T.Tree=Extend_Mondrian_Tree!(T.Tree,λ,X[i,:],Y[i]);\n",
    "    end\n",
    "    T.X = vcat(T.X,X)\n",
    "    T.Y = vcat(T.Y,Y)\n",
    "    compute_predictive_posterior_distribution!(T.Tree,10*size(X,2))\n",
    "    return T    \n",
    "end\n",
    "\n",
    "\"\"\"\n",
    "`function expand_forest!(MF::Mondrian_Forest_Classifier,X_extend, Y_extend,λ)`\n",
    "\n",
    "This function expands an already sampled Mondrian Forest Classifier by a desired number of datapoints.\n",
    "\n",
    "\n",
    "`Input`: Mondrian Forest Classifier MF (abstract type Mondrian_Forest_Classifier), array of features X_extend to extend the forest on, Array of class labels Y_extend corresponding to the new features, life time parameter λ\n",
    "\n",
    "`Output`: Mondrian Forest Classifier with incoporated new datapoints\n",
    "\n",
    "`Files needed to run this function`: Mondrian_Forest_Classifier.jl\", \"Mondrian_extention.jl\"\n",
    "\n",
    "This function calls the function expand!. \n",
    "\"\"\"\n",
    "\n",
    "function expand_forest!(MF::Mondrian_Forest_Classifier,X_extend, Y_extend,λ)\n",
    "    X=MF.X\n",
    "    Y=MF.Y\n",
    "    if size(X)[2] != size(X_extend)[2]\n",
    "        println(\"Error - the number of features in the new data doesn't fit the original data\")\n",
    "    end\n",
    "    Trees=MF.Trees\n",
    "    Features = MF.Features\n",
    "    @sync @parallel for i=1:MF.n_trees\n",
    "        T = expand!(Trees[i], X_extend[:,Features[i]],Y_extend,λ)\n",
    "        Trees[i]=T\n",
    "    end\n",
    "     MF.Trees=Trees\n",
    "     MF.X=vcat(X,X_extend)\n",
    "     MF.Y=vcat(Y,Y_extend)\n",
    "    \n",
    "end"
   ]
  },
  {
   "cell_type": "code",
   "execution_count": 3,
   "metadata": {},
   "outputs": [
    {
     "data": {
      "text/plain": [
       "UpdatePosteriorCounts (generic function with 1 method)"
      ]
     },
     "execution_count": 3,
     "metadata": {},
     "output_type": "execute_result"
    }
   ],
   "source": [
    "function UpdatePosteriorCounts(j::Mondrian_Node,Y::Int64)\n",
    "    j.c[Y] = j.c[Y]+1\n",
    "    j_clone = j\n",
    "    while true\n",
    "            if j_clone.tab[Y]==1\n",
    "                 return\n",
    "            else\n",
    "                if j_clone.node_type != [false,true,false]\n",
    "                    j_clone.c[Y]=get(j_clone.left).tab[Y]+get(j_clone.right).tab[Y]\n",
    "                    j_clone.tab[Y] = min(j_clone.c[Y],1)\n",
    "                end\n",
    "                if j_clone.node_type == [false,false,true]\n",
    "                    return\n",
    "                else\n",
    "                    j_clone = get(j_clone.parent)\n",
    "                end\n",
    "            end\n",
    "    end\n",
    "     println(\"update j_clone\")\n",
    "end"
   ]
  },
  {
   "cell_type": "code",
   "execution_count": 2,
   "metadata": {},
   "outputs": [
    {
     "data": {
      "text/plain": [
       "leaf_check (generic function with 1 method)"
      ]
     },
     "execution_count": 2,
     "metadata": {},
     "output_type": "execute_result"
    }
   ],
   "source": [
    "#Utils for extending Mondrian Trees \n",
    "\n",
    "\"\"\"\n",
    "`function Extended_dimension(Θ::Axis_Aligned_Box,X::Array{Float64})`\n",
    "\n",
    "This function samples the rate ∑ᵢ₌₁ᴰmax(lⱼ-x,0)+max(x-uⱼ,0) with which we draw the parameter E from the exponential distribution in the function Extend_Mondrian_Block!. \n",
    "\n",
    "`Input`:  Axis Aligned Box Θ (Abstract type Axis_Aligned_Box), One dimensional array of features X (Array of Float64)\n",
    "\n",
    "`Output`: Sampling rate s\n",
    "\n",
    "`Files needed to run this function`: \"Mondrian_extention.jl\"\n",
    "\n",
    "This function is one of the utility functions to run \"Extend_Mondrian_Block!\".\n",
    "\n",
    "\n",
    "\"\"\"\n",
    "\n",
    "function Extended_dimension(Θ::Axis_Aligned_Box,X::Array{Float64}) \n",
    "    # rate = ∑ᵢ₌₁ᴰmax(lⱼ-x,0)+max(x-uⱼ,0)\n",
    "    \n",
    "    s = 0\n",
    "    for i in 1:Θ.D\n",
    "        s += max(Θ.Intervals[i,1]-X[i],0)+max(X[i]-Θ.Intervals[i,2],0)  #compute the rate\n",
    "    end\n",
    "    return s\n",
    "end\n",
    "\n",
    "\"\"\"\n",
    "`function sample_extended_split_dimension(Θ::Axis_Aligned_Box,X::Array{Float64})`\n",
    "\n",
    "This function samples the split dimension and direction associated to the new node j_wave in the function \"Extend_Mondrian_Block!\"\n",
    "\n",
    "`Input`: Axis Aligned Box Θ (abstract type Axis_Aligned_Box), One dimensional array of features X (Array of Float64)\n",
    "\n",
    "`Output`: Split dimension d, split direction s\n",
    "\n",
    "`Files needed to run this function`: \"Mondrian_extention.jl\"\n",
    "\n",
    "This function is one of the utility functions to run \"Extend_Mondrian_Block!\".\n",
    "\"\"\"\n",
    "\n",
    "function sample_extended_split_dimension(Θ::Axis_Aligned_Box,X::Array{Float64}) \n",
    "    p_k = zeros(Θ.D)\n",
    "    for i in 1:Θ.D\n",
    "        p_k[i] = max(Θ.Intervals[i,1]-X[i],0)+max(X[i]-Θ.Intervals[i,2],0)  #compute max(lⱼ-x,0)+max(x-uⱼ,0)\n",
    "    end\n",
    "    p_k = p_k ./ Extended_dimension(Θ,X)                                #create the probability array\n",
    "    d = rand(Categorical(p_k))                                          # sample from it (d with probability proportional to max(lⱼ-x,0)+max(x-uⱼ,0) )\n",
    "\n",
    "    if X[d] > Θ.Intervals[d,2]  # choice of interval dependent on where the new datapoint is                                    \n",
    "    x = rand(Uniform(Θ.Intervals[d,2][1],X[d]))  #sample the split loc. uniformly from that interval\n",
    "    else\n",
    "    x = rand(Uniform(X[d],Θ.Intervals[d,1][1])) #sample the split loc. uniformly from that interval\n",
    "    end\n",
    "    return d,x   #return split dim., split loc. \n",
    "end\n",
    "\n",
    "\"\"\"\n",
    "`function update_intervals(Θ::Axis_Aligned_Box,X::Array{Float64})`\n",
    "\n",
    "This function computes the boxes associated to the new node j_wave. \n",
    "\n",
    "`Input`: Axis Aligned Box Θ (abstract type Axis_Aligned_Box), One dimensional array of features X (Array of Float64)\n",
    "\n",
    "`Output`: Axis Aligned Box Θ (updated Intervals)\n",
    "\n",
    "`Files needed to run this function`: \"Mondrian_extention.jl\"\n",
    "\n",
    "This function is one of the utility functions to run \"Extend_Mondrian_Block!\".\n",
    "\n",
    "\"\"\"\n",
    "function update_intervals(Θ::Axis_Aligned_Box,X::Array{Float64})\n",
    "    Intervals = Θ.Intervals                         # extract the intervals from Θ\n",
    "   for i=1:length(Θ.Intervals[:,1])                 # update the intervals successively \n",
    "       l=min(Intervals[i,1],X[i])\n",
    "       u=max(Intervals[i,2],X[i])\n",
    "       Intervals[i,:]=[l,u]\n",
    "    end\n",
    "    Θ = Axis_Aligned_Box(Intervals,Θ.D)             # return updated intervals\n",
    "    return Θ\n",
    "end\n",
    "\"\"\"\n",
    "`function update_counts_extended(j_wave::Mondrian_Node,j::Mondrian_Node,Y::Int64)`\n",
    "\n",
    "This assigns the correct number of nodes of each class to the node j_wave.\n",
    "\n",
    "`Input`: Mondrian Node j_wave (abstract type Mondrian_Node, node that is added above j), Mondrian Node j (abstract type Mondrian_Node, node the function currently considers), Int64 Y (Label of new datapoint)\n",
    "\n",
    "`Output`: updated counts j_wave.c, updated j_wave.tab\n",
    "\n",
    "This function is one of the utility functions to run \"Extend_Mondrian_Block!\".\n",
    "\"\"\"\n",
    "\n",
    "function update_counts_extended(j_wave::Mondrian_Node,j::Mondrian_Node,Y::Int64)\n",
    "    j_wave.tab = copy(j.tab)\n",
    "    j_wave.c = copy(j.c)    \n",
    "    j_wave.Gₚ = zeros(size(j.Gₚ))    \n",
    "    if j_wave.tab[Y] == 0 \n",
    "    j_wave.tab[Y] = 1\n",
    "    end     \n",
    "    j_wave.c[Y] = j_wave.c[Y]+1\n",
    "end\n",
    "\n",
    "\"\"\"\n",
    "`function backpropergate_c_tab(j_wave::Mondrian_Node,Y::Int64)`\n",
    "\n",
    "This function backpropergates through the tree and updates the counts of each class at each node if a new datapoint was inserted. \n",
    "\n",
    "`Input`: Mondrian Node j_wave (abstract type Mondrian_Node, node that is added above j), Int64 Y (label of the new datapoint)\n",
    "\n",
    "`Output`: updated counts for all nodes that are on the same branch as j_wave and above j_wave\n",
    "\n",
    "\n",
    "This function is one of the utility functions to run \"Extend_Mondrian_Block!\".\n",
    "\"\"\"\n",
    "function backpropergate_c_tab(j_wave::Mondrian_Node,Y::Int64)\n",
    "    if j_wave.node_type != [false, false, true]\n",
    "   get(j_wave.parent).c[Y] =  get(j_wave.parent).c[Y]+1\n",
    "    if get(j_wave.parent).tab[Y] == 0 \n",
    "    get(j_wave.parent).tab[Y] = 1\n",
    "    end\n",
    "    if get(j_wave.parent).node_type != [false,false,true]\n",
    "        backpropergate_c_tab(get(j_wave.parent),Y)\n",
    "    end\n",
    "    end\n",
    "end\n",
    "\"\"\"\n",
    "function paused_train_data(j::Mondrian_Node,X::Array{Float64},Y::Int64)\n",
    "\n",
    "This function assembles the right dataset to sample the tree from given that j is a paused leaf.\n",
    "\n",
    "`Input`: Mondrian Node j (abstract type Mondrian Node, paused leaf), datapoint X,Y\n",
    "\n",
    "`Output`: p_data (training data), p_labels (training labels) for paused leaf (merge of data that was there before+new DP)\n",
    "\n",
    "This function is one of the utility functions to run \"Extend_Mondrian_Block!\".\n",
    "\"\"\"\n",
    "\n",
    "function paused_train_data(j::Mondrian_Node,X::Array{Float64},Y::Int64)\n",
    "   Data = j.Paused_Data[1]\n",
    "   Labels = j.Paused_Data[2]\n",
    "   A=zeros(1,length(X))\n",
    "   A[:,:]=X\n",
    "   p_data = vcat(Data,A)\n",
    "   p_labels = vcat(Labels, Y) \n",
    "   return p_data, p_labels\n",
    "    \n",
    "end\n",
    "\n",
    "\"\"\"\n",
    "function init_j_wave(j::Mondrian_Node,E::Float64,d::Int64,x::Float64,Θ::Axis_Aligned_Box)\n",
    "\n",
    "This function initialises the new node j_wave that is inserted in the tree just above j.\n",
    "\n",
    "`Input`: Mondrian Node j (abstract type Mondrian Node, node the algoritm currently looks at), E (Float 64, value sampled in the algorithm), d (Int64, split dimension), x (Float64, split direction), Θ (Axis_Aligned_Box, 'Box' associated with j_wave)\n",
    "\n",
    "`Output`: New node j_wave in tree, above j\n",
    "\n",
    "This function is one of the utility functions to run \"Extend_Mondrian_Block!\".\n",
    "\n",
    "\"\"\"\n",
    "\n",
    "function init_j_wave(j::Mondrian_Node,E::Float64,d::Int64,x::Float64,Θ::Axis_Aligned_Box)\n",
    "   if j.node_type[3]==true                              # check if we replace the root\n",
    "            j_wave=Mondrian_Node(E,[false,false,true])       # replace the root by the new node j_wave\n",
    "            j.node_type = [true,false,false]\n",
    "        else\n",
    "            j_wave=Mondrian_Node(get(j.parent).τ+E,[true,false,false])  #if we don't replace the root, introcue a new node j_wave, parent to j\n",
    "            j_wave.parent = j.parent\n",
    "            if j == get(j.parent).left             # check if j was left or right child of j_parent\n",
    "                get(j.parent).left = j_wave\n",
    "            else\n",
    "                get(j.parent).right = j_wave\n",
    "            end\n",
    "        end\n",
    "        j_wave.δ = d\n",
    "        j_wave.ζ = x\n",
    "        j_wave.Θ = Θ\n",
    "        j_wave.tab = copy(j.tab)\n",
    "    j_wave.c = copy(j.c)    \n",
    "    j_wave.Gₚ = zeros(size(j.Gₚ))  \n",
    "    return j_wave\n",
    "    \n",
    "end\n",
    "\n",
    "\"\"\"\n",
    "`function init_j_prime(j_wave::Mondrian_Node,Y::Int64)`\n",
    "\n",
    "This function initialises a new node j_prime, child of j_wave and sibling to j\n",
    "\n",
    "`Input`: Mondrian Node j_wave (Abstract type Mondrian Node, parent to the node j_prime), Y (Int64, label of the new datapoint)\n",
    "\n",
    "`Output`: New node j_prime, child of j_wave, sibling to j, leaf that only has the new datapoint\n",
    "\n",
    "This function is one of the utility functions to run \"Extend_Mondrian_Block!\".\n",
    "\n",
    "\"\"\"\n",
    "function init_j_prime(j_wave::Mondrian_Node,Y::Int64)\n",
    "   j_prime = Mondrian_Node(0.0, [true,false,false])   #initialise new sibling to j\n",
    "        j_prime.parent = j_wave\n",
    "        j_prime.tab = zeros(size(j_wave.tab)).+1\n",
    "        j_prime.c = zeros(size(j_wave.c))\n",
    "        j_prime.c[Y] = 1\n",
    "        j_prime.Gₚ=zeros(size(j_wave.Gₚ))\n",
    "        j_prime.Θ = j_wave.Θ\n",
    "    return j_prime\n",
    "end\n",
    "\"\"\"\n",
    "`function check_left_right!(j_wave::Mondrian_Node,j::Mondrian_Node,j_prime::Mondrian_Node,X::Array{Float64},d::Int64,x::Int64)`\n",
    "\n",
    "This function figures out whether j_prime should be the left or the right child of j_wave. It is always chosen such that j_prime contains the new datapoint (dependent on the split). It also makes sure all the data is in the right boxes.\n",
    "\n",
    "`Input`: Mondrian Node j_wave (Abstract type Mondrian Node, parent j and j_prime), Mondrian Node j (Abstract type Mondrian Node, child to j_wave, sibling to j_prime), Mondrian Node j_prime (Abstract type Mondrian Node, child to j_wave, sibling to j), X (Array of Float64, features of the new datapoint), d (Int64, split dimension), x (Float64, split direction)\n",
    "\n",
    "`Output`: A (transformed feature data for next function), j_wave (updated children), j_prime (updated AxisAligned Box)\n",
    "\n",
    "\n",
    "This function is one of the utility functions to run \"Extend_Mondrian_Block!\".\n",
    "\n",
    "\"\"\"\n",
    "\n",
    "function check_left_right!(j_wave::Mondrian_Node,j::Mondrian_Node,j_prime::Mondrian_Node,X::Array{Float64},d::Int64,x::Float64)\n",
    "            A=zeros(1,length(X))\n",
    "                A[:,:]=X\n",
    "            if X[d] > x     # check where the new datapoint lies\n",
    "                j_wave.left = j\n",
    "                j_wave.right = j_prime \n",
    "                    \n",
    "                \n",
    "            else\n",
    "                j_wave.left = j_prime\n",
    "                j_wave.right = j\n",
    "\n",
    "            end\n",
    "    return A, j_wave, j_prime\n",
    "end\n",
    "\n",
    "\n",
    "\n",
    "function j_print(j)\n",
    "   if get(j).node_type != [false, true, false]\n",
    "        println(get(j).c)\n",
    "        println(get(get(j).left).c)\n",
    "        println(get(get(j).right).c)\n",
    "        println(\"node done\")\n",
    "        j_print(get(j).left)\n",
    "        j_print(get(j).right)\n",
    "    end\n",
    "    \n",
    "end\n",
    "\n",
    "\n",
    "function leaf_check(j)\n",
    "   if get(j).node_type == [false, true, false]\n",
    "        println(get(j).c)\n",
    "    else\n",
    "        leaf_check(get(j).left)\n",
    "        leaf_check(get(j).right)\n",
    "    end\n",
    "end\n",
    "\n",
    "\n",
    "\n",
    "\n",
    "\n"
   ]
  }
 ],
 "metadata": {
  "kernelspec": {
   "display_name": "Julia 0.6.2",
   "language": "julia",
   "name": "julia-0.6"
  },
  "language_info": {
   "file_extension": ".jl",
   "mimetype": "application/julia",
   "name": "julia",
   "version": "0.6.2"
  }
 },
 "nbformat": 4,
 "nbformat_minor": 2
}
