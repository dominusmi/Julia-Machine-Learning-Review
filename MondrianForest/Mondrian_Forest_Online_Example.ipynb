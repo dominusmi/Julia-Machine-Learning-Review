{
 "cells": [
  {
   "cell_type": "markdown",
   "metadata": {},
   "source": [
    "## Example for extending Mondrian Trees"
   ]
  },
  {
   "cell_type": "code",
   "execution_count": 1,
   "metadata": {
    "scrolled": true
   },
   "outputs": [
    {
     "ename": "LoadError",
     "evalue": "LoadError: LoadError: \u001b[91mUndefVarError: Mondrian_Tree_Classifier not defined\u001b[39m\nwhile loading /home/annika/RSG Julia/warwick-rsg/MondrianForest/Mondrian_extention.jl, in expression starting on line 132\nwhile loading /home/annika/RSG Julia/warwick-rsg/MondrianForest/Mondrian_Forest_Classifier.jl, in expression starting on line 2",
     "output_type": "error",
     "traceback": [
      "LoadError: LoadError: \u001b[91mUndefVarError: Mondrian_Tree_Classifier not defined\u001b[39m\nwhile loading /home/annika/RSG Julia/warwick-rsg/MondrianForest/Mondrian_extention.jl, in expression starting on line 132\nwhile loading /home/annika/RSG Julia/warwick-rsg/MondrianForest/Mondrian_Forest_Classifier.jl, in expression starting on line 2",
      "",
      "Stacktrace:",
      " [1] \u001b[1minclude_from_node1\u001b[22m\u001b[22m\u001b[1m(\u001b[22m\u001b[22m::String\u001b[1m)\u001b[22m\u001b[22m at \u001b[1m./loading.jl:576\u001b[22m\u001b[22m",
      " [2] \u001b[1minclude\u001b[22m\u001b[22m\u001b[1m(\u001b[22m\u001b[22m::String\u001b[1m)\u001b[22m\u001b[22m at \u001b[1m./sysimg.jl:14\u001b[22m\u001b[22m",
      " [3] \u001b[1minclude_from_node1\u001b[22m\u001b[22m\u001b[1m(\u001b[22m\u001b[22m::String\u001b[1m)\u001b[22m\u001b[22m at \u001b[1m./loading.jl:576\u001b[22m\u001b[22m",
      " [4] \u001b[1minclude\u001b[22m\u001b[22m\u001b[1m(\u001b[22m\u001b[22m::String\u001b[1m)\u001b[22m\u001b[22m at \u001b[1m./sysimg.jl:14\u001b[22m\u001b[22m",
      " [5] \u001b[1minclude_string\u001b[22m\u001b[22m\u001b[1m(\u001b[22m\u001b[22m::String, ::String\u001b[1m)\u001b[22m\u001b[22m at \u001b[1m./loading.jl:522\u001b[22m\u001b[22m"
     ]
    }
   ],
   "source": [
    "import Base.copy\n",
    "using Distributions\n",
    "using MLBase\n",
    "using Plots\n",
    "include(\"./Mondrian_Forest_Classifier.jl\"); \n",
    "# include(\"Mondrian_extention.jl\")"
   ]
  },
  {
   "cell_type": "code",
   "execution_count": null,
   "metadata": {},
   "outputs": [],
   "source": [
    "\"\"\"\n",
    "`function expand_forest!(MF::Mondrian_Forest_Classifier,X_extend, Y_extend,λ)`\n",
    "\n",
    "This function expands an already sampled Mondrian Forest Classifier by a desired number of datapoints.\n",
    "\n",
    "`Input`: Mondrian Forest Classifier MF (abstract type Mondrian_Forest_Classifier), array of features X_extend to extend the forest on, Array of class labels Y_extend corresponding to the new features, life time parameter λ\n",
    "\n",
    "`Output`: Mondrian Forest Classifier with incoporated new datapoints\n",
    "\n",
    "`Files needed to run this function`: Mondrian_Forest_Classifier.jl\", \"Mondrian_extention.jl\"\n",
    "\n",
    "This function calls the function expand!. \n",
    "\"\"\""
   ]
  },
  {
   "cell_type": "code",
   "execution_count": null,
   "metadata": {},
   "outputs": [],
   "source": [
    "\"\"\"\n",
    "`function expand!(T::Mondrian_Tree_Classifier,X::Array{Float64,N} where N,Y::Array{Int64},λ::Float64)`\n",
    "\n",
    "This function expands an already sampled Mondrian Tree Classifier by a desired number of datapoints. \n",
    "\n",
    "`Input`: Mondrian Tree Classifier T (abstract type Mondrian_Tree_Classifier), array of features X (Array of Float64), array of class labels (1dim of Float 64), Lifetime parameter λ (Float 64)\n",
    "\n",
    "Each row in the array X represents one set of features, the corresponding row in Y represents the class label. \n",
    "\n",
    "`Output`: Mondrian Tree Classifier with incoporated new datapoints\n",
    "\n",
    "`Files needed to run this function`: Mondrian_Forest_Classifier.jl\", \"Mondrian_extention.jl\"\n",
    "\n",
    "This function calls the function Extend_Mondrian_Tree. \n",
    "\"\"\""
   ]
  },
  {
   "cell_type": "markdown",
   "metadata": {},
   "source": [
    "This notebook explains how to extend Mondrian Trees and Mondrian Forests. Using an online algorithm, we can incorporate data points one by one."
   ]
  },
  {
   "cell_type": "markdown",
   "metadata": {},
   "source": [
    "### Functions\n",
    "\n",
    "All functions used in this section can be found in the files \"Mondrian_extention.jl\" and \"Mondrian_extention_utils.jl\". "
   ]
  },
  {
   "cell_type": "code",
   "execution_count": null,
   "metadata": {},
   "outputs": [],
   "source": [
    "?Extend_Mondrian_Tree!"
   ]
  },
  {
   "cell_type": "code",
   "execution_count": null,
   "metadata": {},
   "outputs": [],
   "source": [
    "?Extend_Mondrian_Tree!"
   ]
  },
  {
   "cell_type": "code",
   "execution_count": null,
   "metadata": {},
   "outputs": [],
   "source": [
    "?expand!"
   ]
  },
  {
   "cell_type": "code",
   "execution_count": null,
   "metadata": {},
   "outputs": [],
   "source": [
    "?expand_forest!"
   ]
  },
  {
   "cell_type": "markdown",
   "metadata": {},
   "source": [
    "#### 1) Prepare some data\n",
    "\n",
    "We generate two sets of fakedata (features + classes). We use the first one to train on and the second one to extend on."
   ]
  },
  {
   "cell_type": "code",
   "execution_count": null,
   "metadata": {},
   "outputs": [],
   "source": [
    "function Fakedata3Classif(N,d,N_test=0)\n",
    "    X = randn((N,d))\n",
    "    param1 = randn(d)\n",
    "    param2 = randn(d)\n",
    "    Y = ( sum(X*param1,2) .> mean(sum(X*param2,2)) )\n",
    "    Y=convert(Array{Int},Y)\n",
    "    for i in 1:size(X,1)\n",
    "        if X[i,2] > 1.5\n",
    "            Y[i] = 3\n",
    "        end\n",
    "    end\n",
    "    if (N_test > 0)\n",
    "        x = randn((N_test,d))\n",
    "        y = ( sum(x*param1,2) .> mean(sum(x*param2,2)) )\n",
    "        y=convert(Array{Int},y)\n",
    "        for i in 1:size(x,1)\n",
    "            if x[i,2] > 1.5\n",
    "                y[i] = 3\n",
    "            end\n",
    "        end\n",
    "        return X,Y,x,y\n",
    "    end\n",
    "    return X,Y\n",
    "end"
   ]
  },
  {
   "cell_type": "code",
   "execution_count": null,
   "metadata": {},
   "outputs": [],
   "source": [
    "X, Y, x, y = Fakedata3Classif(1000,2,1000);  #X,Y: train set ; x,y: extention data\n",
    "Y = Y.+1;\n",
    "y = y.+1;"
   ]
  },
  {
   "cell_type": "code",
   "execution_count": null,
   "metadata": {},
   "outputs": [],
   "source": [
    "if size(X,2)==2\n",
    "    plot()\n",
    "    for class in unique(Y)\n",
    "        scatter!(X[Y.==class,1],X[Y.==class,2],label=\"$class\")\n",
    "    end\n",
    "    plot!()\n",
    "end"
   ]
  },
  {
   "cell_type": "markdown",
   "metadata": {},
   "source": [
    "### 1) Extend a single tree\n",
    "\n",
    "To extend a single tree, we can just use the function expand!. We train a Mondrian Tree Classifier on the dataset X,Y and then extend it on the dataset x,y which we created above. We compute the training accuracy of the extended tree. For comparison, we then train a Mondrian Tree Classifier on the merges dataset X,x Y,y (it was then trained on all of the data the extended tree was trained on, without using extentions) and compute the training accuracy as well.  "
   ]
  },
  {
   "cell_type": "code",
   "execution_count": null,
   "metadata": {
    "scrolled": false
   },
   "outputs": [],
   "source": [
    "T = Mondrian_Tree_Classifier()\n",
    "train!(T,X,Y,1e9);  #Sample tree on training dataset"
   ]
  },
  {
   "cell_type": "code",
   "execution_count": null,
   "metadata": {},
   "outputs": [],
   "source": [
    "expand!(T,x,y,1e9);  #Expand the tree on the extention dataset"
   ]
  },
  {
   "cell_type": "code",
   "execution_count": null,
   "metadata": {},
   "outputs": [],
   "source": [
    "#merge training and extention data to get the total data the tree was trained on\n",
    "\n",
    "All_data=vcat(X,x);             \n",
    "all_labels = vcat(Y,y);"
   ]
  },
  {
   "cell_type": "code",
   "execution_count": null,
   "metadata": {},
   "outputs": [],
   "source": [
    "#let the extended tree predict the training data, compute training accuracy\n",
    "predict!(T,All_data);     \n",
    "println(\"Train Accuracy of extended tree\")\n",
    "println(correctrate(all_labels,convert(Array{Int,1},pred)))"
   ]
  },
  {
   "cell_type": "code",
   "execution_count": null,
   "metadata": {},
   "outputs": [],
   "source": [
    "#compute a tree on the merged dataset (classic, no extention)\n",
    "T_full = Mondrian_Tree_Classifier()\n",
    "train!(T_full,All_data,all_labels,1e9);\n",
    "# T_full = Sample_Mondrian_Tree!(T,1e9,All_data,all_labels);  #compute tree of the merged dataset"
   ]
  },
  {
   "cell_type": "code",
   "execution_count": null,
   "metadata": {},
   "outputs": [],
   "source": [
    "#let the extended tree predict the training data, compute training accuracy\n",
    "\n",
    "println(\"Train Accuracy tree trained on whole dataset\")\n",
    "predict!(T_full,All_data)\n",
    "println(correctrate(all_labels,convert(Array{Int,1},pred)))"
   ]
  },
  {
   "cell_type": "code",
   "execution_count": null,
   "metadata": {},
   "outputs": [],
   "source": [
    "# function expand!(T::Mondrian_Tree_Classifier,X::Array{Float64,N} where N,Y::Array{Int64},λ::Float64)    \n",
    "    \n",
    "#     # puts the extention in a nice framework, allows to extend by multiple datapoints\n",
    "    \n",
    "#     for i=1:length(X[:,1])\n",
    "#         T.Tree=Extend_Mondrian_Tree!(T.Tree,λ,X[i,:],Y[i]);\n",
    "#     end\n",
    "#     T.X = vcat(T.X,X)\n",
    "#     T.Y = vcat(T.Y,Y)\n",
    "#     compute_predictive_posterior_distribution!(T.Tree,10*size(X,2))\n",
    "#     return T    \n",
    "# end"
   ]
  },
  {
   "cell_type": "markdown",
   "metadata": {},
   "source": [
    "We see that the training accuracy is the same weather we extend the tree or weather we sample the tree on the whole dataset immediatly. This proves that the extention implementation works."
   ]
  },
  {
   "cell_type": "markdown",
   "metadata": {},
   "source": [
    "### 2) Extend Mondrian Forests\n",
    "\n",
    "Now we extend a Mondrian Forest classifier that was pretrained on the  training same dataset (X,Y) as above. We again extend the classifier and then train a new classifier on the whole datset for comparison."
   ]
  },
  {
   "cell_type": "code",
   "execution_count": null,
   "metadata": {},
   "outputs": [],
   "source": [
    "# function expand_forest!(MF::Mondrian_Forest_Classifier,X_extend, Y_extend,λ)\n",
    "#     X=MF.X\n",
    "#     Y=MF.Y\n",
    "#     if size(X)[2] != size(X_extend)[2]\n",
    "#         println(\"Error - the number of features in the new data doesn't fit the original data\")\n",
    "#     end\n",
    "#     Trees=MF.Trees\n",
    "#     for i=1:MF.n_trees\n",
    "#         T = expand!(Trees[i], X_extend,Y_extend,λ)\n",
    "#         Trees[i]=T\n",
    "#     end\n",
    "#      MF.Trees=Trees\n",
    "#      MF.X=vcat(X,X_extend)\n",
    "#      MF.Y=vcat(Y,Y_extend)\n",
    "    \n",
    "# end"
   ]
  },
  {
   "cell_type": "code",
   "execution_count": null,
   "metadata": {},
   "outputs": [],
   "source": [
    "MF = Mondrian_Forest_Classifier(50)  #initialise Mondrian Forest Classifier with 50 Trees"
   ]
  },
  {
   "cell_type": "code",
   "execution_count": null,
   "metadata": {},
   "outputs": [],
   "source": [
    "train!(MF, X, Y, 1e9);  #Train the classifier on the same dataset as before"
   ]
  },
  {
   "cell_type": "code",
   "execution_count": null,
   "metadata": {},
   "outputs": [],
   "source": [
    "expand_forest!(MF,x,y,1e9);  #expand the forest on the dataset x,y"
   ]
  },
  {
   "cell_type": "code",
   "execution_count": null,
   "metadata": {},
   "outputs": [],
   "source": [
    "MF_control = Mondrian_Forest_Classifier(50)   #initialise control classifier with 50 Trees\n",
    "train!(MF_control, All_data, all_labels, 1e9);  # train control classifier on merged dataset"
   ]
  },
  {
   "cell_type": "code",
   "execution_count": null,
   "metadata": {},
   "outputs": [],
   "source": [
    "#compute train accuracy for extended forest\n",
    "\n",
    "pred=predict!(MF_control, All_data);\n",
    "println(\"Train Accuracy\")\n",
    "println(correctrate(all_labels,convert(Array{Int,1},pred)))"
   ]
  },
  {
   "cell_type": "code",
   "execution_count": null,
   "metadata": {},
   "outputs": [],
   "source": [
    "#compute train accuracy for classic forest\n",
    "\n",
    "pred = predict!(MF,All_data);\n",
    "println(\"Train Accuracy\")\n",
    "println(correctrate(all_labels,convert(Array{Int,1},pred)))"
   ]
  },
  {
   "cell_type": "markdown",
   "metadata": {},
   "source": [
    "#### Some Testing and Benchmarking\n",
    "\n",
    "How fast is the extention? "
   ]
  },
  {
   "cell_type": "code",
   "execution_count": null,
   "metadata": {},
   "outputs": [],
   "source": []
  }
 ],
 "metadata": {
  "kernelspec": {
   "display_name": "Julia 0.6.2",
   "language": "julia",
   "name": "julia-0.6"
  },
  "language_info": {
   "file_extension": ".jl",
   "mimetype": "application/julia",
   "name": "julia",
   "version": "0.6.2"
  }
 },
 "nbformat": 4,
 "nbformat_minor": 2
}
