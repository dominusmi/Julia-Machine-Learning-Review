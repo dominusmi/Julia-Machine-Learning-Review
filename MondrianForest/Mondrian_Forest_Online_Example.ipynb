{
 "cells": [
  {
   "cell_type": "code",
   "execution_count": 1,
   "metadata": {
    "scrolled": true
   },
   "outputs": [
    {
     "data": {
      "text/plain": [
       "Extend_Mondrian_Block! (generic function with 1 method)"
      ]
     },
     "execution_count": 1,
     "metadata": {},
     "output_type": "execute_result"
    }
   ],
   "source": [
    "import Base.copy\n",
    "using Distributions\n",
    "include(\"Mondrian_Forest_Classifier.jl\"); \n",
    "include(\"Mondrian_extention_utils.jl\");\n",
    "include(\"Mondrian_extention.jl\")"
   ]
  },
  {
   "cell_type": "code",
   "execution_count": 2,
   "metadata": {},
   "outputs": [
    {
     "data": {
      "text/plain": [
       "FakedataClassif (generic function with 1 method)"
      ]
     },
     "execution_count": 2,
     "metadata": {},
     "output_type": "execute_result"
    }
   ],
   "source": [
    "function \n",
    "    FakedataClassif(n_obs,d)\n",
    "    x=randn((n_obs,d))\n",
    "    y=(sum(x*randn(d),2) .> mean(sum(x*randn(d),2)))\n",
    "    y=y+1\n",
    "    y=Int.(y)\n",
    "    return x,y\n",
    "end"
   ]
  },
  {
   "cell_type": "code",
   "execution_count": 3,
   "metadata": {},
   "outputs": [
    {
     "data": {
      "text/plain": [
       "([0.976269 -0.88885 … 0.21028 0.038478; 1.19144 0.23194 … 0.677823 0.354119; … ; 0.310332 -0.756372 … 0.469329 0.753217; 0.320461 0.236738 … 1.11474 0.214628], [1, 1, 2, 2, 2, 1, 2, 2, 2, 2  …  2, 1, 1, 2, 2, 2, 1, 1, 1, 2])"
      ]
     },
     "execution_count": 3,
     "metadata": {},
     "output_type": "execute_result"
    }
   ],
   "source": [
    "data = FakedataClassif(50000,100)\n",
    "d_new=FakedataClassif(1000,100)"
   ]
  },
  {
   "cell_type": "code",
   "execution_count": 4,
   "metadata": {},
   "outputs": [
    {
     "data": {
      "text/plain": [
       "Mondrian_Tree(Nullable{Mondrian_Node}(), Mondrian_Node[])"
      ]
     },
     "execution_count": 4,
     "metadata": {},
     "output_type": "execute_result"
    }
   ],
   "source": [
    "T = Mondrian_Tree()"
   ]
  },
  {
   "cell_type": "code",
   "execution_count": 5,
   "metadata": {
    "scrolled": false
   },
   "outputs": [],
   "source": [
    "T_online = Sample_Mondrian_Tree!(T,1e9,data[1],data[2]);  #compute base tree"
   ]
  },
  {
   "cell_type": "code",
   "execution_count": 6,
   "metadata": {},
   "outputs": [],
   "source": [
    "for i=1:length(d_new[2])\n",
    "online_data=[d_new[1][i,:],d_new[2][i]]\n",
    "T_online = Extend_Mondrian_Tree!(T_online,1e9,online_data);  #extent base tree    \n",
    "end    \n"
   ]
  },
  {
   "cell_type": "code",
   "execution_count": 7,
   "metadata": {},
   "outputs": [
    {
     "data": {
      "text/plain": [
       "1000-element Array{Int64,1}:\n",
       " 1\n",
       " 1\n",
       " 2\n",
       " 2\n",
       " 2\n",
       " 1\n",
       " 2\n",
       " 2\n",
       " 2\n",
       " 2\n",
       " 2\n",
       " 2\n",
       " 1\n",
       " ⋮\n",
       " 2\n",
       " 1\n",
       " 2\n",
       " 1\n",
       " 1\n",
       " 2\n",
       " 2\n",
       " 2\n",
       " 1\n",
       " 1\n",
       " 1\n",
       " 2"
      ]
     },
     "execution_count": 7,
     "metadata": {},
     "output_type": "execute_result"
    }
   ],
   "source": [
    "All_data = zeros(length(data[2])+length(d_new[2]),length(data[1][1,:]))\n",
    "All_data[1:length(data[2]),:]=data[1]\n",
    "All_data[length(data[2])+1:length(data[2])+length(d_new[2]),:]=d_new[1]\n",
    "\n",
    "all_labels = Array{Int64}(length(data[2])+length(d_new[2]),1)\n",
    "all_labels[1:length(data[2]),:]=data[2]\n",
    "all_labels[length(data[2])+1:length(data[2])+length(d_new[2]),:]=d_new[2]"
   ]
  },
  {
   "cell_type": "code",
   "execution_count": 8,
   "metadata": {},
   "outputs": [],
   "source": [
    "T_full = Sample_Mondrian_Tree!(T,1e9,All_data,all_labels);  #compute full tree of the whole dataset"
   ]
  },
  {
   "cell_type": "markdown",
   "metadata": {},
   "source": [
    "### Compare prediction accuracy"
   ]
  },
  {
   "cell_type": "code",
   "execution_count": 9,
   "metadata": {},
   "outputs": [],
   "source": [
    "compute_predictive_posterior_distribution!(T_full,10*size(All_data,2))"
   ]
  },
  {
   "cell_type": "code",
   "execution_count": 10,
   "metadata": {},
   "outputs": [],
   "source": [
    "pred = []\n",
    "    for i in 1:size(All_data,1)\n",
    "        p = predict!(T_full,All_data[i,:],10*size(All_data,2))\n",
    "        if p[1] > p[2]\n",
    "            push!(pred,1)\n",
    "        else\n",
    "            push!(pred,2)\n",
    "        end\n",
    "    end\n"
   ]
  },
  {
   "cell_type": "code",
   "execution_count": 11,
   "metadata": {},
   "outputs": [
    {
     "data": {
      "text/plain": [
       "0.5744255744255744"
      ]
     },
     "execution_count": 11,
     "metadata": {},
     "output_type": "execute_result"
    }
   ],
   "source": [
    "counter = 0\n",
    "for i=1:1001\n",
    "    if pred[i]==all_labels[i]\n",
    "        counter = counter+1\n",
    "    end\n",
    "end\n",
    "counter = counter /1001"
   ]
  },
  {
   "cell_type": "code",
   "execution_count": 12,
   "metadata": {},
   "outputs": [],
   "source": [
    "compute_predictive_posterior_distribution!(T_online,10*size(All_data,2))"
   ]
  },
  {
   "cell_type": "code",
   "execution_count": 13,
   "metadata": {},
   "outputs": [],
   "source": [
    " pred = []\n",
    "        for i in 1:size(All_data,1)\n",
    "            p = predict!(T_online,All_data[i,:],10*size(All_data,2))\n",
    "            if p[1] > p[2]\n",
    "                push!(pred,1)\n",
    "            else\n",
    "                push!(pred,2)\n",
    "            end\n",
    "        end"
   ]
  },
  {
   "cell_type": "code",
   "execution_count": 14,
   "metadata": {},
   "outputs": [
    {
     "data": {
      "text/plain": [
       "0.5744255744255744"
      ]
     },
     "execution_count": 14,
     "metadata": {},
     "output_type": "execute_result"
    }
   ],
   "source": [
    "counter = 0\n",
    "for i=1:1001\n",
    "    if pred[i]==all_labels[i]\n",
    "        counter = counter+1\n",
    "    end\n",
    "end\n",
    "counter = counter /1001"
   ]
  },
  {
   "cell_type": "markdown",
   "metadata": {},
   "source": [
    "## Conclusion: get the same accuracy weather we incorperate the datapoint later or immediatly"
   ]
  },
  {
   "cell_type": "markdown",
   "metadata": {},
   "source": [
    "## To Do:\n",
    "\n",
    "Clean up utils files, test on more classes, test on extending to more datapoints successively, implement paused mondrians "
   ]
  }
 ],
 "metadata": {
  "kernelspec": {
   "display_name": "Julia 0.6.2",
   "language": "julia",
   "name": "julia-0.6"
  },
  "language_info": {
   "file_extension": ".jl",
   "mimetype": "application/julia",
   "name": "julia",
   "version": "0.6.2"
  }
 },
 "nbformat": 4,
 "nbformat_minor": 2
}
