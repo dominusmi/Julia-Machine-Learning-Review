{
 "cells": [
  {
   "cell_type": "markdown",
   "metadata": {},
   "source": [
    "## Example for extending Mondrian Trees"
   ]
  },
  {
   "cell_type": "code",
   "execution_count": 1,
   "metadata": {
    "scrolled": true
   },
   "outputs": [
    {
     "data": {
      "text/plain": [
       "expand!"
      ]
     },
     "execution_count": 1,
     "metadata": {},
     "output_type": "execute_result"
    }
   ],
   "source": [
    "import Base.copy\n",
    "using Distributions\n",
    "using MLBase\n",
    "include(\"Mondrian_Forest_Classifier.jl\"); \n",
    "include(\"Mondrian_extention.jl\")"
   ]
  },
  {
   "cell_type": "markdown",
   "metadata": {},
   "source": [
    "This notebook explains how to extend Mondrian Trees and Mondrian Forests. Using an online algorithm, we can incorporate data points one by one."
   ]
  },
  {
   "cell_type": "markdown",
   "metadata": {},
   "source": [
    "### Functions\n",
    "\n",
    "All functions used in this section can be found in the files \"Mondrian_extention.jl\" and \"Mondrian_extention_utils.jl\". "
   ]
  },
  {
   "cell_type": "code",
   "execution_count": 25,
   "metadata": {},
   "outputs": [
    {
     "name": "stdout",
     "output_type": "stream",
     "text": [
      "search:\n",
      "\n"
     ]
    },
    {
     "data": {
      "text/markdown": [
       "`function Extend_Mondrian_Tree!(T::Mondrian_Tree,λ::Float64,X::Array{Float64} where N,Y::Int64)`\n",
       "\n",
       "This function extends an already existing Mondrian Tree by ONE new datapoint that gets incorperated in the tree. \n",
       "\n",
       "`Input`: Mondrian Tree T (abstract type Mondrian_Tree), Lifetime parameter λ (Float64), 1dim Array of Features Array X (Array of Float64), classlabel Y (Int64)\n",
       "\n",
       "`Output`: Mondrian Tree\n",
       "\n",
       "`Files needed to run this function`: \"Mondrian_Forest_Classifier.jl\", \"Mondrian_extention.jl\"\n",
       "\n",
       "This function calls the function Extend_Mondrian_Block.\n",
       "\n",
       "The usage of the function \"expand!\" is recommended to expand Mondrian Trees as it has a nicer user interface.\n"
      ],
      "text/plain": [
       "`function Extend_Mondrian_Tree!(T::Mondrian_Tree,λ::Float64,X::Array{Float64} where N,Y::Int64)`\n",
       "\n",
       "This function extends an already existing Mondrian Tree by ONE new datapoint that gets incorperated in the tree. \n",
       "\n",
       "`Input`: Mondrian Tree T (abstract type Mondrian_Tree), Lifetime parameter λ (Float64), 1dim Array of Features Array X (Array of Float64), classlabel Y (Int64)\n",
       "\n",
       "`Output`: Mondrian Tree\n",
       "\n",
       "`Files needed to run this function`: \"Mondrian_Forest_Classifier.jl\", \"Mondrian_extention.jl\"\n",
       "\n",
       "This function calls the function Extend_Mondrian_Block.\n",
       "\n",
       "The usage of the function \"expand!\" is recommended to expand Mondrian Trees as it has a nicer user interface.\n"
      ]
     },
     "execution_count": 25,
     "metadata": {},
     "output_type": "execute_result"
    }
   ],
   "source": [
    "?Extend_Mondrian_Tree!"
   ]
  },
  {
   "cell_type": "code",
   "execution_count": 26,
   "metadata": {},
   "outputs": [
    {
     "name": "stdout",
     "output_type": "stream",
     "text": [
      "search:\n",
      "\n"
     ]
    },
    {
     "data": {
      "text/markdown": [
       "`function Extend_Mondrian_Tree!(T::Mondrian_Tree,λ::Float64,X::Array{Float64} where N,Y::Int64)`\n",
       "\n",
       "This function extends an already existing Mondrian Tree by ONE new datapoint that gets incorperated in the tree. \n",
       "\n",
       "`Input`: Mondrian Tree T (abstract type Mondrian_Tree), Lifetime parameter λ (Float64), 1dim Array of Features Array X (Array of Float64), classlabel Y (Int64)\n",
       "\n",
       "`Output`: Mondrian Tree\n",
       "\n",
       "`Files needed to run this function`: \"Mondrian_Forest_Classifier.jl\", \"Mondrian_extention.jl\"\n",
       "\n",
       "This function calls the function Extend_Mondrian_Block.\n",
       "\n",
       "The usage of the function \"expand!\" is recommended to expand Mondrian Trees as it has a nicer user interface.\n"
      ],
      "text/plain": [
       "`function Extend_Mondrian_Tree!(T::Mondrian_Tree,λ::Float64,X::Array{Float64} where N,Y::Int64)`\n",
       "\n",
       "This function extends an already existing Mondrian Tree by ONE new datapoint that gets incorperated in the tree. \n",
       "\n",
       "`Input`: Mondrian Tree T (abstract type Mondrian_Tree), Lifetime parameter λ (Float64), 1dim Array of Features Array X (Array of Float64), classlabel Y (Int64)\n",
       "\n",
       "`Output`: Mondrian Tree\n",
       "\n",
       "`Files needed to run this function`: \"Mondrian_Forest_Classifier.jl\", \"Mondrian_extention.jl\"\n",
       "\n",
       "This function calls the function Extend_Mondrian_Block.\n",
       "\n",
       "The usage of the function \"expand!\" is recommended to expand Mondrian Trees as it has a nicer user interface.\n"
      ]
     },
     "execution_count": 26,
     "metadata": {},
     "output_type": "execute_result"
    }
   ],
   "source": [
    "?Extend_Mondrian_Tree!"
   ]
  },
  {
   "cell_type": "code",
   "execution_count": 27,
   "metadata": {},
   "outputs": [
    {
     "name": "stdout",
     "output_type": "stream",
     "text": [
      "search: \u001b[1me\u001b[22m\u001b[1mx\u001b[22m\u001b[1mp\u001b[22m\u001b[1ma\u001b[22m\u001b[1mn\u001b[22m\u001b[1md\u001b[22m \u001b[1me\u001b[22m\u001b[1mx\u001b[22m\u001b[1mp\u001b[22m\u001b[1ma\u001b[22m\u001b[1mn\u001b[22m\u001b[1md\u001b[22muser macro\u001b[1me\u001b[22m\u001b[1mx\u001b[22m\u001b[1mp\u001b[22m\u001b[1ma\u001b[22m\u001b[1mn\u001b[22m\u001b[1md\u001b[22m @macro\u001b[1me\u001b[22m\u001b[1mx\u001b[22m\u001b[1mp\u001b[22m\u001b[1ma\u001b[22m\u001b[1mn\u001b[22m\u001b[1md\u001b[22m\n",
      "\n"
     ]
    },
    {
     "data": {
      "text/markdown": [
       "`function expand!(T::Mondrian_Tree,X::Array{Float64,N} where N,Y::Array{Int64},λ::Float64)`\n",
       "\n",
       "This function expands an already sampled Mondrian Tree by a desired number of datapoints. \n",
       "\n",
       "`Input`: Mondrian Tree T (abstract type Mondrian_Tree), array of features X (Array of Float64), array of class labels (1dim of Float 64), Lifetime parameter λ (Float 64)\n",
       "\n",
       "Each row in the array X represents one set of features, the corresponding row in Y represents the class label. \n",
       "\n",
       "`Output`: Mondrian Tree with incoporated new datapoints\n",
       "\n",
       "`Files needed to run this function`: Mondrian_Forest_Classifier.jl\", \"Mondrian_extention.jl\"\n",
       "\n",
       "This function calls the function Extend_Mondrian_Tree. \n"
      ],
      "text/plain": [
       "`function expand!(T::Mondrian_Tree,X::Array{Float64,N} where N,Y::Array{Int64},λ::Float64)`\n",
       "\n",
       "This function expands an already sampled Mondrian Tree by a desired number of datapoints. \n",
       "\n",
       "`Input`: Mondrian Tree T (abstract type Mondrian_Tree), array of features X (Array of Float64), array of class labels (1dim of Float 64), Lifetime parameter λ (Float 64)\n",
       "\n",
       "Each row in the array X represents one set of features, the corresponding row in Y represents the class label. \n",
       "\n",
       "`Output`: Mondrian Tree with incoporated new datapoints\n",
       "\n",
       "`Files needed to run this function`: Mondrian_Forest_Classifier.jl\", \"Mondrian_extention.jl\"\n",
       "\n",
       "This function calls the function Extend_Mondrian_Tree. \n"
      ]
     },
     "execution_count": 27,
     "metadata": {},
     "output_type": "execute_result"
    }
   ],
   "source": [
    "?expand!"
   ]
  },
  {
   "cell_type": "markdown",
   "metadata": {},
   "source": [
    "### 1) Extend a single tree\n",
    "\n",
    "We generate two sets of fakedata and sample the forest on the first one. Then we extend the forest on the second one and compute the training accuracy. For comparison, we then train a Mondrian Tree on the merged datasets and evaluate the training accuracy for this one as well."
   ]
  },
  {
   "cell_type": "code",
   "execution_count": 2,
   "metadata": {},
   "outputs": [
    {
     "data": {
      "text/plain": [
       "FakedataClassif (generic function with 2 methods)"
      ]
     },
     "execution_count": 2,
     "metadata": {},
     "output_type": "execute_result"
    }
   ],
   "source": [
    "# generate fake data\n",
    "function \n",
    "    FakedataClassif(n_obs,d)\n",
    "    x=randn((n_obs,d))\n",
    "    y=(sum(x*randn(d),2) .> mean(sum(x*randn(d),2)))\n",
    "    y=y+1\n",
    "    y=Int.(y)\n",
    "    return x,y\n",
    "end"
   ]
  },
  {
   "cell_type": "code",
   "execution_count": 3,
   "metadata": {
    "scrolled": true
   },
   "outputs": [],
   "source": [
    "data = FakedataClassif(10000,100)  #base dataset\n",
    "d_new=FakedataClassif(1000,100);   #extention dataset"
   ]
  },
  {
   "cell_type": "code",
   "execution_count": 4,
   "metadata": {
    "scrolled": false
   },
   "outputs": [],
   "source": [
    "T = Mondrian_Tree()\n",
    "T_online = Sample_Mondrian_Tree!(T,1e9,data[1],data[2]);  #Sample tree on dataset \"data\""
   ]
  },
  {
   "cell_type": "code",
   "execution_count": 5,
   "metadata": {},
   "outputs": [],
   "source": [
    "T_online=expand!(T_online,d_new[1],d_new[2],1e9);  #Expand the tree on the extention dataset"
   ]
  },
  {
   "cell_type": "code",
   "execution_count": 5,
   "metadata": {},
   "outputs": [],
   "source": [
    "All_data=vcat(data[1],d_new[1]);\n",
    "all_labels = vcat(data[2],d_new[2]);"
   ]
  },
  {
   "cell_type": "code",
   "execution_count": 8,
   "metadata": {},
   "outputs": [],
   "source": [
    "T_full = Sample_Mondrian_Tree!(T,1e9,All_data,all_labels);  #compute tree of the merged dataset"
   ]
  },
  {
   "cell_type": "code",
   "execution_count": 9,
   "metadata": {},
   "outputs": [],
   "source": [
    "compute_predictive_posterior_distribution!(T_full,10*size(All_data,2))"
   ]
  },
  {
   "cell_type": "code",
   "execution_count": 10,
   "metadata": {},
   "outputs": [],
   "source": [
    "pred = []\n",
    "    for i in 1:size(All_data,1)\n",
    "        p = predict!(T_full,All_data[i,:],10*size(All_data,2))\n",
    "        if p[1] > p[2]\n",
    "            push!(pred,1)\n",
    "        else\n",
    "            push!(pred,2)\n",
    "        end\n",
    "    end\n"
   ]
  },
  {
   "cell_type": "code",
   "execution_count": 11,
   "metadata": {},
   "outputs": [
    {
     "data": {
      "text/plain": [
       "0.5629090909090909"
      ]
     },
     "execution_count": 11,
     "metadata": {},
     "output_type": "execute_result"
    }
   ],
   "source": [
    "counter = 0\n",
    "for i=1:size(pred)[1]\n",
    "    if pred[i]==all_labels[i]\n",
    "        counter = counter+1\n",
    "    end\n",
    "end\n",
    "counter = counter /size(pred)[1]"
   ]
  },
  {
   "cell_type": "code",
   "execution_count": 12,
   "metadata": {},
   "outputs": [],
   "source": [
    "compute_predictive_posterior_distribution!(T_online,10*size(All_data,2))"
   ]
  },
  {
   "cell_type": "code",
   "execution_count": 13,
   "metadata": {},
   "outputs": [],
   "source": [
    " pred = []\n",
    "        for i in 1:size(All_data,1)\n",
    "            p = predict!(T_online,All_data[i,:],10*size(All_data,2))\n",
    "            if p[1] > p[2]\n",
    "                push!(pred,1)\n",
    "            else\n",
    "                push!(pred,2)\n",
    "            end\n",
    "        end"
   ]
  },
  {
   "cell_type": "code",
   "execution_count": 14,
   "metadata": {},
   "outputs": [
    {
     "data": {
      "text/plain": [
       "0.5629090909090909"
      ]
     },
     "execution_count": 14,
     "metadata": {},
     "output_type": "execute_result"
    }
   ],
   "source": [
    "counter = 0\n",
    "for i=1:size(pred)[1]\n",
    "    if pred[i]==all_labels[i]\n",
    "        counter = counter+1\n",
    "    end\n",
    "end\n",
    "counter = counter /size(pred)[1]"
   ]
  },
  {
   "cell_type": "markdown",
   "metadata": {},
   "source": [
    "### 2) Extend Mondrian Forests\n",
    "\n",
    "Now we extend a Mondrian Forest classifier that was pretrained on the same dataset as above. We again extend the classifier and then train a new classifier on the whole datset for comparison."
   ]
  },
  {
   "cell_type": "code",
   "execution_count": 15,
   "metadata": {},
   "outputs": [
    {
     "data": {
      "text/plain": [
       "Extend_Mondrian_Forest_Classifier (generic function with 1 method)"
      ]
     },
     "execution_count": 15,
     "metadata": {},
     "output_type": "execute_result"
    }
   ],
   "source": [
    "function Extend_Mondrian_Forest_Classifier(MF,X_extend, Y_extend,λ)\n",
    "#     X=MF.X\n",
    "#     if size(X)[2] != size(X_extend)[2]\n",
    "#         println(\"Error - the number of features in the new data doesn't fit the original data\")\n",
    "#     end\n",
    "    Trees = MF.Trees\n",
    "    for i=1:MF.n_trees\n",
    "        T = expand!(Trees[i], X_extend,Y_extend,λ)\n",
    "        Trees[i]=T\n",
    "    end\n",
    "    MF.Trees=Trees\n",
    "    return MF\n",
    "end"
   ]
  },
  {
   "cell_type": "code",
   "execution_count": 19,
   "metadata": {},
   "outputs": [
    {
     "data": {
      "text/plain": [
       "Mondrian_Forest_Classifier(50, Mondrian_Tree[], Array{Float64}(0,0), Int64[])"
      ]
     },
     "execution_count": 19,
     "metadata": {},
     "output_type": "execute_result"
    }
   ],
   "source": [
    "MF = Mondrian_Forest_Classifier(50)  #initialise Mondrian Forest Classifier with 100 Trees"
   ]
  },
  {
   "cell_type": "code",
   "execution_count": null,
   "metadata": {},
   "outputs": [],
   "source": [
    "train!(MF, data[1], data[2], 1e9);  #Train the classifier on the same dataset as before"
   ]
  },
  {
   "cell_type": "code",
   "execution_count": 20,
   "metadata": {
    "scrolled": true
   },
   "outputs": [
    {
     "ename": "LoadError",
     "evalue": "\u001b[91mMethodError: no method matching get(::Array{Int64,1})\u001b[0m\nClosest candidates are:\n  get(::AbstractArray, \u001b[91m::Integer\u001b[39m, \u001b[91m::Any\u001b[39m) at abstractarray.jl:1010\n  get(::AbstractArray, \u001b[91m::Tuple{}\u001b[39m, \u001b[91m::Any\u001b[39m) at abstractarray.jl:1011\n  get(::AbstractArray, \u001b[91m::Tuple{Vararg{Int64,N}} where N\u001b[39m, \u001b[91m::Any\u001b[39m) at abstractarray.jl:1012\n  ...\u001b[39m",
     "output_type": "error",
     "traceback": [
      "\u001b[91mMethodError: no method matching get(::Array{Int64,1})\u001b[0m\nClosest candidates are:\n  get(::AbstractArray, \u001b[91m::Integer\u001b[39m, \u001b[91m::Any\u001b[39m) at abstractarray.jl:1010\n  get(::AbstractArray, \u001b[91m::Tuple{}\u001b[39m, \u001b[91m::Any\u001b[39m) at abstractarray.jl:1011\n  get(::AbstractArray, \u001b[91m::Tuple{Vararg{Int64,N}} where N\u001b[39m, \u001b[91m::Any\u001b[39m) at abstractarray.jl:1012\n  ...\u001b[39m",
      "",
      "Stacktrace:",
      " [1] \u001b[1mExtend_Mondrian_Block!\u001b[22m\u001b[22m\u001b[1m(\u001b[22m\u001b[22m::Mondrian_Tree, ::Float64, ::Mondrian_Node, ::Array{Float64,1}, ::Int64\u001b[1m)\u001b[22m\u001b[22m at \u001b[1m/home/annika/RSG Julia/warwick-rsg/MondrianForest/Mondrian_extention.jl:67\u001b[22m\u001b[22m",
      " [2] \u001b[1mExtend_Mondrian_Tree!\u001b[22m\u001b[22m\u001b[1m(\u001b[22m\u001b[22m::Mondrian_Tree, ::Float64, ::Array{Float64,1}, ::Int64\u001b[1m)\u001b[22m\u001b[22m at \u001b[1m/home/annika/RSG Julia/warwick-rsg/MondrianForest/Mondrian_extention.jl:21\u001b[22m\u001b[22m",
      " [3] \u001b[1mexpand!\u001b[22m\u001b[22m\u001b[1m(\u001b[22m\u001b[22m::Mondrian_Tree, ::Array{Float64,2}, ::Array{Int64,1}, ::Float64\u001b[1m)\u001b[22m\u001b[22m at \u001b[1m/home/annika/RSG Julia/warwick-rsg/MondrianForest/Mondrian_extention.jl:152\u001b[22m\u001b[22m",
      " [4] \u001b[1mExtend_Mondrian_Forest_Classifier\u001b[22m\u001b[22m\u001b[1m(\u001b[22m\u001b[22m::Mondrian_Forest_Classifier, ::Array{Float64,2}, ::Array{Int64,1}, ::Float64\u001b[1m)\u001b[22m\u001b[22m at \u001b[1m./In[16]:8\u001b[22m\u001b[22m",
      " [5] \u001b[1minclude_string\u001b[22m\u001b[22m\u001b[1m(\u001b[22m\u001b[22m::String, ::String\u001b[1m)\u001b[22m\u001b[22m at \u001b[1m./loading.jl:522\u001b[22m\u001b[22m"
     ]
    }
   ],
   "source": [
    "MF_ex = Extend_Mondrian_Forest_Classifier(MF,d_new[1],d_new[2],1e9);  #extend the classifier"
   ]
  },
  {
   "cell_type": "code",
   "execution_count": 6,
   "metadata": {},
   "outputs": [
    {
     "data": {
      "text/plain": [
       "1-element Array{Future,1}:\n",
       " Future(1, 1, 1, #NULL)"
      ]
     },
     "execution_count": 6,
     "metadata": {},
     "output_type": "execute_result"
    }
   ],
   "source": [
    "MF_control = Mondrian_Forest_Classifier(50)   #initialise control classifier with 100 Trees\n",
    "train!(MF_control, All_data, all_labels, 1e9)  # train control classifier"
   ]
  },
  {
   "cell_type": "code",
   "execution_count": 7,
   "metadata": {},
   "outputs": [
    {
     "name": "stdout",
     "output_type": "stream",
     "text": [
      "Train Accuracy\n",
      "0.7377272727272727\n"
     ]
    }
   ],
   "source": [
    "pred=predict!(MF_control, All_data);\n",
    "println(\"Train Accuracy\")\n",
    "println(correctrate(all_labels,convert(Array{Int,1},pred)))"
   ]
  },
  {
   "cell_type": "markdown",
   "metadata": {},
   "source": [
    "## To Do:\n",
    "\n",
    " test on more classes, implement paused mondrians, finish setting up the framework "
   ]
  }
 ],
 "metadata": {
  "kernelspec": {
   "display_name": "Julia 0.6.2",
   "language": "julia",
   "name": "julia-0.6"
  },
  "language_info": {
   "file_extension": ".jl",
   "mimetype": "application/julia",
   "name": "julia",
   "version": "0.6.2"
  }
 },
 "nbformat": 4,
 "nbformat_minor": 2
}
