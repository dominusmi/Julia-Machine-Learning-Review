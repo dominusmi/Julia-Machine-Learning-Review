{
 "cells": [
  {
   "cell_type": "code",
   "execution_count": 1,
   "metadata": {
    "scrolled": true
   },
   "outputs": [
    {
     "data": {
      "text/plain": [
       "Extend_Mondrian_Block! (generic function with 1 method)"
      ]
     },
     "execution_count": 1,
     "metadata": {},
     "output_type": "execute_result"
    }
   ],
   "source": [
    "import Base.copy\n",
    "using Distributions\n",
    "include(\"Mondrian_Forest_Classifier.jl\"); \n",
    "include(\"Mondrian_extention_utils.jl\");\n",
    "include(\"Mondrian_extention.jl\")"
   ]
  },
  {
   "cell_type": "code",
   "execution_count": 2,
   "metadata": {},
   "outputs": [],
   "source": [
    "using MLBase\n",
    "function Fakedata(n,dim) \n",
    "    x = randn(n,dim)\n",
    "    y = (sum(exp.(x)/(1+exp.(x)),2)).>0.5\n",
    "    return 1.0*x,1*y[:,1]\n",
    "end\n",
    "\n",
    "d=5\n",
    "n=1000\n",
    "X, Y = Fakedata(n,d);\n",
    "Y = Y.+1;\n",
    "\n",
    "n=1\n",
    "x,y = Fakedata(n,d)\n",
    "y = y.+1;"
   ]
  },
  {
   "cell_type": "code",
   "execution_count": 3,
   "metadata": {},
   "outputs": [
    {
     "data": {
      "text/plain": [
       "Mondrian_Tree(Nullable{Mondrian_Node}(), Mondrian_Node[])"
      ]
     },
     "execution_count": 3,
     "metadata": {},
     "output_type": "execute_result"
    }
   ],
   "source": [
    "D=[X,Y]\n",
    "d_new = [x,y] \n",
    "T = Mondrian_Tree()"
   ]
  },
  {
   "cell_type": "code",
   "execution_count": 4,
   "metadata": {
    "scrolled": false
   },
   "outputs": [],
   "source": [
    "T_classic = Sample_Mondrian_Tree!(T,1e9,D[1],D[2]);  #compute base tree"
   ]
  },
  {
   "cell_type": "code",
   "execution_count": 5,
   "metadata": {},
   "outputs": [],
   "source": [
    "T_online = Extend_Mondrian_Tree!(T_classic,1e9,d_new);  #extent base tree\n",
    "\n",
    "### Problem: The Mondrian_Tree function does not return, tree can therefore not be used for extension!!"
   ]
  },
  {
   "cell_type": "code",
   "execution_count": 6,
   "metadata": {},
   "outputs": [
    {
     "data": {
      "text/plain": [
       "1"
      ]
     },
     "execution_count": 6,
     "metadata": {},
     "output_type": "execute_result"
    }
   ],
   "source": [
    "# create new dataset including previous training data + new datapoint\n",
    "All_data = zeros(1001,5)\n",
    "All_data[1:1000,1:5]=X[1:1000,1:5]\n",
    "All_data[1001,1:5]=x[1,1:5]\n",
    "\n",
    "all_labels = Array{Int64}(1001,1)\n",
    "all_labels[1:1000,:]=Y\n",
    "all_labels[1001,:]=y[1,1]"
   ]
  },
  {
   "cell_type": "code",
   "execution_count": 7,
   "metadata": {},
   "outputs": [],
   "source": [
    "T_full = Sample_Mondrian_Tree!(T,1e9,All_data,all_labels);  #compute full tree of the whole dataset"
   ]
  },
  {
   "cell_type": "markdown",
   "metadata": {},
   "source": [
    "### Compare prediction accuracy"
   ]
  },
  {
   "cell_type": "code",
   "execution_count": 8,
   "metadata": {},
   "outputs": [],
   "source": [
    "compute_predictive_posterior_distribution!(T_full,10*size(All_data,2))"
   ]
  },
  {
   "cell_type": "code",
   "execution_count": 9,
   "metadata": {},
   "outputs": [],
   "source": [
    "pred = []\n",
    "    for i in 1:size(All_data,1)\n",
    "        p = predict!(T_full,All_data[i,:],10*size(All_data,2))\n",
    "        if p[1] > p[2]\n",
    "            push!(pred,1)\n",
    "        else\n",
    "            push!(pred,2)\n",
    "        end\n",
    "    end\n"
   ]
  },
  {
   "cell_type": "code",
   "execution_count": 10,
   "metadata": {},
   "outputs": [
    {
     "data": {
      "text/plain": [
       "0.5584415584415584"
      ]
     },
     "execution_count": 10,
     "metadata": {},
     "output_type": "execute_result"
    }
   ],
   "source": [
    "counter = 0\n",
    "for i=1:1001\n",
    "    if pred[i]==all_labels[i]\n",
    "        counter = counter+1\n",
    "    end\n",
    "end\n",
    "counter = counter /1001"
   ]
  },
  {
   "cell_type": "code",
   "execution_count": 11,
   "metadata": {},
   "outputs": [],
   "source": [
    "compute_predictive_posterior_distribution!(T_online,10*size(All_data,2))"
   ]
  },
  {
   "cell_type": "code",
   "execution_count": 12,
   "metadata": {},
   "outputs": [],
   "source": [
    " pred = []\n",
    "        for i in 1:size(All_data,1)\n",
    "            p = predict!(T_online,All_data[i,:],10*size(All_data,2))\n",
    "            if p[1] > p[2]\n",
    "                push!(pred,1)\n",
    "            else\n",
    "                push!(pred,2)\n",
    "            end\n",
    "        end"
   ]
  },
  {
   "cell_type": "code",
   "execution_count": 13,
   "metadata": {},
   "outputs": [
    {
     "data": {
      "text/plain": [
       "0.5584415584415584"
      ]
     },
     "execution_count": 13,
     "metadata": {},
     "output_type": "execute_result"
    }
   ],
   "source": [
    "counter = 0\n",
    "for i=1:1001\n",
    "    if pred[i]==all_labels[i]\n",
    "        counter = counter+1\n",
    "    end\n",
    "end\n",
    "counter = counter /1001"
   ]
  },
  {
   "cell_type": "markdown",
   "metadata": {},
   "source": [
    "## Conclusion: get the same accuracy weather we incorperate the datapoint later or immediatly"
   ]
  },
  {
   "cell_type": "markdown",
   "metadata": {},
   "source": [
    "## To Do:\n",
    "\n",
    "Clean up utils files, test on more classes, test on extending to more datapoints successively, implement paused mondrians "
   ]
  }
 ],
 "metadata": {
  "kernelspec": {
   "display_name": "Julia 0.6.2",
   "language": "julia",
   "name": "julia-0.6"
  },
  "language_info": {
   "file_extension": ".jl",
   "mimetype": "application/julia",
   "name": "julia",
   "version": "0.6.2"
  }
 },
 "nbformat": 4,
 "nbformat_minor": 2
}
