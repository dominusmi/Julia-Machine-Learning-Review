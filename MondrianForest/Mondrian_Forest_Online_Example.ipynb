{
 "cells": [
  {
   "cell_type": "code",
   "execution_count": 1,
   "metadata": {
    "scrolled": true
   },
   "outputs": [
    {
     "data": {
      "text/plain": [
       "expand!"
      ]
     },
     "execution_count": 1,
     "metadata": {},
     "output_type": "execute_result"
    }
   ],
   "source": [
    "import Base.copy\n",
    "using Distributions\n",
    "include(\"Mondrian_Forest_Classifier.jl\"); \n",
    "include(\"Mondrian_extention.jl\")"
   ]
  },
  {
   "cell_type": "code",
   "execution_count": 2,
   "metadata": {},
   "outputs": [
    {
     "data": {
      "text/plain": [
       "FakedataClassif (generic function with 2 methods)"
      ]
     },
     "execution_count": 2,
     "metadata": {},
     "output_type": "execute_result"
    }
   ],
   "source": [
    "function \n",
    "    FakedataClassif(n_obs,d)\n",
    "    x=randn((n_obs,d))\n",
    "    y=(sum(x*randn(d),2) .> mean(sum(x*randn(d),2)))\n",
    "    y=y+1\n",
    "    y=Int.(y)\n",
    "    return x,y\n",
    "end"
   ]
  },
  {
   "cell_type": "code",
   "execution_count": 3,
   "metadata": {
    "scrolled": true
   },
   "outputs": [
    {
     "data": {
      "text/plain": [
       "([0.152564 -1.14849 … -0.849731 0.603876; 0.0502868 0.0862814 … -1.13152 0.647914; … ; 1.34466 -0.366733 … 0.263148 -2.95667; -0.316246 -0.971352 … 0.992023 -0.581751], [2, 2, 2, 1, 2, 1, 1, 2, 2, 2  …  2, 2, 2, 1, 1, 1, 2, 2, 2, 1])"
      ]
     },
     "execution_count": 3,
     "metadata": {},
     "output_type": "execute_result"
    }
   ],
   "source": [
    "data = FakedataClassif(50000,100)\n",
    "d_new=FakedataClassif(1000,100)"
   ]
  },
  {
   "cell_type": "code",
   "execution_count": 4,
   "metadata": {},
   "outputs": [
    {
     "data": {
      "text/plain": [
       "Mondrian_Tree(Nullable{Mondrian_Node}(), Mondrian_Node[])"
      ]
     },
     "execution_count": 4,
     "metadata": {},
     "output_type": "execute_result"
    }
   ],
   "source": [
    "T = Mondrian_Tree()"
   ]
  },
  {
   "cell_type": "code",
   "execution_count": 5,
   "metadata": {
    "scrolled": false
   },
   "outputs": [],
   "source": [
    "T_online = Sample_Mondrian_Tree!(T,1e9,data[1],data[2]);  #compute base tree"
   ]
  },
  {
   "cell_type": "code",
   "execution_count": 6,
   "metadata": {},
   "outputs": [],
   "source": [
    "T_online=expand!(T_online,d_new[1],d_new[2],1e9);"
   ]
  },
  {
   "cell_type": "code",
   "execution_count": 7,
   "metadata": {},
   "outputs": [],
   "source": [
    "All_data = zeros(length(data[2])+length(d_new[2]),length(data[1][1,:]))\n",
    "All_data[1:length(data[2]),:]=data[1]\n",
    "All_data[length(data[2])+1:length(data[2])+length(d_new[2]),:]=d_new[1]\n",
    "\n",
    "all_labels = Array{Int64}(length(data[2])+length(d_new[2]),1)\n",
    "all_labels[1:length(data[2]),:]=data[2]\n",
    "all_labels[length(data[2])+1:length(data[2])+length(d_new[2]),:]=d_new[2];"
   ]
  },
  {
   "cell_type": "code",
   "execution_count": 8,
   "metadata": {},
   "outputs": [],
   "source": [
    "T_full = Sample_Mondrian_Tree!(T,1e9,All_data,all_labels);  #compute full tree of the whole dataset"
   ]
  },
  {
   "cell_type": "markdown",
   "metadata": {},
   "source": [
    "### Compare prediction accuracy"
   ]
  },
  {
   "cell_type": "code",
   "execution_count": 9,
   "metadata": {},
   "outputs": [],
   "source": [
    "compute_predictive_posterior_distribution!(T_full,10*size(All_data,2))"
   ]
  },
  {
   "cell_type": "code",
   "execution_count": 10,
   "metadata": {},
   "outputs": [],
   "source": [
    "pred = []\n",
    "    for i in 1:size(All_data,1)\n",
    "        p = predict!(T_full,All_data[i,:],10*size(All_data,2))\n",
    "        if p[1] > p[2]\n",
    "            push!(pred,1)\n",
    "        else\n",
    "            push!(pred,2)\n",
    "        end\n",
    "    end\n"
   ]
  },
  {
   "cell_type": "code",
   "execution_count": 11,
   "metadata": {},
   "outputs": [
    {
     "data": {
      "text/plain": [
       "0.5024705882352941"
      ]
     },
     "execution_count": 11,
     "metadata": {},
     "output_type": "execute_result"
    }
   ],
   "source": [
    "counter = 0\n",
    "for i=1:size(pred)[1]\n",
    "    if pred[i]==all_labels[i]\n",
    "        counter = counter+1\n",
    "    end\n",
    "end\n",
    "counter = counter /size(pred)[1]"
   ]
  },
  {
   "cell_type": "code",
   "execution_count": 12,
   "metadata": {},
   "outputs": [],
   "source": [
    "compute_predictive_posterior_distribution!(T_online,10*size(All_data,2))"
   ]
  },
  {
   "cell_type": "code",
   "execution_count": 13,
   "metadata": {},
   "outputs": [],
   "source": [
    " pred = []\n",
    "        for i in 1:size(All_data,1)\n",
    "            p = predict!(T_online,All_data[i,:],10*size(All_data,2))\n",
    "            if p[1] > p[2]\n",
    "                push!(pred,1)\n",
    "            else\n",
    "                push!(pred,2)\n",
    "            end\n",
    "        end"
   ]
  },
  {
   "cell_type": "code",
   "execution_count": 14,
   "metadata": {},
   "outputs": [
    {
     "data": {
      "text/plain": [
       "0.5024705882352941"
      ]
     },
     "execution_count": 14,
     "metadata": {},
     "output_type": "execute_result"
    }
   ],
   "source": [
    "counter = 0\n",
    "for i=1:size(pred)[1]\n",
    "    if pred[i]==all_labels[i]\n",
    "        counter = counter+1\n",
    "    end\n",
    "end\n",
    "counter = counter /size(pred)[1]"
   ]
  },
  {
   "cell_type": "markdown",
   "metadata": {},
   "source": [
    "## Add Docs"
   ]
  },
  {
   "cell_type": "code",
   "execution_count": 22,
   "metadata": {},
   "outputs": [
    {
     "data": {
      "text/plain": [
       "update_intervals"
      ]
     },
     "execution_count": 22,
     "metadata": {},
     "output_type": "execute_result"
    }
   ],
   "source": [
    "# #Utils for extending Mondrian Trees \n",
    "\n",
    "# \"\"\"\n",
    "# `function Extended_dimension(Θ::Axis_Aligned_Box,X::Array{Float64})`\n",
    "\n",
    "# This function samples the rate ∑ᵢ₌₁ᴰmax(lⱼ-x,0)+max(x-uⱼ,0) with which we draw the parameter E from the exponential distribution in the function Extend_Mondrian_Block!. \n",
    "\n",
    "# `Input`:  Axis Aligned Box Θ (Abstract type Axis_Aligned_Box), One dimensional array of features X (Array of Float64)\n",
    "\n",
    "# `Output`: Sampling rate s\n",
    "\n",
    "# `Files needed to run this function`: \"Mondrian_extention.jl\"\n",
    "\n",
    "# This function is one of the utility functions to run \"Extend_Mondrian_Block!\".\n",
    "\n",
    "\n",
    "# \"\"\"\n",
    "\n",
    "# function Extended_dimension(Θ::Axis_Aligned_Box,X::Array{Float64}) \n",
    "#     # rate = ∑ᵢ₌₁ᴰmax(lⱼ-x,0)+max(x-uⱼ,0)\n",
    "    \n",
    "#     s = 0\n",
    "#     for i in 1:Θ.D\n",
    "#         s += max(Θ.Intervals[i,1]-X[i],0)+max(X[i]-Θ.Intervals[i,2],0)  #compute the rate\n",
    "#     end\n",
    "#     return s\n",
    "# end\n",
    "\n",
    "# \"\"\"\n",
    "# `function sample_extended_split_dimension(Θ::Axis_Aligned_Box,X::Array{Float64})`\n",
    "\n",
    "# This function samples the split dimension and direction associated to the new node j_wave in the function \"Extend_Mondrian_Block!\"\n",
    "\n",
    "# `Input`: Axis Aligned Box Θ (abstract type Axis_Aligned_Box), One dimensional array of features X (Array of Float64)\n",
    "\n",
    "# `Output`: Split dimension d, split direction s\n",
    "\n",
    "# `Files needed to run this function`: \"Mondrian_extention.jl\"\n",
    "\n",
    "# This function is one of the utility functions to run \"Extend_Mondrian_Block!\".\n",
    "# \"\"\"\n",
    "\n",
    "# function sample_extended_split_dimension(Θ::Axis_Aligned_Box,X::Array{Float64}) \n",
    "#     p_k = zeros(Θ.D)\n",
    "#     for i in 1:Θ.D\n",
    "#         p_k[i] = max(Θ.Intervals[i,1]-X[i],0)+max(X[i]-Θ.Intervals[i,2],0)  #compute max(lⱼ-x,0)+max(x-uⱼ,0)\n",
    "#     end\n",
    "#     p_k = p_k ./ Extended_dimension(Θ,X)                                #create the probability array\n",
    "#     d = rand(Categorical(p_k))                                          # sample from it (d with probability proportional to max(lⱼ-x,0)+max(x-uⱼ,0) )\n",
    "\n",
    "#     if X[d] > Θ.Intervals[d,2]  # choice of interval dependent on where the new datapoint is                                    \n",
    "#     x = rand(Uniform(Θ.Intervals[d,2][1],X[d]))  #sample the split loc. uniformly from that interval\n",
    "#     else\n",
    "#     x = rand(Uniform(X[d],Θ.Intervals[d,1][1])) #sample the split loc. uniformly from that interval\n",
    "#     end\n",
    "#     return d,x   #return split dim., split loc. \n",
    "# end\n",
    "\n",
    "# \"\"\"\n",
    "# `function update_intervals(Θ::Axis_Aligned_Box,X::Array{Float64})`\n",
    "\n",
    "# This function computes the boxes associated to the new node j_wave. \n",
    "\n",
    "# `Input`: Axis Aligned Box Θ (abstract type Axis_Aligned_Box), One dimensional array of features X (Array of Float64)\n",
    "\n",
    "# `Output`: Axis Aligned Box Θ (updated Intervals)\n",
    "\n",
    "# `Files needed to run this function`: \"Mondrian_extention.jl\"\n",
    "\n",
    "# This function is one of the utility functions to run \"Extend_Mondrian_Block!\".\n",
    "\n",
    "# \"\"\"\n",
    "# function update_intervals(Θ::Axis_Aligned_Box,X::Array{Float64})\n",
    "#     Intervals = Θ.Intervals                         # extract the intervals from Θ\n",
    "#    for i=1:length(Θ.Intervals[:,1])                 # update the intervals successively \n",
    "#        l=min(Intervals[i,1],X[i])\n",
    "#        u=max(Intervals[i,2],X[i])\n",
    "#        Intervals[i,:]=[l,u]\n",
    "#     end\n",
    "#     Θ = Axis_Aligned_Box(Intervals,Θ.D)             # return updated intervals\n",
    "#     return Θ\n",
    "# end"
   ]
  },
  {
   "cell_type": "code",
   "execution_count": 23,
   "metadata": {},
   "outputs": [
    {
     "name": "stdout",
     "output_type": "stream",
     "text": [
      "search:\n",
      "\n"
     ]
    },
    {
     "data": {
      "text/markdown": [
       "`function update_intervals(Θ::Axis_Aligned_Box,X::Array{Float64})`\n",
       "\n",
       "This function computes the boxes associated to the new node j_wave. \n",
       "\n",
       "`Input`: Axis Aligned Box Θ (abstract type Axis_Aligned_Box), One dimensional array of features X (Array of Float64)\n",
       "\n",
       "`Output`: Axis Aligned Box Θ (updated Intervals)\n",
       "\n",
       "`Files needed to run this function`: \"Mondrian_extention.jl\"\n",
       "\n",
       "This function is one of the utility functions to run \"Extend_Mondrian_Block!\".\n"
      ],
      "text/plain": [
       "`function update_intervals(Θ::Axis_Aligned_Box,X::Array{Float64})`\n",
       "\n",
       "This function computes the boxes associated to the new node j_wave. \n",
       "\n",
       "`Input`: Axis Aligned Box Θ (abstract type Axis_Aligned_Box), One dimensional array of features X (Array of Float64)\n",
       "\n",
       "`Output`: Axis Aligned Box Θ (updated Intervals)\n",
       "\n",
       "`Files needed to run this function`: \"Mondrian_extention.jl\"\n",
       "\n",
       "This function is one of the utility functions to run \"Extend_Mondrian_Block!\".\n"
      ]
     },
     "execution_count": 23,
     "metadata": {},
     "output_type": "execute_result"
    }
   ],
   "source": [
    "?update_intervals"
   ]
  },
  {
   "cell_type": "markdown",
   "metadata": {},
   "source": [
    "## To Do:\n",
    "\n",
    "Clean up utils files, test on more classes, implement paused mondrians "
   ]
  }
 ],
 "metadata": {
  "kernelspec": {
   "display_name": "Julia 0.6.2",
   "language": "julia",
   "name": "julia-0.6"
  },
  "language_info": {
   "file_extension": ".jl",
   "mimetype": "application/julia",
   "name": "julia",
   "version": "0.6.2"
  }
 },
 "nbformat": 4,
 "nbformat_minor": 2
}
