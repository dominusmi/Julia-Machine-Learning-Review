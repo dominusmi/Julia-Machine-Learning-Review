{
 "cells": [
  {
   "cell_type": "code",
   "execution_count": 1,
   "metadata": {},
   "outputs": [
    {
     "name": "stderr",
     "output_type": "stream",
     "text": [
      "\n",
      "WARNING: deprecated syntax \"abstract AvgMode\" at /home/harvey/bin/JuliaPro-0.6.2.2/JuliaPro/pkgs-0.6.2.2/v0.6/MLMetrics/src/averagemode.jl:10.\n",
      "Use \"abstract type AvgMode end\" instead.\n",
      "\n",
      "WARNING: deprecated syntax \"abstract AbstractBinary\" at /home/harvey/bin/JuliaPro-0.6.2.2/JuliaPro/pkgs-0.6.2.2/v0.6/MLMetrics/src/classification/comparemode.jl:17.\n",
      "Use \"abstract type AbstractBinary end\" instead.\n",
      "\n",
      "WARNING: deprecated syntax \"abstract AbstractMultiClass\" at /home/harvey/bin/JuliaPro-0.6.2.2/JuliaPro/pkgs-0.6.2.2/v0.6/MLMetrics/src/classification/comparemode.jl:49.\n",
      "Use \"abstract type AbstractMultiClass end\" instead.\n",
      "\n",
      "WARNING: deprecated syntax \"inner constructor MultiClass(...) around /home/harvey/bin/JuliaPro-0.6.2.2/JuliaPro/pkgs-0.6.2.2/v0.6/MLMetrics/src/classification/comparemode.jl:66\".\n",
      "Use \"MultiClass{T,N}(...) where {T,N}\" instead.\n",
      "WARNING: Method definition auto(Bool, Bool) in module CompareMode at /home/harvey/bin/JuliaPro-0.6.2.2/JuliaPro/pkgs-0.6.2.2/v0.6/MLMetrics/src/classification/comparemode.jl:100 overwritten at /home/harvey/bin/JuliaPro-0.6.2.2/JuliaPro/pkgs-0.6.2.2/v0.6/MLMetrics/src/classification/comparemode.jl:107.\n",
      "WARNING: Method definition auto(Bool, Bool) in module CompareMode at /home/harvey/bin/JuliaPro-0.6.2.2/JuliaPro/pkgs-0.6.2.2/v0.6/MLMetrics/src/classification/comparemode.jl:107 overwritten at /home/harvey/bin/JuliaPro-0.6.2.2/JuliaPro/pkgs-0.6.2.2/v0.6/MLMetrics/src/classification/comparemode.jl:108.\n"
     ]
    }
   ],
   "source": [
    "using MLBase\n",
    "\n",
    "include(\"../../MLR/MLJ.jl\");\n",
    "include(\"../../MLR/Tuning.jl\");\n",
    "\n",
    "include(\"../Mondrian_Forest_Classifier.jl\");\n",
    "include(\"mondrianforest_wrapper.jl\");"
   ]
  },
  {
   "cell_type": "code",
   "execution_count": 6,
   "metadata": {},
   "outputs": [
    {
     "ename": "LoadError",
     "evalue": "\u001b[91mMethodError: no method matching correctrate(::Array{Float64,1}, ::Array{Int64,1})\u001b[0m\nClosest candidates are:\n  correctrate(\u001b[91m::AbstractArray{T,1} where T<:Integer\u001b[39m, ::AbstractArray{T,1} where T<:Integer) at /home/harvey/bin/JuliaPro-0.6.2.2/JuliaPro/pkgs-0.6.2.2/v0.6/MLBase/src/perfeval.jl:5\u001b[39m",
     "output_type": "error",
     "traceback": [
      "\u001b[91mMethodError: no method matching correctrate(::Array{Float64,1}, ::Array{Int64,1})\u001b[0m\nClosest candidates are:\n  correctrate(\u001b[91m::AbstractArray{T,1} where T<:Integer\u001b[39m, ::AbstractArray{T,1} where T<:Integer) at /home/harvey/bin/JuliaPro-0.6.2.2/JuliaPro/pkgs-0.6.2.2/v0.6/MLBase/src/perfeval.jl:5\u001b[39m",
      "",
      "Stacktrace:",
      " [1] \u001b[1m#tune#7\u001b[22m\u001b[22m\u001b[1m(\u001b[22m\u001b[22m::Learner, ::Task{ClassificationTask}, ::Array{Float64,2}, ::ParametersSet, ::Resampling, ::MLBase.#correctrate, ::Function\u001b[1m)\u001b[22m\u001b[22m at \u001b[1m/home/harvey/Group Project/warwick-rsg/MLR/Tuning.jl:108\u001b[22m\u001b[22m",
      " [2] \u001b[1m(::#kw##tune)\u001b[22m\u001b[22m\u001b[1m(\u001b[22m\u001b[22m::Array{Any,1}, ::#tune\u001b[1m)\u001b[22m\u001b[22m at \u001b[1m./<missing>:0\u001b[22m\u001b[22m",
      " [3] \u001b[1minclude_string\u001b[22m\u001b[22m\u001b[1m(\u001b[22m\u001b[22m::String, ::String\u001b[1m)\u001b[22m\u001b[22m at \u001b[1m./loading.jl:522\u001b[22m\u001b[22m"
     ]
    }
   ],
   "source": [
    "data = FakedataClassif(1000,3);\n",
    "data[:,4] = (data[:,4].>0.5).+1\n",
    "\n",
    "ps = ParametersSet([\n",
    "    DiscreteParameter(\n",
    "        name = \"n_tree\",\n",
    "        values = [10,100,200,300]\n",
    "    )\n",
    "])\n",
    "\n",
    "task = Task(task_type=\"classification\", target=4, data=data)\n",
    "lrn = Learner(\"MondrianForest\")\n",
    "\n",
    "tune(learner=lrn, \n",
    "     task=task, \n",
    "     data=data,\n",
    "     parameters_set=ps,\n",
    "     measure=correctrate)"
   ]
  },
  {
   "cell_type": "code",
   "execution_count": 8,
   "metadata": {},
   "outputs": [
    {
     "data": {
      "text/plain": [
       "100×4 Array{Float64,2}:\n",
       "  0.730661   -3.39487     0.285115   1.0\n",
       "  0.170454   -0.200704   -0.525156   1.0\n",
       "  1.03475     0.431387    0.164184   1.0\n",
       "  1.05652    -0.816665   -0.614369   1.0\n",
       " -0.526581    0.117246   -0.192622   2.0\n",
       " -1.68232     1.54719    -1.26421    2.0\n",
       "  0.816296    0.436703    0.498197   1.0\n",
       " -0.97335    -0.707349    0.748033   2.0\n",
       "  1.29054    -0.958328    0.323633   1.0\n",
       " -0.183611   -0.640437    1.03063    2.0\n",
       " -1.56345    -0.0508801   1.29246    2.0\n",
       " -0.11077    -0.369923   -0.269909   1.0\n",
       " -1.66237    -0.144146   -0.0834589  2.0\n",
       "  ⋮                                     \n",
       " -1.13997    -0.629742    0.729578   2.0\n",
       " -0.826279   -0.961255   -0.835248   1.0\n",
       "  0.0736395   0.404743    0.818436   2.0\n",
       " -0.0911483  -2.82232    -0.362027   1.0\n",
       " -0.298474    0.292897   -1.60499    1.0\n",
       "  0.561771    0.262465    0.342967   1.0\n",
       "  0.504778   -0.250526   -1.88592    1.0\n",
       "  2.32662    -0.930329    2.028      1.0\n",
       " -0.539051   -1.85657    -0.592018   1.0\n",
       " -0.210998   -0.551872   -0.320323   1.0\n",
       "  1.63311     0.383992    1.85202    1.0\n",
       "  0.671136   -0.710579   -0.342475   1.0"
      ]
     },
     "execution_count": 8,
     "metadata": {},
     "output_type": "execute_result"
    }
   ],
   "source": [
    "data[:,4] = convert(Array{Int64},data[:,4])\n",
    "data"
   ]
  },
  {
   "cell_type": "code",
   "execution_count": null,
   "metadata": {},
   "outputs": [],
   "source": []
  }
 ],
 "metadata": {
  "kernelspec": {
   "display_name": "Julia 0.6.2",
   "language": "julia",
   "name": "julia-0.6"
  },
  "language_info": {
   "file_extension": ".jl",
   "mimetype": "application/julia",
   "name": "julia",
   "version": "0.6.2"
  }
 },
 "nbformat": 4,
 "nbformat_minor": 2
}
