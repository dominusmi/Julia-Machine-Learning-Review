{
 "cells": [
  {
   "cell_type": "code",
   "execution_count": null,
   "metadata": {},
   "outputs": [],
   "source": [
    "using MLMetrics\n",
    "\n",
    "include(\"../../MLR/MLJ.jl\");\n",
    "include(\"../../MLR/Tuning.jl\");\n",
    "\n",
    "include(\"../Mondrian_Forest_Classifier.jl\");\n",
    "include(\"mondrianforest_wrapper.jl\");\n",
    "\n",
    "# Mondrian forest Classifier has a different FakedataClassif\n",
    "\n",
    "function FakedataClassif(n_obs,d)\n",
    "    n_obs = 100\n",
    "    x = randn((n_obs,d))\n",
    "    y = ( sum(x*randn(d),2) .> mean(sum(x*randn(d),2)) )\n",
    "\n",
    "    hcat(x,y)\n",
    "end"
   ]
  },
  {
   "cell_type": "code",
   "execution_count": null,
   "metadata": {},
   "outputs": [],
   "source": [
    "data = FakedataClassif(1000,3)\n",
    "ps = ParametersSet([\n",
    "    DiscreteParameter(\n",
    "        name = \"n_tree\",\n",
    "        values = [10,100,200,300]\n",
    "    )\n",
    "])\n",
    "\n",
    "task = Task(task_type=\"classification\", targets=1, data=data)\n",
    "lrn = ModelLearner(\"MondrianForest\")\n",
    "\n",
    "tune(lrn, \n",
    "     task, \n",
    "     ps,\n",
    "     measure=accuracy)"
   ]
  }
 ],
 "metadata": {
  "kernelspec": {
   "display_name": "Julia 0.6.2",
   "language": "julia",
   "name": "julia-0.6"
  },
  "language_info": {
   "file_extension": ".jl",
   "mimetype": "application/julia",
   "name": "julia",
   "version": "0.6.2"
  }
 },
 "nbformat": 4,
 "nbformat_minor": 2
}
