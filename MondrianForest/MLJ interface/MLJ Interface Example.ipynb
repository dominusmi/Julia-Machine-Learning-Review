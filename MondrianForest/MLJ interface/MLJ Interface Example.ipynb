{
 "cells": [
  {
   "cell_type": "code",
   "execution_count": 1,
   "metadata": {},
   "outputs": [
    {
     "name": "stderr",
     "output_type": "stream",
     "text": [
      "\n",
      "WARNING: deprecated syntax \"abstract AvgMode\" at /home/harvey/bin/JuliaPro-0.6.2.2/JuliaPro/pkgs-0.6.2.2/v0.6/MLMetrics/src/averagemode.jl:10.\n",
      "Use \"abstract type AvgMode end\" instead.\n",
      "\n",
      "WARNING: deprecated syntax \"abstract AbstractBinary\" at /home/harvey/bin/JuliaPro-0.6.2.2/JuliaPro/pkgs-0.6.2.2/v0.6/MLMetrics/src/classification/comparemode.jl:17.\n",
      "Use \"abstract type AbstractBinary end\" instead.\n",
      "\n",
      "WARNING: deprecated syntax \"abstract AbstractMultiClass\" at /home/harvey/bin/JuliaPro-0.6.2.2/JuliaPro/pkgs-0.6.2.2/v0.6/MLMetrics/src/classification/comparemode.jl:49.\n",
      "Use \"abstract type AbstractMultiClass end\" instead.\n",
      "\n",
      "WARNING: deprecated syntax \"inner constructor MultiClass(...) around /home/harvey/bin/JuliaPro-0.6.2.2/JuliaPro/pkgs-0.6.2.2/v0.6/MLMetrics/src/classification/comparemode.jl:66\".\n",
      "Use \"MultiClass{T,N}(...) where {T,N}\" instead.\n",
      "WARNING: Method definition auto(Bool, Bool) in module CompareMode at /home/harvey/bin/JuliaPro-0.6.2.2/JuliaPro/pkgs-0.6.2.2/v0.6/MLMetrics/src/classification/comparemode.jl:100 overwritten at /home/harvey/bin/JuliaPro-0.6.2.2/JuliaPro/pkgs-0.6.2.2/v0.6/MLMetrics/src/classification/comparemode.jl:107.\n",
      "WARNING: Method definition auto(Bool, Bool) in module CompareMode at /home/harvey/bin/JuliaPro-0.6.2.2/JuliaPro/pkgs-0.6.2.2/v0.6/MLMetrics/src/classification/comparemode.jl:107 overwritten at /home/harvey/bin/JuliaPro-0.6.2.2/JuliaPro/pkgs-0.6.2.2/v0.6/MLMetrics/src/classification/comparemode.jl:108.\n"
     ]
    },
    {
     "data": {
      "text/plain": [
       "FakedataClassif (generic function with 2 methods)"
      ]
     },
     "execution_count": 1,
     "metadata": {},
     "output_type": "execute_result"
    }
   ],
   "source": [
    "using MLMetrics\n",
    "\n",
    "include(\"../../MLR/MLJ.jl\");\n",
    "include(\"../../MLR/Tuning.jl\");\n",
    "\n",
    "include(\"../Mondrian_Forest_Classifier.jl\");\n",
    "include(\"mondrianforest_wrapper.jl\");\n",
    "\n",
    "# Mondrian forest Classifier has a different FakedataClassif\n",
    "\n",
    "function FakedataClassif(n_obs,d)\n",
    "    n_obs = 100\n",
    "    x = randn((n_obs,d))\n",
    "    y = ( sum(x*randn(d),2) .> mean(sum(x*randn(d),2)) )\n",
    "\n",
    "    hcat(x,y)\n",
    "end"
   ]
  },
  {
   "cell_type": "code",
   "execution_count": 2,
   "metadata": {},
   "outputs": [
    {
     "name": "stdout",
     "output_type": "stream",
     "text": [
      "\n",
      "\n",
      "\n",
      "Trained:\n",
      "Learner: MondrianForest\n",
      " ▁ ▂ ▃ n_tree: 10\n",
      "\n",
      "Average CV accuracy: 0.98989898989899\n",
      "\n",
      "\n",
      "\n",
      "\n",
      "Trained:\n",
      "Learner: MondrianForest\n",
      " ▁ ▂ ▃ n_tree: 100\n",
      "\n",
      "Average CV accuracy: 0.960190136660725\n",
      "\n",
      "\n",
      "\n",
      "\n",
      "Trained:\n",
      "Learner: MondrianForest\n",
      " ▁ ▂ ▃ n_tree: 200\n",
      "\n",
      "Average CV accuracy: 0.9797979797979798\n",
      "\n",
      "\n",
      "\n",
      "\n",
      "Trained:\n",
      "Learner: MondrianForest\n",
      " ▁ ▂ ▃ n_tree: 300\n",
      "\n",
      "Average CV accuracy: 0.9901960784313726\n",
      "\n",
      "Retraining best model\n"
     ]
    },
    {
     "data": {
      "text/plain": []
     },
     "execution_count": 2,
     "metadata": {},
     "output_type": "execute_result"
    },
    {
     "name": "stdout",
     "output_type": "stream",
     "text": [
      "Learner: MondrianForest\n"
     ]
    }
   ],
   "source": [
    "data = FakedataClassif(1000,3)\n",
    "data[:,end] = data[:,end].+1\n",
    "ps = ParametersSet([\n",
    "    DiscreteParameter(\n",
    "        name = \"n_tree\",\n",
    "        values = [10,100,200,300]\n",
    "    )\n",
    "])\n",
    "\n",
    "task = Task(task_type=\"classification\", targets=size(data,2), data=data)\n",
    "lrn = ModelLearner(\"MondrianForest\")\n",
    "\n",
    "tune(lrn, \n",
    "     task, \n",
    "     ps,)"
   ]
  },
  {
   "cell_type": "code",
   "execution_count": null,
   "metadata": {},
   "outputs": [],
   "source": []
  }
 ],
 "metadata": {
  "kernelspec": {
   "display_name": "Julia 0.6.2",
   "language": "julia",
   "name": "julia-0.6"
  },
  "language_info": {
   "file_extension": ".jl",
   "mimetype": "application/julia",
   "name": "julia",
   "version": "0.6.2"
  }
 },
 "nbformat": 4,
 "nbformat_minor": 2
}
