{
 "cells": [
  {
   "cell_type": "code",
   "execution_count": 1,
   "metadata": {},
   "outputs": [
    {
     "name": "stderr",
     "output_type": "stream",
     "text": [
      "\n",
      "WARNING: deprecated syntax \"abstract AvgMode\" at /home/harvey/bin/JuliaPro-0.6.2.2/JuliaPro/pkgs-0.6.2.2/v0.6/MLMetrics/src/averagemode.jl:10.\n",
      "Use \"abstract type AvgMode end\" instead.\n",
      "\n",
      "WARNING: deprecated syntax \"abstract AbstractBinary\" at /home/harvey/bin/JuliaPro-0.6.2.2/JuliaPro/pkgs-0.6.2.2/v0.6/MLMetrics/src/classification/comparemode.jl:17.\n",
      "Use \"abstract type AbstractBinary end\" instead.\n",
      "\n",
      "WARNING: deprecated syntax \"abstract AbstractMultiClass\" at /home/harvey/bin/JuliaPro-0.6.2.2/JuliaPro/pkgs-0.6.2.2/v0.6/MLMetrics/src/classification/comparemode.jl:49.\n",
      "Use \"abstract type AbstractMultiClass end\" instead.\n",
      "\n",
      "WARNING: deprecated syntax \"inner constructor MultiClass(...) around /home/harvey/bin/JuliaPro-0.6.2.2/JuliaPro/pkgs-0.6.2.2/v0.6/MLMetrics/src/classification/comparemode.jl:66\".\n",
      "Use \"MultiClass{T,N}(...) where {T,N}\" instead.\n",
      "WARNING: Method definition auto(Bool, Bool) in module CompareMode at /home/harvey/bin/JuliaPro-0.6.2.2/JuliaPro/pkgs-0.6.2.2/v0.6/MLMetrics/src/classification/comparemode.jl:100 overwritten at /home/harvey/bin/JuliaPro-0.6.2.2/JuliaPro/pkgs-0.6.2.2/v0.6/MLMetrics/src/classification/comparemode.jl:107.\n",
      "WARNING: Method definition auto(Bool, Bool) in module CompareMode at /home/harvey/bin/JuliaPro-0.6.2.2/JuliaPro/pkgs-0.6.2.2/v0.6/MLMetrics/src/classification/comparemode.jl:107 overwritten at /home/harvey/bin/JuliaPro-0.6.2.2/JuliaPro/pkgs-0.6.2.2/v0.6/MLMetrics/src/classification/comparemode.jl:108.\n"
     ]
    }
   ],
   "source": [
    "using MLMetrics\n",
    "\n",
    "include(\"../../MLR/MLJ.jl\");\n",
    "include(\"../../MLR/Tuning.jl\");\n",
    "\n",
    "include(\"../Mondrian_Forest_Classifier.jl\");\n",
    "include(\"mondrianforest_wrapper.jl\");"
   ]
  },
  {
   "cell_type": "code",
   "execution_count": 2,
   "metadata": {},
   "outputs": [
    {
     "name": "stdout",
     "output_type": "stream",
     "text": [
      "Trained:\n",
      "Learner: MondrianForest\n",
      " ▁ ▂ ▃ n_tree: 10\n",
      "\n",
      "Average CV accuracy: 0.7210338680926917\n",
      "\n",
      "Trained:\n",
      "Learner: MondrianForest\n",
      " ▁ ▂ ▃ n_tree: 100\n",
      "\n",
      "Average CV accuracy: 0.8502673796791443\n",
      "\n",
      "Trained:\n",
      "Learner: MondrianForest\n",
      " ▁ ▂ ▃ n_tree: 200\n",
      "\n",
      "Average CV accuracy: 0.8401663695781343\n",
      "\n",
      "Trained:\n",
      "Learner: MondrianForest\n",
      " ▁ ▂ ▃ n_tree: 300\n",
      "\n",
      "Average CV accuracy: 0.8707664884135472\n",
      "\n"
     ]
    }
   ],
   "source": [
    "data = FakedataClassif(1000,3);\n",
    "data[:,4] = (data[:,4].>0.5).+1\n",
    "\n",
    "ps = ParametersSet([\n",
    "    DiscreteParameter(\n",
    "        name = \"n_tree\",\n",
    "        values = [10,100,200,300]\n",
    "    )\n",
    "])\n",
    "\n",
    "task = Task(task_type=\"classification\", target=4, data=data)\n",
    "lrn = Learner(\"MondrianForest\")\n",
    "\n",
    "tune(learner=lrn, \n",
    "     task=task, \n",
    "     data=data,\n",
    "     parameters_set=ps,\n",
    "     measure=accuracy)"
   ]
  }
 ],
 "metadata": {
  "kernelspec": {
   "display_name": "Julia 0.6.2",
   "language": "julia",
   "name": "julia-0.6"
  },
  "language_info": {
   "file_extension": ".jl",
   "mimetype": "application/julia",
   "name": "julia",
   "version": "0.6.2"
  }
 },
 "nbformat": 4,
 "nbformat_minor": 2
}
