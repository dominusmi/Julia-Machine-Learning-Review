{
 "cells": [
  {
   "cell_type": "code",
   "execution_count": null,
   "metadata": {},
   "outputs": [],
   "source": [
    "using MLMetrics\n",
    "\n",
    "include(\"../../MLR/MLJ.jl\");\n",
    "include(\"../../MLR/Tuning.jl\");\n",
    "\n",
    "include(\"../Mondrian_Forest_Classifier.jl\");\n",
    "include(\"mondrianforest_wrapper.jl\");"
   ]
  },
  {
   "cell_type": "code",
   "execution_count": null,
   "metadata": {},
   "outputs": [],
   "source": [
    "data = FakedataClassif(1000,3);\n",
    "data[:,4] = (data[:,4].>0.5).+1\n",
    "\n",
    "ps = ParametersSet([\n",
    "    DiscreteParameter(\n",
    "        name = \"n_tree\",\n",
    "        values = [10,100,200,300]\n",
    "    )\n",
    "])\n",
    "\n",
    "task = Task(task_type=\"classification\", target=4, data=data)\n",
    "lrn = Learner(\"MondrianForest\")\n",
    "\n",
    "tune(learner=lrn, \n",
    "     task=task, \n",
    "     data=data,\n",
    "     parameters_set=ps,\n",
    "     measure=accuracy)"
   ]
  },
  {
   "cell_type": "code",
   "execution_count": null,
   "metadata": {},
   "outputs": [],
   "source": []
  }
 ],
 "metadata": {
  "kernelspec": {
   "display_name": "Julia 0.6.2",
   "language": "julia",
   "name": "julia-0.6"
  },
  "language_info": {
   "file_extension": ".jl",
   "mimetype": "application/julia",
   "name": "julia",
   "version": "0.6.2"
  }
 },
 "nbformat": 4,
 "nbformat_minor": 2
}
