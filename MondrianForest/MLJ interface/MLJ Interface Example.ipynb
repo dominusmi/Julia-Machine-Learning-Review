{
 "cells": [
  {
   "cell_type": "code",
   "execution_count": 2,
   "metadata": {},
   "outputs": [],
   "source": [
    "using MLMetrics\n",
    "\n",
    "include(\"../../MLR/MLJ.jl\");\n",
    "include(\"../../MLR/Tuning.jl\");\n",
    "\n",
    "include(\"../Mondrian_Forest_Classifier.jl\");\n",
    "include(\"mondrianforest_wrapper.jl\");"
   ]
  },
  {
   "cell_type": "code",
   "execution_count": 3,
   "metadata": {},
   "outputs": [
    {
     "ename": "LoadError",
     "evalue": "\u001b[91mMethodError: no method matching Task(; task_type=\"classification\", target=4, data=[-0.390886 -0.0905257 -1.64934 1.0; -0.196878 0.277992 -0.477399 1.0; … ; -0.593847 0.644534 -0.946169 1.0; 0.0274295 -0.260297 -0.194985 2.0])\u001b[0m\nClosest candidates are:\n  Task(; task_type, targets, data) at /home/harvey/Group Project/warwick-rsg/MLR/MLJ.jl:21\u001b[91m got unsupported keyword argument \"target\"\u001b[39m\n  Task(\u001b[91m::T\u001b[39m, \u001b[91m::Array{#s14,N} where N where #s14<:Integer\u001b[39m, \u001b[91m::Array{Int64,N} where N\u001b[39m) where T at /home/harvey/Group Project/warwick-rsg/MLR/MLJ.jl:12\u001b[91m got unsupported keyword arguments \"task_type\", \"target\", \"data\"\u001b[39m\u001b[39m",
     "output_type": "error",
     "traceback": [
      "\u001b[91mMethodError: no method matching Task(; task_type=\"classification\", target=4, data=[-0.390886 -0.0905257 -1.64934 1.0; -0.196878 0.277992 -0.477399 1.0; … ; -0.593847 0.644534 -0.946169 1.0; 0.0274295 -0.260297 -0.194985 2.0])\u001b[0m\nClosest candidates are:\n  Task(; task_type, targets, data) at /home/harvey/Group Project/warwick-rsg/MLR/MLJ.jl:21\u001b[91m got unsupported keyword argument \"target\"\u001b[39m\n  Task(\u001b[91m::T\u001b[39m, \u001b[91m::Array{#s14,N} where N where #s14<:Integer\u001b[39m, \u001b[91m::Array{Int64,N} where N\u001b[39m) where T at /home/harvey/Group Project/warwick-rsg/MLR/MLJ.jl:12\u001b[91m got unsupported keyword arguments \"task_type\", \"target\", \"data\"\u001b[39m\u001b[39m",
      "",
      "Stacktrace:",
      " [1] \u001b[1m(::Core.#kw#Type)\u001b[22m\u001b[22m\u001b[1m(\u001b[22m\u001b[22m::Array{Any,1}, ::Type{Task}\u001b[1m)\u001b[22m\u001b[22m at \u001b[1m./<missing>:0\u001b[22m\u001b[22m",
      " [2] \u001b[1minclude_string\u001b[22m\u001b[22m\u001b[1m(\u001b[22m\u001b[22m::String, ::String\u001b[1m)\u001b[22m\u001b[22m at \u001b[1m./loading.jl:522\u001b[22m\u001b[22m"
     ]
    }
   ],
   "source": [
    "data = FakedataClassif(1000,3);\n",
    "data[:,4] = (data[:,4].>0.5).+1\n",
    "\n",
    "ps = ParametersSet([\n",
    "    DiscreteParameter(\n",
    "        name = \"n_tree\",\n",
    "        values = [10,100,200,300]\n",
    "    )\n",
    "])\n",
    "\n",
    "task = Task(task_type=\"classification\", target=4, data=data)\n",
    "lrn = Learner(\"MondrianForest\")\n",
    "\n",
    "tune(learner=lrn, \n",
    "     task=task, \n",
    "     data=data,\n",
    "     parameters_set=ps,\n",
    "     measure=accuracy)"
   ]
  },
  {
   "cell_type": "code",
   "execution_count": 14,
   "metadata": {},
   "outputs": [],
   "source": [
    "function FakedataClassif(n_obs,d)\n",
    "    x = randn((n_obs,d))\n",
    "    y = ( sum(x*randn(d),2) .> mean(sum(x*randn(d),2)) )\n",
    "\n",
    "    hcat(x,y)\n",
    "end \n",
    "data = FakedataClassif(1000000,3);"
   ]
  },
  {
   "cell_type": "code",
   "execution_count": 18,
   "metadata": {},
   "outputs": [
    {
     "data": {
      "text/plain": [
       "1000000-element Array{Float64,1}:\n",
       " 1.0\n",
       " 1.0\n",
       " 2.0\n",
       " 2.0\n",
       " 2.0\n",
       " 2.0\n",
       " 2.0\n",
       " 1.0\n",
       " 2.0\n",
       " 1.0\n",
       " 1.0\n",
       " 1.0\n",
       " 1.0\n",
       " ⋮  \n",
       " 1.0\n",
       " 2.0\n",
       " 2.0\n",
       " 1.0\n",
       " 2.0\n",
       " 1.0\n",
       " 1.0\n",
       " 1.0\n",
       " 2.0\n",
       " 2.0\n",
       " 2.0\n",
       " 1.0"
      ]
     },
     "execution_count": 18,
     "metadata": {},
     "output_type": "execute_result"
    }
   ],
   "source": [
    "data[:,4].+1"
   ]
  },
  {
   "cell_type": "code",
   "execution_count": null,
   "metadata": {},
   "outputs": [],
   "source": []
  }
 ],
 "metadata": {
  "kernelspec": {
   "display_name": "Julia 0.6.2",
   "language": "julia",
   "name": "julia-0.6"
  },
  "language_info": {
   "file_extension": ".jl",
   "mimetype": "application/julia",
   "name": "julia",
   "version": "0.6.2"
  }
 },
 "nbformat": 4,
 "nbformat_minor": 2
}
