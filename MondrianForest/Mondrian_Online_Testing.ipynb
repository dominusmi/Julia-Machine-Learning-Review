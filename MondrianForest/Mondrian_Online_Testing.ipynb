{
 "cells": [
  {
   "cell_type": "code",
   "execution_count": 1,
   "metadata": {},
   "outputs": [
    {
     "data": {
      "text/plain": [
       "expand_forest!"
      ]
     },
     "execution_count": 1,
     "metadata": {},
     "output_type": "execute_result"
    }
   ],
   "source": [
    "import Base.copy\n",
    "using Distributions\n",
    "using MLBase\n",
    "include(\"Mondrian_Forest_Classifier.jl\"); \n",
    "include(\"Mondrian_extention.jl\")"
   ]
  },
  {
   "cell_type": "code",
   "execution_count": 2,
   "metadata": {},
   "outputs": [
    {
     "data": {
      "text/plain": [
       "Fakedata3Classif (generic function with 2 methods)"
      ]
     },
     "execution_count": 2,
     "metadata": {},
     "output_type": "execute_result"
    }
   ],
   "source": [
    "function Fakedata3Classif(N,d,N_test=0)\n",
    "    X = randn((N,d))\n",
    "    param1 = randn(d)\n",
    "    param2 = randn(d)\n",
    "    Y = ( sum(X*param1,2) .> mean(sum(X*param2,2)) )\n",
    "    Y=convert(Array{Int},Y)\n",
    "    for i in 1:size(X,1)\n",
    "        if X[i,2] > 1.5\n",
    "            Y[i] = 2\n",
    "        end\n",
    "    end\n",
    "    if (N_test > 0)\n",
    "        x = randn((N_test,d))\n",
    "        y = ( sum(x*param1,2) .> mean(sum(x*param2,2)) )\n",
    "        y=convert(Array{Int},y)\n",
    "        for i in 1:size(x,1)\n",
    "            if x[i,2] > 1.5\n",
    "                y[i] = 2\n",
    "            end\n",
    "        end\n",
    "        return X,Y,x,y\n",
    "    end\n",
    "    return X,Y\n",
    "end"
   ]
  },
  {
   "cell_type": "code",
   "execution_count": 7,
   "metadata": {},
   "outputs": [],
   "source": [
    "X, Y, x, y = Fakedata3Classif(1500,2,500); #X,Y: train set ; x,y: extention data\n",
    "Y = Y.+1;\n",
    "y = y.+1;"
   ]
  },
  {
   "cell_type": "code",
   "execution_count": 8,
   "metadata": {},
   "outputs": [],
   "source": [
    "MF=Mondrian_Forest_Classifier(100)\n",
    "Acc=zeros(150);\n",
    "Time=[];"
   ]
  },
  {
   "cell_type": "code",
   "execution_count": 9,
   "metadata": {},
   "outputs": [
    {
     "name": "stdout",
     "output_type": "stream",
     "text": [
      "\n"
     ]
    },
    {
     "data": {
      "text/plain": [
       "0.798"
      ]
     },
     "execution_count": 9,
     "metadata": {},
     "output_type": "execute_result"
    }
   ],
   "source": [
    "counter=1\n",
    "train!(MF,X[1:150,:],Y[1:150],1e9);\n",
    "pred=predict!(MF,x)\n",
    "Acc[counter]=correctrate(y,convert(Array{Int,1},pred))"
   ]
  },
  {
   "cell_type": "code",
   "execution_count": 10,
   "metadata": {},
   "outputs": [
    {
     "name": "stdout",
     "output_type": "stream",
     "text": [
      "\n"
     ]
    },
    {
     "data": {
      "text/plain": [
       "0.84"
      ]
     },
     "execution_count": 10,
     "metadata": {},
     "output_type": "execute_result"
    }
   ],
   "source": [
    "MN = Mondrian_Forest_Classifier(100)\n",
    "train!(MN,X,Y,1e9)\n",
    "pred=predict!(MN,x)\n",
    "correctrate(y,convert(Array{Int,1},pred))"
   ]
  },
  {
   "cell_type": "code",
   "execution_count": null,
   "metadata": {},
   "outputs": [],
   "source": [
    "i=151\n",
    "while i<15000\n",
    "    counter = counter+1\n",
    "    tic()\n",
    "    expand_forest!(MF,X[i:i+149,:],Y[i:i+149,:],1e9);\n",
    "    t=toq()\n",
    "    println(t)\n",
    "    push!(Time,t)\n",
    "    pred=predict!(MF,x)\n",
    "    Acc[counter]=correctrate(y,convert(Array{Int,1},pred))\n",
    "    i=i+150\n",
    "    println(\"Acc: \", Acc[counter])\n",
    "end"
   ]
  },
  {
   "cell_type": "code",
   "execution_count": 15,
   "metadata": {},
   "outputs": [
    {
     "data": {
      "text/plain": [
       "99"
      ]
     },
     "execution_count": 15,
     "metadata": {},
     "output_type": "execute_result"
    }
   ],
   "source": [
    "length(Time)"
   ]
  },
  {
   "cell_type": "code",
   "execution_count": 28,
   "metadata": {},
   "outputs": [
    {
     "data": {
      "text/plain": [
       "1.0:1.0:73.0"
      ]
     },
     "execution_count": 28,
     "metadata": {},
     "output_type": "execute_result"
    }
   ],
   "source": [
    "x=linspace(1,73,73)"
   ]
  },
  {
   "cell_type": "code",
   "execution_count": 31,
   "metadata": {},
   "outputs": [],
   "source": [
    "using Plots"
   ]
  },
  {
   "cell_type": "code",
   "execution_count": 32,
   "metadata": {},
   "outputs": [
    {
     "data": {
      "image/svg+xml": [
       "<?xml version=\"1.0\" encoding=\"utf-8\"?>\n",
       "<svg xmlns=\"http://www.w3.org/2000/svg\" xmlns:xlink=\"http://www.w3.org/1999/xlink\" width=\"600\" height=\"400\" viewBox=\"0 0 600 400\">\n",
       "<defs>\n",
       "  <clipPath id=\"clip8500\">\n",
       "    <rect x=\"0\" y=\"0\" width=\"600\" height=\"400\"/>\n",
       "  </clipPath>\n",
       "</defs>\n",
       "<polygon clip-path=\"url(#clip8500)\" points=\"\n",
       "0,400 600,400 600,0 0,0 \n",
       "  \" fill=\"#ffffff\" fill-opacity=\"1\"/>\n",
       "<defs>\n",
       "  <clipPath id=\"clip8501\">\n",
       "    <rect x=\"120\" y=\"0\" width=\"421\" height=\"400\"/>\n",
       "  </clipPath>\n",
       "</defs>\n",
       "<polygon clip-path=\"url(#clip8500)\" points=\"\n",
       "45.8557,375.869 580.315,375.869 580.315,11.811 45.8557,11.811 \n",
       "  \" fill=\"#ffffff\" fill-opacity=\"1\"/>\n",
       "<defs>\n",
       "  <clipPath id=\"clip8502\">\n",
       "    <rect x=\"45\" y=\"11\" width=\"535\" height=\"365\"/>\n",
       "  </clipPath>\n",
       "</defs>\n",
       "<polyline clip-path=\"url(#clip8502)\" style=\"stroke:#000000; stroke-width:0.5; stroke-opacity:0.1; fill:none\" points=\"\n",
       "  112.663,375.869 112.663,11.811 \n",
       "  \"/>\n",
       "<polyline clip-path=\"url(#clip8502)\" style=\"stroke:#000000; stroke-width:0.5; stroke-opacity:0.1; fill:none\" points=\"\n",
       "  186.894,375.869 186.894,11.811 \n",
       "  \"/>\n",
       "<polyline clip-path=\"url(#clip8502)\" style=\"stroke:#000000; stroke-width:0.5; stroke-opacity:0.1; fill:none\" points=\"\n",
       "  261.124,375.869 261.124,11.811 \n",
       "  \"/>\n",
       "<polyline clip-path=\"url(#clip8502)\" style=\"stroke:#000000; stroke-width:0.5; stroke-opacity:0.1; fill:none\" points=\"\n",
       "  335.354,375.869 335.354,11.811 \n",
       "  \"/>\n",
       "<polyline clip-path=\"url(#clip8502)\" style=\"stroke:#000000; stroke-width:0.5; stroke-opacity:0.1; fill:none\" points=\"\n",
       "  409.585,375.869 409.585,11.811 \n",
       "  \"/>\n",
       "<polyline clip-path=\"url(#clip8502)\" style=\"stroke:#000000; stroke-width:0.5; stroke-opacity:0.1; fill:none\" points=\"\n",
       "  483.815,375.869 483.815,11.811 \n",
       "  \"/>\n",
       "<polyline clip-path=\"url(#clip8502)\" style=\"stroke:#000000; stroke-width:0.5; stroke-opacity:0.1; fill:none\" points=\"\n",
       "  558.046,375.869 558.046,11.811 \n",
       "  \"/>\n",
       "<polyline clip-path=\"url(#clip8502)\" style=\"stroke:#000000; stroke-width:0.5; stroke-opacity:0.1; fill:none\" points=\"\n",
       "  45.8557,329.236 580.315,329.236 \n",
       "  \"/>\n",
       "<polyline clip-path=\"url(#clip8502)\" style=\"stroke:#000000; stroke-width:0.5; stroke-opacity:0.1; fill:none\" points=\"\n",
       "  45.8557,279.189 580.315,279.189 \n",
       "  \"/>\n",
       "<polyline clip-path=\"url(#clip8502)\" style=\"stroke:#000000; stroke-width:0.5; stroke-opacity:0.1; fill:none\" points=\"\n",
       "  45.8557,229.141 580.315,229.141 \n",
       "  \"/>\n",
       "<polyline clip-path=\"url(#clip8502)\" style=\"stroke:#000000; stroke-width:0.5; stroke-opacity:0.1; fill:none\" points=\"\n",
       "  45.8557,179.094 580.315,179.094 \n",
       "  \"/>\n",
       "<polyline clip-path=\"url(#clip8502)\" style=\"stroke:#000000; stroke-width:0.5; stroke-opacity:0.1; fill:none\" points=\"\n",
       "  45.8557,129.046 580.315,129.046 \n",
       "  \"/>\n",
       "<polyline clip-path=\"url(#clip8502)\" style=\"stroke:#000000; stroke-width:0.5; stroke-opacity:0.1; fill:none\" points=\"\n",
       "  45.8557,78.9987 580.315,78.9987 \n",
       "  \"/>\n",
       "<polyline clip-path=\"url(#clip8502)\" style=\"stroke:#000000; stroke-width:0.5; stroke-opacity:0.1; fill:none\" points=\"\n",
       "  45.8557,28.9512 580.315,28.9512 \n",
       "  \"/>\n",
       "<polyline clip-path=\"url(#clip8500)\" style=\"stroke:#000000; stroke-width:1; stroke-opacity:1; fill:none\" points=\"\n",
       "  45.8557,375.869 580.315,375.869 \n",
       "  \"/>\n",
       "<polyline clip-path=\"url(#clip8500)\" style=\"stroke:#000000; stroke-width:1; stroke-opacity:1; fill:none\" points=\"\n",
       "  45.8557,375.869 45.8557,11.811 \n",
       "  \"/>\n",
       "<polyline clip-path=\"url(#clip8500)\" style=\"stroke:#000000; stroke-width:1; stroke-opacity:1; fill:none\" points=\"\n",
       "  112.663,375.869 112.663,370.408 \n",
       "  \"/>\n",
       "<polyline clip-path=\"url(#clip8500)\" style=\"stroke:#000000; stroke-width:1; stroke-opacity:1; fill:none\" points=\"\n",
       "  186.894,375.869 186.894,370.408 \n",
       "  \"/>\n",
       "<polyline clip-path=\"url(#clip8500)\" style=\"stroke:#000000; stroke-width:1; stroke-opacity:1; fill:none\" points=\"\n",
       "  261.124,375.869 261.124,370.408 \n",
       "  \"/>\n",
       "<polyline clip-path=\"url(#clip8500)\" style=\"stroke:#000000; stroke-width:1; stroke-opacity:1; fill:none\" points=\"\n",
       "  335.354,375.869 335.354,370.408 \n",
       "  \"/>\n",
       "<polyline clip-path=\"url(#clip8500)\" style=\"stroke:#000000; stroke-width:1; stroke-opacity:1; fill:none\" points=\"\n",
       "  409.585,375.869 409.585,370.408 \n",
       "  \"/>\n",
       "<polyline clip-path=\"url(#clip8500)\" style=\"stroke:#000000; stroke-width:1; stroke-opacity:1; fill:none\" points=\"\n",
       "  483.815,375.869 483.815,370.408 \n",
       "  \"/>\n",
       "<polyline clip-path=\"url(#clip8500)\" style=\"stroke:#000000; stroke-width:1; stroke-opacity:1; fill:none\" points=\"\n",
       "  558.046,375.869 558.046,370.408 \n",
       "  \"/>\n",
       "<polyline clip-path=\"url(#clip8500)\" style=\"stroke:#000000; stroke-width:1; stroke-opacity:1; fill:none\" points=\"\n",
       "  45.8557,329.236 53.8726,329.236 \n",
       "  \"/>\n",
       "<polyline clip-path=\"url(#clip8500)\" style=\"stroke:#000000; stroke-width:1; stroke-opacity:1; fill:none\" points=\"\n",
       "  45.8557,279.189 53.8726,279.189 \n",
       "  \"/>\n",
       "<polyline clip-path=\"url(#clip8500)\" style=\"stroke:#000000; stroke-width:1; stroke-opacity:1; fill:none\" points=\"\n",
       "  45.8557,229.141 53.8726,229.141 \n",
       "  \"/>\n",
       "<polyline clip-path=\"url(#clip8500)\" style=\"stroke:#000000; stroke-width:1; stroke-opacity:1; fill:none\" points=\"\n",
       "  45.8557,179.094 53.8726,179.094 \n",
       "  \"/>\n",
       "<polyline clip-path=\"url(#clip8500)\" style=\"stroke:#000000; stroke-width:1; stroke-opacity:1; fill:none\" points=\"\n",
       "  45.8557,129.046 53.8726,129.046 \n",
       "  \"/>\n",
       "<polyline clip-path=\"url(#clip8500)\" style=\"stroke:#000000; stroke-width:1; stroke-opacity:1; fill:none\" points=\"\n",
       "  45.8557,78.9987 53.8726,78.9987 \n",
       "  \"/>\n",
       "<polyline clip-path=\"url(#clip8500)\" style=\"stroke:#000000; stroke-width:1; stroke-opacity:1; fill:none\" points=\"\n",
       "  45.8557,28.9512 53.8726,28.9512 \n",
       "  \"/>\n",
       "<g clip-path=\"url(#clip8500)\">\n",
       "<text style=\"fill:#000000; fill-opacity:1; font-family:Arial,Helvetica Neue,Helvetica,sans-serif; font-size:12; text-anchor:middle;\" transform=\"rotate(0, 112.663, 389.669)\" x=\"112.663\" y=\"389.669\">10</text>\n",
       "</g>\n",
       "<g clip-path=\"url(#clip8500)\">\n",
       "<text style=\"fill:#000000; fill-opacity:1; font-family:Arial,Helvetica Neue,Helvetica,sans-serif; font-size:12; text-anchor:middle;\" transform=\"rotate(0, 186.894, 389.669)\" x=\"186.894\" y=\"389.669\">20</text>\n",
       "</g>\n",
       "<g clip-path=\"url(#clip8500)\">\n",
       "<text style=\"fill:#000000; fill-opacity:1; font-family:Arial,Helvetica Neue,Helvetica,sans-serif; font-size:12; text-anchor:middle;\" transform=\"rotate(0, 261.124, 389.669)\" x=\"261.124\" y=\"389.669\">30</text>\n",
       "</g>\n",
       "<g clip-path=\"url(#clip8500)\">\n",
       "<text style=\"fill:#000000; fill-opacity:1; font-family:Arial,Helvetica Neue,Helvetica,sans-serif; font-size:12; text-anchor:middle;\" transform=\"rotate(0, 335.354, 389.669)\" x=\"335.354\" y=\"389.669\">40</text>\n",
       "</g>\n",
       "<g clip-path=\"url(#clip8500)\">\n",
       "<text style=\"fill:#000000; fill-opacity:1; font-family:Arial,Helvetica Neue,Helvetica,sans-serif; font-size:12; text-anchor:middle;\" transform=\"rotate(0, 409.585, 389.669)\" x=\"409.585\" y=\"389.669\">50</text>\n",
       "</g>\n",
       "<g clip-path=\"url(#clip8500)\">\n",
       "<text style=\"fill:#000000; fill-opacity:1; font-family:Arial,Helvetica Neue,Helvetica,sans-serif; font-size:12; text-anchor:middle;\" transform=\"rotate(0, 483.815, 389.669)\" x=\"483.815\" y=\"389.669\">60</text>\n",
       "</g>\n",
       "<g clip-path=\"url(#clip8500)\">\n",
       "<text style=\"fill:#000000; fill-opacity:1; font-family:Arial,Helvetica Neue,Helvetica,sans-serif; font-size:12; text-anchor:middle;\" transform=\"rotate(0, 558.046, 389.669)\" x=\"558.046\" y=\"389.669\">70</text>\n",
       "</g>\n",
       "<g clip-path=\"url(#clip8500)\">\n",
       "<text style=\"fill:#000000; fill-opacity:1; font-family:Arial,Helvetica Neue,Helvetica,sans-serif; font-size:12; text-anchor:end;\" transform=\"rotate(0, 39.8557, 333.736)\" x=\"39.8557\" y=\"333.736\">0.001</text>\n",
       "</g>\n",
       "<g clip-path=\"url(#clip8500)\">\n",
       "<text style=\"fill:#000000; fill-opacity:1; font-family:Arial,Helvetica Neue,Helvetica,sans-serif; font-size:12; text-anchor:end;\" transform=\"rotate(0, 39.8557, 283.689)\" x=\"39.8557\" y=\"283.689\">0.002</text>\n",
       "</g>\n",
       "<g clip-path=\"url(#clip8500)\">\n",
       "<text style=\"fill:#000000; fill-opacity:1; font-family:Arial,Helvetica Neue,Helvetica,sans-serif; font-size:12; text-anchor:end;\" transform=\"rotate(0, 39.8557, 233.641)\" x=\"39.8557\" y=\"233.641\">0.003</text>\n",
       "</g>\n",
       "<g clip-path=\"url(#clip8500)\">\n",
       "<text style=\"fill:#000000; fill-opacity:1; font-family:Arial,Helvetica Neue,Helvetica,sans-serif; font-size:12; text-anchor:end;\" transform=\"rotate(0, 39.8557, 183.594)\" x=\"39.8557\" y=\"183.594\">0.004</text>\n",
       "</g>\n",
       "<g clip-path=\"url(#clip8500)\">\n",
       "<text style=\"fill:#000000; fill-opacity:1; font-family:Arial,Helvetica Neue,Helvetica,sans-serif; font-size:12; text-anchor:end;\" transform=\"rotate(0, 39.8557, 133.546)\" x=\"39.8557\" y=\"133.546\">0.005</text>\n",
       "</g>\n",
       "<g clip-path=\"url(#clip8500)\">\n",
       "<text style=\"fill:#000000; fill-opacity:1; font-family:Arial,Helvetica Neue,Helvetica,sans-serif; font-size:12; text-anchor:end;\" transform=\"rotate(0, 39.8557, 83.4987)\" x=\"39.8557\" y=\"83.4987\">0.006</text>\n",
       "</g>\n",
       "<g clip-path=\"url(#clip8500)\">\n",
       "<text style=\"fill:#000000; fill-opacity:1; font-family:Arial,Helvetica Neue,Helvetica,sans-serif; font-size:12; text-anchor:end;\" transform=\"rotate(0, 39.8557, 33.4512)\" x=\"39.8557\" y=\"33.4512\">0.007</text>\n",
       "</g>\n",
       "<polyline clip-path=\"url(#clip8502)\" style=\"stroke:#009af9; stroke-width:1; stroke-opacity:1; fill:none\" points=\"\n",
       "  45.8557,373.337 53.2787,375.322 60.7018,375.869 68.1248,375.005 75.5478,375.227 82.9709,372.837 90.3939,373.791 97.817,373.643 105.24,374.824 112.663,372.834 \n",
       "  120.086,374.764 127.509,370.763 134.932,374.975 142.355,369.777 149.778,373.44 157.201,371.537 164.624,372.754 172.047,365.077 179.47,370.034 186.894,369.828 \n",
       "  194.317,373.686 201.74,369.376 209.163,372.05 216.586,366.89 224.009,369.32 231.432,368.226 238.855,372.634 246.278,362.8 253.701,367.554 261.124,364.193 \n",
       "  268.547,371.213 275.97,363.203 283.393,366.409 290.816,367.79 298.239,366.578 305.662,362.791 313.085,370.26 320.508,363.79 327.931,370.684 335.354,357.664 \n",
       "  342.777,357.883 350.201,355.905 357.624,362.583 365.047,360.143 372.47,55.0685 379.893,370.097 387.316,365.37 394.739,369.747 402.162,361.664 409.585,369.926 \n",
       "  417.008,365.408 424.431,361.161 431.854,364.849 439.277,360.74 446.7,361.539 454.123,348.05 461.546,366.523 468.969,368.758 476.392,356.057 483.815,369.142 \n",
       "  491.238,363.338 498.661,368.152 506.085,362.446 513.508,345.954 520.931,354.605 528.354,356.67 535.777,11.811 543.2,362.567 550.623,78.5498 558.046,366.844 \n",
       "  565.469,350.282 572.892,367.618 580.315,365.63 \n",
       "  \"/>\n",
       "<polygon clip-path=\"url(#clip8500)\" points=\"\n",
       "489.608,62.931 562.315,62.931 562.315,32.691 489.608,32.691 \n",
       "  \" fill=\"#ffffff\" fill-opacity=\"1\"/>\n",
       "<polyline clip-path=\"url(#clip8500)\" style=\"stroke:#000000; stroke-width:1; stroke-opacity:1; fill:none\" points=\"\n",
       "  489.608,62.931 562.315,62.931 562.315,32.691 489.608,32.691 489.608,62.931 \n",
       "  \"/>\n",
       "<polyline clip-path=\"url(#clip8500)\" style=\"stroke:#009af9; stroke-width:1; stroke-opacity:1; fill:none\" points=\"\n",
       "  495.608,47.811 531.608,47.811 \n",
       "  \"/>\n",
       "<g clip-path=\"url(#clip8500)\">\n",
       "<text style=\"fill:#000000; fill-opacity:1; font-family:Arial,Helvetica Neue,Helvetica,sans-serif; font-size:12; text-anchor:start;\" transform=\"rotate(0, 537.608, 52.311)\" x=\"537.608\" y=\"52.311\">y1</text>\n",
       "</g>\n",
       "</svg>\n"
      ]
     },
     "execution_count": 32,
     "metadata": {},
     "output_type": "execute_result"
    }
   ],
   "source": [
    "collect(x)\n",
    "plot(x,Time)"
   ]
  },
  {
   "cell_type": "code",
   "execution_count": 33,
   "metadata": {},
   "outputs": [
    {
     "data": {
      "text/plain": [
       "73-element Array{Float64,1}:\n",
       " 0.0   \n",
       " 0.4722\n",
       " 0.4722\n",
       " 0.4722\n",
       " 0.4722\n",
       " 0.4722\n",
       " 0.4722\n",
       " 0.4722\n",
       " 0.4722\n",
       " 0.4722\n",
       " 0.4722\n",
       " 0.4722\n",
       " 0.4722\n",
       " ⋮     \n",
       " 0.4722\n",
       " 0.4722\n",
       " 0.4722\n",
       " 0.4722\n",
       " 0.4722\n",
       " 0.4722\n",
       " 0.4722\n",
       " 0.4722\n",
       " 0.4722\n",
       " 0.4722\n",
       " 0.4722\n",
       " 0.4722"
      ]
     },
     "execution_count": 33,
     "metadata": {},
     "output_type": "execute_result"
    }
   ],
   "source": [
    "A=Acc[1:73]"
   ]
  },
  {
   "cell_type": "code",
   "execution_count": 34,
   "metadata": {},
   "outputs": [
    {
     "data": {
      "image/svg+xml": [
       "<?xml version=\"1.0\" encoding=\"utf-8\"?>\n",
       "<svg xmlns=\"http://www.w3.org/2000/svg\" xmlns:xlink=\"http://www.w3.org/1999/xlink\" width=\"600\" height=\"400\" viewBox=\"0 0 600 400\">\n",
       "<defs>\n",
       "  <clipPath id=\"clip8700\">\n",
       "    <rect x=\"0\" y=\"0\" width=\"600\" height=\"400\"/>\n",
       "  </clipPath>\n",
       "</defs>\n",
       "<polygon clip-path=\"url(#clip8700)\" points=\"\n",
       "0,400 600,400 600,0 0,0 \n",
       "  \" fill=\"#ffffff\" fill-opacity=\"1\"/>\n",
       "<defs>\n",
       "  <clipPath id=\"clip8701\">\n",
       "    <rect x=\"120\" y=\"0\" width=\"421\" height=\"400\"/>\n",
       "  </clipPath>\n",
       "</defs>\n",
       "<polygon clip-path=\"url(#clip8700)\" points=\"\n",
       "32.4745,375.869 580.315,375.869 580.315,11.811 32.4745,11.811 \n",
       "  \" fill=\"#ffffff\" fill-opacity=\"1\"/>\n",
       "<defs>\n",
       "  <clipPath id=\"clip8702\">\n",
       "    <rect x=\"32\" y=\"11\" width=\"549\" height=\"365\"/>\n",
       "  </clipPath>\n",
       "</defs>\n",
       "<polyline clip-path=\"url(#clip8702)\" style=\"stroke:#000000; stroke-width:0.5; stroke-opacity:0.1; fill:none\" points=\"\n",
       "  100.955,375.869 100.955,11.811 \n",
       "  \"/>\n",
       "<polyline clip-path=\"url(#clip8702)\" style=\"stroke:#000000; stroke-width:0.5; stroke-opacity:0.1; fill:none\" points=\"\n",
       "  177.044,375.869 177.044,11.811 \n",
       "  \"/>\n",
       "<polyline clip-path=\"url(#clip8702)\" style=\"stroke:#000000; stroke-width:0.5; stroke-opacity:0.1; fill:none\" points=\"\n",
       "  253.132,375.869 253.132,11.811 \n",
       "  \"/>\n",
       "<polyline clip-path=\"url(#clip8702)\" style=\"stroke:#000000; stroke-width:0.5; stroke-opacity:0.1; fill:none\" points=\"\n",
       "  329.221,375.869 329.221,11.811 \n",
       "  \"/>\n",
       "<polyline clip-path=\"url(#clip8702)\" style=\"stroke:#000000; stroke-width:0.5; stroke-opacity:0.1; fill:none\" points=\"\n",
       "  405.31,375.869 405.31,11.811 \n",
       "  \"/>\n",
       "<polyline clip-path=\"url(#clip8702)\" style=\"stroke:#000000; stroke-width:0.5; stroke-opacity:0.1; fill:none\" points=\"\n",
       "  481.399,375.869 481.399,11.811 \n",
       "  \"/>\n",
       "<polyline clip-path=\"url(#clip8702)\" style=\"stroke:#000000; stroke-width:0.5; stroke-opacity:0.1; fill:none\" points=\"\n",
       "  557.488,375.869 557.488,11.811 \n",
       "  \"/>\n",
       "<polyline clip-path=\"url(#clip8702)\" style=\"stroke:#000000; stroke-width:0.5; stroke-opacity:0.1; fill:none\" points=\"\n",
       "  32.4745,375.869 580.315,375.869 \n",
       "  \"/>\n",
       "<polyline clip-path=\"url(#clip8702)\" style=\"stroke:#000000; stroke-width:0.5; stroke-opacity:0.1; fill:none\" points=\"\n",
       "  32.4745,298.77 580.315,298.77 \n",
       "  \"/>\n",
       "<polyline clip-path=\"url(#clip8702)\" style=\"stroke:#000000; stroke-width:0.5; stroke-opacity:0.1; fill:none\" points=\"\n",
       "  32.4745,221.672 580.315,221.672 \n",
       "  \"/>\n",
       "<polyline clip-path=\"url(#clip8702)\" style=\"stroke:#000000; stroke-width:0.5; stroke-opacity:0.1; fill:none\" points=\"\n",
       "  32.4745,144.574 580.315,144.574 \n",
       "  \"/>\n",
       "<polyline clip-path=\"url(#clip8702)\" style=\"stroke:#000000; stroke-width:0.5; stroke-opacity:0.1; fill:none\" points=\"\n",
       "  32.4745,67.4759 580.315,67.4759 \n",
       "  \"/>\n",
       "<polyline clip-path=\"url(#clip8700)\" style=\"stroke:#000000; stroke-width:1; stroke-opacity:1; fill:none\" points=\"\n",
       "  32.4745,375.869 580.315,375.869 \n",
       "  \"/>\n",
       "<polyline clip-path=\"url(#clip8700)\" style=\"stroke:#000000; stroke-width:1; stroke-opacity:1; fill:none\" points=\"\n",
       "  32.4745,375.869 32.4745,11.811 \n",
       "  \"/>\n",
       "<polyline clip-path=\"url(#clip8700)\" style=\"stroke:#000000; stroke-width:1; stroke-opacity:1; fill:none\" points=\"\n",
       "  100.955,375.869 100.955,370.408 \n",
       "  \"/>\n",
       "<polyline clip-path=\"url(#clip8700)\" style=\"stroke:#000000; stroke-width:1; stroke-opacity:1; fill:none\" points=\"\n",
       "  177.044,375.869 177.044,370.408 \n",
       "  \"/>\n",
       "<polyline clip-path=\"url(#clip8700)\" style=\"stroke:#000000; stroke-width:1; stroke-opacity:1; fill:none\" points=\"\n",
       "  253.132,375.869 253.132,370.408 \n",
       "  \"/>\n",
       "<polyline clip-path=\"url(#clip8700)\" style=\"stroke:#000000; stroke-width:1; stroke-opacity:1; fill:none\" points=\"\n",
       "  329.221,375.869 329.221,370.408 \n",
       "  \"/>\n",
       "<polyline clip-path=\"url(#clip8700)\" style=\"stroke:#000000; stroke-width:1; stroke-opacity:1; fill:none\" points=\"\n",
       "  405.31,375.869 405.31,370.408 \n",
       "  \"/>\n",
       "<polyline clip-path=\"url(#clip8700)\" style=\"stroke:#000000; stroke-width:1; stroke-opacity:1; fill:none\" points=\"\n",
       "  481.399,375.869 481.399,370.408 \n",
       "  \"/>\n",
       "<polyline clip-path=\"url(#clip8700)\" style=\"stroke:#000000; stroke-width:1; stroke-opacity:1; fill:none\" points=\"\n",
       "  557.488,375.869 557.488,370.408 \n",
       "  \"/>\n",
       "<polyline clip-path=\"url(#clip8700)\" style=\"stroke:#000000; stroke-width:1; stroke-opacity:1; fill:none\" points=\"\n",
       "  32.4745,375.869 40.6921,375.869 \n",
       "  \"/>\n",
       "<polyline clip-path=\"url(#clip8700)\" style=\"stroke:#000000; stroke-width:1; stroke-opacity:1; fill:none\" points=\"\n",
       "  32.4745,298.77 40.6921,298.77 \n",
       "  \"/>\n",
       "<polyline clip-path=\"url(#clip8700)\" style=\"stroke:#000000; stroke-width:1; stroke-opacity:1; fill:none\" points=\"\n",
       "  32.4745,221.672 40.6921,221.672 \n",
       "  \"/>\n",
       "<polyline clip-path=\"url(#clip8700)\" style=\"stroke:#000000; stroke-width:1; stroke-opacity:1; fill:none\" points=\"\n",
       "  32.4745,144.574 40.6921,144.574 \n",
       "  \"/>\n",
       "<polyline clip-path=\"url(#clip8700)\" style=\"stroke:#000000; stroke-width:1; stroke-opacity:1; fill:none\" points=\"\n",
       "  32.4745,67.4759 40.6921,67.4759 \n",
       "  \"/>\n",
       "<g clip-path=\"url(#clip8700)\">\n",
       "<text style=\"fill:#000000; fill-opacity:1; font-family:Arial,Helvetica Neue,Helvetica,sans-serif; font-size:12; text-anchor:middle;\" transform=\"rotate(0, 100.955, 389.669)\" x=\"100.955\" y=\"389.669\">10</text>\n",
       "</g>\n",
       "<g clip-path=\"url(#clip8700)\">\n",
       "<text style=\"fill:#000000; fill-opacity:1; font-family:Arial,Helvetica Neue,Helvetica,sans-serif; font-size:12; text-anchor:middle;\" transform=\"rotate(0, 177.044, 389.669)\" x=\"177.044\" y=\"389.669\">20</text>\n",
       "</g>\n",
       "<g clip-path=\"url(#clip8700)\">\n",
       "<text style=\"fill:#000000; fill-opacity:1; font-family:Arial,Helvetica Neue,Helvetica,sans-serif; font-size:12; text-anchor:middle;\" transform=\"rotate(0, 253.132, 389.669)\" x=\"253.132\" y=\"389.669\">30</text>\n",
       "</g>\n",
       "<g clip-path=\"url(#clip8700)\">\n",
       "<text style=\"fill:#000000; fill-opacity:1; font-family:Arial,Helvetica Neue,Helvetica,sans-serif; font-size:12; text-anchor:middle;\" transform=\"rotate(0, 329.221, 389.669)\" x=\"329.221\" y=\"389.669\">40</text>\n",
       "</g>\n",
       "<g clip-path=\"url(#clip8700)\">\n",
       "<text style=\"fill:#000000; fill-opacity:1; font-family:Arial,Helvetica Neue,Helvetica,sans-serif; font-size:12; text-anchor:middle;\" transform=\"rotate(0, 405.31, 389.669)\" x=\"405.31\" y=\"389.669\">50</text>\n",
       "</g>\n",
       "<g clip-path=\"url(#clip8700)\">\n",
       "<text style=\"fill:#000000; fill-opacity:1; font-family:Arial,Helvetica Neue,Helvetica,sans-serif; font-size:12; text-anchor:middle;\" transform=\"rotate(0, 481.399, 389.669)\" x=\"481.399\" y=\"389.669\">60</text>\n",
       "</g>\n",
       "<g clip-path=\"url(#clip8700)\">\n",
       "<text style=\"fill:#000000; fill-opacity:1; font-family:Arial,Helvetica Neue,Helvetica,sans-serif; font-size:12; text-anchor:middle;\" transform=\"rotate(0, 557.488, 389.669)\" x=\"557.488\" y=\"389.669\">70</text>\n",
       "</g>\n",
       "<g clip-path=\"url(#clip8700)\">\n",
       "<text style=\"fill:#000000; fill-opacity:1; font-family:Arial,Helvetica Neue,Helvetica,sans-serif; font-size:12; text-anchor:end;\" transform=\"rotate(0, 26.4745, 380.369)\" x=\"26.4745\" y=\"380.369\">0.0</text>\n",
       "</g>\n",
       "<g clip-path=\"url(#clip8700)\">\n",
       "<text style=\"fill:#000000; fill-opacity:1; font-family:Arial,Helvetica Neue,Helvetica,sans-serif; font-size:12; text-anchor:end;\" transform=\"rotate(0, 26.4745, 303.27)\" x=\"26.4745\" y=\"303.27\">0.1</text>\n",
       "</g>\n",
       "<g clip-path=\"url(#clip8700)\">\n",
       "<text style=\"fill:#000000; fill-opacity:1; font-family:Arial,Helvetica Neue,Helvetica,sans-serif; font-size:12; text-anchor:end;\" transform=\"rotate(0, 26.4745, 226.172)\" x=\"26.4745\" y=\"226.172\">0.2</text>\n",
       "</g>\n",
       "<g clip-path=\"url(#clip8700)\">\n",
       "<text style=\"fill:#000000; fill-opacity:1; font-family:Arial,Helvetica Neue,Helvetica,sans-serif; font-size:12; text-anchor:end;\" transform=\"rotate(0, 26.4745, 149.074)\" x=\"26.4745\" y=\"149.074\">0.3</text>\n",
       "</g>\n",
       "<g clip-path=\"url(#clip8700)\">\n",
       "<text style=\"fill:#000000; fill-opacity:1; font-family:Arial,Helvetica Neue,Helvetica,sans-serif; font-size:12; text-anchor:end;\" transform=\"rotate(0, 26.4745, 71.9759)\" x=\"26.4745\" y=\"71.9759\">0.4</text>\n",
       "</g>\n",
       "<polyline clip-path=\"url(#clip8702)\" style=\"stroke:#009af9; stroke-width:1; stroke-opacity:1; fill:none\" points=\"\n",
       "  32.4745,375.869 40.0834,11.811 47.6923,11.811 55.3012,11.811 62.9101,11.811 70.519,11.811 78.1279,11.811 85.7368,11.811 93.3457,11.811 100.955,11.811 \n",
       "  108.563,11.811 116.172,11.811 123.781,11.811 131.39,11.811 138.999,11.811 146.608,11.811 154.217,11.811 161.826,11.811 169.435,11.811 177.044,11.811 \n",
       "  184.652,11.811 192.261,11.811 199.87,11.811 207.479,11.811 215.088,11.811 222.697,11.811 230.306,11.811 237.915,11.811 245.524,11.811 253.132,11.811 \n",
       "  260.741,11.811 268.35,11.811 275.959,11.811 283.568,11.811 291.177,11.811 298.786,11.811 306.395,11.811 314.004,11.811 321.613,11.811 329.221,11.811 \n",
       "  336.83,11.811 344.439,11.811 352.048,11.811 359.657,11.811 367.266,11.811 374.875,11.811 382.484,11.811 390.093,11.811 397.701,11.811 405.31,11.811 \n",
       "  412.919,11.811 420.528,11.811 428.137,11.811 435.746,11.811 443.355,11.811 450.964,11.811 458.573,11.811 466.182,11.811 473.79,11.811 481.399,11.811 \n",
       "  489.008,11.811 496.617,11.811 504.226,11.811 511.835,11.811 519.444,11.811 527.053,11.811 534.662,11.811 542.27,11.811 549.879,11.811 557.488,11.811 \n",
       "  565.097,11.811 572.706,11.811 580.315,11.811 \n",
       "  \"/>\n",
       "<polygon clip-path=\"url(#clip8700)\" points=\"\n",
       "489.608,62.931 562.315,62.931 562.315,32.691 489.608,32.691 \n",
       "  \" fill=\"#ffffff\" fill-opacity=\"1\"/>\n",
       "<polyline clip-path=\"url(#clip8700)\" style=\"stroke:#000000; stroke-width:1; stroke-opacity:1; fill:none\" points=\"\n",
       "  489.608,62.931 562.315,62.931 562.315,32.691 489.608,32.691 489.608,62.931 \n",
       "  \"/>\n",
       "<polyline clip-path=\"url(#clip8700)\" style=\"stroke:#009af9; stroke-width:1; stroke-opacity:1; fill:none\" points=\"\n",
       "  495.608,47.811 531.608,47.811 \n",
       "  \"/>\n",
       "<g clip-path=\"url(#clip8700)\">\n",
       "<text style=\"fill:#000000; fill-opacity:1; font-family:Arial,Helvetica Neue,Helvetica,sans-serif; font-size:12; text-anchor:start;\" transform=\"rotate(0, 537.608, 52.311)\" x=\"537.608\" y=\"52.311\">y1</text>\n",
       "</g>\n",
       "</svg>\n"
      ]
     },
     "execution_count": 34,
     "metadata": {},
     "output_type": "execute_result"
    }
   ],
   "source": [
    "plot(x,A)"
   ]
  },
  {
   "cell_type": "code",
   "execution_count": 3,
   "metadata": {
    "scrolled": false
   },
   "outputs": [
    {
     "data": {
      "text/plain": [
       "20000×17 Array{Any,2}:\n",
       " \"N\"   2   3  4  2  1   5  10   3   3  10   8   8  4   8  0  8\n",
       " \"F\"  10  13  8  8  4   8   8   4   7  13   4   6  2   7  7  8\n",
       " \"T\"   4   7  6  5  6   7   7   4   5   7   6   9  5   8  5  7\n",
       " \"N\"   4   8  6  6  5   6   8   9   5   8   6   6  4   8  3  9\n",
       " \"A\"   2   8  4  5  2   7   5   3   1   6   0   8  2   7  2  7\n",
       " \"A\"   2   5  4  3  2   8   2   2   2   8   2   8  2   6  2  7\n",
       " \"I\"   2   8  5  6  5  11   6   1   6   9   4   5  1   7  5  8\n",
       " \"L\"   3   7  4  5  2   3   4   3   8   2   1   7  0   7  1  5\n",
       " \"O\"   2   3  3  1  1   8   7   7   5   7   6   8  2   8  3  8\n",
       " \"S\"   2   4  3  3  2   8   7   3   7  10   5   8  1   9  4  8\n",
       " \"D\"   3   5  4  4  3   7   7   6   6   7   6   5  5   8  3  7\n",
       " \"V\"   9  15  8  8  4   6  11   6   4  10  10   4  5  12  3  9\n",
       " \"P\"   2   7  3  4  1   4  11   8   3  10   6   4  1  10  3  8\n",
       " ⋮                  ⋮                   ⋮                 ⋮   \n",
       " \"U\"   5   8  6  6  4   4   8   5   7   9   7   9  4   8  4  4\n",
       " \"H\"   4  10  4  7  2   7   6  15   1   7   8   8  3   8  0  8\n",
       " \"V\"   4   5  6  4  6   7   7   5   4   7   6   8  6   9  7  7\n",
       " \"I\"   1   3  2  2  0   7   7   1   7  13   6   8  0   8  1  8\n",
       " \"W\"   3   2  5  3  3   5  11   3   2   8   9   9  8  13  1  8\n",
       " \"J\"   6   7  7  8  6   9   9   5   5   6   6  10  3   7  8  5\n",
       " \"K\"   2   1  3  2  2   6   7   4   7   7   6  10  3   8  5  9\n",
       " \"X\"   3   5  4  4  2   7   7   3   9   6   6   8  2   8  6  8\n",
       " \"Y\"   7  11  8  8  4   5   9   1   9  10  10   5  3  10  5  3\n",
       " \"L\"   5  10  6  8  3   2   2   5   8   1   0   6  0   7  1  6\n",
       " \"Z\"   3   5  4  7  2   7   7   4  13  10   6   8  0   8  8  8\n",
       " \"M\"   3   6  4  4  4   8   6   6   4   7   7   8  7   5  2  7"
      ]
     },
     "execution_count": 3,
     "metadata": {},
     "output_type": "execute_result"
    }
   ],
   "source": [
    "Letter = readdlm(\"Letter.txt\")"
   ]
  },
  {
   "cell_type": "code",
   "execution_count": 4,
   "metadata": {},
   "outputs": [],
   "source": [
    "classes = map(x->convert(Int,x[1][1]), Letter[:,1])\n",
    "classes -= minimum(classes);\n",
    "classes = classes.+1;\n",
    "\n",
    "train_data = Letter[1:15000,2:17]*1.0;\n",
    "train_labels = classes[1:15000,1].+1;\n",
    "test_data = Letter[15001:20000,2:17]*1.0;\n",
    "test_labels = classes[15001:20000,1].+1;"
   ]
  },
  {
   "cell_type": "code",
   "execution_count": 6,
   "metadata": {},
   "outputs": [],
   "source": [
    "writedlm(\"train_data.txt\", train_data)\n",
    "writedlm(\"train_labels.txt\", train_labels)\n",
    "writedlm(\"test_data.txt\", test_data)\n",
    "writedlm(\"test_labels.txt\", test_labels)"
   ]
  },
  {
   "cell_type": "code",
   "execution_count": 14,
   "metadata": {},
   "outputs": [],
   "source": [
    "MF=Mondrian_Forest_Classifier(10)\n",
    "Acc=zeros(150);\n",
    "Time=[];    "
   ]
  },
  {
   "cell_type": "code",
   "execution_count": 20,
   "metadata": {},
   "outputs": [
    {
     "name": "stdout",
     "output_type": "stream",
     "text": [
      "\n"
     ]
    },
    {
     "data": {
      "text/plain": [
       "0.2432"
      ]
     },
     "execution_count": 20,
     "metadata": {},
     "output_type": "execute_result"
    }
   ],
   "source": [
    "counter=1\n",
    "tic\n",
    "train!(MF,train_data[1:150,:],train_labels[1:150],1e9);\n",
    "t=toq\n",
    "push!(Time,t)\n",
    "pred=predict!(MF,test_data)\n",
    "Acc[counter]=correctrate(test_labels,convert(Array{Int,1},pred))"
   ]
  },
  {
   "cell_type": "code",
   "execution_count": 21,
   "metadata": {},
   "outputs": [
    {
     "name": "stdout",
     "output_type": "stream",
     "text": [
      "2\n",
      "0.328762248\n",
      "\n",
      "0.2432\n",
      "3\n",
      "0.060975386\n",
      "\n",
      "0.2432\n",
      "4\n",
      "0.000123414\n",
      "\n",
      "0.195\n",
      "5\n",
      "0.000102914\n",
      "\n",
      "0.1722\n",
      "6\n",
      "0.000169449\n",
      "\n",
      "0.1464\n",
      "7\n",
      "0.000198082\n",
      "\n",
      "0.1242\n",
      "8\n",
      "0.000178532\n",
      "\n",
      "0.115\n",
      "9\n",
      "0.000193234\n",
      "\n",
      "0.1138\n",
      "10\n",
      "0.000210977\n",
      "\n",
      "0.1138\n",
      "11\n",
      "0.000199939\n",
      "\n",
      "0.1138\n",
      "12\n",
      "0.00020819\n",
      "\n",
      "0.112\n",
      "13\n",
      "0.000227276\n",
      "\n",
      "0.0998\n",
      "14\n",
      "0.000220606\n",
      "\n",
      "0.0998\n",
      "15\n",
      "0.000340988\n",
      "\n",
      "0.0998\n",
      "16\n",
      "0.000244217\n",
      "\n",
      "0.0998\n",
      "17\n",
      "0.000143199\n",
      "\n",
      "0.0998\n",
      "18\n",
      "0.000211095\n",
      "\n",
      "0.0986\n",
      "19\n",
      "0.000136254\n",
      "\n",
      "0.0924\n",
      "20\n",
      "0.000204868\n",
      "\n",
      "0.0924\n",
      "21\n",
      "0.000179395\n",
      "\n",
      "0.0926\n",
      "22\n",
      "0.000191475\n",
      "\n",
      "0.0926\n",
      "23\n",
      "0.000209114\n",
      "\n",
      "0.0926\n",
      "24\n",
      "0.000200525\n",
      "\n",
      "0.0926\n",
      "25\n",
      "0.000229663\n",
      "\n",
      "0.0926\n",
      "26\n",
      "0.000270508\n",
      "\n",
      "0.0882\n",
      "27\n",
      "0.004025214\n",
      "\n",
      "0.0882\n",
      "28\n",
      "0.00019439\n",
      "\n",
      "0.0882\n",
      "29\n",
      "0.000186757\n",
      "\n",
      "0.0882\n",
      "30\n",
      "0.000219342\n",
      "\n",
      "0.0836\n",
      "31\n",
      "0.000154496\n",
      "\n",
      "0.0836\n",
      "32\n",
      "0.000241042\n",
      "\n",
      "0.0836\n",
      "33\n",
      "0.000167059\n",
      "\n",
      "0.0836\n",
      "34\n",
      "0.000240506\n",
      "\n",
      "0.0836\n",
      "35\n",
      "0.000260325\n",
      "\n"
     ]
    },
    {
     "ename": "LoadError",
     "evalue": "\u001b[91mInterruptException:\u001b[39m",
     "output_type": "error",
     "traceback": [
      "\u001b[91mInterruptException:\u001b[39m",
      "",
      "Stacktrace:",
      " [1] \u001b[1mpredict!\u001b[22m\u001b[22m\u001b[1m(\u001b[22m\u001b[22m::Mondrian_Tree, ::Array{Float64,1}, ::Int64\u001b[1m)\u001b[22m\u001b[22m at \u001b[1m/home/harvey/Group Project/warwick-rsg/MondrianForest/Mondrian_Tree.jl:315\u001b[22m\u001b[22m",
      " [2] \u001b[1mpredict!\u001b[22m\u001b[22m\u001b[1m(\u001b[22m\u001b[22m::Mondrian_Tree_Classifier, ::Array{Float64,2}\u001b[1m)\u001b[22m\u001b[22m at \u001b[1m/home/harvey/Group Project/warwick-rsg/MondrianForest/Mondrian_Forest_Classifier.jl:109\u001b[22m\u001b[22m",
      " [3] \u001b[1mpredict!\u001b[22m\u001b[22m\u001b[1m(\u001b[22m\u001b[22m::Mondrian_Forest_Classifier, ::Array{Float64,2}\u001b[1m)\u001b[22m\u001b[22m at \u001b[1m/home/harvey/Group Project/warwick-rsg/MondrianForest/Mondrian_Forest_Classifier.jl:169\u001b[22m\u001b[22m",
      " [4] \u001b[1mmacro expansion\u001b[22m\u001b[22m at \u001b[1m./In[21]:10\u001b[22m\u001b[22m [inlined]",
      " [5] \u001b[1manonymous\u001b[22m\u001b[22m at \u001b[1m./<missing>:?\u001b[22m\u001b[22m",
      " [6] \u001b[1minclude_string\u001b[22m\u001b[22m\u001b[1m(\u001b[22m\u001b[22m::String, ::String\u001b[1m)\u001b[22m\u001b[22m at \u001b[1m./loading.jl:522\u001b[22m\u001b[22m"
     ]
    },
    {
     "name": "stderr",
     "output_type": "stream",
     "text": [
      "\u001b[91mERROR (unhandled task failure): \u001b[91mInterruptException:\u001b[39m\n",
      "Stacktrace:\n",
      " [1] \u001b[1mprocess_events\u001b[22m\u001b[22m at \u001b[1m./libuv.jl:82\u001b[22m\u001b[22m [inlined]\n",
      " [2] \u001b[1mwait\u001b[22m\u001b[22m\u001b[1m(\u001b[22m\u001b[22m\u001b[1m)\u001b[22m\u001b[22m at \u001b[1m./event.jl:216\u001b[22m\u001b[22m\n",
      " [3] \u001b[1mwait\u001b[22m\u001b[22m\u001b[1m(\u001b[22m\u001b[22m::Condition\u001b[1m)\u001b[22m\u001b[22m at \u001b[1m./event.jl:27\u001b[22m\u001b[22m\n",
      " [4] \u001b[1mstream_wait\u001b[22m\u001b[22m\u001b[1m(\u001b[22m\u001b[22m::Timer, ::Condition, ::Vararg{Condition,N} where N\u001b[1m)\u001b[22m\u001b[22m at \u001b[1m./stream.jl:42\u001b[22m\u001b[22m\n",
      " [5] \u001b[1mwait\u001b[22m\u001b[22m\u001b[1m(\u001b[22m\u001b[22m::Timer\u001b[1m)\u001b[22m\u001b[22m at \u001b[1m./event.jl:357\u001b[22m\u001b[22m\n",
      " [6] \u001b[1m(::\u001b[22m\u001b[22m\u001b[39m\u001b[91mERROR (unhandled task failure): \u001b[91mInterruptException:\u001b[39m\n",
      "\u001b[39m\u001b[91mERROR (unhandled task failure): \u001b[91mInterruptException:\u001b[39m\n",
      "Stacktrace:\n",
      " [1] \u001b[1mprocess_events\u001b[22m\u001b[22m at \u001b[1m./libuv.jl:82\u001b[22m\u001b[22m [inlined]\n",
      " [2] \u001b[1mwait\u001b[22m\u001b[22m\u001b[1m(\u001b[22m\u001b[22m\u001b[1m)\u001b[22m\u001b[22m at \u001b[1m./event.jl:216\u001b[22m\u001b[22m\n",
      " [3] \u001b[1mwait\u001b[22m\u001b[22m\u001b[1m(\u001b[22m\u001b[22m::Condition\u001b[1m)\u001b[22m\u001b[22m at \u001b[1m./event.jl:27\u001b[22m\u001b[22m\n",
      " [4] \u001b[1mstream_wait\u001b[22m\u001b[22m\u001b[1m(\u001b[22m\u001b[22m::Timer, ::Condition, ::Vararg{Condition,N} where N\u001b[1m)\u001b[22m\u001b[22m at \u001b[1m./stream.jl:42\u001b[22m\u001b[22m\n",
      " [5] \u001b[1mwait\u001b[22m\u001b[22m\u001b[1m(\u001b[22m\u001b[22m::Timer\u001b[1m)\u001b[22m\u001b[22m at \u001b[1m./event.jl:357\u001b[22m\u001b[22m\n",
      " [6] \u001b[1m(::Base.##300#301{IJulia.#send_stdout,Timer})\u001b[22m\u001b[22m\u001b[1m(\u001b[22m\u001b[22m\u001b[1m)\u001b[22m\u001b[22m at \u001b[1m./event.jl:430\u001b[22m\u001b[22m\n",
      "\u001b[39m"
     ]
    }
   ],
   "source": [
    "i=151\n",
    "while i<15000\n",
    "    counter = counter+1\n",
    "    println(counter)\n",
    "    tic()\n",
    "    expand_forest!(MF,train_data[i:i+149,:],train_labels[i:i+149,:],1e9);\n",
    "    t=toq()\n",
    "    println(t)\n",
    "    push!(Time,t)\n",
    "    pred=predict!(MF,test_data)\n",
    "    Acc[counter]=correctrate(test_labels,convert(Array{Int,1},pred))\n",
    "    i=i+150\n",
    "    println(Acc[counter])\n",
    "end"
   ]
  },
  {
   "cell_type": "code",
   "execution_count": 61,
   "metadata": {},
   "outputs": [
    {
     "ename": "LoadError",
     "evalue": "\u001b[91mmode: input array cannot be empty.\u001b[39m",
     "output_type": "error",
     "traceback": [
      "\u001b[91mmode: input array cannot be empty.\u001b[39m",
      "",
      "Stacktrace:",
      " [1] \u001b[1mmode\u001b[22m\u001b[22m\u001b[1m(\u001b[22m\u001b[22m::Array{Float64,1}\u001b[1m)\u001b[22m\u001b[22m at \u001b[1m//////////////////////////////////////////////home/annika/JuliaProDir/JuliaPro-0.6.2.1/JuliaPro/pkgs-0.6.2.1/v0.6/StatsBase/src/scalarstats.jl:125\u001b[22m\u001b[22m",
      " [2] \u001b[1mpredict!\u001b[22m\u001b[22m\u001b[1m(\u001b[22m\u001b[22m::Mondrian_Forest_Classifier, ::Array{Float64,2}\u001b[1m)\u001b[22m\u001b[22m at \u001b[1m/home/annika/RSG Julia/warwick-rsg/MondrianForest/Mondrian_Forest_Classifier.jl:176\u001b[22m\u001b[22m",
      " [3] \u001b[1minclude_string\u001b[22m\u001b[22m\u001b[1m(\u001b[22m\u001b[22m::String, ::String\u001b[1m)\u001b[22m\u001b[22m at \u001b[1m./loading.jl:522\u001b[22m\u001b[22m"
     ]
    }
   ],
   "source": [
    "MN = Mondrian_Forest_Classifier(100)\n",
    "train!(MN,train_data,train_labels,1e9)\n",
    "pred=predict!(MN,test_data)\n",
    "correctrate(test_labels,convert(Array{Int,1},pred))"
   ]
  }
 ],
 "metadata": {
  "kernelspec": {
   "display_name": "Julia 0.6.2",
   "language": "julia",
   "name": "julia-0.6"
  },
  "language_info": {
   "file_extension": ".jl",
   "mimetype": "application/julia",
   "name": "julia",
   "version": "0.6.2"
  }
 },
 "nbformat": 4,
 "nbformat_minor": 2
}
