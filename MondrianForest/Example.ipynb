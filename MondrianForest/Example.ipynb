{
 "cells": [
  {
   "cell_type": "markdown",
   "metadata": {},
   "source": [
    "Examples of using the Mondrian forest and tree classifiers (not online \n",
    "versions)."
   ]
  },
  {
   "cell_type": "code",
   "execution_count": 1,
   "metadata": {},
   "outputs": [
    {
     "data": {
      "text/plain": [
       "predict_proba! (generic function with 2 methods)"
      ]
     },
     "execution_count": 1,
     "metadata": {},
     "output_type": "execute_result"
    }
   ],
   "source": [
    "include(\"Mondrian_Forest_Classifier.jl\")"
   ]
  },
  {
   "cell_type": "code",
   "execution_count": 18,
   "metadata": {},
   "outputs": [],
   "source": [
    "using MLBase\n",
    "function Fakedata(n,dim) \n",
    "    x = randn(n,dim)\n",
    "    y = (sum(exp.(x)/(1+exp.(x)),2)).>0.5\n",
    "    return 1.0*x,1*y[:,1]\n",
    "end\n",
    "\n",
    "d=5\n",
    "X, Y = Fakedata(100,d);\n",
    "Y = Y.+1;\n",
    "\n",
    "x,y = Fakedata(50,d)\n",
    "y = y.+1;"
   ]
  },
  {
   "cell_type": "code",
   "execution_count": 19,
   "metadata": {},
   "outputs": [
    {
     "data": {
      "text/plain": [
       "100×5 Array{Float64,2}:\n",
       "  1.76817      1.18007     -0.659772   -1.35169     1.03417 \n",
       " -0.636524    -0.775973     0.0733269  -0.220424    0.833636\n",
       "  0.516352     0.498452     0.523758   -1.45758     1.15377 \n",
       "  1.07403     -1.16751      1.31785     1.82744     1.06055 \n",
       "  0.823961    -1.79187      0.602917    0.782303   -3.16551 \n",
       " -0.00845894   0.975044    -0.478789    0.757276    0.338256\n",
       "  1.62641     -0.198659    -0.353183    0.983632   -0.227862\n",
       "  0.378324    -0.807227    -0.380407    0.896025   -0.177872\n",
       " -0.641208    -0.690753    -0.306095   -0.617858    0.651454\n",
       " -1.13218     -0.376089     0.0451029  -0.79297    -1.1512  \n",
       " -0.667151    -1.47951      0.75282    -0.659232    0.372437\n",
       "  0.343361     0.334198     1.13144     1.63475     0.479017\n",
       " -0.031674     0.00252408   0.346628    0.763188   -0.279554\n",
       "  ⋮                                                         \n",
       "  2.30105      0.68883      0.446623    0.264106   -0.163986\n",
       "  0.130164    -1.46917     -1.73975     0.362262   -0.292749\n",
       "  0.740392     0.296137     0.433414    2.19075    -1.76487 \n",
       "  0.0829861    1.42077      0.846645    1.31873     0.4984  \n",
       "  1.16856     -0.0592469   -0.873441    0.912502    0.141717\n",
       " -0.483754     0.545822    -0.853385   -0.310558   -0.48975 \n",
       "  1.33542      0.836041    -1.24321     0.584368    1.02447 \n",
       " -0.307064     1.15629      0.196822    0.896891   -0.419668\n",
       "  0.927701    -0.568937    -1.34084    -0.772011   -1.1238  \n",
       " -2.06126     -1.06024     -1.49709    -0.395824    2.19856 \n",
       " -1.50826      0.30351      1.43196    -0.0521141  -0.308434\n",
       " -0.683974     0.133987    -0.265778   -0.303089   -0.406446"
      ]
     },
     "execution_count": 19,
     "metadata": {},
     "output_type": "execute_result"
    }
   ],
   "source": [
    "X"
   ]
  },
  {
   "cell_type": "markdown",
   "metadata": {},
   "source": [
    "# Mondrian tree classifier"
   ]
  },
  {
   "cell_type": "code",
   "execution_count": 20,
   "metadata": {},
   "outputs": [
    {
     "name": "stdout",
     "output_type": "stream",
     "text": [
      "[0.382353, 0.617647]\n",
      "[0.382353, 0.617647]\n",
      "[0.382353, 0.617647]\n",
      "[0.25, 0.75]\n",
      "[0.714286, 0.285714]\n",
      "[0.382353, 0.617647]\n",
      "[0.2, 0.8]\n",
      "[0.714286, 0.285714]\n",
      "[0.382353, 0.617647]\n",
      "[0.714286, 0.285714]\n",
      "[1.0, 0.0]\n",
      "[0.382353, 0.617647]\n",
      "[0.714286, 0.285714]\n",
      "[0.571429, 0.428571]\n",
      "[0.382353, 0.617647]\n",
      "[0.382353, 0.617647]\n",
      "[0.714286, 0.285714]\n",
      "[0.2, 0.8]\n",
      "[0.666667, 0.333333]\n",
      "[0.714286, 0.285714]\n",
      "[0.714286, 0.285714]\n",
      "[1.0, 0.0]\n",
      "[0.0, 1.0]\n",
      "[0.571429, 0.428571]\n",
      "[0.714286, 0.285714]\n",
      "[0.25, 0.75]\n",
      "[0.2, 0.8]\n",
      "[0.0, 1.0]\n",
      "[0.382353, 0.617647]\n",
      "[0.382353, 0.617647]\n",
      "[0.25, 0.75]\n",
      "[0.666667, 0.333333]\n",
      "[0.571429, 0.428571]\n",
      "[0.382353, 0.617647]\n",
      "[0.714286, 0.285714]\n",
      "[0.5, 0.5]\n",
      "[0.714286, 0.285714]\n",
      "[0.714286, 0.285714]\n",
      "[0.714286, 0.285714]\n",
      "[1.0, 0.0]\n",
      "[0.25, 0.75]\n",
      "[0.666667, 0.333333]\n",
      "[0.666667, 0.333333]\n",
      "[0.2, 0.8]\n",
      "[0.2, 0.8]\n",
      "[0.382353, 0.617647]\n",
      "[0.382353, 0.617647]\n",
      "[0.382353, 0.617647]\n",
      "[0.714286, 0.285714]\n",
      "[0.382353, 0.617647]\n",
      "[0.0, 1.0]\n",
      "[0.382353, 0.617647]\n",
      "[0.382353, 0.617647]\n",
      "[0.382353, 0.617647]\n",
      "[0.5, 0.5]\n",
      "[0.714286, 0.285714]\n",
      "[0.382353, 0.617647]\n",
      "[0.714286, 0.285714]\n",
      "[0.714286, 0.285714]\n",
      "[0.382353, 0.617647]\n",
      "[1.0, 0.0]\n",
      "[0.382353, 0.617647]\n",
      "[0.5, 0.5]\n",
      "[0.382353, 0.617647]\n",
      "[0.0, 1.0]\n",
      "[0.714286, 0.285714]\n",
      "[0.5, 0.5]\n",
      "[0.382353, 0.617647]\n",
      "[0.714286, 0.285714]\n",
      "[0.382353, 0.617647]\n",
      "[0.0, 1.0]\n",
      "[0.666667, 0.333333]\n",
      "[0.382353, 0.617647]\n",
      "[0.382353, 0.617647]\n",
      "[0.714286, 0.285714]\n",
      "[0.0, 1.0]\n",
      "[0.382353, 0.617647]\n",
      "[1.0, 0.0]\n",
      "[0.0, 1.0]\n",
      "[0.571429, 0.428571]\n",
      "[0.382353, 0.617647]\n",
      "[1.0, 0.0]\n",
      "[0.714286, 0.285714]\n",
      "[0.382353, 0.617647]\n",
      "[0.382353, 0.617647]\n",
      "[1.0, 0.0]\n",
      "[0.382353, 0.617647]\n",
      "[0.5, 0.5]\n",
      "[0.0, 1.0]\n",
      "[0.714286, 0.285714]\n",
      "[0.0, 1.0]\n",
      "[0.382353, 0.617647]\n",
      "[0.382353, 0.617647]\n",
      "[0.571429, 0.428571]\n",
      "[0.382353, 0.617647]\n",
      "[0.571429, 0.428571]\n",
      "[0.5, 0.5]\n",
      "[1.0, 0.0]\n",
      "[0.666667, 0.333333]\n",
      "[0.571429, 0.428571]\n",
      "Train Accuracy\n",
      "0.71\n",
      "[0.5, 0.5]\n",
      "[0.382353, 0.617647]\n",
      "[0.714286, 0.285714]\n",
      "[0.714286, 0.285714]\n",
      "[0.714286, 0.285714]\n",
      "[0.25, 0.75]\n",
      "[1.0, 0.0]\n",
      "[1.0, 0.0]\n",
      "[0.571429, 0.428571]\n",
      "[0.382353, 0.617647]\n",
      "[0.5, 0.5]\n",
      "[0.25, 0.75]\n",
      "[0.0, 1.0]\n",
      "[0.571429, 0.428571]\n",
      "[0.382353, 0.617647]\n",
      "[0.5, 0.5]\n",
      "[0.5, 0.5]\n",
      "[1.0, 0.0]\n",
      "[0.5, 0.5]\n",
      "[1.0, 0.0]\n",
      "[0.714286, 0.285714]\n",
      "[0.382353, 0.617647]\n",
      "[0.714286, 0.285714]\n",
      "[0.382353, 0.617647]\n",
      "[0.382353, 0.617647]\n",
      "[1.0, 0.0]\n",
      "[0.382353, 0.617647]\n",
      "[0.382353, 0.617647]\n",
      "[0.382353, 0.617647]\n",
      "[0.382353, 0.617647]\n",
      "[0.666667, 0.333333]\n",
      "[0.571429, 0.428571]\n",
      "[0.5, 0.5]\n",
      "[0.382353, 0.617647]\n",
      "[0.0, 1.0]\n",
      "[0.571429, 0.428571]\n",
      "[0.382353, 0.617647]\n",
      "[0.571429, 0.428571]\n",
      "[0.2, 0.8]\n",
      "[0.382353, 0.617647]\n",
      "[0.666667, 0.333333]\n",
      "[0.25, 0.75]\n",
      "[0.382353, 0.617647]\n",
      "[0.382353, 0.617647]\n",
      "[0.714286, 0.285714]\n",
      "[0.382353, 0.617647]\n",
      "[0.0, 1.0]\n",
      "[0.25, 0.75]\n",
      "[0.666667, 0.333333]\n",
      "[0.382353, 0.617647]\n",
      "Accuracy\n",
      "0.54\n"
     ]
    }
   ],
   "source": [
    "MT = Mondrian_Tree()\n",
    "train!(MT,X,Y,1e9)\n",
    "pred=predict!(MT, X)\n",
    "println(\"Train Accuracy\")\n",
    "println(correctrate(Y,convert(Array{Int,1},pred)))\n",
    "pred=predict!(MT, x)\n",
    "println(\"Accuracy\") \n",
    "println(correctrate(y,convert(Array{Int,1},pred)))"
   ]
  },
  {
   "cell_type": "code",
   "execution_count": 30,
   "metadata": {},
   "outputs": [
    {
     "ename": "LoadError",
     "evalue": "\u001b[91mNullException()\u001b[39m",
     "output_type": "error",
     "traceback": [
      "\u001b[91mNullException()\u001b[39m",
      "",
      "Stacktrace:",
      " [1] \u001b[1mget\u001b[22m\u001b[22m at \u001b[1m./nullable.jl:92\u001b[22m\u001b[22m [inlined]",
      " [2] \u001b[1mpredict!\u001b[22m\u001b[22m\u001b[1m(\u001b[22m\u001b[22m::Mondrian_Tree, ::Array{Float64,1}, ::Int64\u001b[1m)\u001b[22m\u001b[22m at \u001b[1m/home/harvey/Group Project/warwick-rsg/MondrianForest/Mondrian_Tree.jl:233\u001b[22m\u001b[22m",
      " [3] \u001b[1mpredict_proba!\u001b[22m\u001b[22m\u001b[1m(\u001b[22m\u001b[22m::Mondrian_Tree, ::Array{Float64,2}\u001b[1m)\u001b[22m\u001b[22m at \u001b[1m/home/harvey/Group Project/warwick-rsg/MondrianForest/Mondrian_Forest_Classifier.jl:72\u001b[22m\u001b[22m",
      " [4] \u001b[1minclude_string\u001b[22m\u001b[22m\u001b[1m(\u001b[22m\u001b[22m::String, ::String\u001b[1m)\u001b[22m\u001b[22m at \u001b[1m./loading.jl:522\u001b[22m\u001b[22m"
     ]
    }
   ],
   "source": [
    "predict_proba!(MT,x[1:10,:])"
   ]
  },
  {
   "cell_type": "markdown",
   "metadata": {},
   "source": [
    "# Mondrian Forest classifier\n",
    "\n",
    "Python has $\\sim 27 - 33$ seconds runtime, $\\sim 276-619$ MiB of memory allocations, and about $0.8-0.92$ accuracy on an\n",
    "equivalent problem\n",
    "\n",
    "See [python comparison](comparisons/python_comp.ipynb) and the plots below. S\n",
    "\n",
    "\n",
    "![alt text](comparisons/n_tree_scale.png)\n",
    "![alt text](comparisons/n_data_scale.png)"
   ]
  },
  {
   "cell_type": "code",
   "execution_count": 31,
   "metadata": {},
   "outputs": [
    {
     "name": "stdout",
     "output_type": "stream",
     "text": [
      "  0.265484 seconds (2.41 M allocations: 69.843 MiB, 4.10% gc time)\n",
      "Train Accuracy\n",
      "0.885\n",
      "Accuracy\n",
      "0.83\n"
     ]
    }
   ],
   "source": [
    "MF = Mondrian_Forest_Classifier(10)\n",
    "@time train!(MF, X, Y, 1e3)\n",
    "pred=predict!(MF, X);\n",
    "println(\"Train Accuracy\")\n",
    "println(correctrate(Y,convert(Array{Int,1},pred)))\n",
    "pred=predict!(MF, x)\n",
    "println(\"Accuracy\") \n",
    "println(correctrate(y,convert(Array{Int,1},pred)))"
   ]
  },
  {
   "cell_type": "code",
   "execution_count": 106,
   "metadata": {},
   "outputs": [
    {
     "data": {
      "text/plain": [
       "10-element Array{Array{Float64,1},1}:\n",
       " [0.513914, 0.486086]\n",
       " [0.6111, 0.3889]    \n",
       " [0.796923, 0.203077]\n",
       " [0.491248, 0.508752]\n",
       " [0.591178, 0.408822]\n",
       " [0.680126, 0.319874]\n",
       " [0.342672, 0.657328]\n",
       " [0.748841, 0.251159]\n",
       " [0.135424, 0.864576]\n",
       " [0.580112, 0.419888]"
      ]
     },
     "execution_count": 106,
     "metadata": {},
     "output_type": "execute_result"
    }
   ],
   "source": [
    "predict_proba!(MF,x[1:10,:])"
   ]
  },
  {
   "cell_type": "markdown",
   "metadata": {},
   "source": [
    "# Cross validation"
   ]
  },
  {
   "cell_type": "code",
   "execution_count": 26,
   "metadata": {},
   "outputs": [],
   "source": [
    "d=5\n",
    "X, Y = Fakedata(10000,d);\n",
    "Y = Y.+1;"
   ]
  },
  {
   "cell_type": "code",
   "execution_count": 92,
   "metadata": {
    "scrolled": false
   },
   "outputs": [
    {
     "name": "stdout",
     "output_type": "stream",
     "text": [
      "[n_trees=10, λ=10.0] => 0.915\n",
      "[n_trees=100, λ=10.0] => 0.936\n",
      "[n_trees=250, λ=10.0] => 0.943\n",
      "[n_trees=500, λ=10.0] => 0.947\n",
      "[n_trees=10, λ=100.0] => 0.9\n",
      "[n_trees=100, λ=100.0] => 0.944\n",
      "[n_trees=250, λ=100.0] => 0.954\n",
      "[n_trees=500, λ=100.0] => 0.955\n",
      "[n_trees=10, λ=10000.0] => 0.833\n",
      "[n_trees=100, λ=10000.0] => 0.942\n",
      "[n_trees=250, λ=10000.0] => 0.952\n",
      "[n_trees=500, λ=10000.0] => 0.941\n",
      "[n_trees=10, λ=1.0e8] => 0.87\n",
      "[n_trees=100, λ=1.0e8] => 0.928\n",
      "[n_trees=250, λ=1.0e8] => 0.951\n",
      "[n_trees=500, λ=1.0e8] => 0.927\n",
      "[n_trees=10, λ=1.0e16] => 0.897\n",
      "[n_trees=100, λ=1.0e16] => 0.941\n",
      "[n_trees=250, λ=1.0e16] => 0.934\n",
      "[n_trees=500, λ=1.0e16] => 0.941\n",
      "\n",
      "Best Configuration: (500, 100.0)\n",
      "\n",
      "Best score: 0.955\n"
     ]
    }
   ],
   "source": [
    "function estfun(train_inds)\n",
    "    MF = Mondrian_Forest_Classifier(n_trees)\n",
    "    train!(MF,X[train_inds,:],Y[train_inds],λ)\n",
    "    return MF\n",
    "end\n",
    "\n",
    "function evalfun(MF::Mondrian_Forest_Classifier, test_inds)\n",
    "    return correctrate(Y[test_inds], predict!(MF,X[test_inds,:]))\n",
    "end\n",
    "\n",
    "best_model, best_config, best_score = gridtune(estfun, \n",
    "                                               evalfun, \n",
    "                                               (\"n_trees\",[10,100,250,500]),\n",
    "                                               (\"λ\",[1e1,1e2,1e4,1e8,1e16]),\n",
    "                                               verbose=true\n",
    ")\n",
    "println(\"\\nBest Configuration: \", best_config)\n",
    "println(\"\\nBest score: \", best_score)"
   ]
  }
 ],
 "metadata": {
  "kernelspec": {
   "display_name": "Julia 0.6.2",
   "language": "julia",
   "name": "julia-0.6"
  },
  "language_info": {
   "file_extension": ".jl",
   "mimetype": "application/julia",
   "name": "julia",
   "version": "0.6.2"
  }
 },
 "nbformat": 4,
 "nbformat_minor": 2
}
