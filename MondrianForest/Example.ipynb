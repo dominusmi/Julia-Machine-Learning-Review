{
 "cells": [
  {
   "cell_type": "code",
   "execution_count": 1,
   "metadata": {},
   "outputs": [
    {
     "data": {
      "text/plain": [
       "predict! (generic function with 4 methods)"
      ]
     },
     "execution_count": 1,
     "metadata": {},
     "output_type": "execute_result"
    }
   ],
   "source": [
    "include(\"Mondrian_Forest_Classifier.jl\")"
   ]
  },
  {
   "cell_type": "code",
   "execution_count": 2,
   "metadata": {},
   "outputs": [],
   "source": [
    "using MLBase\n",
    "function Fakedata(n,dim) \n",
    "    x = randn(n,dim)\n",
    "    y = (sum(exp.(x)/(1+exp.(x)),2)).>0.5\n",
    "    return 1.0*x,1*y[:,1]\n",
    "end\n",
    "\n",
    "d=5\n",
    "X, Y = Fakedata(1000,d);\n",
    "D = (X,Y.+1)\n",
    "\n",
    "x,y = Fakedata(100,d)\n",
    "D_test = (x,y.+1)\n",
    "\n",
    "# t = y.==1;\n",
    "\n",
    "# using Plots\n",
    "# scatter(x[t.==1,1],x[t.==1,2])\n",
    "# scatter!(x[t.==0,1],x[t.==0,2])"
   ]
  },
  {
   "cell_type": "code",
   "execution_count": 4,
   "metadata": {},
   "outputs": [
    {
     "name": "stdout",
     "output_type": "stream",
     "text": [
      "Train Accuracy\n",
      "0.865\n",
      "Accuracy\n",
      "0.78\n"
     ]
    }
   ],
   "source": [
    "MT = Mondrian_Tree()\n",
    "train!(MT,D[1],D[2],0.7)\n",
    "pred=predict!(MT, D[1])\n",
    "println(\"Train Accuracy\")\n",
    "println(correctrate(D[2],convert(Array{Int,1},pred)))\n",
    "pred=predict!(MT, D_test[1])\n",
    "println(\"Accuracy\") \n",
    "println(correctrate(D_test[2],convert(Array{Int,1},pred)))"
   ]
  },
  {
   "cell_type": "code",
   "execution_count": 3,
   "metadata": {},
   "outputs": [
    {
     "name": "stdout",
     "output_type": "stream",
     "text": [
      "Train Accuracy\n",
      "0.981\n",
      "Accuracy\n",
      "0.89\n"
     ]
    }
   ],
   "source": [
    "MF = Mondrian_Forest_Classifier(100)\n",
    "train!(MF, D[1], D[2], 0.7)\n",
    "pred=predict!(MF, D[1]);\n",
    "println(\"Train Accuracy\")\n",
    "println(correctrate(D[2],convert(Array{Int,1},pred)))\n",
    "pred=predict!(MF, D_test[1])\n",
    "println(\"Accuracy\") \n",
    "println(correctrate(D_test[2],convert(Array{Int,1},pred)))"
   ]
  }
 ],
 "metadata": {
  "kernelspec": {
   "display_name": "Julia 0.6.2",
   "language": "julia",
   "name": "julia-0.6"
  },
  "language_info": {
   "file_extension": ".jl",
   "mimetype": "application/julia",
   "name": "julia",
   "version": "0.6.2"
  }
 },
 "nbformat": 4,
 "nbformat_minor": 2
}
