{
 "cells": [
  {
   "cell_type": "markdown",
   "metadata": {},
   "source": [
    "Examples of using the Mondrian forest and tree classifiers (not online \n",
    "versions)."
   ]
  },
  {
   "cell_type": "code",
   "execution_count": 1,
   "metadata": {},
   "outputs": [
    {
     "data": {
      "text/plain": [
       "predict_proba! (generic function with 2 methods)"
      ]
     },
     "execution_count": 1,
     "metadata": {},
     "output_type": "execute_result"
    }
   ],
   "source": [
    "include(\"Mondrian_Forest_Classifier.jl\")"
   ]
  },
  {
   "cell_type": "code",
   "execution_count": 2,
   "metadata": {},
   "outputs": [],
   "source": [
    "using MLBase\n",
    "function Fakedata(n,dim) \n",
    "    x = randn(n,dim)\n",
    "    y = (sum(exp.(x)/(1+exp.(x)),2)).>0.5\n",
    "    return 1.0*x,1*y[:,1]\n",
    "end\n",
    "\n",
    "d=5\n",
    "X, Y = Fakedata(1000,d);\n",
    "Y = Y.+1;\n",
    "\n",
    "x,y = Fakedata(100,d)\n",
    "y = y.+1;"
   ]
  },
  {
   "cell_type": "markdown",
   "metadata": {},
   "source": [
    "# Mondrian tree classifier"
   ]
  },
  {
   "cell_type": "code",
   "execution_count": 3,
   "metadata": {},
   "outputs": [
    {
     "name": "stdout",
     "output_type": "stream",
     "text": [
      "Train Accuracy\n",
      "0.723\n",
      "Accuracy\n",
      "0.64\n"
     ]
    }
   ],
   "source": [
    "MT = Mondrian_Tree()\n",
    "train!(MT,X,Y,1e3)\n",
    "pred=predict!(MT, X)\n",
    "println(\"Train Accuracy\")\n",
    "println(correctrate(Y,convert(Array{Int,1},pred)))\n",
    "pred=predict!(MT, x)\n",
    "println(\"Accuracy\") \n",
    "println(correctrate(y,convert(Array{Int,1},pred)))"
   ]
  },
  {
   "cell_type": "markdown",
   "metadata": {},
   "source": [
    "# Mondrian Forest classifier\n",
    "\n",
    "Python has $\\sim 27 - 33$ seconds runtime, $\\sim 276-619$ MiB of memory allocations, and about $0.8-0.92$ accuracy on an\n",
    "equivalent problem\n",
    "\n",
    "See [python comparison](comparisons/python_comp.ipynb) and the plots below. S\n",
    "\n",
    "\n",
    "![alt text](comparisons/n_tree_scale.png)\n",
    "![alt text](comparisons/n_data_scale.png)"
   ]
  },
  {
   "cell_type": "code",
   "execution_count": 4,
   "metadata": {},
   "outputs": [
    {
     "name": "stdout",
     "output_type": "stream",
     "text": [
      "  2.218019 seconds (20.84 M allocations: 576.558 MiB, 4.32% gc time)\n",
      "Train Accuracy\n",
      "0.927\n",
      "Accuracy\n",
      "0.83\n"
     ]
    }
   ],
   "source": [
    "MF = Mondrian_Forest_Classifier(100)\n",
    "@time train!(MF, X, Y, 1e9)\n",
    "pred=predict!(MF, X);\n",
    "println(\"Train Accuracy\")\n",
    "println(correctrate(Y,convert(Array{Int,1},pred)))\n",
    "pred=predict!(MF, x)\n",
    "println(\"Accuracy\") \n",
    "println(correctrate(y,convert(Array{Int,1},pred)))"
   ]
  },
  {
   "cell_type": "markdown",
   "metadata": {},
   "source": [
    "# Cross validation"
   ]
  },
  {
   "cell_type": "code",
   "execution_count": 26,
   "metadata": {},
   "outputs": [],
   "source": [
    "d=5\n",
    "X, Y = Fakedata(10000,d);\n",
    "Y = Y.+1;"
   ]
  },
  {
   "cell_type": "code",
   "execution_count": 92,
   "metadata": {
    "scrolled": false
   },
   "outputs": [
    {
     "name": "stdout",
     "output_type": "stream",
     "text": [
      "[n_trees=10, λ=10.0] => 0.915\n",
      "[n_trees=100, λ=10.0] => 0.936\n",
      "[n_trees=250, λ=10.0] => 0.943\n",
      "[n_trees=500, λ=10.0] => 0.947\n",
      "[n_trees=10, λ=100.0] => 0.9\n",
      "[n_trees=100, λ=100.0] => 0.944\n",
      "[n_trees=250, λ=100.0] => 0.954\n",
      "[n_trees=500, λ=100.0] => 0.955\n",
      "[n_trees=10, λ=10000.0] => 0.833\n",
      "[n_trees=100, λ=10000.0] => 0.942\n",
      "[n_trees=250, λ=10000.0] => 0.952\n",
      "[n_trees=500, λ=10000.0] => 0.941\n",
      "[n_trees=10, λ=1.0e8] => 0.87\n",
      "[n_trees=100, λ=1.0e8] => 0.928\n",
      "[n_trees=250, λ=1.0e8] => 0.951\n",
      "[n_trees=500, λ=1.0e8] => 0.927\n",
      "[n_trees=10, λ=1.0e16] => 0.897\n",
      "[n_trees=100, λ=1.0e16] => 0.941\n",
      "[n_trees=250, λ=1.0e16] => 0.934\n",
      "[n_trees=500, λ=1.0e16] => 0.941\n",
      "\n",
      "Best Configuration: (500, 100.0)\n",
      "\n",
      "Best score: 0.955\n"
     ]
    }
   ],
   "source": [
    "function estfun(train_inds)\n",
    "    MF = Mondrian_Forest_Classifier(n_trees)\n",
    "    train!(MF,X[train_inds,:],Y[train_inds],λ)\n",
    "    return MF\n",
    "end\n",
    "\n",
    "function evalfun(MF::Mondrian_Forest_Classifier, test_inds)\n",
    "    return correctrate(Y[test_inds], predict!(MF,X[test_inds,:]))\n",
    "end\n",
    "\n",
    "best_model, best_config, best_score = gridtune(estfun, \n",
    "                                               evalfun, \n",
    "                                               (\"n_trees\",[10,100,250,500]),\n",
    "                                               (\"λ\",[1e1,1e2,1e4,1e8,1e16]),\n",
    "                                               verbose=true\n",
    ")\n",
    "println(\"\\nBest Configuration: \", best_config)\n",
    "println(\"\\nBest score: \", best_score)"
   ]
  }
 ],
 "metadata": {
  "kernelspec": {
   "display_name": "Julia 0.6.2",
   "language": "julia",
   "name": "julia-0.6"
  },
  "language_info": {
   "file_extension": ".jl",
   "mimetype": "application/julia",
   "name": "julia",
   "version": "0.6.2"
  }
 },
 "nbformat": 4,
 "nbformat_minor": 2
}
