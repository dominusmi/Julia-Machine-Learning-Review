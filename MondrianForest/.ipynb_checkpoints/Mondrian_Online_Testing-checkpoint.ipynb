{
 "cells": [
  {
   "cell_type": "code",
   "execution_count": 1,
   "metadata": {},
   "outputs": [
    {
     "data": {
      "text/plain": [
       "expand_forest!"
      ]
     },
     "execution_count": 1,
     "metadata": {},
     "output_type": "execute_result"
    }
   ],
   "source": [
    "import Base.copy\n",
    "using Distributions\n",
    "using MLBase\n",
    "include(\"Mondrian_Forest_Classifier.jl\"); \n",
    "include(\"Mondrian_extention.jl\")"
   ]
  },
  {
   "cell_type": "code",
   "execution_count": 45,
   "metadata": {},
   "outputs": [
    {
     "data": {
      "text/plain": [
       "Fakedata3Classif (generic function with 2 methods)"
      ]
     },
     "execution_count": 45,
     "metadata": {},
     "output_type": "execute_result"
    }
   ],
   "source": [
    "function Fakedata3Classif(N,d,N_test=0)\n",
    "    X = randn((N,d))\n",
    "    param1 = randn(d)\n",
    "    param2 = randn(d)\n",
    "    Y = ( sum(X*param1,2) .> mean(sum(X*param2,2)) )\n",
    "    Y=convert(Array{Int},Y)\n",
    "    for i in 1:size(X,1)\n",
    "        if X[i,2] > 1.5\n",
    "            Y[i] = 3\n",
    "        end\n",
    "    end\n",
    "    if (N_test > 0)\n",
    "        x = randn((N_test,d))\n",
    "        y = ( sum(x*param1,2) .> mean(sum(x*param2,2)) )\n",
    "        y=convert(Array{Int},y)\n",
    "        for i in 1:size(x,1)\n",
    "            if x[i,2] > 1.5\n",
    "                y[i] = 3\n",
    "            end\n",
    "        end\n",
    "        return X,Y,x,y\n",
    "    end\n",
    "    return X,Y\n",
    "end"
   ]
  },
  {
   "cell_type": "code",
   "execution_count": null,
   "metadata": {},
   "outputs": [],
   "source": [
    "X, Y = Fakedata3Classif(15000,16,15000); #X,Y: train set ; x,y: extention data\n",
    "x, y = Fakedata3Classif(5000,16,5000)\n",
    "Y = Y.+1;\n",
    "y = y.+1;"
   ]
  },
  {
   "cell_type": "code",
   "execution_count": 47,
   "metadata": {},
   "outputs": [],
   "source": [
    "MF=Mondrian_Forest_Classifier(100)\n",
    "Acc=zeros(150);"
   ]
  },
  {
   "cell_type": "code",
   "execution_count": 48,
   "metadata": {},
   "outputs": [
    {
     "data": {
      "text/plain": [
       "0.0"
      ]
     },
     "execution_count": 48,
     "metadata": {},
     "output_type": "execute_result"
    }
   ],
   "source": [
    "counter=1\n",
    "train!(MF,X[1:150,:],Y[1:150,:],1e9);\n",
    "pred=predict!(MF,x)\n",
    "Acc[counter]=correctrate(y,convert(Array{Int,1},pred))"
   ]
  },
  {
   "cell_type": "code",
   "execution_count": null,
   "metadata": {},
   "outputs": [],
   "source": [
    "i=151\n",
    "while i<15000\n",
    "    expand_forest!(MF,X[i:i+149,:],Y[i:i+149,:],1e9);\n",
    "    pred=predict!(MF,x)\n",
    "    Acc[counter]=correctrate(y,convert(Array{Int,1},pred))\n",
    "    i=i+150\n",
    "    counter = counter+1\n",
    "end"
   ]
  },
  {
   "cell_type": "code",
   "execution_count": null,
   "metadata": {},
   "outputs": [],
   "source": []
  },
  {
   "cell_type": "code",
   "execution_count": 11,
   "metadata": {
    "scrolled": false
   },
   "outputs": [
    {
     "data": {
      "text/plain": [
       "20000×17 Array{Any,2}:\n",
       " \"N\"   2   3  4  2  1   5  10   3   3  10   8   8  4   8  0  8\n",
       " \"F\"  10  13  8  8  4   8   8   4   7  13   4   6  2   7  7  8\n",
       " \"T\"   4   7  6  5  6   7   7   4   5   7   6   9  5   8  5  7\n",
       " \"N\"   4   8  6  6  5   6   8   9   5   8   6   6  4   8  3  9\n",
       " \"A\"   2   8  4  5  2   7   5   3   1   6   0   8  2   7  2  7\n",
       " \"A\"   2   5  4  3  2   8   2   2   2   8   2   8  2   6  2  7\n",
       " \"I\"   2   8  5  6  5  11   6   1   6   9   4   5  1   7  5  8\n",
       " \"L\"   3   7  4  5  2   3   4   3   8   2   1   7  0   7  1  5\n",
       " \"O\"   2   3  3  1  1   8   7   7   5   7   6   8  2   8  3  8\n",
       " \"S\"   2   4  3  3  2   8   7   3   7  10   5   8  1   9  4  8\n",
       " \"D\"   3   5  4  4  3   7   7   6   6   7   6   5  5   8  3  7\n",
       " \"V\"   9  15  8  8  4   6  11   6   4  10  10   4  5  12  3  9\n",
       " \"P\"   2   7  3  4  1   4  11   8   3  10   6   4  1  10  3  8\n",
       " ⋮                  ⋮                   ⋮                 ⋮   \n",
       " \"U\"   5   8  6  6  4   4   8   5   7   9   7   9  4   8  4  4\n",
       " \"H\"   4  10  4  7  2   7   6  15   1   7   8   8  3   8  0  8\n",
       " \"V\"   4   5  6  4  6   7   7   5   4   7   6   8  6   9  7  7\n",
       " \"I\"   1   3  2  2  0   7   7   1   7  13   6   8  0   8  1  8\n",
       " \"W\"   3   2  5  3  3   5  11   3   2   8   9   9  8  13  1  8\n",
       " \"J\"   6   7  7  8  6   9   9   5   5   6   6  10  3   7  8  5\n",
       " \"K\"   2   1  3  2  2   6   7   4   7   7   6  10  3   8  5  9\n",
       " \"X\"   3   5  4  4  2   7   7   3   9   6   6   8  2   8  6  8\n",
       " \"Y\"   7  11  8  8  4   5   9   1   9  10  10   5  3  10  5  3\n",
       " \"L\"   5  10  6  8  3   2   2   5   8   1   0   6  0   7  1  6\n",
       " \"Z\"   3   5  4  7  2   7   7   4  13  10   6   8  0   8  8  8\n",
       " \"M\"   3   6  4  4  4   8   6   6   4   7   7   8  7   5  2  7"
      ]
     },
     "execution_count": 11,
     "metadata": {},
     "output_type": "execute_result"
    }
   ],
   "source": [
    "Letter = readdlm(\"Letter.txt\")"
   ]
  },
  {
   "cell_type": "code",
   "execution_count": 16,
   "metadata": {},
   "outputs": [],
   "source": [
    "train_data = Letter[1:15000,2:17];"
   ]
  },
  {
   "cell_type": "code",
   "execution_count": 18,
   "metadata": {},
   "outputs": [],
   "source": [
    "train_labels = Letter[1:15000,1];"
   ]
  },
  {
   "cell_type": "code",
   "execution_count": 20,
   "metadata": {},
   "outputs": [],
   "source": [
    "test_data = Letter[15001:20000,2:17];"
   ]
  },
  {
   "cell_type": "code",
   "execution_count": 22,
   "metadata": {},
   "outputs": [],
   "source": [
    "test_labels = Letter[15001:20000,1];"
   ]
  },
  {
   "cell_type": "code",
   "execution_count": 14,
   "metadata": {},
   "outputs": [
    {
     "data": {
      "text/plain": []
     },
     "execution_count": 14,
     "metadata": {},
     "output_type": "execute_result"
    },
    {
     "name": "stdout",
     "output_type": "stream",
     "text": [
      "Mondrian Forest Classifier with 100 Mondrian trees:\n"
     ]
    }
   ],
   "source": [
    "MF=Mondrian_Forest_Classifier(100)"
   ]
  },
  {
   "cell_type": "code",
   "execution_count": null,
   "metadata": {},
   "outputs": [],
   "source": [
    "for i=1:150\n",
    "    "
   ]
  }
 ],
 "metadata": {
  "kernelspec": {
   "display_name": "Julia 0.6.2",
   "language": "julia",
   "name": "julia-0.6"
  },
  "language_info": {
   "file_extension": ".jl",
   "mimetype": "application/julia",
   "name": "julia",
   "version": "0.6.2"
  }
 },
 "nbformat": 4,
 "nbformat_minor": 2
}
