{
 "cells": [
  {
   "cell_type": "markdown",
   "metadata": {},
   "source": [
    "Examples of using the Mondrian forest and tree classifiers (not online \n",
    "versions)."
   ]
  },
  {
   "cell_type": "code",
   "execution_count": 1,
   "metadata": {},
   "outputs": [
    {
     "data": {
      "text/plain": [
       "predict! (generic function with 3 methods)"
      ]
     },
     "execution_count": 1,
     "metadata": {},
     "output_type": "execute_result"
    }
   ],
   "source": [
    "include(\"Mondrian_Forest_Classifier.jl\")"
   ]
  },
  {
   "cell_type": "code",
   "execution_count": 6,
   "metadata": {},
   "outputs": [],
   "source": [
    "using MLBase\n",
    "function Fakedata(n,dim) \n",
    "    x = randn(n,dim)\n",
    "    y = (sum(exp.(x)/(1+exp.(x)),2)).>0.5\n",
    "    return 1.0*x,1*y[:,1]\n",
    "end\n",
    "\n",
    "d=5\n",
    "X, Y = Fakedata(1000,d);\n",
    "Y = Y.+1;\n",
    "\n",
    "x,y = Fakedata(100,d)\n",
    "y = y.+1;"
   ]
  },
  {
   "cell_type": "markdown",
   "metadata": {},
   "source": [
    "# Mondrian tree classifier"
   ]
  },
  {
   "cell_type": "code",
   "execution_count": 7,
   "metadata": {},
   "outputs": [
    {
     "name": "stdout",
     "output_type": "stream",
     "text": [
      "Train Accuracy\n",
      "0.774\n",
      "Accuracy\n",
      "0.72\n"
     ]
    }
   ],
   "source": [
    "MT = Mondrian_Tree()\n",
    "train!(MT,X,Y,1e9)\n",
    "pred=predict!(MT, X)\n",
    "println(\"Train Accuracy\")\n",
    "println(correctrate(Y,convert(Array{Int,1},pred)))\n",
    "pred=predict!(MT, x)\n",
    "println(\"Accuracy\") \n",
    "println(correctrate(y,convert(Array{Int,1},pred)))"
   ]
  },
  {
   "cell_type": "markdown",
   "metadata": {},
   "source": [
    "# Mondrian Forest classifier"
   ]
  },
  {
   "cell_type": "code",
   "execution_count": 8,
   "metadata": {},
   "outputs": [
    {
     "name": "stdout",
     "output_type": "stream",
     "text": [
      "Train Accuracy\n",
      "0.932\n",
      "Accuracy\n",
      "0.932\n"
     ]
    }
   ],
   "source": [
    "MF = Mondrian_Forest_Classifier(100)\n",
    "train!(MF, X, Y, 1e3)\n",
    "pred=predict!(MF, X);\n",
    "println(\"Train Accuracy\")\n",
    "println(correctrate(Y,convert(Array{Int,1},pred)))\n",
    "pred=predict!(MF, X)\n",
    "println(\"Accuracy\") \n",
    "println(correctrate(Y,convert(Array{Int,1},pred)))"
   ]
  }
 ],
 "metadata": {
  "kernelspec": {
   "display_name": "Julia 0.6.2",
   "language": "julia",
   "name": "julia-0.6"
  },
  "language_info": {
   "file_extension": ".jl",
   "mimetype": "application/julia",
   "name": "julia",
   "version": "0.6.2"
  }
 },
 "nbformat": 4,
 "nbformat_minor": 2
}
