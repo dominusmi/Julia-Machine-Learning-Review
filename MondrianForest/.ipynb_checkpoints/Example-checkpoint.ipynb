{
 "cells": [
  {
   "cell_type": "markdown",
   "metadata": {},
   "source": [
    "## Examples of using the Mondrian forest and tree classifiers (not online versions)."
   ]
  },
  {
   "cell_type": "code",
   "execution_count": 1,
   "metadata": {},
   "outputs": [
    {
     "data": {
      "text/plain": [
       "show_mondrian_split_2d (generic function with 1 method)"
      ]
     },
     "execution_count": 1,
     "metadata": {},
     "output_type": "execute_result"
    }
   ],
   "source": [
    "include(\"Mondrian_Forest_Classifier.jl\")"
   ]
  },
  {
   "cell_type": "code",
   "execution_count": 74,
   "metadata": {},
   "outputs": [
    {
     "ename": "LoadError",
     "evalue": "\u001b[91mInexactError()\u001b[39m",
     "output_type": "error",
     "traceback": [
      "\u001b[91mInexactError()\u001b[39m",
      "",
      "Stacktrace:",
      " [1] \u001b[1mconvert\u001b[22m\u001b[22m\u001b[1m(\u001b[22m\u001b[22m::Type{Bool}, ::Int64\u001b[1m)\u001b[22m\u001b[22m at \u001b[1m./bool.jl:7\u001b[22m\u001b[22m",
      " [2] \u001b[1msetindex!\u001b[22m\u001b[22m at \u001b[1m./bitarray.jl:682\u001b[22m\u001b[22m [inlined]",
      " [3] \u001b[1mFakedata3Classif\u001b[22m\u001b[22m\u001b[1m(\u001b[22m\u001b[22m::Int64, ::Int64, ::Int64\u001b[1m)\u001b[22m\u001b[22m at \u001b[1m./In[74]:11\u001b[22m\u001b[22m",
      " [4] \u001b[1minclude_string\u001b[22m\u001b[22m\u001b[1m(\u001b[22m\u001b[22m::String, ::String\u001b[1m)\u001b[22m\u001b[22m at \u001b[1m./loading.jl:522\u001b[22m\u001b[22m"
     ]
    }
   ],
   "source": [
    "using MLBase\n",
    "using Plots\n",
    "\n",
    "function Fakedata3Classif(N,d,N_test=0)\n",
    "    X = randn((N,d))\n",
    "    param1 = randn(d)\n",
    "    param2 = randn(d)\n",
    "    Y = ( sum(X*param1,2) .> mean(sum(X*param2,2)) )\n",
    "    Y=convert(Array{Int},Y)\n",
    "    for i in 1:size(X,1)\n",
    "        if X[i,2] > 2\n",
    "            Y[i] = 3\n",
    "        end\n",
    "    end\n",
    "    if (N_test > 0)\n",
    "        x = randn((N_test,d))\n",
    "        y = ( sum(x*param1,2) .> mean(sum(x*param2,2)) )\n",
    "        for i in 1:size(x,1)\n",
    "            if x[i,2] > 2\n",
    "                y[i] = 3\n",
    "            end\n",
    "        end\n",
    "        return X,Y,x,y\n",
    "    end\n",
    "    return X,Y\n",
    "end\n",
    "\n",
    "X, Y, x, y = Fakedata3Classif(1000,2,1000);\n",
    "Y = Y.+1;\n",
    "y = y.+1;\n",
    "\n",
    "if size(X,2)==2\n",
    "    plot()\n",
    "    for class in unique(Y)\n",
    "        scatter!(X[Y.==class,1],X[Y.==class,2],label=\"$class\")\n",
    "    end\n",
    "    plot!()\n",
    "end"
   ]
  },
  {
   "cell_type": "markdown",
   "metadata": {},
   "source": [
    "## Mondrian tree classifier"
   ]
  },
  {
   "cell_type": "code",
   "execution_count": 51,
   "metadata": {},
   "outputs": [
    {
     "name": "stdout",
     "output_type": "stream",
     "text": [
      "Train Accuracy\n",
      "0.828\n",
      "Accuracy\n",
      "0.662\n"
     ]
    },
    {
     "data": {
      "text/plain": [
       "10-element Array{Any,1}:\n",
       " [0.133333, 0.866667, 0.0]\n",
       " [0.0, 1.0, 0.0]          \n",
       " [0.0, 1.0, 0.0]          \n",
       " [0.6, 0.4, 0.0]          \n",
       " [0.0, 0.0, 1.0]          \n",
       " [1.0, 0.0, 0.0]          \n",
       " [0.0, 0.472727, 0.527273]\n",
       " [0.0, 1.0, 0.0]          \n",
       " [0.0, 1.0, 0.0]          \n",
       " [0.0, 1.0, 0.0]          "
      ]
     },
     "execution_count": 51,
     "metadata": {},
     "output_type": "execute_result"
    }
   ],
   "source": [
    "# initialise a mondreian tree classifier object with an empty tree\n",
    "# and empty data. NB the underlying mondrian tree can be accessed by MT.Tree (see visualisation)\n",
    "MT = Mondrian_Tree_Classifier()\n",
    "# trains the tree and sets MT.X and MT.Y to the given training data\n",
    "train!(MT,X,Y,1e16)\n",
    "\n",
    "# predict on training and testing\n",
    "pred=predict!(MT, X)\n",
    "println(\"Train Accuracy\")\n",
    "println(correctrate(Y,convert(Array{Int,1},pred)))\n",
    "pred=predict!(MT, x)\n",
    "println(\"Accuracy\") \n",
    "println(correctrate(y,convert(Array{Int,1},pred)))\n",
    "\n",
    "# give the raw probs\n",
    "predict_proba!(MT,x[1:10,:])"
   ]
  },
  {
   "cell_type": "code",
   "execution_count": 52,
   "metadata": {},
   "outputs": [
    {
     "name": "stdout",
     "output_type": "stream",
     "text": [
      "[1.3583 0.377943; 1.49915 -0.144934; 1.12168 0.149315; 0.749806 -0.0458146; 1.02595 -0.0160167; -1.09729 -1.0859; 1.12146 -0.274725; 2.43415 1.63276; -0.658896 1.08673; -1.13189 0.780518]\n",
      "[2, 3, 2, 3, 3, 2, 3, 2, 1, 1]\n"
     ]
    }
   ],
   "source": [
    "# the data has been added\n",
    "println(MT.X[1:10,:])\n",
    "println(MT.Y[1:10])"
   ]
  },
  {
   "cell_type": "markdown",
   "metadata": {},
   "source": [
    "## Visualisation\n",
    "\n",
    "Based on DecisionTree.jl print_tree function. TODO draw with Graphs.jl"
   ]
  },
  {
   "cell_type": "code",
   "execution_count": 5,
   "metadata": {},
   "outputs": [
    {
     "name": "stdout",
     "output_type": "stream",
     "text": [
      "Train Accuracy\n",
      "0.562\n",
      "τ: 0.069\n",
      "L-> τ: 0.103\n",
      "    L-> τ: 0.104\n",
      "        L-> Prediction: [0.0, 1.0]\n",
      "        R-> τ: 0.253\n",
      "            L-> Prediction: [1.0, 0.0]\n",
      "            R-> τ: 0.411\n",
      "                L-> Prediction: [0.001, 0.999]\n",
      "                R-> τ: 0.447\n",
      "                    L-> Prediction: [0.625, 0.375]\n",
      "                    R-> τ: 0.505\n",
      "                        L-> Prediction: [0.498, 0.502]\n",
      "                        R-> Prediction: [0.999, 0.001]\n",
      "    R-> Prediction: [1.0, 0.0]\n",
      "R-> Prediction: [1.0, 0.0]\n"
     ]
    }
   ],
   "source": [
    "MT = Mondrian_Tree_Classifier()\n",
    "# low λ value to show the plotting\n",
    "train!(MT,X,Y,0.6)\n",
    "pred=predict!(MT, X)\n",
    "println(\"Train Accuracy\")\n",
    "println(correctrate(Y,convert(Array{Int,1},pred)))\n",
    "\n",
    "# print the text based vis\n",
    "print_mondrian_tree(get(MT.Tree.root))"
   ]
  },
  {
   "cell_type": "markdown",
   "metadata": {},
   "source": [
    "### The splits can be visualised for an individual Mondrian_Tree_Classifier\n",
    "\n",
    "Here a plot and animation are returned, plot is the final still. If animation=false\n",
    "then a one frame animation and plot are returned (both the final plot)."
   ]
  },
  {
   "cell_type": "code",
   "execution_count": 9,
   "metadata": {},
   "outputs": [
    {
     "name": "stdout",
     "output_type": "stream",
     "text": [
      "Train Accuracy\n",
      "0.93\n"
     ]
    },
    {
     "name": "stderr",
     "output_type": "stream",
     "text": [
      "\u001b[1m\u001b[36mINFO: \u001b[39m\u001b[22m\u001b[36mSaved animation to /home/harvey/Group Project/warwick-rsg/MondrianForest/p.gif\n",
      "\u001b[39m"
     ]
    },
    {
     "data": {
      "text/html": [
       "<img src=\"p.gif?0.665418078856342>\" />"
      ],
      "text/plain": [
       "Plots.AnimatedGif(\"/home/harvey/Group Project/warwick-rsg/MondrianForest/p.gif\")"
      ]
     },
     "execution_count": 9,
     "metadata": {},
     "output_type": "execute_result"
    }
   ],
   "source": [
    "X, Y, x, y = FakedataClassif(100,2,25);\n",
    "Y = Y.+1;\n",
    "y = y.+1;\n",
    "\n",
    "MT = Mondrian_Tree_Classifier()\n",
    "train!(MT,X,Y,1e6)\n",
    "pred=predict!(MT, X)\n",
    "println(\"Train Accuracy\")\n",
    "println(correctrate(Y,convert(Array{Int,1},pred)))\n",
    "\n",
    "# plots the splits for a Mondrian_Tree_Classifier in 2_d could do\n",
    "# higher d but would only plot dimension 1,2\n",
    "f,a = show_mondrian_split_2d(MT,Data=true,animation=true);\n",
    "gif(a,\"resources/MT.gif\",fps=1)"
   ]
  },
  {
   "cell_type": "markdown",
   "metadata": {},
   "source": [
    "# Mondrian Forest classifier\n",
    "\n",
    "Python has $\\sim 27 - 33$ seconds runtime, $\\sim 276-619$ MiB of memory allocations, and about $0.8-0.92$ accuracy on an\n",
    "equivalent problem\n",
    "\n",
    "See [python comparison](comparisons/python_comp.ipynb) and the plots below. S\n",
    "\n",
    "\n",
    "![alt text](comparisons/n_tree_scale.png)\n",
    "\n",
    "Yet to update data scale with paused mondrians and parallel training\n",
    "\n",
    "![alt text](comparisons/n_data_scale.png)"
   ]
  },
  {
   "cell_type": "code",
   "execution_count": 55,
   "metadata": {},
   "outputs": [
    {
     "name": "stdout",
     "output_type": "stream",
     "text": [
      "elapsed time: 0.000153456 seconds\n",
      "elapsed time: 0.427995514 seconds\n",
      "Train Accuracy\n",
      "0.986\n",
      "Accuracy\n",
      "0.98\n",
      "Allocations: 0.002416 Mb\n"
     ]
    }
   ],
   "source": [
    "X, Y, x, y = FakedataClassif(1000,5,100);\n",
    "Y = Y.+1;\n",
    "y = y.+1;\n",
    "\n",
    "# creates a mondrian forest classifier with 100 mondrian tree classifiers\n",
    "MF = Mondrian_Forest_Classifier(100)\n",
    "# time and memory separately\n",
    "tic()\n",
    "train!(MF, X, Y, 1e9)\n",
    "toc()\n",
    "# prediction is greatest time hog\n",
    "tic()\n",
    "pred=predict!(MF, X);\n",
    "toc()\n",
    "println(\"Train Accuracy\")\n",
    "println(correctrate(Y,convert(Array{Int,1},pred)))\n",
    "pred=predict!(MF, x)\n",
    "println(\"Accuracy\") \n",
    "println(correctrate(y,convert(Array{Int,1},pred)))\n",
    "\n",
    "MF = Mondrian_Forest_Classifier(100)\n",
    "println(\"Allocations: \", @allocated(train!(MF,X,Y,1e9))/1e6, \" Mb\")"
   ]
  },
  {
   "cell_type": "code",
   "execution_count": 15,
   "metadata": {},
   "outputs": [
    {
     "data": {
      "text/plain": [
       "10-element Array{Array{Float64,1},1}:\n",
       " [0.561996, 0.438004]\n",
       " [0.301273, 0.698727]\n",
       " [0.211188, 0.788812]\n",
       " [0.783507, 0.216493]\n",
       " [0.53231, 0.46769]  \n",
       " [0.436924, 0.563076]\n",
       " [0.553988, 0.446012]\n",
       " [0.638269, 0.361731]\n",
       " [0.217997, 0.782003]\n",
       " [0.603067, 0.396933]"
      ]
     },
     "execution_count": 15,
     "metadata": {},
     "output_type": "execute_result"
    }
   ],
   "source": [
    "predict_proba!(MF,x[1:10,:])"
   ]
  },
  {
   "cell_type": "markdown",
   "metadata": {},
   "source": [
    "# MLBase Gridtune\n",
    "\n",
    "Something is wrong here"
   ]
  },
  {
   "cell_type": "code",
   "execution_count": 8,
   "metadata": {},
   "outputs": [],
   "source": [
    "d=2\n",
    "X, Y, x, y = FakedataClassif(1000,d,100);\n",
    "Y = Y.+1;\n",
    "y = y.+1;"
   ]
  },
  {
   "cell_type": "code",
   "execution_count": 9,
   "metadata": {
    "scrolled": false
   },
   "outputs": [
    {
     "name": "stdout",
     "output_type": "stream",
     "text": [
      "[n_trees=10, λ=10.0] => 0.76\n",
      "[n_trees=100, λ=10.0] => 0.75\n",
      "[n_trees=250, λ=10.0] => 0.77\n",
      "[n_trees=500, λ=10.0] => 0.76\n",
      "[n_trees=10, λ=100.0] => 0.73\n",
      "[n_trees=100, λ=100.0] => 0.76\n",
      "[n_trees=250, λ=100.0] => 0.75\n",
      "[n_trees=500, λ=100.0] => 0.76\n",
      "[n_trees=10, λ=10000.0] => 0.8\n",
      "[n_trees=100, λ=10000.0] => 0.74\n",
      "[n_trees=250, λ=10000.0] => 0.76\n",
      "[n_trees=500, λ=10000.0] => 0.76\n",
      "[n_trees=10, λ=1.0e8] => 0.77\n",
      "[n_trees=100, λ=1.0e8] => 0.76\n",
      "[n_trees=250, λ=1.0e8] => 0.73\n",
      "[n_trees=500, λ=1.0e8] => 0.78\n",
      "[n_trees=10, λ=1.0e16] => 0.73\n",
      "[n_trees=100, λ=1.0e16] => 0.76\n",
      "[n_trees=250, λ=1.0e16] => 0.75\n",
      "[n_trees=500, λ=1.0e16] => 0.74\n",
      "  2.883790 seconds (24.32 M allocations: 735.568 MiB, 8.15% gc time)\n",
      "\n",
      "Best Configuration: (10, 10000.0)\n",
      "\n",
      "Best score: 0.8\n"
     ]
    }
   ],
   "source": [
    "# Currently adding @parallel to the for loop in train! causes\n",
    "# train! within MLBase's gridtune to be unable to modify the\n",
    "# Mondrian_Forest_Classfier Trees array....\n",
    "function train_for_mlbase!(MF::Mondrian_Forest_Classifier,\n",
    "                X::Array{Float64,2},\n",
    "                Y::Array{Int64},\n",
    "                λ::Float64=1e9)\n",
    "\n",
    "    for i in 1:MF.n_trees\n",
    "        MT = Mondrian_Tree_Classifier()\n",
    "        train!(MT, X, Y, λ)\n",
    "        push!(MF.Trees,MT)\n",
    "    end\n",
    "    MF.X = X\n",
    "    MF.Y = Y\n",
    "end\n",
    "\n",
    "function estfun(n_trees,λ)\n",
    "    MF = Mondrian_Forest_Classifier()\n",
    "    train_for_mlbase!(MF,X,Y,λ)\n",
    "    return MF\n",
    "end\n",
    "\n",
    "function evalfun(MF)\n",
    "    return correctrate(y, predict!(MF,x))\n",
    "end\n",
    "\n",
    "@time best_model, best_config, best_score = gridtune(estfun, \n",
    "                                               evalfun, \n",
    "                                               (\"n_trees\",[10,100,250,500]),\n",
    "                                               (\"λ\",[1e1,1e2,1e4,1e8,1e16]),\n",
    "                                               verbose=true\n",
    ")\n",
    "println(\"\\nBest Configuration: \", best_config)\n",
    "println(\"\\nBest score: \", best_score)"
   ]
  },
  {
   "cell_type": "markdown",
   "metadata": {},
   "source": [
    "This benchmark is a little unbelievable... but the accuracy is still good, perhaps it is the\n",
    "paused mondrians (the python does use these though) or Julia's time function is not working "
   ]
  },
  {
   "cell_type": "code",
   "execution_count": 10,
   "metadata": {},
   "outputs": [
    {
     "name": "stdout",
     "output_type": "stream",
     "text": [
      "5.5332e-5\n",
      "  0.000803 seconds (34.30 k allocations: 641.328 KiB)\n",
      "2\n",
      "4.5761e-5\n",
      "  0.001856 seconds (65.02 k allocations: 1.139 MiB)\n",
      "4\n",
      "3.1903e-5\n",
      "  0.003837 seconds (149.99 k allocations: 2.523 MiB)\n",
      "8\n",
      "3.5567e-5\n",
      "  0.008582 seconds (301.99 k allocations: 5.018 MiB)\n",
      "16\n",
      "3.7716e-5\n",
      "  0.015181 seconds (579.55 k allocations: 9.611 MiB)\n",
      "32\n",
      "3.7922e-5\n",
      "  0.032577 seconds (1.17 M allocations: 19.323 MiB)\n",
      "64\n",
      "4.88e-5\n",
      "  0.066437 seconds (2.23 M allocations: 36.889 MiB, 10.46% gc time)\n",
      "128\n",
      "4.001e-5\n",
      "  0.133574 seconds (4.60 M allocations: 75.886 MiB, 6.36% gc time)\n",
      "256\n",
      "3.2326e-5\n",
      "  0.249968 seconds (9.15 M allocations: 150.975 MiB, 6.30% gc time)\n",
      "512\n",
      "Any[5.5332e-5, 4.5761e-5, 3.1903e-5, 3.5567e-5, 3.7716e-5, 3.7922e-5, 4.88e-5, 4.001e-5, 3.2326e-5]\n",
      "Any[0.74, 0.87, 0.88, 0.86, 0.92, 0.96, 0.95, 0.97, 0.95]\n"
     ]
    },
    {
     "name": "stderr",
     "output_type": "stream",
     "text": [
      "WARNING: Method definition ==(Base.Nullable{S}, Base.Nullable{T}) in module Base at nullable.jl:238 overwritten in module NullableArrays at /home/harvey/bin/JuliaPro-0.6.2.2/JuliaPro/pkgs-0.6.2.2/v0.6/NullableArrays/src/operators.jl:99.\n"
     ]
    },
    {
     "data": {
      "image/png": "[encoded data removed]"
     },
     "execution_count": 10,
     "metadata": {},
     "output_type": "execute_result"
    }
   ],
   "source": [
    "d=5\n",
    "X, Y, x, y = FakedataClassif(1000,d,100);\n",
    "Y = Y.+1;\n",
    "y = y.+1;\n",
    "\n",
    "time = []\n",
    "acc = []\n",
    "trees = []\n",
    "for j in collect(1:9)\n",
    "    push!(trees,2^j)\n",
    "    MF = Mondrian_Forest_Classifier(2^j)\n",
    "    tic()\n",
    "    train!(MF,X,Y,1e9)\n",
    "    t = toq()\n",
    "    println(t)\n",
    "    push!(time,t)\n",
    "    @time pred=predict!(MF, x);\n",
    "    push!(acc,correctrate(y,convert(Array{Int,1},pred)))\n",
    "    println(MF.n_trees)\n",
    "end\n",
    "\n",
    "println(time)\n",
    "println(acc)\n",
    "\n",
    "using CSV\n",
    "times_py = convert(Array{Float64,1},CSV.read(\"comparisons/times_py\")[2])\n",
    "pyplot()\n",
    "\n",
    "plot(trees,times_py,label=\"Python\", yscale=:log10)\n",
    "plot!(trees,time,label=\"Julia\", yscale=:log10)\n",
    "scatter!(trees,times_py,label=\"\")\n",
    "scatter!(trees,time,label=\"\",markershape=:auto)\n",
    "title!(\"Scaling of training time with the number \\n of trees in a Mondrian forest classifier\")\n",
    "xlabel!(\"Number of trees\")\n",
    "ylabel!(\"Training time (seconds)\")"
   ]
  }
 ],
 "metadata": {
  "kernelspec": {
   "display_name": "Julia 0.6.2",
   "language": "julia",
   "name": "julia-0.6"
  },
  "language_info": {
   "file_extension": ".jl",
   "mimetype": "application/julia",
   "name": "julia",
   "version": "0.6.2"
  }
 },
 "nbformat": 4,
 "nbformat_minor": 2
}
