{
 "cells": [
  {
   "cell_type": "markdown",
   "metadata": {},
   "source": [
    "Examples of using the Mondrian forest and tree classifiers (not online \n",
    "versions)."
   ]
  },
  {
   "cell_type": "code",
   "execution_count": 1,
   "metadata": {},
   "outputs": [
    {
     "data": {
      "text/plain": [
       "FakedataClassif (generic function with 2 methods)"
      ]
     },
     "execution_count": 1,
     "metadata": {},
     "output_type": "execute_result"
    }
   ],
   "source": [
    "include(\"Mondrian_Forest_Classifier.jl\")"
   ]
  },
  {
   "cell_type": "code",
   "execution_count": 13,
   "metadata": {},
   "outputs": [],
   "source": [
    "using MLBase\n",
    "using Plots\n",
    "plotly()\n",
    "\n",
    "X, Y, x, y = FakedataClassif(1000,2,1000);\n",
    "Y = Y.+1;\n",
    "y = y.+1;\n",
    "\n",
    "if (size(X,2)==2\n",
    "    scatter(X[Y.==1,1],X[Y.==1,2], color=\"red\")\n",
    "    scatter!(X[Y.==2,1],X[Y.==2,2],color=\"green\")\n",
    "end"
   ]
  },
  {
   "cell_type": "code",
   "execution_count": null,
   "metadata": {},
   "outputs": [],
   "source": []
  },
  {
   "cell_type": "markdown",
   "metadata": {},
   "source": [
    "# Mondrian tree classifier"
   ]
  },
  {
   "cell_type": "code",
   "execution_count": 78,
   "metadata": {},
   "outputs": [
    {
     "name": "stdout",
     "output_type": "stream",
     "text": [
      "Train Accuracy\n",
      "0.625\n",
      "Accuracy\n",
      "0.54\n"
     ]
    }
   ],
   "source": [
    "MT = Mondrian_Tree()\n",
    "train!(MT,X,Y,1e6)\n",
    "pred=predict!(MT, X)\n",
    "println(\"Train Accuracy\")\n",
    "println(correctrate(Y,convert(Array{Int,1},pred)))\n",
    "pred=predict!(MT, x)\n",
    "println(\"Accuracy\") \n",
    "println(correctrate(y,convert(Array{Int,1},pred)))"
   ]
  },
  {
   "cell_type": "code",
   "execution_count": 72,
   "metadata": {},
   "outputs": [
    {
     "data": {
      "text/plain": [
       "52"
      ]
     },
     "execution_count": 72,
     "metadata": {},
     "output_type": "execute_result"
    }
   ],
   "source": [
    "length(MT.leaves)"
   ]
  },
  {
   "cell_type": "code",
   "execution_count": 73,
   "metadata": {},
   "outputs": [
    {
     "data": {
      "text/plain": [
       "10-element Array{Any,1}:\n",
       " [1.0, 0.0]          \n",
       " [0.0, 1.0]          \n",
       " [1.0, 0.0]          \n",
       " [0.217391, 0.782609]\n",
       " [1.0, 0.0]          \n",
       " [0.0, 1.0]          \n",
       " [1.0, 0.0]          \n",
       " [0.0, 1.0]          \n",
       " [1.0, 0.0]          \n",
       " [1.0, 0.0]          "
      ]
     },
     "execution_count": 73,
     "metadata": {},
     "output_type": "execute_result"
    }
   ],
   "source": [
    "predict_proba!(MT,x[1:10,:])"
   ]
  },
  {
   "cell_type": "markdown",
   "metadata": {},
   "source": [
    "# Mondrian Forest classifier\n",
    "\n",
    "Python has $\\sim 27 - 33$ seconds runtime, $\\sim 276-619$ MiB of memory allocations, and about $0.8-0.92$ accuracy on an\n",
    "equivalent problem\n",
    "\n",
    "See [python comparison](comparisons/python_comp.ipynb) and the plots below. S\n",
    "\n",
    "\n",
    "![alt text](comparisons/n_tree_scale.png)\n",
    "![alt text](comparisons/n_data_scale.png)"
   ]
  },
  {
   "cell_type": "code",
   "execution_count": 74,
   "metadata": {},
   "outputs": [
    {
     "name": "stdout",
     "output_type": "stream",
     "text": [
      "  1.327526 seconds (12.94 M allocations: 412.542 MiB, 5.03% gc time)\n",
      "Train Accuracy\n",
      "0.999\n",
      "Accuracy\n",
      "0.96\n"
     ]
    }
   ],
   "source": [
    "MF = Mondrian_Forest_Classifier(100)\n",
    "@time train!(MF, X, Y, 1e9)\n",
    "pred=predict!(MF, X);\n",
    "println(\"Train Accuracy\")\n",
    "println(correctrate(Y,convert(Array{Int,1},pred)))\n",
    "pred=predict!(MF, x)\n",
    "println(\"Accuracy\") \n",
    "println(correctrate(y,convert(Array{Int,1},pred)))"
   ]
  },
  {
   "cell_type": "code",
   "execution_count": 26,
   "metadata": {},
   "outputs": [
    {
     "data": {
      "text/plain": [
       "10-element Array{Array{Float64,1},1}:\n",
       " [0.118568, 0.881432]\n",
       " [0.530019, 0.469981]\n",
       " [0.495267, 0.504733]\n",
       " [0.650166, 0.349834]\n",
       " [0.206734, 0.793266]\n",
       " [0.611845, 0.388155]\n",
       " [0.592886, 0.407114]\n",
       " [0.230515, 0.769485]\n",
       " [0.346378, 0.653622]\n",
       " [0.339732, 0.660268]"
      ]
     },
     "execution_count": 26,
     "metadata": {},
     "output_type": "execute_result"
    }
   ],
   "source": [
    "predict_proba!(MF,x[1:10,:])"
   ]
  },
  {
   "cell_type": "markdown",
   "metadata": {},
   "source": [
    "# MLBase Gridtune"
   ]
  },
  {
   "cell_type": "code",
   "execution_count": 29,
   "metadata": {},
   "outputs": [],
   "source": [
    "d=5\n",
    "X, Y = FakedataClassif(1000,d);\n",
    "Y = Y.+1;\n",
    "x,y = FakedataClassif(100,d);\n",
    "y=y.+1;"
   ]
  },
  {
   "cell_type": "code",
   "execution_count": 30,
   "metadata": {
    "scrolled": false
   },
   "outputs": [
    {
     "name": "stdout",
     "output_type": "stream",
     "text": [
      "[n_trees=10, λ=10.0] => 0.26\n",
      "[n_trees=100, λ=10.0] => 0.29\n",
      "[n_trees=250, λ=10.0] => 0.27\n",
      "[n_trees=500, λ=10.0] => 0.26\n",
      "[n_trees=10, λ=100.0] => 0.31\n",
      "[n_trees=100, λ=100.0] => 0.29\n",
      "[n_trees=250, λ=100.0] => 0.3\n",
      "[n_trees=500, λ=100.0] => 0.28\n",
      "[n_trees=10, λ=10000.0] => 0.22\n",
      "[n_trees=100, λ=10000.0] => 0.26\n",
      "[n_trees=250, λ=10000.0] => 0.27\n",
      "[n_trees=500, λ=10000.0] => 0.29\n",
      "[n_trees=10, λ=1.0e8] => 0.34\n",
      "[n_trees=100, λ=1.0e8] => 0.26\n",
      "[n_trees=250, λ=1.0e8] => 0.3\n",
      "[n_trees=500, λ=1.0e8] => 0.28\n",
      "[n_trees=10, λ=1.0e16] => 0.36\n",
      "[n_trees=100, λ=1.0e16] => 0.28\n"
     ]
    },
    {
     "ename": "LoadError",
     "evalue": "\u001b[91mInterruptException:\u001b[39m",
     "output_type": "error",
     "traceback": [
      "\u001b[91mInterruptException:\u001b[39m",
      "",
      "Stacktrace:",
      " [1] \u001b[1mmacro expansion\u001b[22m\u001b[22m at \u001b[1m./multidimensional.jl:527\u001b[22m\u001b[22m [inlined]",
      " [2] \u001b[1mmacro expansion\u001b[22m\u001b[22m at \u001b[1m./cartesian.jl:64\u001b[22m\u001b[22m [inlined]",
      " [3] \u001b[1mmacro expansion\u001b[22m\u001b[22m at \u001b[1m./multidimensional.jl:525\u001b[22m\u001b[22m [inlined]",
      " [4] \u001b[1m_unsafe_getindex!\u001b[22m\u001b[22m at \u001b[1m./multidimensional.jl:519\u001b[22m\u001b[22m [inlined]",
      " [5] \u001b[1mmacro expansion\u001b[22m\u001b[22m at \u001b[1m./multidimensional.jl:513\u001b[22m\u001b[22m [inlined]",
      " [6] \u001b[1m_unsafe_getindex\u001b[22m\u001b[22m\u001b[1m(\u001b[22m\u001b[22m::IndexLinear, ::Array{Float64,2}, ::Array{Any,1}, ::Base.Slice{Base.OneTo{Int64}}\u001b[1m)\u001b[22m\u001b[22m at \u001b[1m./multidimensional.jl:506\u001b[22m\u001b[22m",
      " [7] \u001b[1mmacro expansion\u001b[22m\u001b[22m at \u001b[1m./multidimensional.jl:495\u001b[22m\u001b[22m [inlined]",
      " [8] \u001b[1m_getindex\u001b[22m\u001b[22m at \u001b[1m./multidimensional.jl:491\u001b[22m\u001b[22m [inlined]",
      " [9] \u001b[1mgetindex\u001b[22m\u001b[22m at \u001b[1m./abstractarray.jl:883\u001b[22m\u001b[22m [inlined]",
      " [10] \u001b[1mSample_Mondrian_Block!\u001b[22m\u001b[22m\u001b[1m(\u001b[22m\u001b[22m::Mondrian_Node, ::Axis_Aligned_Box, ::Float64, ::Mondrian_Tree, ::Array{Float64,2}, ::Array{Int64,1}\u001b[1m)\u001b[22m\u001b[22m at \u001b[1m/home/harvey/Group Project/warwick-rsg/MondrianForest/Mondrian_Tree.jl:138\u001b[22m\u001b[22m",
      " [11] \u001b[1mSample_Mondrian_Block!\u001b[22m\u001b[22m\u001b[1m(\u001b[22m\u001b[22m::Mondrian_Node, ::Axis_Aligned_Box, ::Float64, ::Mondrian_Tree, ::Array{Float64,2}, ::Array{Int64,1}\u001b[1m)\u001b[22m\u001b[22m at \u001b[1m/home/harvey/Group Project/warwick-rsg/MondrianForest/Mondrian_Tree.jl:137\u001b[22m\u001b[22m (repeats 2 times)",
      " [12] \u001b[1mSample_Mondrian_Block!\u001b[22m\u001b[22m\u001b[1m(\u001b[22m\u001b[22m::Mondrian_Node, ::Axis_Aligned_Box, ::Float64, ::Mondrian_Tree, ::Array{Float64,2}, ::Array{Int64,1}\u001b[1m)\u001b[22m\u001b[22m at \u001b[1m/home/harvey/Group Project/warwick-rsg/MondrianForest/Mondrian_Tree.jl:138\u001b[22m\u001b[22m",
      " [13] \u001b[1mSample_Mondrian_Block!\u001b[22m\u001b[22m\u001b[1m(\u001b[22m\u001b[22m::Mondrian_Node, ::Axis_Aligned_Box, ::Float64, ::Mondrian_Tree, ::Array{Float64,2}, ::Array{Int64,1}\u001b[1m)\u001b[22m\u001b[22m at \u001b[1m/home/harvey/Group Project/warwick-rsg/MondrianForest/Mondrian_Tree.jl:137\u001b[22m\u001b[22m",
      " [14] \u001b[1mSample_Mondrian_Block!\u001b[22m\u001b[22m\u001b[1m(\u001b[22m\u001b[22m::Mondrian_Node, ::Axis_Aligned_Box, ::Float64, ::Mondrian_Tree, ::Array{Float64,2}, ::Array{Int64,1}\u001b[1m)\u001b[22m\u001b[22m at \u001b[1m/home/harvey/Group Project/warwick-rsg/MondrianForest/Mondrian_Tree.jl:138\u001b[22m\u001b[22m (repeats 2 times)",
      " [15] \u001b[1mSample_Mondrian_Block!\u001b[22m\u001b[22m\u001b[1m(\u001b[22m\u001b[22m::Mondrian_Node, ::Axis_Aligned_Box, ::Float64, ::Mondrian_Tree, ::Array{Float64,2}, ::Array{Int64,1}\u001b[1m)\u001b[22m\u001b[22m at \u001b[1m/home/harvey/Group Project/warwick-rsg/MondrianForest/Mondrian_Tree.jl:137\u001b[22m\u001b[22m",
      " [16] \u001b[1mSample_Mondrian_Tree!\u001b[22m\u001b[22m\u001b[1m(\u001b[22m\u001b[22m::Mondrian_Tree, ::Float64, ::Array{Float64,2}, ::Array{Int64,1}\u001b[1m)\u001b[22m\u001b[22m at \u001b[1m/home/harvey/Group Project/warwick-rsg/MondrianForest/Mondrian_Tree.jl:78\u001b[22m\u001b[22m",
      " [17] \u001b[1mtrain!\u001b[22m\u001b[22m at \u001b[1m/home/harvey/Group Project/warwick-rsg/MondrianForest/Mondrian_Forest_Classifier.jl:50\u001b[22m\u001b[22m [inlined]",
      " [18] \u001b[1mtrain!\u001b[22m\u001b[22m\u001b[1m(\u001b[22m\u001b[22m::Mondrian_Forest_Classifier, ::Array{Float64,2}, ::Array{Int64,1}, ::Float64\u001b[1m)\u001b[22m\u001b[22m at \u001b[1m/home/harvey/Group Project/warwick-rsg/MondrianForest/Mondrian_Forest_Classifier.jl:85\u001b[22m\u001b[22m",
      " [19] \u001b[1mestfun\u001b[22m\u001b[22m\u001b[1m(\u001b[22m\u001b[22m::Int64, ::Float64\u001b[1m)\u001b[22m\u001b[22m at \u001b[1m./In[30]:3\u001b[22m\u001b[22m",
      " [20] \u001b[1m#gridtune#8\u001b[22m\u001b[22m\u001b[1m(\u001b[22m\u001b[22m::Base.Order.ForwardOrdering, ::Bool, ::Function, ::Function, ::#evalfun, ::Tuple{String,Array{Int64,1}}, ::Vararg{Tuple{AbstractString,Any},N} where N\u001b[1m)\u001b[22m\u001b[22m at \u001b[1m/home/harvey/bin/JuliaPro-0.6.2.2/JuliaPro/pkgs-0.6.2.2/v0.6/MLBase/src/modeltune.jl:21\u001b[22m\u001b[22m",
      " [21] \u001b[1m(::MLBase.#kw##gridtune)\u001b[22m\u001b[22m\u001b[1m(\u001b[22m\u001b[22m::Array{Any,1}, ::MLBase.#gridtune, ::Function, ::Function, ::Tuple{String,Array{Int64,1}}, ::Vararg{Tuple{AbstractString,Any},N} where N\u001b[1m)\u001b[22m\u001b[22m at \u001b[1m./<missing>:0\u001b[22m\u001b[22m",
      " [22] \u001b[1minclude_string\u001b[22m\u001b[22m\u001b[1m(\u001b[22m\u001b[22m::String, ::String\u001b[1m)\u001b[22m\u001b[22m at \u001b[1m./loading.jl:522\u001b[22m\u001b[22m"
     ]
    }
   ],
   "source": [
    "function estfun(n_trees,λ)\n",
    "    MF = Mondrian_Forest_Classifier(n_trees)\n",
    "    train!(MF,X,Y,λ)\n",
    "    return MF\n",
    "end\n",
    "\n",
    "function evalfun(MF::Mondrian_Forest_Classifier)\n",
    "    return correctrate(y, predict!(MF,x))\n",
    "end\n",
    "\n",
    "best_model, best_config, best_score = gridtune(estfun, \n",
    "                                               evalfun, \n",
    "                                               (\"n_trees\",[10,100,250,500]),\n",
    "                                               (\"λ\",[1e1,1e2,1e4,1e8,1e16]),\n",
    "                                               verbose=true\n",
    ")\n",
    "println(\"\\nBest Configuration: \", best_config)\n",
    "println(\"\\nBest score: \", best_score)"
   ]
  }
 ],
 "metadata": {
  "kernelspec": {
   "display_name": "Julia 0.6.2",
   "language": "julia",
   "name": "julia-0.6"
  },
  "language_info": {
   "file_extension": ".jl",
   "mimetype": "application/julia",
   "name": "julia",
   "version": "0.6.2"
  }
 },
 "nbformat": 4,
 "nbformat_minor": 2
}
