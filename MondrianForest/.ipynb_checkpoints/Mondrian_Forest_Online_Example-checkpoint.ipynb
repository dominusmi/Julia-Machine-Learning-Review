{
 "cells": [
  {
   "cell_type": "markdown",
   "metadata": {},
   "source": [
    "## Example for extending Mondrian Trees"
   ]
  },
  {
   "cell_type": "code",
   "execution_count": 1,
   "metadata": {
    "scrolled": true
   },
   "outputs": [
    {
     "data": {
      "text/plain": [
       "expand_forest!"
      ]
     },
     "execution_count": 1,
     "metadata": {},
     "output_type": "execute_result"
    }
   ],
   "source": [
    "import Base.copy\n",
    "using Distributions\n",
    "using MLBase\n",
    "using Plots\n",
    "include(\"./Mondrian_Forest_Classifier.jl\"); \n",
    "include(\"Mondrian_extention.jl\")"
   ]
  },
  {
   "cell_type": "markdown",
   "metadata": {},
   "source": [
    "This notebook explains how to extend Mondrian Trees and Mondrian Forests. Using an online algorithm, we can incorporate data points one by one."
   ]
  },
  {
   "cell_type": "markdown",
   "metadata": {},
   "source": [
    "### Functions\n",
    "\n",
    "All functions used in this section can be found in the files \"Mondrian_extention.jl\" and \"Mondrian_extention_utils.jl\". "
   ]
  },
  {
   "cell_type": "code",
   "execution_count": null,
   "metadata": {},
   "outputs": [],
   "source": [
    "?Extend_Mondrian_Tree!"
   ]
  },
  {
   "cell_type": "code",
   "execution_count": null,
   "metadata": {},
   "outputs": [],
   "source": [
    "?Extend_Mondrian_Tree!"
   ]
  },
  {
   "cell_type": "code",
   "execution_count": null,
   "metadata": {},
   "outputs": [],
   "source": [
    "?expand!"
   ]
  },
  {
   "cell_type": "code",
   "execution_count": null,
   "metadata": {},
   "outputs": [],
   "source": [
    "?expand_forest!"
   ]
  },
  {
   "cell_type": "markdown",
   "metadata": {},
   "source": [
    "#### 1) Prepare some data\n",
    "\n",
    "We generate two sets of fakedata (features + classes). We use the first one to train on and the second one to extend on."
   ]
  },
  {
   "cell_type": "code",
   "execution_count": 2,
   "metadata": {},
   "outputs": [
    {
     "data": {
      "text/plain": [
       "Fakedata3Classif (generic function with 2 methods)"
      ]
     },
     "execution_count": 2,
     "metadata": {},
     "output_type": "execute_result"
    }
   ],
   "source": [
    "using MLBase\n",
    "using Plots\n",
    "\n",
    "function Fakedata3Classif(N,d,N_test=0)\n",
    "    X = randn((N,d))\n",
    "    param1 = randn(d)\n",
    "    param2 = randn(d)\n",
    "    Y = ( sum(X*param1,2) .> mean(sum(X*param2,2)) )\n",
    "    Y=convert(Array{Int},Y)\n",
    "    for i in 1:size(X,1)\n",
    "        if X[i,2] > 1.5\n",
    "            Y[i] = 2\n",
    "        end\n",
    "    end\n",
    "    if (N_test > 0)\n",
    "        x = randn((N_test,d))\n",
    "        y = ( sum(x*param1,2) .> mean(sum(x*param2,2)) )\n",
    "        y=convert(Array{Int},y)\n",
    "        for i in 1:size(x,1)\n",
    "            if x[i,2] > 1.5\n",
    "                y[i] = 2\n",
    "            end\n",
    "        end\n",
    "        return X,Y,x,y\n",
    "    end\n",
    "    return X,Y\n",
    "end"
   ]
  },
  {
   "cell_type": "code",
   "execution_count": null,
   "metadata": {},
   "outputs": [],
   "source": [
    "X, Y, x, y = Fakedata3Classif(5000,2,5000);  #X,Y: train set ; x,y: extention data\n",
    "Y = Y.+1;\n",
    "y = y.+1;"
   ]
  },
  {
   "cell_type": "code",
   "execution_count": null,
   "metadata": {},
   "outputs": [],
   "source": [
    "if size(X,2)==2\n",
    "    plot()\n",
    "    for class in unique(Y)\n",
    "        scatter!(X[Y.==class,1],X[Y.==class,2],label=\"$class\")\n",
    "    end\n",
    "    plot!()\n",
    "end"
   ]
  },
  {
   "cell_type": "markdown",
   "metadata": {},
   "source": [
    "### 1) Extend a single tree\n",
    "\n",
    "To extend a single tree, we can just use the function expand!. We train a Mondrian Tree Classifier on the dataset X,Y and then extend it on the dataset x,y which we created above. We compute the training accuracy of the extended tree. For comparison, we then train a Mondrian Tree Classifier on the merges dataset X,x Y,y (it was then trained on all of the data the extended tree was trained on, without using extentions) and compute the training accuracy as well.  "
   ]
  },
  {
   "cell_type": "code",
   "execution_count": null,
   "metadata": {
    "scrolled": false
   },
   "outputs": [],
   "source": [
    "T = Mondrian_Tree_Classifier()\n",
    "train!(T,X,Y,1e9);  #Sample tree on training dataset"
   ]
  },
  {
   "cell_type": "code",
   "execution_count": null,
   "metadata": {},
   "outputs": [],
   "source": [
    "expand!(T,x,y,1e9);  #Expand the tree on the extention dataset"
   ]
  },
  {
   "cell_type": "code",
   "execution_count": null,
   "metadata": {},
   "outputs": [],
   "source": [
    "#merge training and extention data to get the total data the tree was trained on\n",
    "\n",
    "All_data=vcat(X,x);             \n",
    "all_labels = vcat(Y,y);"
   ]
  },
  {
   "cell_type": "code",
   "execution_count": null,
   "metadata": {},
   "outputs": [],
   "source": [
    "#let the extended tree predict the training data, compute training accuracy\n",
    "pred=predict!(T,All_data);     \n",
    "println(\"Train Accuracy of extended tree\")\n",
    "println(correctrate(all_labels,convert(Array{Int,1},pred)))"
   ]
  },
  {
   "cell_type": "code",
   "execution_count": null,
   "metadata": {},
   "outputs": [],
   "source": [
    "#compute a tree on the merged dataset (classic, no extention)\n",
    "T_full = Mondrian_Tree_Classifier()\n",
    "train!(T_full,All_data,all_labels,1e9);"
   ]
  },
  {
   "cell_type": "code",
   "execution_count": null,
   "metadata": {},
   "outputs": [],
   "source": [
    "#let the extended tree predict the training data, compute training accuracy\n",
    "\n",
    "println(\"Train Accuracy tree trained on whole dataset\")\n",
    "pred=predict!(T_full,All_data)\n",
    "println(correctrate(all_labels,convert(Array{Int,1},pred)))"
   ]
  },
  {
   "cell_type": "markdown",
   "metadata": {},
   "source": [
    "We see that the training accuracy is comparable weather we extend the tree or weather we sample the tree on the whole dataset immediatly. This proves that the extention implementation works."
   ]
  },
  {
   "cell_type": "markdown",
   "metadata": {},
   "source": [
    "### 2) Extend Mondrian Forests\n",
    "\n",
    "Now we extend a Mondrian Forest classifier that was pretrained on the  training same dataset (X,Y) as above. We again extend the classifier and then train a new classifier on the whole datset for comparison."
   ]
  },
  {
   "cell_type": "code",
   "execution_count": null,
   "metadata": {},
   "outputs": [],
   "source": [
    "MF = Mondrian_Forest_Classifier(50)  #initialise Mondrian Forest Classifier with 50 Trees"
   ]
  },
  {
   "cell_type": "code",
   "execution_count": null,
   "metadata": {},
   "outputs": [],
   "source": [
    "train!(MF, X, Y, 1e9);  #Train the classifier on the same dataset as before"
   ]
  },
  {
   "cell_type": "code",
   "execution_count": null,
   "metadata": {},
   "outputs": [],
   "source": [
    "expand_forest!(MF,x,y,1e9);  #expand the forest on the dataset x,y"
   ]
  },
  {
   "cell_type": "code",
   "execution_count": null,
   "metadata": {},
   "outputs": [],
   "source": [
    "#compute train accuracy for extended forest\n",
    "\n",
    "pred=predict!(MF, All_data);\n",
    "println(\"Train Accuracy\")\n",
    "println(correctrate(all_labels,convert(Array{Int,1},pred)))"
   ]
  },
  {
   "cell_type": "code",
   "execution_count": null,
   "metadata": {},
   "outputs": [],
   "source": [
    "MF_control = Mondrian_Forest_Classifier(50)   #initialise control classifier with 50 Trees\n",
    "train!(MF_control, All_data, all_labels, 1e9);  # train control classifier on merged dataset"
   ]
  },
  {
   "cell_type": "code",
   "execution_count": null,
   "metadata": {},
   "outputs": [],
   "source": [
    "#compute train accuracy for classic forest\n",
    "\n",
    "pred = predict!(MF_control,All_data);\n",
    "println(\"Train Accuracy\")\n",
    "println(correctrate(all_labels,convert(Array{Int,1},pred)))"
   ]
  },
  {
   "cell_type": "markdown",
   "metadata": {},
   "source": [
    "#### Some Testing and Benchmarking\n",
    "\n",
    "How fast is the extention? "
   ]
  },
  {
   "cell_type": "code",
   "execution_count": null,
   "metadata": {},
   "outputs": [],
   "source": [
    "X, Y,x ,y = Fakedata3Classif(5000,4,5000); #X,Y: train set ; x,y: extention data\n",
    "Y = Y.+1;\n",
    "y = y.+1;"
   ]
  },
  {
   "cell_type": "code",
   "execution_count": null,
   "metadata": {},
   "outputs": [],
   "source": [
    "println(size(X))"
   ]
  },
  {
   "cell_type": "code",
   "execution_count": null,
   "metadata": {},
   "outputs": [],
   "source": [
    "MF=Mondrian_Forest_Classifier(100)\n",
    "Acc=zeros(150);\n",
    "Time=[];"
   ]
  },
  {
   "cell_type": "code",
   "execution_count": null,
   "metadata": {},
   "outputs": [],
   "source": [
    "counter=1\n",
    "train!(MF,X,Y,1e9);\n",
    "pred=predict!(MF,X)\n",
    "Acc[counter]=correctrate(Y,convert(Array{Int,1},pred))"
   ]
  },
  {
   "cell_type": "code",
   "execution_count": null,
   "metadata": {},
   "outputs": [],
   "source": [
    "expand_forest!(MF,x,y,1e9);\n",
    "pred=predict!(MF,vcat(X,x))\n",
    "Acc[counter]=correctrate(vcat(Y,y),convert(Array{Int,1},pred))"
   ]
  },
  {
   "cell_type": "code",
   "execution_count": null,
   "metadata": {},
   "outputs": [],
   "source": [
    "Acc"
   ]
  },
  {
   "cell_type": "markdown",
   "metadata": {},
   "source": [
    "XXXXXXXXXXXXXXXXXXXXXXXXXXXXXXXXXXXXXXXXXXXXXXXXXXXXXXXXXXXXXXXXXXXXXXXXXXXXXXXXXXXXXXXXXXXXXXXXXXXXXXXXXXX"
   ]
  },
  {
   "cell_type": "markdown",
   "metadata": {},
   "source": [
    "### batch training"
   ]
  },
  {
   "cell_type": "markdown",
   "metadata": {},
   "source": [
    "##### Single tree"
   ]
  },
  {
   "cell_type": "code",
   "execution_count": 246,
   "metadata": {},
   "outputs": [],
   "source": [
    "X, Y,x ,y = Fakedata3Classif(15000,2,15000); #X,Y: train set ; x,y: extention data\n",
    "Y = Y.+1;\n",
    "y = y.+1;"
   ]
  },
  {
   "cell_type": "code",
   "execution_count": 247,
   "metadata": {
    "scrolled": true
   },
   "outputs": [
    {
     "data": {
      "text/plain": []
     },
     "execution_count": 247,
     "metadata": {},
     "output_type": "execute_result"
    },
    {
     "name": "stdout",
     "output_type": "stream",
     "text": [
      "Mondrian Tree Classifier:\n",
      "    Mondrian Tree with 11 leaves"
     ]
    }
   ],
   "source": [
    "T = Mondrian_Tree_Classifier()\n",
    "train!(T,X[1:20,:],Y[1:20],1e9)  #Sample tree on training dataset"
   ]
  },
  {
   "cell_type": "code",
   "execution_count": 248,
   "metadata": {},
   "outputs": [
    {
     "name": "stdout",
     "output_type": "stream",
     "text": [
      "[9, 10, 1]\n",
      "[4, 2, 0]\n",
      "[5, 8, 1]\n",
      "node done\n",
      "[4, 2, 0]\n",
      "[3, 2, 0]\n",
      "[1, 0, 0]\n",
      "node done\n",
      "[3, 2, 0]\n",
      "[2, 2, 0]\n",
      "[1, 0, 0]\n",
      "node done\n",
      "[2, 2, 0]\n",
      "[2, 1, 0]\n",
      "[0, 1, 0]\n",
      "node done\n",
      "[2, 1, 0]\n",
      "[0, 1, 0]\n",
      "[2, 0, 0]\n",
      "node done\n",
      "[5, 8, 1]\n",
      "[0, 1, 0]\n",
      "[5, 7, 1]\n",
      "node done\n",
      "[5, 7, 1]\n",
      "[5, 7, 0]\n",
      "[0, 0, 1]\n",
      "node done\n",
      "[5, 7, 0]\n",
      "[0, 6, 0]\n",
      "[5, 1, 0]\n",
      "node done\n",
      "[5, 1, 0]\n",
      "[4, 0, 0]\n",
      "[1, 1, 0]\n",
      "node done\n",
      "[1, 1, 0]\n",
      "[1, 0, 0]\n",
      "[0, 1, 0]\n",
      "node done\n"
     ]
    }
   ],
   "source": [
    "j_print((T.Tree).root);"
   ]
  },
  {
   "cell_type": "code",
   "execution_count": 249,
   "metadata": {},
   "outputs": [
    {
     "data": {
      "text/plain": [
       "0.8566666666666667"
      ]
     },
     "execution_count": 249,
     "metadata": {},
     "output_type": "execute_result"
    }
   ],
   "source": [
    "pred=predict!(T,x);\n",
    "correctrate(y,convert(Array{Int,1},pred))"
   ]
  },
  {
   "cell_type": "code",
   "execution_count": 250,
   "metadata": {},
   "outputs": [
    {
     "data": {
      "text/plain": []
     },
     "execution_count": 250,
     "metadata": {},
     "output_type": "execute_result"
    },
    {
     "name": "stdout",
     "output_type": "stream",
     "text": [
      "Mondrian Tree Classifier:\n",
      "    Mondrian Tree with 12 leaves"
     ]
    }
   ],
   "source": [
    "expand!(T,X[21:40,:],Y[21:40],1e9)"
   ]
  },
  {
   "cell_type": "code",
   "execution_count": 251,
   "metadata": {},
   "outputs": [
    {
     "data": {
      "text/plain": [
       "0.8612666666666666"
      ]
     },
     "execution_count": 251,
     "metadata": {},
     "output_type": "execute_result"
    }
   ],
   "source": [
    "pred=predict!(T,x)\n",
    "correctrate(y,convert(Array{Int,1},pred))"
   ]
  },
  {
   "cell_type": "code",
   "execution_count": 239,
   "metadata": {},
   "outputs": [
    {
     "data": {
      "text/plain": []
     },
     "execution_count": 239,
     "metadata": {},
     "output_type": "execute_result"
    },
    {
     "name": "stdout",
     "output_type": "stream",
     "text": [
      "Mondrian Tree Classifier:\n",
      "    Mondrian Tree with 16 leaves"
     ]
    }
   ],
   "source": [
    "expand!(T,X[41:60,:],Y[41:60],1e9)"
   ]
  },
  {
   "cell_type": "code",
   "execution_count": 240,
   "metadata": {
    "scrolled": false
   },
   "outputs": [
    {
     "data": {
      "text/plain": [
       "0.7824"
      ]
     },
     "execution_count": 240,
     "metadata": {},
     "output_type": "execute_result"
    }
   ],
   "source": [
    "pred=predict!(T,x)\n",
    "correctrate(y,convert(Array{Int,1},pred))"
   ]
  },
  {
   "cell_type": "code",
   "execution_count": 241,
   "metadata": {},
   "outputs": [
    {
     "data": {
      "text/plain": []
     },
     "execution_count": 241,
     "metadata": {},
     "output_type": "execute_result"
    },
    {
     "name": "stdout",
     "output_type": "stream",
     "text": [
      "Mondrian Tree Classifier:\n",
      "    Mondrian Tree with 20 leaves"
     ]
    }
   ],
   "source": [
    "expand!(T,X[61:80,:],Y[61:80],1e9)"
   ]
  },
  {
   "cell_type": "code",
   "execution_count": 242,
   "metadata": {},
   "outputs": [
    {
     "data": {
      "text/plain": [
       "0.7825333333333333"
      ]
     },
     "execution_count": 242,
     "metadata": {},
     "output_type": "execute_result"
    }
   ],
   "source": [
    "pred=predict!(T,x)\n",
    "correctrate(y,convert(Array{Int,1},pred))"
   ]
  },
  {
   "cell_type": "code",
   "execution_count": 243,
   "metadata": {},
   "outputs": [
    {
     "data": {
      "text/plain": []
     },
     "execution_count": 243,
     "metadata": {},
     "output_type": "execute_result"
    },
    {
     "name": "stdout",
     "output_type": "stream",
     "text": [
      "Mondrian Tree Classifier:\n",
      "    Mondrian Tree with 23 leaves"
     ]
    }
   ],
   "source": [
    "expand!(T,X[81:100,:],Y[81:100],1e9)"
   ]
  },
  {
   "cell_type": "code",
   "execution_count": 244,
   "metadata": {},
   "outputs": [
    {
     "data": {
      "text/plain": [
       "0.7820666666666667"
      ]
     },
     "execution_count": 244,
     "metadata": {},
     "output_type": "execute_result"
    }
   ],
   "source": [
    "pred=predict!(T,x)\n",
    "correctrate(y,convert(Array{Int,1},pred))"
   ]
  },
  {
   "cell_type": "markdown",
   "metadata": {},
   "source": [
    "True Tree"
   ]
  },
  {
   "cell_type": "code",
   "execution_count": 192,
   "metadata": {},
   "outputs": [
    {
     "data": {
      "text/plain": []
     },
     "execution_count": 192,
     "metadata": {},
     "output_type": "execute_result"
    },
    {
     "name": "stdout",
     "output_type": "stream",
     "text": [
      "Mondrian Tree Classifier:\n",
      "    Mondrian Tree with 704 leaves"
     ]
    }
   ],
   "source": [
    "T=Mondrian_Tree_Classifier()\n",
    "train!(T,X,Y,1e9)"
   ]
  },
  {
   "cell_type": "code",
   "execution_count": 193,
   "metadata": {},
   "outputs": [
    {
     "data": {
      "text/plain": [
       "7521"
      ]
     },
     "execution_count": 193,
     "metadata": {},
     "output_type": "execute_result"
    }
   ],
   "source": [
    "ϵ =  (T.Tree).root\n",
    "a = get(ϵ).left\n",
    " get(get(a).parent).c[2]\n",
    "# get(get(j_wave).parent).c[Y]"
   ]
  },
  {
   "cell_type": "code",
   "execution_count": 194,
   "metadata": {},
   "outputs": [
    {
     "data": {
      "text/plain": [
       "0.9734666666666667"
      ]
     },
     "execution_count": 194,
     "metadata": {},
     "output_type": "execute_result"
    }
   ],
   "source": [
    "pred=predict!(T,x)\n",
    "correctrate(y,convert(Array{Int,1},pred))"
   ]
  },
  {
   "cell_type": "code",
   "execution_count": 195,
   "metadata": {},
   "outputs": [],
   "source": [
    "T=Mondrian_Tree_Classifier()\n",
    "Acc=[];\n",
    "Time=[];"
   ]
  },
  {
   "cell_type": "code",
   "execution_count": 196,
   "metadata": {},
   "outputs": [
    {
     "data": {
      "text/plain": [
       "1-element Array{Any,1}:\n",
       " 0.482933"
      ]
     },
     "execution_count": 196,
     "metadata": {},
     "output_type": "execute_result"
    }
   ],
   "source": [
    "counter=1\n",
    "train!(T,X[1:20,:],Y[1:20],1e9);\n",
    "pred=predict!(T,x)\n",
    "append!(Acc,correctrate(y,convert(Array{Int,1},pred)))"
   ]
  },
  {
   "cell_type": "code",
   "execution_count": 197,
   "metadata": {},
   "outputs": [
    {
     "name": "stdout",
     "output_type": "stream",
     "text": [
      "Mondrian Tree Classifier:\n",
      "    Mondrian Tree with 19 leaves\n",
      "The time is\n",
      "0.029210989\n",
      "The accuracy is\n",
      "Any[0.482933, 0.502]\n",
      "XXXXXXXXXXXXXXXXXXXXXXXXXXXXXXXXXXXXXXXXXXXXXXXXXXXXXXXXXXXXXXXXX\n",
      "Mondrian Tree Classifier:\n",
      "    Mondrian Tree with 29 leaves\n",
      "The time is\n",
      "0.005380091\n",
      "The accuracy is\n",
      "Any[0.482933, 0.502, 0.536467]\n",
      "XXXXXXXXXXXXXXXXXXXXXXXXXXXXXXXXXXXXXXXXXXXXXXXXXXXXXXXXXXXXXXXXX\n",
      "Mondrian Tree Classifier:\n",
      "    Mondrian Tree with 39 leaves\n",
      "The time is\n",
      "0.005099947\n",
      "The accuracy is\n",
      "Any[0.482933, 0.502, 0.536467, 0.463267]\n",
      "XXXXXXXXXXXXXXXXXXXXXXXXXXXXXXXXXXXXXXXXXXXXXXXXXXXXXXXXXXXXXXXXX\n",
      "Mondrian Tree Classifier:\n",
      "    Mondrian Tree with 45 leaves\n",
      "The time is\n",
      "0.004404573\n",
      "The accuracy is\n",
      "Any[0.482933, 0.502, 0.536467, 0.463267, 0.491733]\n",
      "XXXXXXXXXXXXXXXXXXXXXXXXXXXXXXXXXXXXXXXXXXXXXXXXXXXXXXXXXXXXXXXXX\n"
     ]
    }
   ],
   "source": [
    "i=21\n",
    "while i<100\n",
    "    tic()\n",
    "    expand!(T,X[i:i+19,:],Y[i:i+19,:],1e9)\n",
    "    println(T)\n",
    "    t=toq()\n",
    "    println(\"The time is\")\n",
    "    println(t)\n",
    "    push!(Time,t)\n",
    "    pred=predict!(T,X)\n",
    "    append!(Acc,correctrate(Y,convert(Array{Int,1},pred)))\n",
    "    println(\"The accuracy is\")\n",
    "    println(Acc)\n",
    "    i=i+20\n",
    "    println(\"XXXXXXXXXXXXXXXXXXXXXXXXXXXXXXXXXXXXXXXXXXXXXXXXXXXXXXXXXXXXXXXXX\")\n",
    "end"
   ]
  },
  {
   "cell_type": "code",
   "execution_count": 108,
   "metadata": {},
   "outputs": [
    {
     "name": "stdout",
     "output_type": "stream",
     "text": [
      "Any[0.71, 0.76, 0.78, 0.77, 0.77]\n"
     ]
    }
   ],
   "source": [
    "println(Acc)"
   ]
  },
  {
   "cell_type": "code",
   "execution_count": 109,
   "metadata": {},
   "outputs": [
    {
     "data": {
      "text/plain": [
       "0.77"
      ]
     },
     "execution_count": 109,
     "metadata": {},
     "output_type": "execute_result"
    }
   ],
   "source": [
    "correctrate(Y,convert(Array{Int,1},pred))"
   ]
  },
  {
   "cell_type": "code",
   "execution_count": null,
   "metadata": {},
   "outputs": [],
   "source": [
    "pred=predict!(T,X)\n"
   ]
  },
  {
   "cell_type": "code",
   "execution_count": null,
   "metadata": {},
   "outputs": [],
   "source": [
    "j_print((T.Tree).root)"
   ]
  },
  {
   "cell_type": "code",
   "execution_count": null,
   "metadata": {},
   "outputs": [],
   "source": []
  },
  {
   "cell_type": "markdown",
   "metadata": {},
   "source": [
    "XXXXXXXXXXXXXXXXXXXXXXXXXXXXXXXXXXXXXXXXXXXXXXXXXXXXXXXXXXXXXXXXXXXXXXXXXXXXXXXXXXXXXXXXXXXXXXXXXXXXXXXXXXXXXXX"
   ]
  },
  {
   "cell_type": "code",
   "execution_count": 125,
   "metadata": {},
   "outputs": [],
   "source": [
    "X, Y,x ,y = Fakedata3Classif(1500,2,1500); #X,Y: train set ; x,y: extention data\n",
    "Y = Y.+1;\n",
    "y = y.+1;"
   ]
  },
  {
   "cell_type": "code",
   "execution_count": 126,
   "metadata": {},
   "outputs": [],
   "source": [
    "T=Mondrian_Tree_Classifier()\n",
    "Acc=zeros(10);\n",
    "Time=[];"
   ]
  },
  {
   "cell_type": "code",
   "execution_count": 127,
   "metadata": {},
   "outputs": [
    {
     "data": {
      "text/plain": [
       "0.8"
      ]
     },
     "execution_count": 127,
     "metadata": {},
     "output_type": "execute_result"
    }
   ],
   "source": [
    "counter=1\n",
    "train!(T,X[1:150,:],Y[1:150],1e9);\n",
    "pred=predict!(T,x)\n",
    "Acc[counter]=correctrate(y,convert(Array{Int,1},pred))"
   ]
  },
  {
   "cell_type": "code",
   "execution_count": 128,
   "metadata": {},
   "outputs": [
    {
     "name": "stdout",
     "output_type": "stream",
     "text": [
      "Mondrian Tree Classifier:\n",
      "    Mondrian Tree with 57 leaves\n",
      "The time is\n",
      "0.086043946\n",
      "The accuracy\n",
      "0.8226666666666667\n",
      "XXXXXXXXXXXXXXXXXXXXXXXXXXXXXXXXXXXXXXXXXXXXXXXXXXXXXXXXXXXXXXXXX\n",
      "Mondrian Tree Classifier:\n",
      "    Mondrian Tree with 66 leaves\n",
      "The time is\n",
      "0.07205737\n",
      "The accuracy\n",
      "0.868\n",
      "XXXXXXXXXXXXXXXXXXXXXXXXXXXXXXXXXXXXXXXXXXXXXXXXXXXXXXXXXXXXXXXXX\n",
      "Mondrian Tree Classifier:\n",
      "    Mondrian Tree with 79 leaves\n",
      "The time is\n",
      "0.074971406\n",
      "The accuracy\n",
      "0.8733333333333333\n",
      "XXXXXXXXXXXXXXXXXXXXXXXXXXXXXXXXXXXXXXXXXXXXXXXXXXXXXXXXXXXXXXXXX\n",
      "Mondrian Tree Classifier:\n",
      "    Mondrian Tree with 96 leaves\n",
      "The time is\n",
      "0.074009985\n",
      "The accuracy\n",
      "0.8706666666666667\n",
      "XXXXXXXXXXXXXXXXXXXXXXXXXXXXXXXXXXXXXXXXXXXXXXXXXXXXXXXXXXXXXXXXX\n",
      "Mondrian Tree Classifier:\n",
      "    Mondrian Tree with 111 leaves\n",
      "The time is\n",
      "0.075577441\n",
      "The accuracy\n",
      "0.8813333333333333\n",
      "XXXXXXXXXXXXXXXXXXXXXXXXXXXXXXXXXXXXXXXXXXXXXXXXXXXXXXXXXXXXXXXXX\n",
      "Mondrian Tree Classifier:\n",
      "    Mondrian Tree with 126 leaves\n",
      "The time is\n",
      "0.074276851\n",
      "The accuracy\n",
      "0.8733333333333333\n",
      "XXXXXXXXXXXXXXXXXXXXXXXXXXXXXXXXXXXXXXXXXXXXXXXXXXXXXXXXXXXXXXXXX\n",
      "Mondrian Tree Classifier:\n",
      "    Mondrian Tree with 137 leaves\n",
      "The time is\n",
      "0.057934758\n",
      "The accuracy\n",
      "0.8766666666666667\n",
      "XXXXXXXXXXXXXXXXXXXXXXXXXXXXXXXXXXXXXXXXXXXXXXXXXXXXXXXXXXXXXXXXX\n",
      "Mondrian Tree Classifier:\n",
      "    Mondrian Tree with 147 leaves\n",
      "The time is\n",
      "0.057170969\n",
      "The accuracy\n",
      "0.8806666666666667\n",
      "XXXXXXXXXXXXXXXXXXXXXXXXXXXXXXXXXXXXXXXXXXXXXXXXXXXXXXXXXXXXXXXXX\n",
      "Mondrian Tree Classifier:\n",
      "    Mondrian Tree with 151 leaves\n",
      "The time is\n",
      "0.060891818\n",
      "The accuracy\n",
      "0.8826666666666667\n",
      "XXXXXXXXXXXXXXXXXXXXXXXXXXXXXXXXXXXXXXXXXXXXXXXXXXXXXXXXXXXXXXXXX\n"
     ]
    }
   ],
   "source": [
    "i=151\n",
    "while i<1500\n",
    "    counter = counter+1\n",
    "    tic()\n",
    "    expand!(T,X[i:i+149,:],Y[i:i+149,:],1e9);\n",
    "    println(T)\n",
    "    t=toq()\n",
    "    println(\"The time is\")\n",
    "    println(t)\n",
    "    push!(Time,t)\n",
    "    pred=predict!(T,x)\n",
    "    Acc[counter]=correctrate(y,convert(Array{Int,1},pred))\n",
    "    i=i+150\n",
    "    println(\"The accuracy\")\n",
    "    println(Acc[counter])\n",
    "    println(\"XXXXXXXXXXXXXXXXXXXXXXXXXXXXXXXXXXXXXXXXXXXXXXXXXXXXXXXXXXXXXXXXX\")\n",
    "end"
   ]
  },
  {
   "cell_type": "code",
   "execution_count": 129,
   "metadata": {},
   "outputs": [
    {
     "data": {
      "text/plain": [
       "10-element Array{Float64,1}:\n",
       " 0.8     \n",
       " 0.822667\n",
       " 0.868   \n",
       " 0.873333\n",
       " 0.870667\n",
       " 0.881333\n",
       " 0.873333\n",
       " 0.876667\n",
       " 0.880667\n",
       " 0.882667"
      ]
     },
     "execution_count": 129,
     "metadata": {},
     "output_type": "execute_result"
    }
   ],
   "source": [
    "Acc"
   ]
  },
  {
   "cell_type": "markdown",
   "metadata": {},
   "source": [
    "XXXXXXXXXXXXXXXXXXXXXXXXXXXXXXXXXXXXXXXXXXXXXXXXXXXXXXXXXXXXXXXXXXXXXXXXXXXXXXXXXXXXXXXXXXXXXXXXXXXXXXXXXXXXXXX"
   ]
  },
  {
   "cell_type": "code",
   "execution_count": 140,
   "metadata": {},
   "outputs": [],
   "source": [
    "MF=Mondrian_Forest_Classifier(100)\n",
    "Acc=zeros(150);\n",
    "Time=[];"
   ]
  },
  {
   "cell_type": "code",
   "execution_count": 141,
   "metadata": {},
   "outputs": [
    {
     "name": "stdout",
     "output_type": "stream",
     "text": [
      "elapsed time: 0.000272371 seconds\n"
     ]
    },
    {
     "data": {
      "text/plain": [
       "0.000272371"
      ]
     },
     "execution_count": 141,
     "metadata": {},
     "output_type": "execute_result"
    }
   ],
   "source": [
    "counter=1\n",
    "tic()\n",
    "train!(MF,X[1:150,:],Y[1:150],1e9);\n",
    "toc()\n",
    "# pred=predict!(MF,x)\n",
    "# Acc[counter]=correctrate(y,convert(Array{Int,1},pred))"
   ]
  },
  {
   "cell_type": "code",
   "execution_count": 142,
   "metadata": {},
   "outputs": [
    {
     "name": "stdout",
     "output_type": "stream",
     "text": [
      "The time is\n",
      "0.00013729\n",
      "The time is\n",
      "5.0247e-5\n",
      "The time is\n",
      "6.0974e-5\n",
      "The time is\n",
      "6.8017e-5\n",
      "The time is\n",
      "6.1147e-5\n",
      "The time is\n",
      "6.3704e-5\n",
      "The time is\n",
      "4.4959e-5\n",
      "The time is\n",
      "6.0861e-5\n",
      "The time is\n",
      "0.000108302\n",
      "The time is\n",
      "6.7207e-5\n",
      "The time is\n",
      "6.4009e-5\n",
      "The time is\n",
      "8.4919e-5\n",
      "The time is\n",
      "8.4396e-5\n",
      "The time is\n",
      "9.6894e-5\n",
      "The time is\n",
      "5.2591e-5\n",
      "The time is\n",
      "8.3509e-5\n",
      "The time is\n",
      "0.000103266\n",
      "The time is\n",
      "9.3133e-5\n",
      "The time is\n",
      "0.000113961\n",
      "The time is\n",
      "5.7575e-5\n",
      "The time is\n",
      "5.2574e-5\n",
      "The time is\n",
      "9.4521e-5\n",
      "The time is\n",
      "8.8215e-5\n",
      "The time is\n",
      "0.000103968\n",
      "The time is\n",
      "9.2777e-5\n",
      "The time is\n",
      "0.000108419\n",
      "The time is\n",
      "0.000152119\n",
      "The time is\n",
      "5.6487e-5\n",
      "The time is\n",
      "7.4569e-5\n",
      "The time is\n",
      "0.000139661\n",
      "The time is\n",
      "0.000102825\n",
      "The time is\n",
      "0.000101499\n",
      "The time is\n",
      "0.000118335\n",
      "The time is\n",
      "0.000108252\n",
      "The time is\n",
      "0.000113283\n",
      "The time is\n",
      "8.4154e-5\n",
      "The time is\n",
      "0.000137115\n",
      "The time is\n",
      "6.1677e-5\n",
      "The time is\n",
      "7.5665e-5\n",
      "The time is\n",
      "8.9157e-5\n",
      "The time is\n",
      "6.2169e-5\n",
      "The time is\n",
      "7.2015e-5\n",
      "The time is\n",
      "0.000100221\n",
      "The time is\n",
      "0.000107269\n",
      "The time is\n",
      "7.1558e-5\n",
      "The time is\n",
      "0.000128021\n",
      "The time is\n",
      "0.000103461\n",
      "The time is\n",
      "0.000124003\n",
      "The time is\n",
      "0.00279921\n",
      "The time is\n",
      "8.869e-5\n",
      "The time is\n",
      "9.9878e-5\n",
      "The time is\n",
      "8.5879e-5\n",
      "The time is\n",
      "0.000116054\n",
      "The time is\n",
      "0.000117034\n",
      "The time is\n",
      "6.7594e-5\n",
      "The time is\n",
      "6.9093e-5\n",
      "The time is\n",
      "7.872e-5\n",
      "The time is\n",
      "0.000110236\n",
      "The time is\n",
      "9.0056e-5\n",
      "The time is\n",
      "0.00015082\n",
      "The time is\n",
      "0.000106965\n",
      "The time is\n",
      "7.8395e-5\n",
      "The time is\n",
      "0.000108068\n",
      "The time is\n",
      "0.000148816\n",
      "The time is\n",
      "0.000152493\n",
      "The time is\n",
      "0.000107987\n",
      "The time is\n",
      "0.000153301\n",
      "The time is\n",
      "8.1486e-5\n",
      "The time is\n",
      "0.000108677\n",
      "The time is\n",
      "0.000169726\n",
      "The time is\n",
      "0.00010857\n",
      "The time is\n",
      "9.4132e-5\n",
      "The time is\n",
      "0.000157388\n",
      "The time is\n",
      "0.000157741\n",
      "The time is\n",
      "0.000165077\n",
      "The time is\n",
      "0.000141848\n",
      "The time is\n",
      "0.000143188\n",
      "The time is\n",
      "0.000142892\n",
      "The time is\n",
      "7.8468e-5\n",
      "The time is\n",
      "0.000130814\n",
      "The time is\n",
      "8.6037e-5\n",
      "The time is\n",
      "0.000170248\n",
      "The time is\n",
      "0.000102678\n",
      "The time is\n",
      "0.000163331\n",
      "The time is\n",
      "0.0001137\n",
      "The time is\n",
      "9.695e-5\n",
      "The time is\n",
      "8.6243e-5\n",
      "The time is\n",
      "0.00017871\n",
      "The time is\n",
      "0.000169459\n",
      "The time is\n",
      "0.000122072\n",
      "The time is\n",
      "0.00018165\n",
      "The time is\n",
      "0.000199743\n",
      "The time is\n",
      "0.000165869\n",
      "The time is\n",
      "0.000149077\n",
      "The time is\n",
      "0.000154685\n",
      "The time is\n",
      "0.000154038\n",
      "The time is\n",
      "0.000147729\n",
      "The time is\n",
      "0.000141574\n",
      "The time is\n",
      "0.000148656\n"
     ]
    }
   ],
   "source": [
    "i=151\n",
    "while i<15000\n",
    "    counter = counter+1\n",
    "    tic()\n",
    "    expand_forest!(MF,X[i:i+149,:],Y[i:i+149,:],1e9);\n",
    "    t=toq()\n",
    "    println(\"The time is\")\n",
    "    println(t)\n",
    "    push!(Time,t)\n",
    "#     pred=predict!(MF,x)\n",
    "#     Acc[counter]=correctrate(y,convert(Array{Int,1},pred))\n",
    "    i=i+150\n",
    "#     println(\"The accrucary\")\n",
    "#     println(Acc[counter])\n",
    "end"
   ]
  },
  {
   "cell_type": "code",
   "execution_count": 159,
   "metadata": {},
   "outputs": [
    {
     "ename": "LoadError",
     "evalue": "\u001b[91mMethodError: no method matching predict!(::Mondrian_Forest_Classifier, ::StepRangeLen{Float64,Base.TwicePrecision{Float64},Base.TwicePrecision{Float64}})\u001b[0m\nClosest candidates are:\n  predict!(::Mondrian_Forest_Classifier, \u001b[91m::X<:(Array{#s31,N} where #s31<:AbstractFloat where N)\u001b[39m) where X<:(Array{#s31,N} where #s31<:AbstractFloat where N) at /home/annika/RSG Julia/warwick-rsg/MondrianForest/Mondrian_Forest_Classifier.jl:166\u001b[39m",
     "output_type": "error",
     "traceback": [
      "\u001b[91mMethodError: no method matching predict!(::Mondrian_Forest_Classifier, ::StepRangeLen{Float64,Base.TwicePrecision{Float64},Base.TwicePrecision{Float64}})\u001b[0m\nClosest candidates are:\n  predict!(::Mondrian_Forest_Classifier, \u001b[91m::X<:(Array{#s31,N} where #s31<:AbstractFloat where N)\u001b[39m) where X<:(Array{#s31,N} where #s31<:AbstractFloat where N) at /home/annika/RSG Julia/warwick-rsg/MondrianForest/Mondrian_Forest_Classifier.jl:166\u001b[39m",
      "",
      "Stacktrace:",
      " [1] \u001b[1minclude_string\u001b[22m\u001b[22m\u001b[1m(\u001b[22m\u001b[22m::String, ::String\u001b[1m)\u001b[22m\u001b[22m at \u001b[1m./loading.jl:522\u001b[22m\u001b[22m"
     ]
    }
   ],
   "source": [
    "pred=predict!(MF,x)\n",
    "correctrate(y,convert(Array{Int,1},pred))"
   ]
  },
  {
   "cell_type": "code",
   "execution_count": 161,
   "metadata": {},
   "outputs": [
    {
     "data": {
      "image/svg+xml": [
       "<?xml version=\"1.0\" encoding=\"utf-8\"?>\n",
       "<svg xmlns=\"http://www.w3.org/2000/svg\" xmlns:xlink=\"http://www.w3.org/1999/xlink\" width=\"600\" height=\"400\" viewBox=\"0 0 600 400\">\n",
       "<defs>\n",
       "  <clipPath id=\"clip0100\">\n",
       "    <rect x=\"0\" y=\"0\" width=\"600\" height=\"400\"/>\n",
       "  </clipPath>\n",
       "</defs>\n",
       "<polygon clip-path=\"url(#clip0100)\" points=\"\n",
       "0,400 600,400 600,0 0,0 \n",
       "  \" fill=\"#ffffff\" fill-opacity=\"1\"/>\n",
       "<defs>\n",
       "  <clipPath id=\"clip0101\">\n",
       "    <rect x=\"120\" y=\"0\" width=\"421\" height=\"400\"/>\n",
       "  </clipPath>\n",
       "</defs>\n",
       "<polygon clip-path=\"url(#clip0100)\" points=\"\n",
       "52.5462,375.869 580.315,375.869 580.315,11.811 52.5462,11.811 \n",
       "  \" fill=\"#ffffff\" fill-opacity=\"1\"/>\n",
       "<defs>\n",
       "  <clipPath id=\"clip0102\">\n",
       "    <rect x=\"52\" y=\"11\" width=\"529\" height=\"365\"/>\n",
       "  </clipPath>\n",
       "</defs>\n",
       "<polyline clip-path=\"url(#clip0102)\" style=\"stroke:#000000; stroke-width:0.5; stroke-opacity:0.1; fill:none\" points=\"\n",
       "  154.869,375.869 154.869,11.811 \n",
       "  \"/>\n",
       "<polyline clip-path=\"url(#clip0102)\" style=\"stroke:#000000; stroke-width:0.5; stroke-opacity:0.1; fill:none\" points=\"\n",
       "  262.577,375.869 262.577,11.811 \n",
       "  \"/>\n",
       "<polyline clip-path=\"url(#clip0102)\" style=\"stroke:#000000; stroke-width:0.5; stroke-opacity:0.1; fill:none\" points=\"\n",
       "  370.285,375.869 370.285,11.811 \n",
       "  \"/>\n",
       "<polyline clip-path=\"url(#clip0102)\" style=\"stroke:#000000; stroke-width:0.5; stroke-opacity:0.1; fill:none\" points=\"\n",
       "  477.992,375.869 477.992,11.811 \n",
       "  \"/>\n",
       "<polyline clip-path=\"url(#clip0102)\" style=\"stroke:#000000; stroke-width:0.5; stroke-opacity:0.1; fill:none\" points=\"\n",
       "  52.5462,315.721 580.315,315.721 \n",
       "  \"/>\n",
       "<polyline clip-path=\"url(#clip0102)\" style=\"stroke:#000000; stroke-width:0.5; stroke-opacity:0.1; fill:none\" points=\"\n",
       "  52.5462,249.631 580.315,249.631 \n",
       "  \"/>\n",
       "<polyline clip-path=\"url(#clip0102)\" style=\"stroke:#000000; stroke-width:0.5; stroke-opacity:0.1; fill:none\" points=\"\n",
       "  52.5462,183.541 580.315,183.541 \n",
       "  \"/>\n",
       "<polyline clip-path=\"url(#clip0102)\" style=\"stroke:#000000; stroke-width:0.5; stroke-opacity:0.1; fill:none\" points=\"\n",
       "  52.5462,117.451 580.315,117.451 \n",
       "  \"/>\n",
       "<polyline clip-path=\"url(#clip0102)\" style=\"stroke:#000000; stroke-width:0.5; stroke-opacity:0.1; fill:none\" points=\"\n",
       "  52.5462,51.3607 580.315,51.3607 \n",
       "  \"/>\n",
       "<polyline clip-path=\"url(#clip0100)\" style=\"stroke:#000000; stroke-width:1; stroke-opacity:1; fill:none\" points=\"\n",
       "  52.5462,375.869 580.315,375.869 \n",
       "  \"/>\n",
       "<polyline clip-path=\"url(#clip0100)\" style=\"stroke:#000000; stroke-width:1; stroke-opacity:1; fill:none\" points=\"\n",
       "  52.5462,375.869 52.5462,11.811 \n",
       "  \"/>\n",
       "<polyline clip-path=\"url(#clip0100)\" style=\"stroke:#000000; stroke-width:1; stroke-opacity:1; fill:none\" points=\"\n",
       "  154.869,375.869 154.869,370.408 \n",
       "  \"/>\n",
       "<polyline clip-path=\"url(#clip0100)\" style=\"stroke:#000000; stroke-width:1; stroke-opacity:1; fill:none\" points=\"\n",
       "  262.577,375.869 262.577,370.408 \n",
       "  \"/>\n",
       "<polyline clip-path=\"url(#clip0100)\" style=\"stroke:#000000; stroke-width:1; stroke-opacity:1; fill:none\" points=\"\n",
       "  370.285,375.869 370.285,370.408 \n",
       "  \"/>\n",
       "<polyline clip-path=\"url(#clip0100)\" style=\"stroke:#000000; stroke-width:1; stroke-opacity:1; fill:none\" points=\"\n",
       "  477.992,375.869 477.992,370.408 \n",
       "  \"/>\n",
       "<polyline clip-path=\"url(#clip0100)\" style=\"stroke:#000000; stroke-width:1; stroke-opacity:1; fill:none\" points=\"\n",
       "  52.5462,315.721 60.4628,315.721 \n",
       "  \"/>\n",
       "<polyline clip-path=\"url(#clip0100)\" style=\"stroke:#000000; stroke-width:1; stroke-opacity:1; fill:none\" points=\"\n",
       "  52.5462,249.631 60.4628,249.631 \n",
       "  \"/>\n",
       "<polyline clip-path=\"url(#clip0100)\" style=\"stroke:#000000; stroke-width:1; stroke-opacity:1; fill:none\" points=\"\n",
       "  52.5462,183.541 60.4628,183.541 \n",
       "  \"/>\n",
       "<polyline clip-path=\"url(#clip0100)\" style=\"stroke:#000000; stroke-width:1; stroke-opacity:1; fill:none\" points=\"\n",
       "  52.5462,117.451 60.4628,117.451 \n",
       "  \"/>\n",
       "<polyline clip-path=\"url(#clip0100)\" style=\"stroke:#000000; stroke-width:1; stroke-opacity:1; fill:none\" points=\"\n",
       "  52.5462,51.3607 60.4628,51.3607 \n",
       "  \"/>\n",
       "<g clip-path=\"url(#clip0100)\">\n",
       "<text style=\"fill:#000000; fill-opacity:1; font-family:Arial,Helvetica Neue,Helvetica,sans-serif; font-size:12; text-anchor:middle;\" transform=\"rotate(0, 154.869, 389.669)\" x=\"154.869\" y=\"389.669\">20</text>\n",
       "</g>\n",
       "<g clip-path=\"url(#clip0100)\">\n",
       "<text style=\"fill:#000000; fill-opacity:1; font-family:Arial,Helvetica Neue,Helvetica,sans-serif; font-size:12; text-anchor:middle;\" transform=\"rotate(0, 262.577, 389.669)\" x=\"262.577\" y=\"389.669\">40</text>\n",
       "</g>\n",
       "<g clip-path=\"url(#clip0100)\">\n",
       "<text style=\"fill:#000000; fill-opacity:1; font-family:Arial,Helvetica Neue,Helvetica,sans-serif; font-size:12; text-anchor:middle;\" transform=\"rotate(0, 370.285, 389.669)\" x=\"370.285\" y=\"389.669\">60</text>\n",
       "</g>\n",
       "<g clip-path=\"url(#clip0100)\">\n",
       "<text style=\"fill:#000000; fill-opacity:1; font-family:Arial,Helvetica Neue,Helvetica,sans-serif; font-size:12; text-anchor:middle;\" transform=\"rotate(0, 477.992, 389.669)\" x=\"477.992\" y=\"389.669\">80</text>\n",
       "</g>\n",
       "<g clip-path=\"url(#clip0100)\">\n",
       "<text style=\"fill:#000000; fill-opacity:1; font-family:Arial,Helvetica Neue,Helvetica,sans-serif; font-size:12; text-anchor:end;\" transform=\"rotate(0, 46.5462, 320.221)\" x=\"46.5462\" y=\"320.221\">0.0005</text>\n",
       "</g>\n",
       "<g clip-path=\"url(#clip0100)\">\n",
       "<text style=\"fill:#000000; fill-opacity:1; font-family:Arial,Helvetica Neue,Helvetica,sans-serif; font-size:12; text-anchor:end;\" transform=\"rotate(0, 46.5462, 254.131)\" x=\"46.5462\" y=\"254.131\">0.0010</text>\n",
       "</g>\n",
       "<g clip-path=\"url(#clip0100)\">\n",
       "<text style=\"fill:#000000; fill-opacity:1; font-family:Arial,Helvetica Neue,Helvetica,sans-serif; font-size:12; text-anchor:end;\" transform=\"rotate(0, 46.5462, 188.041)\" x=\"46.5462\" y=\"188.041\">0.0015</text>\n",
       "</g>\n",
       "<g clip-path=\"url(#clip0100)\">\n",
       "<text style=\"fill:#000000; fill-opacity:1; font-family:Arial,Helvetica Neue,Helvetica,sans-serif; font-size:12; text-anchor:end;\" transform=\"rotate(0, 46.5462, 121.951)\" x=\"46.5462\" y=\"121.951\">0.0020</text>\n",
       "</g>\n",
       "<g clip-path=\"url(#clip0100)\">\n",
       "<text style=\"fill:#000000; fill-opacity:1; font-family:Arial,Helvetica Neue,Helvetica,sans-serif; font-size:12; text-anchor:end;\" transform=\"rotate(0, 46.5462, 55.8607)\" x=\"46.5462\" y=\"55.8607\">0.0025</text>\n",
       "</g>\n",
       "<polyline clip-path=\"url(#clip0102)\" style=\"stroke:#009af9; stroke-width:1; stroke-opacity:1; fill:none\" points=\"\n",
       "  52.5462,363.664 57.9316,375.17 63.317,373.752 68.7024,372.821 74.0878,373.729 79.4732,373.391 84.8586,375.869 90.244,373.767 95.6294,367.496 101.015,372.928 \n",
       "  106.4,373.351 111.786,370.587 117.171,370.656 122.556,369.004 127.942,374.86 133.327,370.773 138.713,368.162 144.098,369.501 149.483,366.748 154.869,374.201 \n",
       "  160.254,374.862 165.64,369.318 171.025,370.151 176.41,368.069 181.796,369.548 187.181,367.481 192.567,361.704 197.952,374.345 203.337,371.955 208.723,363.351 \n",
       "  214.108,368.22 219.493,368.395 224.879,366.17 230.264,367.503 235.65,366.838 241.035,370.688 246.42,363.687 251.806,373.659 257.191,371.81 262.577,370.027 \n",
       "  267.962,373.594 273.347,372.292 278.733,368.564 284.118,367.633 289.504,372.353 294.889,364.89 300.274,368.136 305.66,365.421 311.045,11.811 316.431,370.088 \n",
       "  321.816,368.609 327.201,370.46 332.587,366.471 337.972,366.342 343.358,372.877 348.743,372.679 354.128,371.406 359.514,367.24 364.899,369.908 370.285,361.876 \n",
       "  375.67,367.673 381.055,371.449 386.441,367.527 391.826,362.141 397.212,361.655 402.597,367.538 407.982,361.548 413.368,371.041 418.753,367.446 424.139,359.377 \n",
       "  429.524,367.461 434.909,369.369 440.295,361.008 445.68,360.961 451.065,359.991 456.451,363.062 461.836,362.885 467.222,362.924 472.607,371.439 477.992,364.52 \n",
       "  483.378,370.439 488.763,359.308 494.149,368.239 499.534,360.222 504.919,366.782 510.305,368.996 515.69,370.412 521.076,358.189 526.461,359.412 531.846,365.676 \n",
       "  537.232,357.801 542.617,355.409 548.003,359.887 553.388,362.106 558.773,361.365 564.159,361.451 569.544,362.285 574.93,363.098 580.315,362.162 \n",
       "  \"/>\n",
       "<polygon clip-path=\"url(#clip0100)\" points=\"\n",
       "489.608,62.931 562.315,62.931 562.315,32.691 489.608,32.691 \n",
       "  \" fill=\"#ffffff\" fill-opacity=\"1\"/>\n",
       "<polyline clip-path=\"url(#clip0100)\" style=\"stroke:#000000; stroke-width:1; stroke-opacity:1; fill:none\" points=\"\n",
       "  489.608,62.931 562.315,62.931 562.315,32.691 489.608,32.691 489.608,62.931 \n",
       "  \"/>\n",
       "<polyline clip-path=\"url(#clip0100)\" style=\"stroke:#009af9; stroke-width:1; stroke-opacity:1; fill:none\" points=\"\n",
       "  495.608,47.811 531.608,47.811 \n",
       "  \"/>\n",
       "<g clip-path=\"url(#clip0100)\">\n",
       "<text style=\"fill:#000000; fill-opacity:1; font-family:Arial,Helvetica Neue,Helvetica,sans-serif; font-size:12; text-anchor:start;\" transform=\"rotate(0, 537.608, 52.311)\" x=\"537.608\" y=\"52.311\">y1</text>\n",
       "</g>\n",
       "</svg>\n"
      ]
     },
     "execution_count": 161,
     "metadata": {},
     "output_type": "execute_result"
    }
   ],
   "source": [
    "plotrange=linspace(1,99,99)\n",
    "plot(plotrange,Time)"
   ]
  },
  {
   "cell_type": "markdown",
   "metadata": {},
   "source": [
    "#### Letter dataset"
   ]
  },
  {
   "cell_type": "code",
   "execution_count": 153,
   "metadata": {},
   "outputs": [],
   "source": [
    "Letter = readdlm(\"Letter.txt\");"
   ]
  },
  {
   "cell_type": "code",
   "execution_count": 154,
   "metadata": {},
   "outputs": [],
   "source": [
    "classes = map(x->convert(Int,x[1][1]), Letter[:,1])\n",
    "classes -= minimum(classes);"
   ]
  },
  {
   "cell_type": "code",
   "execution_count": 155,
   "metadata": {},
   "outputs": [],
   "source": [
    "train_data = Letter[1:15000,2:17]*1.0;"
   ]
  },
  {
   "cell_type": "code",
   "execution_count": 156,
   "metadata": {},
   "outputs": [],
   "source": [
    "train_labels = classes[1:15000,1];"
   ]
  },
  {
   "cell_type": "code",
   "execution_count": 162,
   "metadata": {},
   "outputs": [],
   "source": [
    "test_data = Letter[15001:20000,2:17]*1.0;"
   ]
  },
  {
   "cell_type": "code",
   "execution_count": 163,
   "metadata": {},
   "outputs": [],
   "source": [
    "test_labels = classes[15001:20000,1];"
   ]
  },
  {
   "cell_type": "code",
   "execution_count": 174,
   "metadata": {},
   "outputs": [],
   "source": [
    "MF=Mondrian_Forest_Classifier(100)\n",
    "Acc=zeros(150);\n",
    "Time=[]; "
   ]
  },
  {
   "cell_type": "code",
   "execution_count": 175,
   "metadata": {},
   "outputs": [
    {
     "name": "stdout",
     "output_type": "stream",
     "text": [
      "\n"
     ]
    },
    {
     "data": {
      "text/plain": [
       "0.424"
      ]
     },
     "execution_count": 175,
     "metadata": {},
     "output_type": "execute_result"
    }
   ],
   "source": [
    "counter=1\n",
    "tic\n",
    "train!(MF,train_data[1:150,:],train_labels[1:150,:],1e9);\n",
    "t=toq\n",
    "push!(Time,t)\n",
    "pred=predict!(MF,test_data)\n",
    "Acc[counter]=correctrate(test_labels,convert(Array{Int,1},pred))"
   ]
  },
  {
   "cell_type": "code",
   "execution_count": 172,
   "metadata": {},
   "outputs": [
    {
     "name": "stdout",
     "output_type": "stream",
     "text": [
      "3\n",
      "0.000110489\n",
      "\n"
     ]
    },
    {
     "ename": "LoadError",
     "evalue": "\u001b[91mNullException()\u001b[39m",
     "output_type": "error",
     "traceback": [
      "\u001b[91mNullException()\u001b[39m",
      "",
      "Stacktrace:",
      " [1] \u001b[1mget\u001b[22m\u001b[22m at \u001b[1m./nullable.jl:92\u001b[22m\u001b[22m [inlined]",
      " [2] \u001b[1mpredict!\u001b[22m\u001b[22m\u001b[1m(\u001b[22m\u001b[22m::Mondrian_Tree, ::Array{Float64,1}, ::Int64\u001b[1m)\u001b[22m\u001b[22m at \u001b[1m/home/annika/RSG Julia/warwick-rsg/MondrianForest/Mondrian_Tree.jl:352\u001b[22m\u001b[22m",
      " [3] \u001b[1mpredict!\u001b[22m\u001b[22m\u001b[1m(\u001b[22m\u001b[22m::Mondrian_Tree_Classifier, ::Array{Float64,2}\u001b[1m)\u001b[22m\u001b[22m at \u001b[1m/home/annika/RSG Julia/warwick-rsg/MondrianForest/Mondrian_Forest_Classifier.jl:109\u001b[22m\u001b[22m",
      " [4] \u001b[1mpredict!\u001b[22m\u001b[22m\u001b[1m(\u001b[22m\u001b[22m::Mondrian_Forest_Classifier, ::Array{Float64,2}\u001b[1m)\u001b[22m\u001b[22m at \u001b[1m/home/annika/RSG Julia/warwick-rsg/MondrianForest/Mondrian_Forest_Classifier.jl:169\u001b[22m\u001b[22m",
      " [5] \u001b[1mmacro expansion\u001b[22m\u001b[22m at \u001b[1m./In[172]:10\u001b[22m\u001b[22m [inlined]",
      " [6] \u001b[1manonymous\u001b[22m\u001b[22m at \u001b[1m./<missing>:?\u001b[22m\u001b[22m",
      " [7] \u001b[1minclude_string\u001b[22m\u001b[22m\u001b[1m(\u001b[22m\u001b[22m::String, ::String\u001b[1m)\u001b[22m\u001b[22m at \u001b[1m./loading.jl:522\u001b[22m\u001b[22m"
     ]
    }
   ],
   "source": [
    "i=151\n",
    "while i<15000\n",
    "    counter = counter+1\n",
    "    println(counter)\n",
    "    tic()\n",
    "    expand_forest!(MF,train_data[i:i+149,:],train_labels[i:i+149,:],1e9);\n",
    "    t=toq()\n",
    "    println(t)\n",
    "    push!(Time,t)\n",
    "    pred=predict!(MF,test_data)\n",
    "    Acc[counter]=correctrate(test_labels,convert(Array{Int,1},pred))\n",
    "    i=i+150\n",
    "    println(Acc[counter])\n",
    "end"
   ]
  },
  {
   "cell_type": "code",
   "execution_count": 228,
   "metadata": {},
   "outputs": [
    {
     "data": {
      "text/plain": [
       "expand_forest!"
      ]
     },
     "execution_count": 228,
     "metadata": {},
     "output_type": "execute_result"
    }
   ],
   "source": [
    "include(\"Mondrian_extention_utils.jl\");\n",
    "\"\"\"\n",
    "`function Extend_Mondrian_Tree!(T::Mondrian_Tree,λ::Float64,X::Array{Float64} where N,Y::Int64) `\n",
    "\n",
    "This function extends an already existing Mondrian Tree by ONE new datapoint that gets incorperated in the tree. \n",
    "\n",
    "`Input`: Mondrian Tree T (abstract type Mondrian_Tree), Lifetime parameter λ (Float64), 1dim Array of Features Array X (Array of Float64), classlabel Y (Int64)\n",
    "\n",
    "`Output`: Mondrian Tree\n",
    "\n",
    "`Files needed to run this function`: \"Mondrian_Forest_Classifier.jl\", \"Mondrian_extention.jl\"\n",
    "\n",
    "This function calls the function Extend_Mondrian_Block.\n",
    "\n",
    "The usage of the function \"expand!\" is recommended to expand Mondrian Trees as it has a nicer user interface.\n",
    "\n",
    "\"\"\"\n",
    "## Algorithm 3 in the Paper \"Mondrian Forests: Efficient Online Random Forests\"\n",
    "function Extend_Mondrian_Tree!(T::Mondrian_Tree,λ::Float64,X::Array{Float64},Y::Int64) \n",
    "    ϵ=get(T.root)\n",
    "    Extend_Mondrian_Block!(T,λ,ϵ,X,Y)\n",
    "    return T\n",
    "end\n",
    "\n",
    "\n",
    "\"\"\"\n",
    "`function Extend_Mondrian_Block!(T::Mondrian_Tree,λ::Float64,j::Mondrian_Node,X::Array{Float64},Y::Int64)`\n",
    "\n",
    "This function extends a Mondrian Block to incorporate ONE new datapoint. \n",
    "\n",
    "`Input`: Mondrian Tree T (abstract type Mondrian_Tree), Lifetime parameter λ (Float64), Mondrian Node j (abstract type Mondrian_Node), 1dim Array of Features Array X (Array of Float64), classlabel Y (Int64)\n",
    "\n",
    "`Output`: Modified nodes in the input tree\n",
    "\n",
    "`Files needed to run this function`: Mondrian_Forest_Classifier.jl\", \"Mondrian_extention.jl\"\n",
    "\n",
    "This function calls the functions \n",
    "\n",
    "- Extended_dimension()\n",
    "\n",
    "- sample_extended_split_dimension\n",
    "\n",
    "- Sample_Mondrian_Block!\n",
    "\n",
    "- update_intervals\n",
    "\n",
    "\n",
    "\"\"\"\n",
    "\n",
    "## Algorithm 4 in the Paper \n",
    "function Extend_Mondrian_Block!(T::Mondrian_Tree,λ::Float64,j::Mondrian_Node,X::Array{Float64},Y::Int64)\n",
    "    \n",
    "if sum(j.c .> 0) == 1  #check if all labels are identical\n",
    "     Θ = update_intervals(get(j.Θ),X)        # update extent\n",
    "     j.Θ=Θ \n",
    "         if findmax(j.c)[2] == Y\n",
    "             i = findmax(j.c)[2]\n",
    "             j.c[i] = j.c[i]+1\n",
    "             backpropergate_c_tab(j,Y)\n",
    "             return\n",
    "         else\n",
    "            j.node_type = [true,false,false]\n",
    "            p_data,p_labels = paused_train_data(j,X,Y)\n",
    "            Sample_Mondrian_Block!(j,get(j.Θ),λ,T,p_data,p_labels)\n",
    "         end        \n",
    "        \n",
    "else\n",
    "       #println(\"not a leaf\")\n",
    "    E = rand(Exponential(1/Extended_dimension(get(j.Θ),X)))  #sample value E\n",
    "    if j.node_type[3]==true\n",
    "        # check if the node we're looking at is the root (if yes the split time is assumed to be 0)\n",
    "            #println(\"j is the root\")\n",
    "        τₚ = 0\n",
    "    else\n",
    "            #println(\"j is not the root\")\n",
    "        τₚ = (get(j.parent)).τ                               # if it's not the root get the split time of the node above j\n",
    "    end\n",
    "    if τₚ + E < j.τ                                          # check if our split happens in time\n",
    "                                                           \n",
    "        d,x= sample_extended_split_dimension(get(j.Θ),X)     # sample new split dimension / split direction\n",
    "        Θ = update_intervals(get(j.Θ),X)                     # get the boxes for the new node\n",
    "        j_wave=init_j_wave(j,E,d,x,Θ) \n",
    "        update_counts_extended(j_wave,j,Y)\n",
    "        j.parent=j_wave\n",
    "        backpropergate_c_tab(j_wave,Y) \n",
    "            \n",
    "        j_prime = Mondrian_Node(0.0, [true,false,false])   #initialise new sibling to j\n",
    "        j_prime.parent = j_wave\n",
    "        j_prime.tab = zeros(size(j_wave.tab))\n",
    "        j_prime.tab[Y] = 1\n",
    "        j_prime.c = zeros(size(j_wave.c))\n",
    "        j_prime.c[Y] = 1\n",
    "        j_prime.Gₚ=zeros(size(j_wave.Gₚ))\n",
    "        \n",
    "        if X[d] > x     # check where the new datapoint lies\n",
    "            j_wave.left = j\n",
    "            j_wave.right = j_prime \n",
    "                if get(j.Θ).Intervals[d,2]> x    \n",
    "                    get(j.Θ).Intervals[d,2] = x  #adapt box of j according to new split\n",
    "                end\n",
    "            j_prime.Θ = j_wave.Θ\n",
    "            get(j_wave.Θ).Intervals[d,1] = x\n",
    "            A=zeros(1,length(X))\n",
    "            A[:,:]=X\n",
    "            Sample_Mondrian_Block!(j_prime,get(j_prime.Θ),λ,T,A,[Y])  #sample a mondrian block at the node whose associated boxes contain the new datapoint\n",
    "        else\n",
    "            j_wave.left = j_prime\n",
    "            j_wave.right = j\n",
    "            if get(j.Θ).Intervals[d,1]< x \n",
    "                get(j.Θ).Intervals[d,1]= x      #adapt box of j according to new split\n",
    "            end\n",
    "            j_prime.Θ = j_wave.Θ\n",
    "            get(j_wave.Θ).Intervals[d,2] = x\n",
    "            A=zeros(1,length(X))\n",
    "            A[:,:]=X\n",
    "            Sample_Mondrian_Block!(j_prime,get(j_prime.Θ),λ,T,A,[Y])  #sample a mondrian block at the node whose associated boxes contain the new datapoint\n",
    "        end\n",
    "\n",
    "\n",
    "    else                                 # if the split didn't occur in time\n",
    "        Θ = update_intervals(get(j.Θ),X)        # update the boxes of j\n",
    "        j.Θ=Θ\n",
    "        if j.node_type != [false,true,false]    # check if j is a leaf\n",
    "            if X[get(j.δ)] < get(j.ζ)           # if the new datapoint is in the boxes associated with the left child of j -> Extend towards the left child, else the right\n",
    "                     \n",
    "                Extend_Mondrian_Block!(T,λ,get(j.left),X,Y)\n",
    "            else\n",
    "                    \n",
    "                Extend_Mondrian_Block!(T,λ,get(j.right),X,Y)\n",
    "                \n",
    "            end\n",
    "        end\n",
    "    end\n",
    "end\n",
    "end\n",
    "\n",
    "\"\"\"\n",
    "`function expand!(T::Mondrian_Tree_Classifier,X::Array{Float64,N} where N,Y::Array{Int64},λ::Float64)`\n",
    "\n",
    "This function expands an already sampled Mondrian Tree Classifier by a desired number of datapoints. \n",
    "\n",
    "`Input`: Mondrian Tree Classifier T (abstract type Mondrian_Tree_Classifier), array of features X (Array of Float64), array of class labels (1dim of Float 64), Lifetime parameter λ (Float 64)\n",
    "\n",
    "Each row in the array X represents one set of features, the corresponding row in Y represents the class label. \n",
    "\n",
    "`Output`: Mondrian Tree Classifier with incoporated new datapoints\n",
    "\n",
    "`Files needed to run this function`: Mondrian_Forest_Classifier.jl\", \"Mondrian_extention.jl\"\n",
    "\n",
    "This function calls the function Extend_Mondrian_Tree. \n",
    "\"\"\"\n",
    "\n",
    "function expand!(T::Mondrian_Tree_Classifier,X::Array{Float64,N} where N,Y::Array{Int64},λ::Float64)    \n",
    "    \n",
    "    # puts the extention in a nice framework, allows to extend by multiple datapoints\n",
    "    \n",
    "    for i=1:length(X[:,1])\n",
    "        T.Tree=Extend_Mondrian_Tree!(T.Tree,λ,X[i,:],Y[i]);\n",
    "    end\n",
    "    T.X = vcat(T.X,X)\n",
    "    T.Y = vcat(T.Y,Y)\n",
    "    compute_predictive_posterior_distribution!(T.Tree,10*size(X,2))\n",
    "    return T    \n",
    "end\n",
    "\n",
    "\"\"\"\n",
    "`function expand_forest!(MF::Mondrian_Forest_Classifier,X_extend, Y_extend,λ)`\n",
    "\n",
    "This function expands an already sampled Mondrian Forest Classifier by a desired number of datapoints.\n",
    "\n",
    "\n",
    "`Input`: Mondrian Forest Classifier MF (abstract type Mondrian_Forest_Classifier), array of features X_extend to extend the forest on, Array of class labels Y_extend corresponding to the new features, life time parameter λ\n",
    "\n",
    "`Output`: Mondrian Forest Classifier with incoporated new datapoints\n",
    "\n",
    "`Files needed to run this function`: Mondrian_Forest_Classifier.jl\", \"Mondrian_extention.jl\"\n",
    "\n",
    "This function calls the function expand!. \n",
    "\"\"\"\n",
    "\n",
    "function expand_forest!(MF::Mondrian_Forest_Classifier,X_extend, Y_extend,λ)\n",
    "    X=MF.X\n",
    "    Y=MF.Y\n",
    "    if size(X)[2] != size(X_extend)[2]\n",
    "        println(\"Error - the number of features in the new data doesn't fit the original data\")\n",
    "    end\n",
    "    Trees=MF.Trees\n",
    "    Features = MF.Features\n",
    "    @parallel for i=1:MF.n_trees\n",
    "        T = expand!(Trees[i], X_extend[:,Feature[i]],Y_extend,λ)\n",
    "        Trees[i]=T\n",
    "    end\n",
    "     MF.Trees=Trees\n",
    "     MF.X=vcat(X,X_extend)\n",
    "     MF.Y=vcat(Y,Y_extend)\n",
    "    \n",
    "end"
   ]
  },
  {
   "cell_type": "code",
   "execution_count": 178,
   "metadata": {},
   "outputs": [
    {
     "data": {
      "text/plain": [
       "update_counts_extended (generic function with 2 methods)"
      ]
     },
     "execution_count": 178,
     "metadata": {},
     "output_type": "execute_result"
    }
   ],
   "source": [
    "function update_counts_extended(j_wave::Mondrian_Node,j::Mondrian_Node,Y::Int64)\n",
    "    j_wave.tab = copy(j.tab)\n",
    "    j_wave.c = copy(j.c)    \n",
    "    j_wave.Gₚ = zeros(size(j.Gₚ))    \n",
    "    if j_wave.tab[Y] == 0 \n",
    "    j_wave.tab[Y] = 1\n",
    "    end     \n",
    "    j_wave.c[Y] = j_wave.c[Y]+1\n",
    "end"
   ]
  },
  {
   "cell_type": "code",
   "execution_count": 177,
   "metadata": {},
   "outputs": [
    {
     "data": {
      "text/plain": [
       "backpropergate_c_tab (generic function with 2 methods)"
      ]
     },
     "execution_count": 177,
     "metadata": {},
     "output_type": "execute_result"
    }
   ],
   "source": [
    "function backpropergate_c_tab(j_wave::Mondrian_Node,Y::Int64)\n",
    "    if j_wave.node_type != [false, false, true]\n",
    "   get(j_wave.parent).c[Y] =  get(j_wave.parent).c[Y]+1\n",
    "    if get(j_wave.parent).tab[Y] == 0 \n",
    "    get(j_wave.parent).tab[Y] = 1\n",
    "    end\n",
    "    if get(j_wave.parent).node_type != [false,false,true]\n",
    "        backpropergate_c_tab(get(j_wave.parent),Y)\n",
    "    end\n",
    "    end\n",
    "end"
   ]
  },
  {
   "cell_type": "code",
   "execution_count": 226,
   "metadata": {},
   "outputs": [
    {
     "data": {
      "text/plain": [
       "paused_train_data (generic function with 2 methods)"
      ]
     },
     "execution_count": 226,
     "metadata": {},
     "output_type": "execute_result"
    }
   ],
   "source": [
    "function paused_train_data(j::Mondrian_Node,X::Array{Float64},Y::Int64)\n",
    "   Data = j.Paused_Data[1]\n",
    "   Labels = j.Paused_Data[2]\n",
    "   A=zeros(1,length(X))\n",
    "   A[:,:]=X\n",
    "   p_data = vcat(Data,A)\n",
    "   p_labels = vcat(Labels, Y) \n",
    "   return p_data, p_labels\n",
    "    \n",
    "end"
   ]
  },
  {
   "cell_type": "code",
   "execution_count": 245,
   "metadata": {},
   "outputs": [
    {
     "data": {
      "text/plain": [
       "init_j_wave (generic function with 2 methods)"
      ]
     },
     "execution_count": 245,
     "metadata": {},
     "output_type": "execute_result"
    }
   ],
   "source": [
    "function init_j_wave(j::Mondrian_Node,E::Float64,d::Int64,x::Int64,Θ::Axis_Aligned_Box)\n",
    "   if j.node_type[3]==true                              # check if we replace the root\n",
    "            j_wave=Mondrian_Node(E,[false,false,true])       # replace the root by the new node j_wave\n",
    "            j.node_type = [true,false,false]\n",
    "        else\n",
    "            j_wave=Mondrian_Node(get(j.parent).τ+E,[true,false,false])  #if we don't replace the root, introcue a new node j_wave, parent to j\n",
    "            j_wave.parent = j.parent\n",
    "            if j == get(j.parent).left             # check if j was left or right child of j_parent\n",
    "                get(j.parent).left = j_wave\n",
    "            else\n",
    "                get(j.parent).right = j_wave\n",
    "            end\n",
    "        end\n",
    "        j_wave.δ = d\n",
    "        j_wave.ζ = x\n",
    "        j_wave.Θ = Θ  \n",
    "    return j_wave\n",
    "    \n",
    "end"
   ]
  },
  {
   "cell_type": "code",
   "execution_count": null,
   "metadata": {},
   "outputs": [],
   "source": [
    "function init_j_prime(j_wave::Mondrian_Node,Y::Int64)\n",
    "   j_prime = Mondrian_Node(0.0, [true,false,false])   #initialise new sibling to j\n",
    "        j_prime.parent = j_wave\n",
    "        j_prime.tab = zeros(size(j_wave.tab))\n",
    "        j_prime.tab[Y] = 1\n",
    "        j_prime.c = zeros(size(j_wave.c))\n",
    "        j_prime.c[Y] = 1\n",
    "        j_prime.Gₚ=zeros(size(j_wave.Gₚ)) \n",
    "end"
   ]
  },
  {
   "cell_type": "code",
   "execution_count": 13,
   "metadata": {},
   "outputs": [
    {
     "data": {
      "text/plain": [
       "leaf_check (generic function with 1 method)"
      ]
     },
     "execution_count": 13,
     "metadata": {},
     "output_type": "execute_result"
    }
   ],
   "source": [
    "function leaf_check(j)\n",
    "   if get(j).node_type == [false, true, false]\n",
    "        println(get(j).c)\n",
    "    else\n",
    "        leaf_check(get(j).left)\n",
    "        leaf_check(get(j).right)\n",
    "    end\n",
    "end"
   ]
  },
  {
   "cell_type": "code",
   "execution_count": 12,
   "metadata": {},
   "outputs": [
    {
     "data": {
      "text/plain": [
       "j_print (generic function with 1 method)"
      ]
     },
     "execution_count": 12,
     "metadata": {},
     "output_type": "execute_result"
    }
   ],
   "source": [
    "function j_print(j)\n",
    "   if get(j).node_type != [false, true, false]\n",
    "        println(get(j).c)\n",
    "        println(get(get(j).left).c)\n",
    "        println(get(get(j).right).c)\n",
    "        println(\"node done\")\n",
    "        j_print(get(j).left)\n",
    "        j_print(get(j).right)\n",
    "    end\n",
    "    \n",
    "end"
   ]
  }
 ],
 "metadata": {
  "kernelspec": {
   "display_name": "Julia 0.6.2",
   "language": "julia",
   "name": "julia-0.6"
  },
  "language_info": {
   "file_extension": ".jl",
   "mimetype": "application/julia",
   "name": "julia",
   "version": "0.6.2"
  }
 },
 "nbformat": 4,
 "nbformat_minor": 2
}
