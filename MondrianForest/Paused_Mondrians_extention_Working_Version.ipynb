{
 "cells": [
  {
   "cell_type": "code",
   "execution_count": 1,
   "metadata": {},
   "outputs": [],
   "source": [
    "import Base.copy\n",
    "using Distributions\n",
    "using MLBase\n",
    "include(\"Mondrian_Forest_Classifier.jl\"); \n",
    "# include(\"Mondrian_extention.jl\")"
   ]
  },
  {
   "cell_type": "markdown",
   "metadata": {},
   "source": [
    "## paused mondrian extention "
   ]
  },
  {
   "cell_type": "code",
   "execution_count": 8,
   "metadata": {},
   "outputs": [
    {
     "data": {
      "text/plain": [
       "Extend_Mondrian_Block! (generic function with 1 method)"
      ]
     },
     "execution_count": 8,
     "metadata": {},
     "output_type": "execute_result"
    }
   ],
   "source": [
    "## Algorithm 3 in the Paper \"Mondrian Forests: Efficient Online Random Forests\"\n",
    "function Extend_Mondrian_Tree!(T::Mondrian_Tree,λ::Float64,X::Array{Float64},Y::Int64) \n",
    "    ϵ=get(T.root)\n",
    "    Extend_Mondrian_Block!(T,λ,ϵ,X,Y)  \n",
    "    return T\n",
    "end\n",
    "\n",
    "\n",
    "## Algorithm 4 in the Paper \n",
    "function Extend_Mondrian_Block!(T::Mondrian_Tree,λ::Float64,j::Mondrian_Node,X::Array{Float64},Y::Int64)\n",
    "    \n",
    "    if sum(j.c .> 0) == 1  #check if all labels are identical\n",
    "     Θ = update_intervals(get(j.Θ),X)        # update extent\n",
    "     j.Θ=Θ \n",
    "     if find(j.c .> 0)+1 == Y\n",
    "         i = find(j.c .> 0)\n",
    "         j.c[i] = j.c[i]+1\n",
    "         return\n",
    "     else\n",
    "        j.node_type = [true,false,false]\n",
    "        A=zeros(1,length(X))\n",
    "        A[:,:]=X\n",
    "        Sample_Mondrian_Block!(j,get(j).Θ,λ,T,A,[Y])\n",
    "     end        \n",
    "        \n",
    "    else\n",
    "        E = rand(Exponential(1/Extended_dimension(get(j.Θ),X)))  #sample value E\n",
    "        if j.node_type[3]==true                                  # check if the node we're looking at is the root (if yes the split time is assumed to be 0)\n",
    "            τₚ = 0\n",
    "        else\n",
    "            τₚ = (get(j.parent)).τ                               # if it's not the root get the split time of the node above j\n",
    "        end\n",
    "        if τₚ + E < j.τ                                          # check if our split happens in time\n",
    "            d,x= sample_extended_split_dimension(get(j.Θ),X)     # sample new split dimension / split direction\n",
    "            Θ = update_intervals(get(j.Θ),X)                     # get the boxes for the new node\n",
    "            if j.node_type[3]==true                              # check if we replace the root\n",
    "                j_wave=Mondrian_Node(E,[true,false,false])       # replace the root by the new node j_wave\n",
    "            j_wave.δ = d\n",
    "            j_wave.ζ = x\n",
    "            j_wave.Θ = Θ\n",
    "            j_wave.tab = zeros(size(get(j.tab)))\n",
    "            j_wave.c = zeros(size(get(j.c)))\n",
    "            j_wave.Gₚ = zeros(size(get(j.Gₚ)))\n",
    "            else\n",
    "                j_wave=Mondrian_Node(get(j.parent).τ+E,[true,false,false])  #if we don't replace the root, introcue a new node j_wave, parent to j\n",
    "            j_wave.parent = j.parent\n",
    "            j_wave.δ = d\n",
    "            j_wave.ζ = x\n",
    "            j_wave.Θ = Θ\n",
    "            j_wave.tab = get(j.parent).tab\n",
    "            j_wave.c = get(j.parent).c\n",
    "            j_wave.Gₚ = get(j.parent).Gₚ\n",
    "                if j == get(j.parent).left             # check if j was left or right child of j_parent\n",
    "                    get(j.parent).left = j_wave\n",
    "                else\n",
    "                    get(j.parent).right = j_wave\n",
    "                end\n",
    "            end\n",
    "\n",
    "            j.parent=j_wave\n",
    "            j_prime = Mondrian_Node(0.0, [true,false,false])   #initialise new sibling to j\n",
    "            j_prime.parent = j_wave\n",
    "            j_prime.tab = zeros(size(j_wave.tab))\n",
    "            j_prime.c = zeros(size(j_wave.tab))\n",
    "            j_prime.Gₚ=zeros(size(j_wave.c,1))\n",
    "\n",
    "            if X[d] > x     # check where the new datapoint lies\n",
    "                j_wave.left = j\n",
    "                j_wave.right = j_prime \n",
    "                    if get(j.Θ).Intervals[d,2]> x    \n",
    "                        get(j.Θ).Intervals[d,2] = x  #adapt box of j according to new split\n",
    "                    end\n",
    "                j_prime.Θ = j_wave.Θ\n",
    "                get(j_wave.Θ).Intervals[d,1] = x\n",
    "                A=zeros(1,length(X))\n",
    "                A[:,:]=X\n",
    "                Sample_Mondrian_Block!(j_prime,get(j_prime.Θ),λ,T,A,[Y])  #sample a mondrian block at the node whose associated boxes contain the new datapoint\n",
    "            else\n",
    "                j_wave.left = j_prime\n",
    "                j_wave.right = j\n",
    "                if get(j.Θ).Intervals[d,1]< x \n",
    "                    get(j.Θ).Intervals[d,1]= x      #adapt box of j according to new split\n",
    "                end\n",
    "                j_prime.Θ = j_wave.Θ\n",
    "                get(j_wave.Θ).Intervals[d,2] = x\n",
    "                A=zeros(1,length(X))\n",
    "                A[:,:]=X\n",
    "                Sample_Mondrian_Block!(j_prime,get(j_prime.Θ),λ,T,A,[Y])  #sample a mondrian block at the node whose associated boxes contain the new datapoint\n",
    "            end\n",
    "\n",
    "\n",
    "            else                                    # if the split didn't occur in time\n",
    "            Θ = update_intervals(get(j.Θ),X)        # update the boxes of j\n",
    "            j.Θ=Θ\n",
    "            if j.node_type != [false,true,false]    # check if j is a leaf\n",
    "                if X[get(j.δ)] < get(j.ζ)           # if the new datapoint is in the boxes associated with the left child of j -> Extend towards the left child, else the right\n",
    "                    Extend_Mondrian_Block!(T,λ,get(j.left),X,Y)\n",
    "                else\n",
    "                    Extend_Mondrian_Block!(T,λ,get(j.right),X,Y)\n",
    "                end\n",
    "            end\n",
    "        end\n",
    "    end\n",
    "end"
   ]
  },
  {
   "cell_type": "markdown",
   "metadata": {},
   "source": [
    "# regression extention"
   ]
  },
  {
   "cell_type": "code",
   "execution_count": null,
   "metadata": {},
   "outputs": [],
   "source": []
  }
 ],
 "metadata": {
  "kernelspec": {
   "display_name": "Julia 0.6.2",
   "language": "julia",
   "name": "julia-0.6"
  },
  "language_info": {
   "file_extension": ".jl",
   "mimetype": "application/julia",
   "name": "julia",
   "version": "0.6.2"
  }
 },
 "nbformat": 4,
 "nbformat_minor": 2
}
