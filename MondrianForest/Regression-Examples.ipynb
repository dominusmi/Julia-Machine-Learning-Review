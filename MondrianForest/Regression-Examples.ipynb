{
 "cells": [
  {
   "cell_type": "markdown",
   "metadata": {},
   "source": [
    "### Its doing something right"
   ]
  },
  {
   "cell_type": "code",
   "execution_count": null,
   "metadata": {},
   "outputs": [],
   "source": [
    "using Plots\n",
    "include(\"Mondrian_Forest_Regressor.jl\")"
   ]
  },
  {
   "cell_type": "markdown",
   "metadata": {},
   "source": [
    "It's sort of working, the noise is a bit odd. Will investigate\n",
    "the performance soon"
   ]
  },
  {
   "cell_type": "code",
   "execution_count": null,
   "metadata": {},
   "outputs": [],
   "source": [
    "X = collect(linspace(1,16,1000))\n",
    "Y = X+sin.(X)\n",
    "\n",
    "MT = Mondrian_Tree_Regressor()\n",
    "train!(MT, X, Y, 1e9, 10);\n",
    "\n",
    "y = predict!(MT,X);\n",
    "\n",
    "p1 = plot(X,Y, label=\"Truth\", color=\"blue\");\n",
    "p2 = plot(X,y, label=\"Mondrian Tree  \\nRegression\",color=\"red\");\n",
    "plot(p1,p2,legend=:topleft)"
   ]
  },
  {
   "cell_type": "code",
   "execution_count": null,
   "metadata": {},
   "outputs": [],
   "source": [
    "X = collect(linspace(1,16,1000))\n",
    "Y = X+sin.(X)\n",
    "\n",
    "MF = Mondrian_Forest_Regressor()\n",
    "train!(MF, X, Y, 1e9, 10);\n",
    "\n",
    "y = predict!(MF,X);\n",
    "\n",
    "p1 = plot(X,Y, label=\"Truth\", color=\"blue\");\n",
    "p2 = plot(X,y, label=\"Mondrian Tree  \\nRegression\",color=\"red\");\n",
    "plot(p1,p2,legend=:topleft)"
   ]
  }
 ],
 "metadata": {
  "kernelspec": {
   "display_name": "Julia 0.6.2",
   "language": "julia",
   "name": "julia-0.6"
  },
  "language_info": {
   "file_extension": ".jl",
   "mimetype": "application/julia",
   "name": "julia",
   "version": "0.6.2"
  }
 },
 "nbformat": 4,
 "nbformat_minor": 2
}
