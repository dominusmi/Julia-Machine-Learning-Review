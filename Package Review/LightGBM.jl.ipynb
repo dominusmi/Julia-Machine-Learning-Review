{
 "cells": [
  {
   "cell_type": "markdown",
   "metadata": {},
   "source": [
    "# LightGBM.jl\n",
    "\n",
    "https://github.com/Allardvm/LightGBM.jl"
   ]
  },
  {
   "cell_type": "markdown",
   "metadata": {},
   "source": [
    "# Summary \n",
    "\n",
    "Does not appear to be working, at least on my machine"
   ]
  },
  {
   "cell_type": "code",
   "execution_count": 16,
   "metadata": {},
   "outputs": [],
   "source": [
    "# To run you will have to set your own path\n",
    "# ENV[\"LIGHTGBM_PATH\"] = \"/home/harvey/bin/julia-pro/JuliaPro-0.6.2.2/JuliaPro/pkgs-0.6.2.2/v0.6/LightGBM\""
   ]
  },
  {
   "cell_type": "code",
   "execution_count": 14,
   "metadata": {},
   "outputs": [
    {
     "data": {
      "text/plain": [
       "LightGBM.LGBMBinary(LightGBM.Booster(Ptr{Void} @0x0000000000000000, LightGBM.Dataset[]), String[], \"binary\", 100, 0.1, 1000, -1, \"serial\", 8, -1.0, 100, 10.0, 0.0, 0.0, 0.0, 0.8, 2, 0.9, 1, 3, 5, 255, 1, \"\", true, false, Int64[], 1.0, false, String[\"auc\", \"binary_logloss\"], 1, false, Int64[], 1, 12400, 120, \"\", 1)"
      ]
     },
     "execution_count": 14,
     "metadata": {},
     "output_type": "execute_result"
    }
   ],
   "source": [
    "# works fine\n",
    "\n",
    "using LightGBM\n",
    "include(\"load_titanic.jl\")\n",
    "\n",
    "X_train, y_train, X_test, y_test = load()\n",
    "\n",
    "# Create an estimator with the desired parameters—leave other parameters at the default values.\n",
    "estimator = LGBMBinary(num_iterations = 100,\n",
    "                       learning_rate = .1,\n",
    "                       early_stopping_round = 5,\n",
    "                       feature_fraction = .8,\n",
    "                       bagging_fraction = .9,\n",
    "                       bagging_freq = 1,\n",
    "                       num_leaves = 1000,\n",
    "                       metric = [\"auc\", \"binary_logloss\"])"
   ]
  },
  {
   "cell_type": "markdown",
   "metadata": {},
   "source": [
    "Calling fit gives the error \n",
    "\n",
    "ccall: could not find function LGBM_DatasetCreateFromMat in library"
   ]
  },
  {
   "cell_type": "code",
   "execution_count": 18,
   "metadata": {},
   "outputs": [
    {
     "ename": "LoadError",
     "evalue": "\u001b[91mccall: could not find function LGBM_DatasetCreateFromMat in library \u001b[39m",
     "output_type": "error",
     "traceback": [
      "\u001b[91mccall: could not find function LGBM_DatasetCreateFromMat in library \u001b[39m",
      "",
      "Stacktrace:",
      " [1] \u001b[1mLGBM_DatasetCreateFromMat\u001b[22m\u001b[22m\u001b[1m(\u001b[22m\u001b[22m::Array{Float64,2}, ::String, ::Bool\u001b[1m)\u001b[22m\u001b[22m at \u001b[1m/home/harvey/bin/julia-pro/JuliaPro-0.6.2.2/JuliaPro/pkgs-0.6.2.2/v0.6/LightGBM/src/wrapper.jl:83\u001b[22m\u001b[22m",
      " [2] \u001b[1m#fit#29\u001b[22m\u001b[22m\u001b[1m(\u001b[22m\u001b[22m::Int64, ::Bool, ::Array{Float32,1}, ::Array{Float64,1}, ::Function, ::LightGBM.LGBMBinary, ::Array{Float64,2}, ::Array{Int64,1}, ::Tuple{Array{Float64,2},Array{Int64,1}}, ::Vararg{Tuple{Array{Float64,2},Array{Int64,1}},N} where N\u001b[1m)\u001b[22m\u001b[22m at \u001b[1m/home/harvey/bin/julia-pro/JuliaPro-0.6.2.2/JuliaPro/pkgs-0.6.2.2/v0.6/LightGBM/src/fit.jl:33\u001b[22m\u001b[22m",
      " [3] \u001b[1mfit\u001b[22m\u001b[22m\u001b[1m(\u001b[22m\u001b[22m::LightGBM.LGBMBinary, ::Array{Float64,2}, ::Array{Int64,1}, ::Tuple{Array{Float64,2},Array{Int64,1}}, ::Vararg{Tuple{Array{Float64,2},Array{Int64,1}},N} where N\u001b[1m)\u001b[22m\u001b[22m at \u001b[1m/home/harvey/bin/julia-pro/JuliaPro-0.6.2.2/JuliaPro/pkgs-0.6.2.2/v0.6/LightGBM/src/fit.jl:29\u001b[22m\u001b[22m",
      " [4] \u001b[1minclude_string\u001b[22m\u001b[22m\u001b[1m(\u001b[22m\u001b[22m::String, ::String\u001b[1m)\u001b[22m\u001b[22m at \u001b[1m./loading.jl:522\u001b[22m\u001b[22m"
     ]
    }
   ],
   "source": [
    "# Fit the estimator on the training data and return its scores for the test data.\n",
    "fit(estimator, X_train, y_train, (X_test, y_test))"
   ]
  }
 ],
 "metadata": {
  "kernelspec": {
   "display_name": "Julia 0.6.2",
   "language": "julia",
   "name": "julia-0.6"
  },
  "language_info": {
   "file_extension": ".jl",
   "mimetype": "application/julia",
   "name": "julia",
   "version": "0.6.2"
  }
 },
 "nbformat": 4,
 "nbformat_minor": 2
}
