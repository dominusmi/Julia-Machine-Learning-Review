{
 "cells": [
  {
   "cell_type": "markdown",
   "metadata": {},
   "source": [
    "# LinearLeastSquares.jl"
   ]
  },
  {
   "cell_type": "markdown",
   "metadata": {},
   "source": [
    "<a href=\"https://github.com/davidlizeng/LinearLeastSquares.jl\">https://github.com/davidlizeng/LinearLeastSquares.jl</a>"
   ]
  },
  {
   "cell_type": "markdown",
   "metadata": {},
   "source": [
    "# Summary"
   ]
  },
  {
   "cell_type": "markdown",
   "metadata": {},
   "source": [
    "LinearLeastSquares.jl (LLS) is a library that implements least-squares optimization problems with linear equality constraints. It can be used for linear and quadratic regression. Variables are declared with Variable() function, that they are used as a placeholder for unknown parameters of the regression. LLS currently only supports variables up to 2 dimensions in size, i.e., scalars, vectors, and matrices."
   ]
  },
  {
   "cell_type": "markdown",
   "metadata": {},
   "source": [
    "<table style=\"width:60%\">\n",
    "  <tr >\n",
    "    <th style=\"text-align: left;\"><b>Test</b></th>\n",
    "    <th style=\"text-align: left;\"><b>Results</b></th> \n",
    "  </tr>\n",
    "  <tr>\n",
    "    <td style=\"text-align: left;\">Package works</td>\n",
    "    <td style=\"text-align: left;\">Yes</td> \n",
    "  </tr>\n",
    "  <tr>\n",
    "    <td style=\"text-align: left;\">Deprecations warnings</td>\n",
    "    <td style=\"text-align: left;\">None</td> \n",
    "  </tr>\n",
    "  <tr>\n",
    "    <td style=\"text-align: left;\">Compatible with JuliaDB</td>\n",
    "    <td style=\"text-align: left;\">No</td> \n",
    "  </tr>\n",
    "  <tr>\n",
    "    <td style=\"text-align: left;\">Contains Documetation</td>\n",
    "    <td style=\"text-align: left;\">Yes</td> \n",
    "  </tr>\n",
    "  <tr>\n",
    "    <td style=\"text-align: left;\">Simplicity</td>\n",
    "    <td style=\"text-align: left;\">Good</td> \n",
    "  </tr>\n",
    "</table>"
   ]
  },
  {
   "cell_type": "markdown",
   "metadata": {},
   "source": [
    "# Functions"
   ]
  },
  {
   "cell_type": "markdown",
   "metadata": {},
   "source": [
    "```julia\n",
    "AffineConstant(value::Value)\n",
    "\n",
    "Variable(size::Tuple{Int64, Int64})\n",
    "\n",
    "sum_squares()\n",
    "\n",
    "sum_squares(num::Number)\n",
    "\n",
    "sum_squares(affine::AffineExpr)\n",
    "\n",
    "evaluate(x::SumSquaresExpr)\n",
    "\n",
    "solve!(problem_type::Symbol, objective::SumSquaresExpr, constraints::Array{EqConstraint, 1})\n",
    "\n",
    "solve!(constraints::Array{EqConstraint, 1}) \n",
    "\n",
    "solve!(constraint::EqConstraint)\n",
    "\n",
    "solve!(constraints::EqConstraint...)\n",
    "\n",
    "minimize!(objective::SumSquaresExpr, constraints::Array{EqConstraint, 1}) \n",
    "\n",
    "minimize!(objective::SumSquaresExpr, constraint::EqConstraint) \n",
    "\n",
    "minimize!(objective::SumSquaresExpr, constraints::EqConstraint...)\n",
    "\n",
    "minimize!(objective::SumSquaresExpr)\n",
    "\n",
    "reset_value_and_add_vars!(x::AffineOrConstant, unique_vars_map::Dict{UInt64, AffineExpr})\n",
    "\n",
    "reset_values_and_get_vars!(p::Problem)\n",
    "\n",
    "get_var_ranges_and_num_vars(unique_vars_map::Dict{UInt64, AffineExpr})\n",
    "\n",
    "get_num_rows(affines::Array{AffineExpr})\n",
    "\n",
    "coalesce_affine_exprs(vars_to_ranges_map::Dict{UInt64, Tuple{Int64, Int64}}, num_vars::Int64, affines::Array{AffineExpr})\n",
    "\n",
    "build_kkt_system(A, b, C, d)\n",
    "\n",
    "populate_vars!(unique_vars_map::Dict{UInt64, AffineExpr}, vars_to_ranges_map::Dict{UInt64, Tuple{Int64, Int64}}, solution)\n",
    "\n",
    "backslash_solve!(p::Problem)\n",
    "```"
   ]
  },
  {
   "cell_type": "markdown",
   "metadata": {},
   "source": [
    "# Example Code"
   ]
  },
  {
   "cell_type": "code",
   "execution_count": 7,
   "metadata": {},
   "outputs": [
    {
     "ename": "LoadError",
     "evalue": "\u001b[91mUndefVarError: true_coeffs not defined\u001b[39m",
     "output_type": "error",
     "traceback": [
      "\u001b[91mUndefVarError: true_coeffs not defined\u001b[39m",
      "",
      "Stacktrace:",
      " [1] \u001b[1minclude_string\u001b[22m\u001b[22m\u001b[1m(\u001b[22m\u001b[22m::String, ::String\u001b[1m)\u001b[22m\u001b[22m at \u001b[1m./loading.jl:522\u001b[22m\u001b[22m"
     ]
    }
   ],
   "source": [
    "using LinearLeastSquares\n",
    "using Gadfly\n",
    "\n",
    "#t_x = table(x_data,names=[:x])\n",
    "#t_y = table(y_data,names=[:y]) It didn't work\n",
    "\n",
    "n=100\n",
    "x_data = rand(n, 1) * 5\n",
    "x_data_expanded = hcat([x_data .^ i for i in 1 : 3]...)\n",
    "y_data = x_data_expanded * true_coeffs + 0.5 * rand(n, 1)\n",
    "\n",
    "slope = Variable()\n",
    "offset = Variable()\n",
    "line = offset + x_data * slope\n",
    "residuals = line - y_data\n",
    "fit_error = sum_squares(residuals)\n",
    "optval = minimize!(fit_error)\n",
    "\n",
    "# plot the data and the line\n",
    "t = [0; 5; 0.1]\n",
    "p = plot(\n",
    "  layer(x=x_data, y=y_data, Geom.point),\n",
    "  layer(x=t, y=evaluate(slope) .* t + evaluate(offset), Geom.line),\n",
    "  Theme(panel_fill=\"white\")\n",
    ")"
   ]
  },
  {
   "cell_type": "code",
   "execution_count": null,
   "metadata": {},
   "outputs": [],
   "source": []
  }
 ],
 "metadata": {
  "kernelspec": {
   "display_name": "Julia 0.6.2",
   "language": "julia",
   "name": "julia-0.6"
  },
  "language_info": {
   "file_extension": ".jl",
   "mimetype": "application/julia",
   "name": "julia",
   "version": "0.6.2"
  }
 },
 "nbformat": 4,
 "nbformat_minor": 2
}
