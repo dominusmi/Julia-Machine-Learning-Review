{
 "cells": [
  {
   "cell_type": "markdown",
   "metadata": {},
   "source": [
    "# LowRankModels.jl\n",
    "\n",
    "https://github.com/madeleineudell/LowRankModels.jl"
   ]
  },
  {
   "cell_type": "markdown",
   "metadata": {},
   "source": [
    "# Summary\n",
    "\n",
    "LowRankModels is a package that is written by the autors of the paper \"Generalized Low Rank Models\" (https://web.stanford.edu/~boyd/papers/pdf/glrm.pdf). It implements the methods that are introduced in the paper. The term \"generalized low rank model\" describes the problem of approximating a data set as a product of two low dimensional factors by minimising an objective function. The objective function consists of a loss function on the approximation error together with regulisation on the low dimensional factors. Well known low rank models, like for example PCA or k-means, are here extended to handle arbitrary datsets (numerical, boolean, categorical, ordinal... data). Furthermore missing data can be handled as well as sparse matrices. "
   ]
  },
  {
   "cell_type": "markdown",
   "metadata": {},
   "source": [
    "# Issues / To Do \n",
    "\n",
    "* Definition of personalised loss functions and regularisers doesn't work yet (I'm not sure why)\n",
    "* a great amount of deprecations warnings\n",
    "* the functionality in general is very slow"
   ]
  },
  {
   "cell_type": "markdown",
   "metadata": {},
   "source": [
    "# Details"
   ]
  },
  {
   "cell_type": "markdown",
   "metadata": {},
   "source": [
    "| Test        | Results       |    \n",
    "| ------------|:-------------:|\n",
    "| Package work| Yes |\n",
    "| Deprecations warnings      | Many    |\n",
    "| Compatible with JuliaDB | Limited (only as arrays) |\n",
    "| Contains documentation | No, but examples |\n",
    "| Simplicity | okay |"
   ]
  },
  {
   "cell_type": "markdown",
   "metadata": {},
   "source": [
    "# Functionality\n",
    "\n",
    "The user has the freedom to build all sorts of low rank models using a generalised framwork. To specify a GLRM, we need to provide data in an abstract array type (i.e. matrix, sparse matrix, dataframe...) (variable A), an array of loss functions (losses), regularisers rx and ry and the rank k. Other input variables are the observed entries (obs) (tuples of the indices of the observed entries in the data A, not necessary if all entries were observed) and the start matrices $X_0$ and $Y_0$. Depending on the input the following optimisation problem is then solved\n",
    "\n",
    "$$\\min\\left(\\sum_{(i,j) \\in obs} losses[j]((X'*Y)[i,j], A[i,j])) + \\sum_i rx(X[:,i]) + \\sum_j ry(Y[:,j]\\right)$$\n",
    "\n",
    "This finds the optimal matrices X (kxm matrix) and Y (kxn matrix). The data then can be modeled as X'*Y. \n",
    "\n",
    "Optionally we can standardise before processing by setting offset=true and scale=true (see examples). \n",
    "\n",
    "Some loss functions and regularisers are built-in:\n",
    "\n",
    "##### built-in loss functions \n",
    "\n",
    "* quadratic loss `QuadLoss`\n",
    "* hinge loss `HingeLoss`\n",
    "* logistic loss `LogisticLoss`\n",
    "* poisson loss `PoissonLoss`\n",
    "* weighted hinge loss `WeightedHingeLoss`\n",
    "* l1 loss `L1Loss`\n",
    "* ordinal hinge loss `OrdinalHingeLoss`\n",
    "* periodic loss `PeriodicLoss`\n",
    "* multinomial categorical loss `MultinomialLoss`\n",
    "* multinomial ordinal (aka ordered logit) loss `OrderedMultinomialLoss`\n",
    "\n",
    "###### built-in regularisers\n",
    "\n",
    "* quadratic regularization `QuadReg`\n",
    "* constrained squared euclidean norm `QuadConstraint`\n",
    "* l1 regularization `OneReg`\n",
    "* no regularization `ZeroReg`\n",
    "* nonnegative constraint `NonNegConstraint` (eg, for nonnegative matrix factorization)\n",
    "* 1-sparse constraint `OneSparseConstraint` (eg, for orthogonal NNMF)\n",
    "* unit 1-sparse constraint `UnitOneSparseConstraint` (eg, for k-means)\n",
    "* simplex constraint `SimplexConstraint`\n",
    "* l1 regularization, combined with nonnegative constraint `NonNegOneReg`\n",
    "* fix features at values `y0` `FixedLatentFeaturesConstraint(y0)`\n",
    "\n",
    "\n",
    "\n",
    "It is possible to define new loss functions and regularisers respectively. Here just a quick guide: \n",
    "\n",
    "##### Implementing new loss functions\n",
    "\n",
    "Lossfunctions need to be of the abstract type \"Loss\". \n",
    "\n",
    "Losses must have the following:\n",
    "\n",
    "\n",
    "* `scale::Float64` - respresents a scalar weight assigned to the loss function: w*l(u,a), where l is the loss function and u the approximation of a\n",
    "* `domain::natural_Domain` - original domain that the loss function was meant to handle (BoolDomain, RealDomain etc.)\n",
    "* `my_loss_type(args..., scale=1.0::Float64;domain=natural_Domain(args[range]...), kwargs...) ::my_loss_type` -  Constructor for the loss type.  There must be a default domain which is a Domain. It may take arguments from the list of positional arguments. Parameters besides the scale for which there are reasonable defaults should be included as keyword arguments (there may be none).\n",
    "* `evaluate(l::my_loss_type, u::Float64, a::Number) ::Float64` - Evaluates the function l(u,a)\n",
    "* `grad(l::my_loss_type, u::Float64, a::Number) ::Float64` - Evaluates the gradient of the loss at the given point (u,a)\n",
    "\n",
    "Preferably the following should be implemented as well:\n",
    "\n",
    "* `M_estimator(l::my_loss_type, a::AbstractArray) ::Float64`- Finds uₒ = argmin ∑l(u,aᵢ) which is the best single estimate of the array `a`\n",
    "* `impute(d::Domain, l::my_loss_type, u::Array{Float64})` - Finds a = argmin l(u,a), the most likely value for an observation given a parameter u\n",
    "\n",
    "If no estimator is implemented a live optimisation procedure is used, however that may be slow. See Examples 2) (below) for an example. \n",
    "\n",
    "##### Implementing new regularisers\n",
    "\n",
    "Lossfunctions need to be of the abstract type \"Regularizer\".\n",
    "\n",
    "Regularisers should have the following:\n",
    "\n",
    "* method `prox` such that $prox(r)(u,\\alpha) = argmin_x( \\alpha *r(x) + \\frac 1 2  \\|x - u\\|_2^2)$\n",
    "\n",
    "There is a default operator for prox but it is slower as if prox is implemented.\n",
    "\n",
    "* `evaluate(r::Regularizer,a::AbstractArray)` - Evaluates the regulariser\n",
    "\n",
    "See Examples 3) (below) for an example."
   ]
  },
  {
   "cell_type": "markdown",
   "metadata": {},
   "source": [
    "# Examples\n",
    "\n",
    "### 1) Implementing Standard Methods - k-Means\n",
    "\n",
    "In the framework explained above we can easily implement many of the standard dimensionality reduction models. An extended collection of examples can be found on the github page of the package (https://github.com/madeleineudell/LowRankModels.jl/tree/master/examples). Here, we will implement the well known k-means method (Lloyd's algorithm). We generate a fake dataset with 50 instances and 2 columns (features, here interpreted as x-coordinate and y-coordinate). We specify k=2 to cluster in 2 clusters (hard k-means). I recommend playing around with the number of clusters! The function returns matrices X and Y. X consists of two rows and 50 columns. Every instance [i,j] contains binary information weather or not the instance j is in cluster i. The matrix y, which is of shape 2x2, holds the coordinates of the cluster centers."
   ]
  },
  {
   "cell_type": "code",
   "execution_count": 1,
   "metadata": {},
   "outputs": [
    {
     "name": "stderr",
     "output_type": "stream",
     "text": [
      "WARNING: Method definition (::Type{ArrayViews.UnsafeContiguousView{T, N} where N where T})(Ptr{T}, Int64, Tuple{Vararg{Int64, N}}) in module ArrayViews at /home/annika/JuliaProDir/JuliaPro-0.6.2.1/JuliaPro/pkgs-0.6.2.1/v0.6/ArrayViews/src/arrviews.jl:18 overwritten at /home/annika/JuliaProDir/JuliaPro-0.6.2.1/JuliaPro/pkgs-0.6.2.1/v0.6/ArrayViews/src/arrviews.jl:26.\n",
      "WARNING: Method definition isnan(DataArrays.NAtype) in module DataArrays at //////////////////////////////////////////////home/annika/JuliaProDir/JuliaPro-0.6.2.1/JuliaPro/pkgs-0.6.2.1/v0.6/DataArrays/src/natype.jl:66 overwritten in module LowRankModels at /home/annika/JuliaProDir/JuliaPro-0.6.2.1/JuliaPro/pkgs-0.6.2.1/v0.6/LowRankModels/src/fit_dataframe.jl:249.\n"
     ]
    }
   ],
   "source": [
    "using LowRankModels"
   ]
  },
  {
   "cell_type": "code",
   "execution_count": 5,
   "metadata": {},
   "outputs": [],
   "source": [
    "A=rand((1:100),50,2);"
   ]
  },
  {
   "cell_type": "code",
   "execution_count": 3,
   "metadata": {},
   "outputs": [
    {
     "data": {
      "text/plain": [
       "fit_kmeans (generic function with 1 method)"
      ]
     },
     "execution_count": 3,
     "metadata": {},
     "output_type": "execute_result"
    }
   ],
   "source": [
    "# minimize_{X<=0} ||A - XY||^2\n",
    "function fit_kmeans(A,k)\n",
    "    n=size(A[1,:])\n",
    "    m=size(A[:,1])\n",
    "\tloss = QuadLoss()\n",
    "\try = ZeroReg()\n",
    "\trx = UnitOneSparseConstraint()\n",
    "\tglrm = GLRM(A,loss,rx,ry,k)\n",
    "\tX,Y,ch = fit!(glrm)\n",
    "\tprintln(\"Convergence history:\",ch.objective)\n",
    "\treturn A,X,Y,ch\n",
    "end"
   ]
  },
  {
   "cell_type": "code",
   "execution_count": 4,
   "metadata": {},
   "outputs": [
    {
     "name": "stdout",
     "output_type": "stream",
     "text": [
      "Fitting GLRM\n"
     ]
    },
    {
     "name": "stderr",
     "output_type": "stream",
     "text": [
      "\u001b[1m\u001b[33mWARNING: \u001b[39m\u001b[22m\u001b[33mArray(::Type{T}, m::Int) where T is deprecated, use Array{T}(m) instead.\u001b[39m\n",
      "Stacktrace:\n",
      " [1] \u001b[1mdepwarn\u001b[22m\u001b[22m\u001b[1m(\u001b[22m\u001b[22m::String, ::Symbol\u001b[1m)\u001b[22m\u001b[22m at \u001b[1m./deprecated.jl:70\u001b[22m\u001b[22m\n",
      " [2] \u001b[1mArray\u001b[22m\u001b[22m\u001b[1m(\u001b[22m\u001b[22m::Type{Union{Int64, Range{Int64}}}, ::Int64\u001b[1m)\u001b[22m\u001b[22m at \u001b[1m./deprecated.jl:57\u001b[22m\u001b[22m\n",
      " [3] \u001b[1mget_yidxs\u001b[22m\u001b[22m\u001b[1m(\u001b[22m\u001b[22m::Array{LowRankModels.Loss,1}\u001b[1m)\u001b[22m\u001b[22m at \u001b[1m/home/annika/JuliaProDir/JuliaPro-0.6.2.1/JuliaPro/pkgs-0.6.2.1/v0.6/LowRankModels/src/losses.jl:77\u001b[22m\u001b[22m\n",
      " [4] \u001b[1m#fit!#79\u001b[22m\u001b[22m\u001b[1m(\u001b[22m\u001b[22m::LowRankModels.ConvergenceHistory, ::Bool, ::Array{Any,1}, ::Function, ::LowRankModels.GLRM, ::LowRankModels.ProxGradParams\u001b[1m)\u001b[22m\u001b[22m at \u001b[1m/home/annika/JuliaProDir/JuliaPro-0.6.2.1/JuliaPro/pkgs-0.6.2.1/v0.6/LowRankModels/src/algorithms/proxgrad.jl:52\u001b[22m\u001b[22m\n",
      " [5] \u001b[1m#fit!#76\u001b[22m\u001b[22m\u001b[1m(\u001b[22m\u001b[22m::Array{Any,1}, ::Function, ::LowRankModels.GLRM\u001b[1m)\u001b[22m\u001b[22m at \u001b[1m/home/annika/JuliaProDir/JuliaPro-0.6.2.1/JuliaPro/pkgs-0.6.2.1/v0.6/LowRankModels/src/fit.jl:18\u001b[22m\u001b[22m\n",
      " [6] \u001b[1mfit_kmeans\u001b[22m\u001b[22m\u001b[1m(\u001b[22m\u001b[22m::Array{Int64,2}, ::Int64\u001b[1m)\u001b[22m\u001b[22m at \u001b[1m./In[3]:9\u001b[22m\u001b[22m\n",
      " [7] \u001b[1minclude_string\u001b[22m\u001b[22m\u001b[1m(\u001b[22m\u001b[22m::String, ::String\u001b[1m)\u001b[22m\u001b[22m at \u001b[1m./loading.jl:522\u001b[22m\u001b[22m\n",
      " [8] \u001b[1minclude_string\u001b[22m\u001b[22m\u001b[1m(\u001b[22m\u001b[22m::Module, ::String, ::String\u001b[1m)\u001b[22m\u001b[22m at \u001b[1m//////////////////////////////////////////////home/annika/JuliaProDir/JuliaPro-0.6.2.1/JuliaPro/pkgs-0.6.2.1/v0.6/Compat/src/Compat.jl:174\u001b[22m\u001b[22m\n",
      " [9] \u001b[1mexecute_request\u001b[22m\u001b[22m\u001b[1m(\u001b[22m\u001b[22m::ZMQ.Socket, ::IJulia.Msg\u001b[1m)\u001b[22m\u001b[22m at \u001b[1m/home/annika/JuliaProDir/JuliaPro-0.6.2.1/JuliaPro/pkgs-0.6.2.1/v0.6/IJulia/src/execute_request.jl:154\u001b[22m\u001b[22m\n",
      " [10] \u001b[1meventloop\u001b[22m\u001b[22m\u001b[1m(\u001b[22m\u001b[22m::ZMQ.Socket\u001b[1m)\u001b[22m\u001b[22m at \u001b[1m/home/annika/JuliaProDir/JuliaPro-0.6.2.1/JuliaPro/pkgs-0.6.2.1/v0.6/IJulia/src/eventloop.jl:8\u001b[22m\u001b[22m\n",
      " [11] \u001b[1m(::IJulia.##14#17)\u001b[22m\u001b[22m\u001b[1m(\u001b[22m\u001b[22m\u001b[1m)\u001b[22m\u001b[22m at \u001b[1m./task.jl:335\u001b[22m\u001b[22m\n",
      "while loading In[4], in expression starting on line 1\n",
      "\u001b[1m\u001b[33mWARNING: \u001b[39m\u001b[22m\u001b[33mArray(::Type{T}, d::NTuple{N, Int}) where {T, N} is deprecated, use Array{T}(d) instead.\u001b[39m\n",
      "Stacktrace:\n",
      " [1] \u001b[1mdepwarn\u001b[22m\u001b[22m\u001b[1m(\u001b[22m\u001b[22m::String, ::Symbol\u001b[1m)\u001b[22m\u001b[22m at \u001b[1m./deprecated.jl:70\u001b[22m\u001b[22m\n",
      " [2] \u001b[1mArray\u001b[22m\u001b[22m\u001b[1m(\u001b[22m\u001b[22m::Type{Float64}, ::Tuple{Int64,Int64}\u001b[1m)\u001b[22m\u001b[22m at \u001b[1m./deprecated.jl:57\u001b[22m\u001b[22m\n",
      " [3] \u001b[1m#fit!#79\u001b[22m\u001b[22m\u001b[1m(\u001b[22m\u001b[22m::LowRankModels.ConvergenceHistory, ::Bool, ::Array{Any,1}, ::Function, ::LowRankModels.GLRM, ::LowRankModels.ProxGradParams\u001b[1m)\u001b[22m\u001b[22m at \u001b[1m/home/annika/JuliaProDir/JuliaPro-0.6.2.1/JuliaPro/pkgs-0.6.2.1/v0.6/LowRankModels/src/algorithms/proxgrad.jl:65\u001b[22m\u001b[22m\n",
      " [4] \u001b[1m#fit!#76\u001b[22m\u001b[22m\u001b[1m(\u001b[22m\u001b[22m::Array{Any,1}, ::Function, ::LowRankModels.GLRM\u001b[1m)\u001b[22m\u001b[22m at \u001b[1m/home/annika/JuliaProDir/JuliaPro-0.6.2.1/JuliaPro/pkgs-0.6.2.1/v0.6/LowRankModels/src/fit.jl:18\u001b[22m\u001b[22m\n",
      " [5] \u001b[1mfit_kmeans\u001b[22m\u001b[22m\u001b[1m(\u001b[22m\u001b[22m::Array{Int64,2}, ::Int64\u001b[1m)\u001b[22m\u001b[22m at \u001b[1m./In[3]:9\u001b[22m\u001b[22m\n",
      " [6] \u001b[1minclude_string\u001b[22m\u001b[22m\u001b[1m(\u001b[22m\u001b[22m::String, ::String\u001b[1m)\u001b[22m\u001b[22m at \u001b[1m./loading.jl:522\u001b[22m\u001b[22m\n",
      " [7] \u001b[1minclude_string\u001b[22m\u001b[22m\u001b[1m(\u001b[22m\u001b[22m::Module, ::String, ::String\u001b[1m)\u001b[22m\u001b[22m at \u001b[1m//////////////////////////////////////////////home/annika/JuliaProDir/JuliaPro-0.6.2.1/JuliaPro/pkgs-0.6.2.1/v0.6/Compat/src/Compat.jl:174\u001b[22m\u001b[22m\n",
      " [8] \u001b[1mexecute_request\u001b[22m\u001b[22m\u001b[1m(\u001b[22m\u001b[22m::ZMQ.Socket, ::IJulia.Msg\u001b[1m)\u001b[22m\u001b[22m at \u001b[1m/home/annika/JuliaProDir/JuliaPro-0.6.2.1/JuliaPro/pkgs-0.6.2.1/v0.6/IJulia/src/execute_request.jl:154\u001b[22m\u001b[22m\n",
      " [9] \u001b[1meventloop\u001b[22m\u001b[22m\u001b[1m(\u001b[22m\u001b[22m::ZMQ.Socket\u001b[1m)\u001b[22m\u001b[22m at \u001b[1m/home/annika/JuliaProDir/JuliaPro-0.6.2.1/JuliaPro/pkgs-0.6.2.1/v0.6/IJulia/src/eventloop.jl:8\u001b[22m\u001b[22m\n",
      " [10] \u001b[1m(::IJulia.##14#17)\u001b[22m\u001b[22m\u001b[1m(\u001b[22m\u001b[22m\u001b[1m)\u001b[22m\u001b[22m at \u001b[1m./task.jl:335\u001b[22m\u001b[22m\n",
      "while loading In[4], in expression starting on line 1\n"
     ]
    },
    {
     "name": "stdout",
     "output_type": "stream",
     "text": [
      "Iteration 10: objective value = 35905.69337799568\n",
      "Convergence history:"
     ]
    },
    {
     "name": "stderr",
     "output_type": "stream",
     "text": [
      "\u001b[1m\u001b[33mWARNING: \u001b[39m\u001b[22m\u001b[33mArray(::Type{T}, d::NTuple{N, Int}) where {T, N} is deprecated, use Array{T}(d) instead.\u001b[39m\n",
      "Stacktrace:\n",
      " [1] \u001b[1mdepwarn\u001b[22m\u001b[22m\u001b[1m(\u001b[22m\u001b[22m::String, ::Symbol\u001b[1m)\u001b[22m\u001b[22m at \u001b[1m./deprecated.jl:70\u001b[22m\u001b[22m\n",
      " [2] \u001b[1mArray\u001b[22m\u001b[22m\u001b[1m(\u001b[22m\u001b[22m::Type{Float64}, ::Tuple{Int64}\u001b[1m)\u001b[22m\u001b[22m at \u001b[1m./deprecated.jl:57\u001b[22m\u001b[22m\n",
      " [3] \u001b[1mAc_mul_B\u001b[22m\u001b[22m at \u001b[1m./linalg/matmul.jl:115\u001b[22m\u001b[22m [inlined]\n",
      " [4] \u001b[1mAc_mul_B\u001b[22m\u001b[22m at \u001b[1m./linalg/rowvector.jl:227\u001b[22m\u001b[22m [inlined]\n",
      " [5] \u001b[1m#row_objective#58\u001b[22m\u001b[22m\u001b[1m(\u001b[22m\u001b[22m::Array{Union{Int64, Range{Int64}},1}, ::Bool, ::Function, ::LowRankModels.GLRM, ::Int64, ::ArrayViews.ContiguousView{Float64,1,Array{Float64,2}}, ::Array{Float64,2}\u001b[1m)\u001b[22m\u001b[22m at \u001b[1m/home/annika/JuliaProDir/JuliaPro-0.6.2.1/JuliaPro/pkgs-0.6.2.1/v0.6/LowRankModels/src/evaluate_fit.jl:29\u001b[22m\u001b[22m\n",
      " [6] \u001b[1mrow_objective\u001b[22m\u001b[22m\u001b[1m(\u001b[22m\u001b[22m::LowRankModels.GLRM, ::Int64, ::ArrayViews.ContiguousView{Float64,1,Array{Float64,2}}, ::Array{Float64,2}\u001b[1m)\u001b[22m\u001b[22m at \u001b[1m/home/annika/JuliaProDir/JuliaPro-0.6.2.1/JuliaPro/pkgs-0.6.2.1/v0.6/LowRankModels/src/evaluate_fit.jl:27\u001b[22m\u001b[22m (repeats 2 times)\n",
      " [7] \u001b[1m#fit!#79\u001b[22m\u001b[22m\u001b[1m(\u001b[22m\u001b[22m::LowRankModels.ConvergenceHistory, ::Bool, ::Array{Any,1}, ::Function, ::LowRankModels.GLRM, ::LowRankModels.ProxGradParams\u001b[1m)\u001b[22m\u001b[22m at \u001b[1m/home/annika/JuliaProDir/JuliaPro-0.6.2.1/JuliaPro/pkgs-0.6.2.1/v0.6/LowRankModels/src/algorithms/proxgrad.jl:138\u001b[22m\u001b[22m\n",
      " [8] \u001b[1m#fit!#76\u001b[22m\u001b[22m\u001b[1m(\u001b[22m\u001b[22m::Array{Any,1}, ::Function, ::LowRankModels.GLRM\u001b[1m)\u001b[22m\u001b[22m at \u001b[1m/home/annika/JuliaProDir/JuliaPro-0.6.2.1/JuliaPro/pkgs-0.6.2.1/v0.6/LowRankModels/src/fit.jl:18\u001b[22m\u001b[22m\n",
      " [9] \u001b[1mfit_kmeans\u001b[22m\u001b[22m\u001b[1m(\u001b[22m\u001b[22m::Array{Int64,2}, ::Int64\u001b[1m)\u001b[22m\u001b[22m at \u001b[1m./In[3]:9\u001b[22m\u001b[22m\n",
      " [10] \u001b[1minclude_string\u001b[22m\u001b[22m\u001b[1m(\u001b[22m\u001b[22m::String, ::String\u001b[1m)\u001b[22m\u001b[22m at \u001b[1m./loading.jl:522\u001b[22m\u001b[22m\n",
      " [11] \u001b[1minclude_string\u001b[22m\u001b[22m\u001b[1m(\u001b[22m\u001b[22m::Module, ::String, ::String\u001b[1m)\u001b[22m\u001b[22m at \u001b[1m//////////////////////////////////////////////home/annika/JuliaProDir/JuliaPro-0.6.2.1/JuliaPro/pkgs-0.6.2.1/v0.6/Compat/src/Compat.jl:174\u001b[22m\u001b[22m\n",
      " [12] \u001b[1mexecute_request\u001b[22m\u001b[22m\u001b[1m(\u001b[22m\u001b[22m::ZMQ.Socket, ::IJulia.Msg\u001b[1m)\u001b[22m\u001b[22m at \u001b[1m/home/annika/JuliaProDir/JuliaPro-0.6.2.1/JuliaPro/pkgs-0.6.2.1/v0.6/IJulia/src/execute_request.jl:154\u001b[22m\u001b[22m\n",
      " [13] \u001b[1meventloop\u001b[22m\u001b[22m\u001b[1m(\u001b[22m\u001b[22m::ZMQ.Socket\u001b[1m)\u001b[22m\u001b[22m at \u001b[1m/home/annika/JuliaProDir/JuliaPro-0.6.2.1/JuliaPro/pkgs-0.6.2.1/v0.6/IJulia/src/eventloop.jl:8\u001b[22m\u001b[22m\n",
      " [14] \u001b[1m(::IJulia.##14#17)\u001b[22m\u001b[22m\u001b[1m(\u001b[22m\u001b[22m\u001b[1m)\u001b[22m\u001b[22m at \u001b[1m./task.jl:335\u001b[22m\u001b[22m\n",
      "while loading In[4], in expression starting on line 1\n",
      "WARNING: Base.LinearFast is deprecated, use Base.IndexLinear instead.\n",
      "  likely near In[4]:1\n",
      "WARNING: Base.LinearFast is deprecated, use Base.IndexLinear instead.\n",
      "  likely near In[4]:1\n",
      "WARNING: Base.LinearFast is deprecated, use Base.IndexLinear instead.\n",
      "  likely near In[4]:1\n"
     ]
    },
    {
     "name": "stdout",
     "output_type": "stream",
     "text": [
      "[Inf, 1.25477e5, 37087.5, 36104.4, 35910.8, 35906.4, 35905.9, 35905.7, 35905.7, 35905.7, 35905.7, 35905.7]\n"
     ]
    },
    {
     "data": {
      "text/plain": [
       "([6 21; 11 35; … ; 76 69; 93 89], [0.0 0.0 … 1.0 1.0; 1.0 1.0 … 0.0 0.0], [66.6501 73.1669; 22.75 26.4], LowRankModels.ConvergenceHistory(\"ProxGradGLRM\", [Inf, 1.25477e5, 37087.5, 36104.4, 35910.8, 35906.4, 35905.9, 35905.7, 35905.7, 35905.7, 35905.7, 35905.7], Float64[], [0.0, 0.0, 0.0, 0.0, 0.0, 0.0, 0.0, 0.0, 0.0, 0.0, 0.0, 0.0], [0.0, 0.0, 0.0, 0.0, 0.0, 0.0, 0.0, 0.0, 0.0, 0.0, 0.0, 0.0], [0.0, 0.363337, 0.489064, 0.578695, 0.603527, 0.628358, 0.653559, 0.679356, 0.707226, 0.733065, 0.762041, 0.788072], [0.0, 0.0, 0.0, 0.0, 0.0, 0.0, 0.0, 0.0, 0.0, 0.0, 0.0, 0.0], 0))"
      ]
     },
     "execution_count": 4,
     "metadata": {},
     "output_type": "execute_result"
    }
   ],
   "source": [
    "A,X,Y,ch=fit_kmeans(A,2)  # k specifies the number of clusters we want to group the data in "
   ]
  },
  {
   "cell_type": "code",
   "execution_count": 5,
   "metadata": {},
   "outputs": [
    {
     "data": {
      "image/png": "[encoded data removed]",
      "text/plain": [
       "PyPlot.Figure(PyObject <matplotlib.figure.Figure object at 0x7f6a8da9bf10>)"
      ]
     },
     "metadata": {},
     "output_type": "display_data"
    }
   ],
   "source": [
    "using PyPlot\n",
    "\n",
    "C=zeros(sum(X[1,:]),2)\n",
    "D=zeros(sum(X[2,:]),2)\n",
    "c1=1\n",
    "c2=1\n",
    "for i=1:length(A[:,1])\n",
    "    if X[1,i]==1\n",
    "        C[c1,:]=A[i,:]\n",
    "        c1=c1+1\n",
    "    else\n",
    "        D[c2,:]=A[i,:]\n",
    "        c2=c2+1\n",
    "    end\n",
    "end\n",
    "scatter(C[:,1],C[:,2],label=\"cluster 1\")\n",
    "scatter(D[:,1],D[:,2],label=\"cluster 2\")\n",
    "scatter(Y[:,1],Y[:,2],label=\"cluster centers\")\n",
    "legend(loc=2)\n",
    "title(\"results of k-means clustering on dataset A\");"
   ]
  },
  {
   "cell_type": "markdown",
   "metadata": {},
   "source": [
    "### 2) Implementing a loss function -ISSUES\n",
    "\n",
    "Here we will exemplary implement a simple loss function ourselves, just to illustrate the process. Suppose we want to implement our own version of a loss function like quadratic loss. We redefine the k-means function from above with our personal quad_loss instead of the provided one and apply the function to the same dataset to check that it works."
   ]
  },
  {
   "cell_type": "code",
   "execution_count": 27,
   "metadata": {},
   "outputs": [
    {
     "data": {
      "text/plain": [
       "M_estimator (generic function with 2 methods)"
      ]
     },
     "execution_count": 27,
     "metadata": {},
     "output_type": "execute_result"
    }
   ],
   "source": [
    "type my_quad_loss<:Loss\n",
    "    scale::Float64\n",
    "    domain::Domain\n",
    "end\n",
    "my_quad_loss(scale=1.0::Float64; domain=RealDomain()) = my_quad_loss(scale, domain)\n",
    "\n",
    "evaluate(l::my_quad_loss, u::Float64, a::Number) = l.scale*(u-a)^2\n",
    "\n",
    "grad(l::my_quad_loss, u::Float64, a::Number) = 2*(u-a)*l.scale\n",
    "\n",
    "M_estimator(l::my_quad_loss, a::AbstractArray) = mean(a)\n"
   ]
  },
  {
   "cell_type": "code",
   "execution_count": 24,
   "metadata": {},
   "outputs": [
    {
     "data": {
      "text/plain": [
       "evaluate (generic function with 3 methods)"
      ]
     },
     "execution_count": 24,
     "metadata": {},
     "output_type": "execute_result"
    }
   ],
   "source": [
    "evaluate(l::my_quad_loss, u::Float64, a::Int64) = l.scale*(u-a)^2"
   ]
  },
  {
   "cell_type": "code",
   "execution_count": 28,
   "metadata": {},
   "outputs": [
    {
     "data": {
      "text/plain": [
       "fit_kmeans (generic function with 1 method)"
      ]
     },
     "execution_count": 28,
     "metadata": {},
     "output_type": "execute_result"
    }
   ],
   "source": [
    "function fit_kmeans(A,k)\n",
    "    n=size(A[1,:])\n",
    "    m=size(A[:,1])\n",
    "\tloss = my_quad_loss()\n",
    "\try = ZeroReg()\n",
    "\trx = UnitOneSparseConstraint()\n",
    "\tglrm = GLRM(A,loss,rx,ry,k)\n",
    "\tX,Y,ch = fit!(glrm)\n",
    "\tprintln(\"Convergence history:\",ch.objective)\n",
    "\treturn A,X,Y,ch\n",
    "end"
   ]
  },
  {
   "cell_type": "code",
   "execution_count": 29,
   "metadata": {},
   "outputs": [
    {
     "name": "stdout",
     "output_type": "stream",
     "text": [
      "Fitting GLRM\n"
     ]
    },
    {
     "name": "stderr",
     "output_type": "stream",
     "text": [
      "\u001b[1m\u001b[33mWARNING: \u001b[39m\u001b[22m\u001b[33mArray(::Type{T}, m::Int) where T is deprecated, use Array{T}(m) instead.\u001b[39m\n",
      "Stacktrace:\n",
      " [1] \u001b[1mdepwarn\u001b[22m\u001b[22m\u001b[1m(\u001b[22m\u001b[22m::String, ::Symbol\u001b[1m)\u001b[22m\u001b[22m at \u001b[1m./deprecated.jl:70\u001b[22m\u001b[22m\n",
      " [2] \u001b[1mArray\u001b[22m\u001b[22m\u001b[1m(\u001b[22m\u001b[22m::Type{Union{Int64, Range{Int64}}}, ::Int64\u001b[1m)\u001b[22m\u001b[22m at \u001b[1m./deprecated.jl:57\u001b[22m\u001b[22m\n",
      " [3] \u001b[1mget_yidxs\u001b[22m\u001b[22m\u001b[1m(\u001b[22m\u001b[22m::Array{LowRankModels.Loss,1}\u001b[1m)\u001b[22m\u001b[22m at \u001b[1m/home/annika/JuliaProDir/JuliaPro-0.6.2.1/JuliaPro/pkgs-0.6.2.1/v0.6/LowRankModels/src/losses.jl:77\u001b[22m\u001b[22m\n",
      " [4] \u001b[1m#fit!#79\u001b[22m\u001b[22m\u001b[1m(\u001b[22m\u001b[22m::LowRankModels.ConvergenceHistory, ::Bool, ::Array{Any,1}, ::Function, ::LowRankModels.GLRM, ::LowRankModels.ProxGradParams\u001b[1m)\u001b[22m\u001b[22m at \u001b[1m/home/annika/JuliaProDir/JuliaPro-0.6.2.1/JuliaPro/pkgs-0.6.2.1/v0.6/LowRankModels/src/algorithms/proxgrad.jl:52\u001b[22m\u001b[22m\n",
      " [5] \u001b[1m#fit!#76\u001b[22m\u001b[22m\u001b[1m(\u001b[22m\u001b[22m::Array{Any,1}, ::Function, ::LowRankModels.GLRM\u001b[1m)\u001b[22m\u001b[22m at \u001b[1m/home/annika/JuliaProDir/JuliaPro-0.6.2.1/JuliaPro/pkgs-0.6.2.1/v0.6/LowRankModels/src/fit.jl:18\u001b[22m\u001b[22m\n",
      " [6] \u001b[1mfit_kmeans\u001b[22m\u001b[22m\u001b[1m(\u001b[22m\u001b[22m::Array{Int64,2}, ::Int64\u001b[1m)\u001b[22m\u001b[22m at \u001b[1m./In[28]:8\u001b[22m\u001b[22m\n",
      " [7] \u001b[1minclude_string\u001b[22m\u001b[22m\u001b[1m(\u001b[22m\u001b[22m::String, ::String\u001b[1m)\u001b[22m\u001b[22m at \u001b[1m./loading.jl:522\u001b[22m\u001b[22m\n",
      " [8] \u001b[1minclude_string\u001b[22m\u001b[22m\u001b[1m(\u001b[22m\u001b[22m::Module, ::String, ::String\u001b[1m)\u001b[22m\u001b[22m at \u001b[1m//////////////////////////////////////////////home/annika/JuliaProDir/JuliaPro-0.6.2.1/JuliaPro/pkgs-0.6.2.1/v0.6/Compat/src/Compat.jl:174\u001b[22m\u001b[22m\n",
      " [9] \u001b[1mexecute_request\u001b[22m\u001b[22m\u001b[1m(\u001b[22m\u001b[22m::ZMQ.Socket, ::IJulia.Msg\u001b[1m)\u001b[22m\u001b[22m at \u001b[1m/home/annika/JuliaProDir/JuliaPro-0.6.2.1/JuliaPro/pkgs-0.6.2.1/v0.6/IJulia/src/execute_request.jl:154\u001b[22m\u001b[22m\n",
      " [10] \u001b[1meventloop\u001b[22m\u001b[22m\u001b[1m(\u001b[22m\u001b[22m::ZMQ.Socket\u001b[1m)\u001b[22m\u001b[22m at \u001b[1m/home/annika/JuliaProDir/JuliaPro-0.6.2.1/JuliaPro/pkgs-0.6.2.1/v0.6/IJulia/src/eventloop.jl:8\u001b[22m\u001b[22m\n",
      " [11] \u001b[1m(::IJulia.##14#17)\u001b[22m\u001b[22m\u001b[1m(\u001b[22m\u001b[22m\u001b[1m)\u001b[22m\u001b[22m at \u001b[1m./task.jl:335\u001b[22m\u001b[22m\n",
      "while loading In[29], in expression starting on line 1\n",
      "\u001b[1m\u001b[33mWARNING: \u001b[39m\u001b[22m\u001b[33mArray(::Type{T}, d::NTuple{N, Int}) where {T, N} is deprecated, use Array{T}(d) instead.\u001b[39m\n",
      "Stacktrace:\n",
      " [1] \u001b[1mdepwarn\u001b[22m\u001b[22m\u001b[1m(\u001b[22m\u001b[22m::String, ::Symbol\u001b[1m)\u001b[22m\u001b[22m at \u001b[1m./deprecated.jl:70\u001b[22m\u001b[22m\n",
      " [2] \u001b[1mArray\u001b[22m\u001b[22m\u001b[1m(\u001b[22m\u001b[22m::Type{Float64}, ::Tuple{Int64,Int64}\u001b[1m)\u001b[22m\u001b[22m at \u001b[1m./deprecated.jl:57\u001b[22m\u001b[22m\n",
      " [3] \u001b[1m#fit!#79\u001b[22m\u001b[22m\u001b[1m(\u001b[22m\u001b[22m::LowRankModels.ConvergenceHistory, ::Bool, ::Array{Any,1}, ::Function, ::LowRankModels.GLRM, ::LowRankModels.ProxGradParams\u001b[1m)\u001b[22m\u001b[22m at \u001b[1m/home/annika/JuliaProDir/JuliaPro-0.6.2.1/JuliaPro/pkgs-0.6.2.1/v0.6/LowRankModels/src/algorithms/proxgrad.jl:65\u001b[22m\u001b[22m\n",
      " [4] \u001b[1m#fit!#76\u001b[22m\u001b[22m\u001b[1m(\u001b[22m\u001b[22m::Array{Any,1}, ::Function, ::LowRankModels.GLRM\u001b[1m)\u001b[22m\u001b[22m at \u001b[1m/home/annika/JuliaProDir/JuliaPro-0.6.2.1/JuliaPro/pkgs-0.6.2.1/v0.6/LowRankModels/src/fit.jl:18\u001b[22m\u001b[22m\n",
      " [5] \u001b[1mfit_kmeans\u001b[22m\u001b[22m\u001b[1m(\u001b[22m\u001b[22m::Array{Int64,2}, ::Int64\u001b[1m)\u001b[22m\u001b[22m at \u001b[1m./In[28]:8\u001b[22m\u001b[22m\n",
      " [6] \u001b[1minclude_string\u001b[22m\u001b[22m\u001b[1m(\u001b[22m\u001b[22m::String, ::String\u001b[1m)\u001b[22m\u001b[22m at \u001b[1m./loading.jl:522\u001b[22m\u001b[22m\n",
      " [7] \u001b[1minclude_string\u001b[22m\u001b[22m\u001b[1m(\u001b[22m\u001b[22m::Module, ::String, ::String\u001b[1m)\u001b[22m\u001b[22m at \u001b[1m//////////////////////////////////////////////home/annika/JuliaProDir/JuliaPro-0.6.2.1/JuliaPro/pkgs-0.6.2.1/v0.6/Compat/src/Compat.jl:174\u001b[22m\u001b[22m\n",
      " [8] \u001b[1mexecute_request\u001b[22m\u001b[22m\u001b[1m(\u001b[22m\u001b[22m::ZMQ.Socket, ::IJulia.Msg\u001b[1m)\u001b[22m\u001b[22m at \u001b[1m/home/annika/JuliaProDir/JuliaPro-0.6.2.1/JuliaPro/pkgs-0.6.2.1/v0.6/IJulia/src/execute_request.jl:154\u001b[22m\u001b[22m\n",
      " [9] \u001b[1meventloop\u001b[22m\u001b[22m\u001b[1m(\u001b[22m\u001b[22m::ZMQ.Socket\u001b[1m)\u001b[22m\u001b[22m at \u001b[1m/home/annika/JuliaProDir/JuliaPro-0.6.2.1/JuliaPro/pkgs-0.6.2.1/v0.6/IJulia/src/eventloop.jl:8\u001b[22m\u001b[22m\n",
      " [10] \u001b[1m(::IJulia.##14#17)\u001b[22m\u001b[22m\u001b[1m(\u001b[22m\u001b[22m\u001b[1m)\u001b[22m\u001b[22m at \u001b[1m./task.jl:335\u001b[22m\u001b[22m\n",
      "while loading In[29], in expression starting on line 1\n"
     ]
    },
    {
     "ename": "LoadError",
     "evalue": "\u001b[91mMethodError: no method matching evaluate(::my_quad_loss, ::Float64, ::Int64)\u001b[0m\nClosest candidates are:\n  evaluate(\u001b[91m::LowRankModels.QuadLoss\u001b[39m, ::Float64, ::Number) at /home/annika/JuliaProDir/JuliaPro-0.6.2.1/JuliaPro/pkgs-0.6.2.1/v0.6/LowRankModels/src/losses.jl:137\n  evaluate(\u001b[91m::LowRankModels.L1Loss\u001b[39m, ::Float64, ::Number) at /home/annika/JuliaProDir/JuliaPro-0.6.2.1/JuliaPro/pkgs-0.6.2.1/v0.6/LowRankModels/src/losses.jl:151\n  evaluate(\u001b[91m::LowRankModels.HuberLoss\u001b[39m, ::Float64, ::Number) at /home/annika/JuliaProDir/JuliaPro-0.6.2.1/JuliaPro/pkgs-0.6.2.1/v0.6/LowRankModels/src/losses.jl:167\n  ...\u001b[39m",
     "output_type": "error",
     "traceback": [
      "\u001b[91mMethodError: no method matching evaluate(::my_quad_loss, ::Float64, ::Int64)\u001b[0m\nClosest candidates are:\n  evaluate(\u001b[91m::LowRankModels.QuadLoss\u001b[39m, ::Float64, ::Number) at /home/annika/JuliaProDir/JuliaPro-0.6.2.1/JuliaPro/pkgs-0.6.2.1/v0.6/LowRankModels/src/losses.jl:137\n  evaluate(\u001b[91m::LowRankModels.L1Loss\u001b[39m, ::Float64, ::Number) at /home/annika/JuliaProDir/JuliaPro-0.6.2.1/JuliaPro/pkgs-0.6.2.1/v0.6/LowRankModels/src/losses.jl:151\n  evaluate(\u001b[91m::LowRankModels.HuberLoss\u001b[39m, ::Float64, ::Number) at /home/annika/JuliaProDir/JuliaPro-0.6.2.1/JuliaPro/pkgs-0.6.2.1/v0.6/LowRankModels/src/losses.jl:167\n  ...\u001b[39m",
      "",
      "Stacktrace:",
      " [1] \u001b[1m#objective#57\u001b[22m\u001b[22m\u001b[1m(\u001b[22m\u001b[22m::Array{Union{Int64, Range{Int64}},1}, ::Bool, ::Function, ::LowRankModels.GLRM, ::Array{Float64,2}, ::Array{Float64,2}, ::Array{Float64,2}\u001b[1m)\u001b[22m\u001b[22m at \u001b[1m/home/annika/JuliaProDir/JuliaPro-0.6.2.1/JuliaPro/pkgs-0.6.2.1/v0.6/LowRankModels/src/evaluate_fit.jl:15\u001b[22m\u001b[22m",
      " [2] \u001b[1m(::LowRankModels.#kw##objective)\u001b[22m\u001b[22m\u001b[1m(\u001b[22m\u001b[22m::Array{Any,1}, ::LowRankModels.#objective, ::LowRankModels.GLRM, ::Array{Float64,2}, ::Array{Float64,2}, ::Array{Float64,2}\u001b[1m)\u001b[22m\u001b[22m at \u001b[1m./<missing>:0\u001b[22m\u001b[22m",
      " [3] \u001b[1m#fit!#79\u001b[22m\u001b[22m\u001b[1m(\u001b[22m\u001b[22m::LowRankModels.ConvergenceHistory, ::Bool, ::Array{Any,1}, ::Function, ::LowRankModels.GLRM, ::LowRankModels.ProxGradParams\u001b[1m)\u001b[22m\u001b[22m at \u001b[1m/home/annika/JuliaProDir/JuliaPro-0.6.2.1/JuliaPro/pkgs-0.6.2.1/v0.6/LowRankModels/src/algorithms/proxgrad.jl:76\u001b[22m\u001b[22m",
      " [4] \u001b[1m#fit!#76\u001b[22m\u001b[22m\u001b[1m(\u001b[22m\u001b[22m::Array{Any,1}, ::Function, ::LowRankModels.GLRM\u001b[1m)\u001b[22m\u001b[22m at \u001b[1m/home/annika/JuliaProDir/JuliaPro-0.6.2.1/JuliaPro/pkgs-0.6.2.1/v0.6/LowRankModels/src/fit.jl:18\u001b[22m\u001b[22m",
      " [5] \u001b[1mfit_kmeans\u001b[22m\u001b[22m\u001b[1m(\u001b[22m\u001b[22m::Array{Int64,2}, ::Int64\u001b[1m)\u001b[22m\u001b[22m at \u001b[1m./In[28]:8\u001b[22m\u001b[22m",
      " [6] \u001b[1minclude_string\u001b[22m\u001b[22m\u001b[1m(\u001b[22m\u001b[22m::String, ::String\u001b[1m)\u001b[22m\u001b[22m at \u001b[1m./loading.jl:522\u001b[22m\u001b[22m"
     ]
    }
   ],
   "source": [
    "A,X,Y,ch=fit_kmeans(A,2)  # k specifies the number of clusters we want to group the data in "
   ]
  },
  {
   "cell_type": "markdown",
   "metadata": {},
   "source": [
    "### 3) Implementing a regulariser - ISSUES\n",
    "\n",
    "Here we will exemplary implement a simple regulariser ourselves, just to illustrate the process. "
   ]
  },
  {
   "cell_type": "code",
   "execution_count": 31,
   "metadata": {},
   "outputs": [
    {
     "data": {
      "text/plain": [
       "scale! (generic function with 2 methods)"
      ]
     },
     "execution_count": 31,
     "metadata": {},
     "output_type": "execute_result"
    }
   ],
   "source": [
    "type my_nnconst<:Regularizer\n",
    "end\n",
    "prox(r::my_nnconst,u::AbstractArray,alpha::Number=1) = broadcast(max,u,0)\n",
    "prox!(r::my_nnconst,u::Array{Float64},alpha::Number=1) = (@simd for i=1:length(u) @inbounds u[i] = max(u[i], 0) end; u)\n",
    "function evaluate(r::my_nnconst,a::AbstractArray)\n",
    "    for ai in a\n",
    "        if ai<0\n",
    "            return Inf\n",
    "        end\n",
    "    end\n",
    "    return 0\n",
    "end\n",
    "scale(r::my_nnconst) = 1\n",
    "scale!(r::my_nnconst, newscale::Number) = 1\n"
   ]
  },
  {
   "cell_type": "code",
   "execution_count": 32,
   "metadata": {},
   "outputs": [
    {
     "data": {
      "text/plain": [
       "LowRankModels.GLRM([23 4; 9 98; … ; 98 75; 87 69], LowRankModels.Loss[LowRankModels.QuadLoss(1.0, LowRankModels.RealDomain()), LowRankModels.QuadLoss(1.0, LowRankModels.RealDomain())], my_nnconst(), LowRankModels.Regularizer[LowRankModels.ZeroReg(), LowRankModels.ZeroReg()], 5, UnitRange{Int64}[1:2, 1:2, 1:2, 1:2, 1:2, 1:2, 1:2, 1:2, 1:2, 1:2  …  1:2, 1:2, 1:2, 1:2, 1:2, 1:2, 1:2, 1:2, 1:2, 1:2], UnitRange{Int64}[1:50, 1:50], [-0.315504 -1.47361 … -2.21761 -0.267595; -1.50008 0.460724 … -0.421099 -0.677817; … ; -0.931368 -1.00003 … 0.323815 0.242194; -2.1075 -1.45362 … -0.384584 -2.16385], [-0.732209 0.18148; -0.0489664 -0.556019; … ; 0.596506 -0.854203; -1.52158 -0.560434])"
      ]
     },
     "execution_count": 32,
     "metadata": {},
     "output_type": "execute_result"
    }
   ],
   "source": [
    "m,n,k = 100,100,5\n",
    "losses = QuadLoss() # minimize squared distance to cluster centroids\n",
    "rx = my_nnconst() # each row is assigned to exactly one cluster\n",
    "ry = ZeroReg() # no regularization on the cluster centroids\n",
    "glrm = GLRM(A,losses,rx,ry,k)"
   ]
  },
  {
   "cell_type": "code",
   "execution_count": 33,
   "metadata": {},
   "outputs": [
    {
     "name": "stdout",
     "output_type": "stream",
     "text": [
      "Fitting GLRM\n"
     ]
    },
    {
     "name": "stderr",
     "output_type": "stream",
     "text": [
      "\u001b[1m\u001b[33mWARNING: \u001b[39m\u001b[22m\u001b[33mArray(::Type{T}, m::Int) where T is deprecated, use Array{T}(m) instead.\u001b[39m\n",
      "Stacktrace:\n",
      " [1] \u001b[1mdepwarn\u001b[22m\u001b[22m\u001b[1m(\u001b[22m\u001b[22m::String, ::Symbol\u001b[1m)\u001b[22m\u001b[22m at \u001b[1m./deprecated.jl:70\u001b[22m\u001b[22m\n",
      " [2] \u001b[1mArray\u001b[22m\u001b[22m\u001b[1m(\u001b[22m\u001b[22m::Type{Union{Int64, Range{Int64}}}, ::Int64\u001b[1m)\u001b[22m\u001b[22m at \u001b[1m./deprecated.jl:57\u001b[22m\u001b[22m\n",
      " [3] \u001b[1mget_yidxs\u001b[22m\u001b[22m\u001b[1m(\u001b[22m\u001b[22m::Array{LowRankModels.Loss,1}\u001b[1m)\u001b[22m\u001b[22m at \u001b[1m/home/annika/JuliaProDir/JuliaPro-0.6.2.1/JuliaPro/pkgs-0.6.2.1/v0.6/LowRankModels/src/losses.jl:77\u001b[22m\u001b[22m\n",
      " [4] \u001b[1m#fit!#79\u001b[22m\u001b[22m\u001b[1m(\u001b[22m\u001b[22m::LowRankModels.ConvergenceHistory, ::Bool, ::Array{Any,1}, ::Function, ::LowRankModels.GLRM, ::LowRankModels.ProxGradParams\u001b[1m)\u001b[22m\u001b[22m at \u001b[1m/home/annika/JuliaProDir/JuliaPro-0.6.2.1/JuliaPro/pkgs-0.6.2.1/v0.6/LowRankModels/src/algorithms/proxgrad.jl:52\u001b[22m\u001b[22m\n",
      " [5] \u001b[1m#fit!#76\u001b[22m\u001b[22m\u001b[1m(\u001b[22m\u001b[22m::Array{Any,1}, ::Function, ::LowRankModels.GLRM\u001b[1m)\u001b[22m\u001b[22m at \u001b[1m/home/annika/JuliaProDir/JuliaPro-0.6.2.1/JuliaPro/pkgs-0.6.2.1/v0.6/LowRankModels/src/fit.jl:18\u001b[22m\u001b[22m\n",
      " [6] \u001b[1mfit!\u001b[22m\u001b[22m\u001b[1m(\u001b[22m\u001b[22m::LowRankModels.GLRM\u001b[1m)\u001b[22m\u001b[22m at \u001b[1m/home/annika/JuliaProDir/JuliaPro-0.6.2.1/JuliaPro/pkgs-0.6.2.1/v0.6/LowRankModels/src/fit.jl:9\u001b[22m\u001b[22m\n",
      " [7] \u001b[1minclude_string\u001b[22m\u001b[22m\u001b[1m(\u001b[22m\u001b[22m::String, ::String\u001b[1m)\u001b[22m\u001b[22m at \u001b[1m./loading.jl:522\u001b[22m\u001b[22m\n",
      " [8] \u001b[1minclude_string\u001b[22m\u001b[22m\u001b[1m(\u001b[22m\u001b[22m::Module, ::String, ::String\u001b[1m)\u001b[22m\u001b[22m at \u001b[1m//////////////////////////////////////////////home/annika/JuliaProDir/JuliaPro-0.6.2.1/JuliaPro/pkgs-0.6.2.1/v0.6/Compat/src/Compat.jl:174\u001b[22m\u001b[22m\n",
      " [9] \u001b[1mexecute_request\u001b[22m\u001b[22m\u001b[1m(\u001b[22m\u001b[22m::ZMQ.Socket, ::IJulia.Msg\u001b[1m)\u001b[22m\u001b[22m at \u001b[1m/home/annika/JuliaProDir/JuliaPro-0.6.2.1/JuliaPro/pkgs-0.6.2.1/v0.6/IJulia/src/execute_request.jl:154\u001b[22m\u001b[22m\n",
      " [10] \u001b[1meventloop\u001b[22m\u001b[22m\u001b[1m(\u001b[22m\u001b[22m::ZMQ.Socket\u001b[1m)\u001b[22m\u001b[22m at \u001b[1m/home/annika/JuliaProDir/JuliaPro-0.6.2.1/JuliaPro/pkgs-0.6.2.1/v0.6/IJulia/src/eventloop.jl:8\u001b[22m\u001b[22m\n",
      " [11] \u001b[1m(::IJulia.##14#17)\u001b[22m\u001b[22m\u001b[1m(\u001b[22m\u001b[22m\u001b[1m)\u001b[22m\u001b[22m at \u001b[1m./task.jl:335\u001b[22m\u001b[22m\n",
      "while loading In[33], in expression starting on line 1\n",
      "\u001b[1m\u001b[33mWARNING: \u001b[39m\u001b[22m\u001b[33mArray(::Type{T}, d::NTuple{N, Int}) where {T, N} is deprecated, use Array{T}(d) instead.\u001b[39m\n",
      "Stacktrace:\n",
      " [1] \u001b[1mdepwarn\u001b[22m\u001b[22m\u001b[1m(\u001b[22m\u001b[22m::String, ::Symbol\u001b[1m)\u001b[22m\u001b[22m at \u001b[1m./deprecated.jl:70\u001b[22m\u001b[22m\n",
      " [2] \u001b[1mArray\u001b[22m\u001b[22m\u001b[1m(\u001b[22m\u001b[22m::Type{Float64}, ::Tuple{Int64,Int64}\u001b[1m)\u001b[22m\u001b[22m at \u001b[1m./deprecated.jl:57\u001b[22m\u001b[22m\n",
      " [3] \u001b[1m#fit!#79\u001b[22m\u001b[22m\u001b[1m(\u001b[22m\u001b[22m::LowRankModels.ConvergenceHistory, ::Bool, ::Array{Any,1}, ::Function, ::LowRankModels.GLRM, ::LowRankModels.ProxGradParams\u001b[1m)\u001b[22m\u001b[22m at \u001b[1m/home/annika/JuliaProDir/JuliaPro-0.6.2.1/JuliaPro/pkgs-0.6.2.1/v0.6/LowRankModels/src/algorithms/proxgrad.jl:65\u001b[22m\u001b[22m\n",
      " [4] \u001b[1m#fit!#76\u001b[22m\u001b[22m\u001b[1m(\u001b[22m\u001b[22m::Array{Any,1}, ::Function, ::LowRankModels.GLRM\u001b[1m)\u001b[22m\u001b[22m at \u001b[1m/home/annika/JuliaProDir/JuliaPro-0.6.2.1/JuliaPro/pkgs-0.6.2.1/v0.6/LowRankModels/src/fit.jl:18\u001b[22m\u001b[22m\n",
      " [5] \u001b[1mfit!\u001b[22m\u001b[22m\u001b[1m(\u001b[22m\u001b[22m::LowRankModels.GLRM\u001b[1m)\u001b[22m\u001b[22m at \u001b[1m/home/annika/JuliaProDir/JuliaPro-0.6.2.1/JuliaPro/pkgs-0.6.2.1/v0.6/LowRankModels/src/fit.jl:9\u001b[22m\u001b[22m\n",
      " [6] \u001b[1minclude_string\u001b[22m\u001b[22m\u001b[1m(\u001b[22m\u001b[22m::String, ::String\u001b[1m)\u001b[22m\u001b[22m at \u001b[1m./loading.jl:522\u001b[22m\u001b[22m\n",
      " [7] \u001b[1minclude_string\u001b[22m\u001b[22m\u001b[1m(\u001b[22m\u001b[22m::Module, ::String, ::String\u001b[1m)\u001b[22m\u001b[22m at \u001b[1m//////////////////////////////////////////////home/annika/JuliaProDir/JuliaPro-0.6.2.1/JuliaPro/pkgs-0.6.2.1/v0.6/Compat/src/Compat.jl:174\u001b[22m\u001b[22m\n",
      " [8] \u001b[1mexecute_request\u001b[22m\u001b[22m\u001b[1m(\u001b[22m\u001b[22m::ZMQ.Socket, ::IJulia.Msg\u001b[1m)\u001b[22m\u001b[22m at \u001b[1m/home/annika/JuliaProDir/JuliaPro-0.6.2.1/JuliaPro/pkgs-0.6.2.1/v0.6/IJulia/src/execute_request.jl:154\u001b[22m\u001b[22m\n",
      " [9] \u001b[1meventloop\u001b[22m\u001b[22m\u001b[1m(\u001b[22m\u001b[22m::ZMQ.Socket\u001b[1m)\u001b[22m\u001b[22m at \u001b[1m/home/annika/JuliaProDir/JuliaPro-0.6.2.1/JuliaPro/pkgs-0.6.2.1/v0.6/IJulia/src/eventloop.jl:8\u001b[22m\u001b[22m\n",
      " [10] \u001b[1m(::IJulia.##14#17)\u001b[22m\u001b[22m\u001b[1m(\u001b[22m\u001b[22m\u001b[1m)\u001b[22m\u001b[22m at \u001b[1m./task.jl:335\u001b[22m\u001b[22m\n",
      "while loading In[33], in expression starting on line 1\n"
     ]
    },
    {
     "ename": "LoadError",
     "evalue": "\u001b[91mMethodError: no method matching evaluate(::my_nnconst, ::ArrayViews.ContiguousView{Float64,1,Array{Float64,2}})\u001b[0m\nClosest candidates are:\n  evaluate(\u001b[91m::LowRankModels.QuadReg\u001b[39m, ::AbstractArray) at /home/annika/JuliaProDir/JuliaPro-0.6.2.1/JuliaPro/pkgs-0.6.2.1/v0.6/LowRankModels/src/regularizers.jl:57\n  evaluate(\u001b[91m::LowRankModels.QuadConstraint\u001b[39m, ::AbstractArray) at /home/annika/JuliaProDir/JuliaPro-0.6.2.1/JuliaPro/pkgs-0.6.2.1/v0.6/LowRankModels/src/regularizers.jl:73\n  evaluate(\u001b[91m::LowRankModels.OneReg\u001b[39m, ::AbstractArray) at /home/annika/JuliaProDir/JuliaPro-0.6.2.1/JuliaPro/pkgs-0.6.2.1/v0.6/LowRankModels/src/regularizers.jl:87\n  ...\u001b[39m",
     "output_type": "error",
     "traceback": [
      "\u001b[91mMethodError: no method matching evaluate(::my_nnconst, ::ArrayViews.ContiguousView{Float64,1,Array{Float64,2}})\u001b[0m\nClosest candidates are:\n  evaluate(\u001b[91m::LowRankModels.QuadReg\u001b[39m, ::AbstractArray) at /home/annika/JuliaProDir/JuliaPro-0.6.2.1/JuliaPro/pkgs-0.6.2.1/v0.6/LowRankModels/src/regularizers.jl:57\n  evaluate(\u001b[91m::LowRankModels.QuadConstraint\u001b[39m, ::AbstractArray) at /home/annika/JuliaProDir/JuliaPro-0.6.2.1/JuliaPro/pkgs-0.6.2.1/v0.6/LowRankModels/src/regularizers.jl:73\n  evaluate(\u001b[91m::LowRankModels.OneReg\u001b[39m, ::AbstractArray) at /home/annika/JuliaProDir/JuliaPro-0.6.2.1/JuliaPro/pkgs-0.6.2.1/v0.6/LowRankModels/src/regularizers.jl:87\n  ...\u001b[39m",
      "",
      "Stacktrace:",
      " [1] \u001b[1m#calc_penalty#62\u001b[22m\u001b[22m\u001b[1m(\u001b[22m\u001b[22m::Array{Union{Int64, Range{Int64}},1}, ::Function, ::LowRankModels.GLRM, ::Array{Float64,2}, ::Array{Float64,2}\u001b[1m)\u001b[22m\u001b[22m at \u001b[1m/home/annika/JuliaProDir/JuliaPro-0.6.2.1/JuliaPro/pkgs-0.6.2.1/v0.6/LowRankModels/src/evaluate_fit.jl:97\u001b[22m\u001b[22m",
      " [2] \u001b[1m(::LowRankModels.#kw##calc_penalty)\u001b[22m\u001b[22m\u001b[1m(\u001b[22m\u001b[22m::Array{Any,1}, ::LowRankModels.#calc_penalty, ::LowRankModels.GLRM, ::Array{Float64,2}, ::Array{Float64,2}\u001b[1m)\u001b[22m\u001b[22m at \u001b[1m./<missing>:0\u001b[22m\u001b[22m",
      " [3] \u001b[1m#objective#57\u001b[22m\u001b[22m\u001b[1m(\u001b[22m\u001b[22m::Array{Union{Int64, Range{Int64}},1}, ::Bool, ::Function, ::LowRankModels.GLRM, ::Array{Float64,2}, ::Array{Float64,2}, ::Array{Float64,2}\u001b[1m)\u001b[22m\u001b[22m at \u001b[1m/home/annika/JuliaProDir/JuliaPro-0.6.2.1/JuliaPro/pkgs-0.6.2.1/v0.6/LowRankModels/src/evaluate_fit.jl:20\u001b[22m\u001b[22m",
      " [4] \u001b[1m(::LowRankModels.#kw##objective)\u001b[22m\u001b[22m\u001b[1m(\u001b[22m\u001b[22m::Array{Any,1}, ::LowRankModels.#objective, ::LowRankModels.GLRM, ::Array{Float64,2}, ::Array{Float64,2}, ::Array{Float64,2}\u001b[1m)\u001b[22m\u001b[22m at \u001b[1m./<missing>:0\u001b[22m\u001b[22m",
      " [5] \u001b[1m#fit!#79\u001b[22m\u001b[22m\u001b[1m(\u001b[22m\u001b[22m::LowRankModels.ConvergenceHistory, ::Bool, ::Array{Any,1}, ::Function, ::LowRankModels.GLRM, ::LowRankModels.ProxGradParams\u001b[1m)\u001b[22m\u001b[22m at \u001b[1m/home/annika/JuliaProDir/JuliaPro-0.6.2.1/JuliaPro/pkgs-0.6.2.1/v0.6/LowRankModels/src/algorithms/proxgrad.jl:76\u001b[22m\u001b[22m",
      " [6] \u001b[1m#fit!#76\u001b[22m\u001b[22m\u001b[1m(\u001b[22m\u001b[22m::Array{Any,1}, ::Function, ::LowRankModels.GLRM\u001b[1m)\u001b[22m\u001b[22m at \u001b[1m/home/annika/JuliaProDir/JuliaPro-0.6.2.1/JuliaPro/pkgs-0.6.2.1/v0.6/LowRankModels/src/fit.jl:18\u001b[22m\u001b[22m",
      " [7] \u001b[1mfit!\u001b[22m\u001b[22m\u001b[1m(\u001b[22m\u001b[22m::LowRankModels.GLRM\u001b[1m)\u001b[22m\u001b[22m at \u001b[1m/home/annika/JuliaProDir/JuliaPro-0.6.2.1/JuliaPro/pkgs-0.6.2.1/v0.6/LowRankModels/src/fit.jl:9\u001b[22m\u001b[22m",
      " [8] \u001b[1minclude_string\u001b[22m\u001b[22m\u001b[1m(\u001b[22m\u001b[22m::String, ::String\u001b[1m)\u001b[22m\u001b[22m at \u001b[1m./loading.jl:522\u001b[22m\u001b[22m"
     ]
    }
   ],
   "source": [
    "X,Y,ch = fit!(glrm)"
   ]
  },
  {
   "cell_type": "markdown",
   "metadata": {},
   "source": [
    "### 4) Application to data frames\n",
    "\n",
    "GLRM work on dataframes, if these are of the specific type \"DataFrame\" provided in DataFrames.jl. The example below is taken from the github page. It takes a very long time to run. To achieve compatibility with Julia DB tables either the tables need to be converted in arrays or somehow transferred to the DataFrames structure."
   ]
  },
  {
   "cell_type": "code",
   "execution_count": 49,
   "metadata": {},
   "outputs": [],
   "source": [
    "import RDatasets\n",
    "df = RDatasets.dataset(\"psych\", \"msq\");"
   ]
  },
  {
   "cell_type": "code",
   "execution_count": 52,
   "metadata": {},
   "outputs": [
    {
     "name": "stderr",
     "output_type": "stream",
     "text": [
      "\u001b[1m\u001b[33mWARNING: \u001b[39m\u001b[22m\u001b[33mArray(::Type{T}, m::Int) where T is deprecated, use Array{T}(m) instead.\u001b[39m\n",
      "Stacktrace:\n",
      " [1] \u001b[1mdepwarn\u001b[22m\u001b[22m\u001b[1m(\u001b[22m\u001b[22m::String, ::Symbol\u001b[1m)\u001b[22m\u001b[22m at \u001b[1m./deprecated.jl:70\u001b[22m\u001b[22m\n",
      " [2] \u001b[1mArray\u001b[22m\u001b[22m\u001b[1m(\u001b[22m\u001b[22m::Type{LowRankModels.Loss}, ::Int64\u001b[1m)\u001b[22m\u001b[22m at \u001b[1m./deprecated.jl:57\u001b[22m\u001b[22m\n",
      " [3] \u001b[1mget_reals\u001b[22m\u001b[22m\u001b[1m(\u001b[22m\u001b[22m::DataFrames.DataFrame\u001b[1m)\u001b[22m\u001b[22m at \u001b[1m/home/annika/JuliaProDir/JuliaPro-0.6.2.1/JuliaPro/pkgs-0.6.2.1/v0.6/LowRankModels/src/fit_dataframe_w_type_imputation.jl:46\u001b[22m\u001b[22m\n",
      " [4] \u001b[1m#GLRM#111\u001b[22m\u001b[22m\u001b[1m(\u001b[22m\u001b[22m::Array{LowRankModels.Loss,1}, ::LowRankModels.QuadReg, ::LowRankModels.QuadReg, ::Bool, ::Bool, ::Bool, ::Bool, ::Type{T} where T, ::DataFrames.DataFrame, ::Int64\u001b[1m)\u001b[22m\u001b[22m at \u001b[1m/home/annika/JuliaProDir/JuliaPro-0.6.2.1/JuliaPro/pkgs-0.6.2.1/v0.6/LowRankModels/src/fit_dataframe_w_type_imputation.jl:17\u001b[22m\u001b[22m\n",
      " [5] \u001b[1mLowRankModels.GLRM\u001b[22m\u001b[22m\u001b[1m(\u001b[22m\u001b[22m::DataFrames.DataFrame, ::Int64\u001b[1m)\u001b[22m\u001b[22m at \u001b[1m/home/annika/JuliaProDir/JuliaPro-0.6.2.1/JuliaPro/pkgs-0.6.2.1/v0.6/LowRankModels/src/fit_dataframe_w_type_imputation.jl:12\u001b[22m\u001b[22m\n",
      " [6] \u001b[1minclude_string\u001b[22m\u001b[22m\u001b[1m(\u001b[22m\u001b[22m::String, ::String\u001b[1m)\u001b[22m\u001b[22m at \u001b[1m./loading.jl:522\u001b[22m\u001b[22m\n",
      " [7] \u001b[1minclude_string\u001b[22m\u001b[22m\u001b[1m(\u001b[22m\u001b[22m::Module, ::String, ::String\u001b[1m)\u001b[22m\u001b[22m at \u001b[1m//////////////////////////////////////////////home/annika/JuliaProDir/JuliaPro-0.6.2.1/JuliaPro/pkgs-0.6.2.1/v0.6/Compat/src/Compat.jl:174\u001b[22m\u001b[22m\n",
      " [8] \u001b[1mexecute_request\u001b[22m\u001b[22m\u001b[1m(\u001b[22m\u001b[22m::ZMQ.Socket, ::IJulia.Msg\u001b[1m)\u001b[22m\u001b[22m at \u001b[1m/home/annika/JuliaProDir/JuliaPro-0.6.2.1/JuliaPro/pkgs-0.6.2.1/v0.6/IJulia/src/execute_request.jl:154\u001b[22m\u001b[22m\n",
      " [9] \u001b[1meventloop\u001b[22m\u001b[22m\u001b[1m(\u001b[22m\u001b[22m::ZMQ.Socket\u001b[1m)\u001b[22m\u001b[22m at \u001b[1m/home/annika/JuliaProDir/JuliaPro-0.6.2.1/JuliaPro/pkgs-0.6.2.1/v0.6/IJulia/src/eventloop.jl:8\u001b[22m\u001b[22m\n",
      " [10] \u001b[1m(::IJulia.##14#17)\u001b[22m\u001b[22m\u001b[1m(\u001b[22m\u001b[22m\u001b[1m)\u001b[22m\u001b[22m at \u001b[1m./task.jl:335\u001b[22m\u001b[22m\n",
      "while loading In[52], in expression starting on line 1\n",
      "\u001b[1m\u001b[33mWARNING: \u001b[39m\u001b[22m\u001b[33mArray(::Type{T}, m::Int) where T is deprecated, use Array{T}(m) instead.\u001b[39m\n",
      "Stacktrace:\n",
      " [1] \u001b[1mdepwarn\u001b[22m\u001b[22m\u001b[1m(\u001b[22m\u001b[22m::String, ::Symbol\u001b[1m)\u001b[22m\u001b[22m at \u001b[1m./deprecated.jl:70\u001b[22m\u001b[22m\n",
      " [2] \u001b[1mArray\u001b[22m\u001b[22m\u001b[1m(\u001b[22m\u001b[22m::Type{LowRankModels.Loss}, ::Int64\u001b[1m)\u001b[22m\u001b[22m at \u001b[1m./deprecated.jl:57\u001b[22m\u001b[22m\n",
      " [3] \u001b[1mget_bools\u001b[22m\u001b[22m\u001b[1m(\u001b[22m\u001b[22m::DataFrames.DataFrame\u001b[1m)\u001b[22m\u001b[22m at \u001b[1m/home/annika/JuliaProDir/JuliaPro-0.6.2.1/JuliaPro/pkgs-0.6.2.1/v0.6/LowRankModels/src/fit_dataframe_w_type_imputation.jl:57\u001b[22m\u001b[22m\n",
      " [4] \u001b[1m#GLRM#111\u001b[22m\u001b[22m\u001b[1m(\u001b[22m\u001b[22m::Array{LowRankModels.Loss,1}, ::LowRankModels.QuadReg, ::LowRankModels.QuadReg, ::Bool, ::Bool, ::Bool, ::Bool, ::Type{T} where T, ::DataFrames.DataFrame, ::Int64\u001b[1m)\u001b[22m\u001b[22m at \u001b[1m/home/annika/JuliaProDir/JuliaPro-0.6.2.1/JuliaPro/pkgs-0.6.2.1/v0.6/LowRankModels/src/fit_dataframe_w_type_imputation.jl:18\u001b[22m\u001b[22m\n",
      " [5] \u001b[1mLowRankModels.GLRM\u001b[22m\u001b[22m\u001b[1m(\u001b[22m\u001b[22m::DataFrames.DataFrame, ::Int64\u001b[1m)\u001b[22m\u001b[22m at \u001b[1m/home/annika/JuliaProDir/JuliaPro-0.6.2.1/JuliaPro/pkgs-0.6.2.1/v0.6/LowRankModels/src/fit_dataframe_w_type_imputation.jl:12\u001b[22m\u001b[22m\n",
      " [6] \u001b[1minclude_string\u001b[22m\u001b[22m\u001b[1m(\u001b[22m\u001b[22m::String, ::String\u001b[1m)\u001b[22m\u001b[22m at \u001b[1m./loading.jl:522\u001b[22m\u001b[22m\n",
      " [7] \u001b[1minclude_string\u001b[22m\u001b[22m\u001b[1m(\u001b[22m\u001b[22m::Module, ::String, ::String\u001b[1m)\u001b[22m\u001b[22m at \u001b[1m//////////////////////////////////////////////home/annika/JuliaProDir/JuliaPro-0.6.2.1/JuliaPro/pkgs-0.6.2.1/v0.6/Compat/src/Compat.jl:174\u001b[22m\u001b[22m\n",
      " [8] \u001b[1mexecute_request\u001b[22m\u001b[22m\u001b[1m(\u001b[22m\u001b[22m::ZMQ.Socket, ::IJulia.Msg\u001b[1m)\u001b[22m\u001b[22m at \u001b[1m/home/annika/JuliaProDir/JuliaPro-0.6.2.1/JuliaPro/pkgs-0.6.2.1/v0.6/IJulia/src/execute_request.jl:154\u001b[22m\u001b[22m\n",
      " [9] \u001b[1meventloop\u001b[22m\u001b[22m\u001b[1m(\u001b[22m\u001b[22m::ZMQ.Socket\u001b[1m)\u001b[22m\u001b[22m at \u001b[1m/home/annika/JuliaProDir/JuliaPro-0.6.2.1/JuliaPro/pkgs-0.6.2.1/v0.6/IJulia/src/eventloop.jl:8\u001b[22m\u001b[22m\n",
      " [10] \u001b[1m(::IJulia.##14#17)\u001b[22m\u001b[22m\u001b[1m(\u001b[22m\u001b[22m\u001b[1m)\u001b[22m\u001b[22m at \u001b[1m./task.jl:335\u001b[22m\u001b[22m\n",
      "while loading In[52], in expression starting on line 1\n",
      "\u001b[1m\u001b[33mWARNING: \u001b[39m\u001b[22m\u001b[33mArray(::Type{T}, m::Int) where T is deprecated, use Array{T}(m) instead.\u001b[39m\n",
      "Stacktrace:\n",
      " [1] \u001b[1mdepwarn\u001b[22m\u001b[22m\u001b[1m(\u001b[22m\u001b[22m::String, ::Symbol\u001b[1m)\u001b[22m\u001b[22m at \u001b[1m./deprecated.jl:70\u001b[22m\u001b[22m\n",
      " [2] \u001b[1mArray\u001b[22m\u001b[22m\u001b[1m(\u001b[22m\u001b[22m::Type{LowRankModels.Loss}, ::Int64\u001b[1m)\u001b[22m\u001b[22m at \u001b[1m./deprecated.jl:57\u001b[22m\u001b[22m\n",
      " [3] \u001b[1mget_ordinals\u001b[22m\u001b[22m\u001b[1m(\u001b[22m\u001b[22m::DataFrames.DataFrame\u001b[1m)\u001b[22m\u001b[22m at \u001b[1m/home/annika/JuliaProDir/JuliaPro-0.6.2.1/JuliaPro/pkgs-0.6.2.1/v0.6/LowRankModels/src/fit_dataframe_w_type_imputation.jl:83\u001b[22m\u001b[22m\n",
      " [4] \u001b[1m#GLRM#111\u001b[22m\u001b[22m\u001b[1m(\u001b[22m\u001b[22m::Array{LowRankModels.Loss,1}, ::LowRankModels.QuadReg, ::LowRankModels.QuadReg, ::Bool, ::Bool, ::Bool, ::Bool, ::Type{T} where T, ::DataFrames.DataFrame, ::Int64\u001b[1m)\u001b[22m\u001b[22m at \u001b[1m/home/annika/JuliaProDir/JuliaPro-0.6.2.1/JuliaPro/pkgs-0.6.2.1/v0.6/LowRankModels/src/fit_dataframe_w_type_imputation.jl:19\u001b[22m\u001b[22m\n",
      " [5] \u001b[1mLowRankModels.GLRM\u001b[22m\u001b[22m\u001b[1m(\u001b[22m\u001b[22m::DataFrames.DataFrame, ::Int64\u001b[1m)\u001b[22m\u001b[22m at \u001b[1m/home/annika/JuliaProDir/JuliaPro-0.6.2.1/JuliaPro/pkgs-0.6.2.1/v0.6/LowRankModels/src/fit_dataframe_w_type_imputation.jl:12\u001b[22m\u001b[22m\n",
      " [6] \u001b[1minclude_string\u001b[22m\u001b[22m\u001b[1m(\u001b[22m\u001b[22m::String, ::String\u001b[1m)\u001b[22m\u001b[22m at \u001b[1m./loading.jl:522\u001b[22m\u001b[22m\n",
      " [7] \u001b[1minclude_string\u001b[22m\u001b[22m\u001b[1m(\u001b[22m\u001b[22m::Module, ::String, ::String\u001b[1m)\u001b[22m\u001b[22m at \u001b[1m//////////////////////////////////////////////home/annika/JuliaProDir/JuliaPro-0.6.2.1/JuliaPro/pkgs-0.6.2.1/v0.6/Compat/src/Compat.jl:174\u001b[22m\u001b[22m\n",
      " [8] \u001b[1mexecute_request\u001b[22m\u001b[22m\u001b[1m(\u001b[22m\u001b[22m::ZMQ.Socket, ::IJulia.Msg\u001b[1m)\u001b[22m\u001b[22m at \u001b[1m/home/annika/JuliaProDir/JuliaPro-0.6.2.1/JuliaPro/pkgs-0.6.2.1/v0.6/IJulia/src/execute_request.jl:154\u001b[22m\u001b[22m\n",
      " [9] \u001b[1meventloop\u001b[22m\u001b[22m\u001b[1m(\u001b[22m\u001b[22m::ZMQ.Socket\u001b[1m)\u001b[22m\u001b[22m at \u001b[1m/home/annika/JuliaProDir/JuliaPro-0.6.2.1/JuliaPro/pkgs-0.6.2.1/v0.6/IJulia/src/eventloop.jl:8\u001b[22m\u001b[22m\n",
      " [10] \u001b[1m(::IJulia.##14#17)\u001b[22m\u001b[22m\u001b[1m(\u001b[22m\u001b[22m\u001b[1m)\u001b[22m\u001b[22m at \u001b[1m./task.jl:335\u001b[22m\u001b[22m\n",
      "while loading In[52], in expression starting on line 1\n",
      "\u001b[1m\u001b[33mWARNING: \u001b[39m\u001b[22m\u001b[33mOrdinalHinge is deprecated, use OrdinalHingeLoss instead.\u001b[39m\n",
      "Stacktrace:\n",
      " [1] \u001b[1mdepwarn\u001b[22m\u001b[22m\u001b[1m(\u001b[22m\u001b[22m::String, ::Symbol\u001b[1m)\u001b[22m\u001b[22m at \u001b[1m./deprecated.jl:70\u001b[22m\u001b[22m\n",
      " [2] \u001b[1mOrdinalHinge\u001b[22m\u001b[22m\u001b[1m(\u001b[22m\u001b[22m::Float64, ::Vararg{Float64,N} where N\u001b[1m)\u001b[22m\u001b[22m at \u001b[1m./deprecated.jl:31\u001b[22m\u001b[22m\n",
      " [3] \u001b[1mget_ordinals\u001b[22m\u001b[22m\u001b[1m(\u001b[22m\u001b[22m::DataFrames.DataFrame\u001b[1m)\u001b[22m\u001b[22m at \u001b[1m/home/annika/JuliaProDir/JuliaPro-0.6.2.1/JuliaPro/pkgs-0.6.2.1/v0.6/LowRankModels/src/fit_dataframe_w_type_imputation.jl:85\u001b[22m\u001b[22m\n",
      " [4] \u001b[1m#GLRM#111\u001b[22m\u001b[22m\u001b[1m(\u001b[22m\u001b[22m::Array{LowRankModels.Loss,1}, ::LowRankModels.QuadReg, ::LowRankModels.QuadReg, ::Bool, ::Bool, ::Bool, ::Bool, ::Type{T} where T, ::DataFrames.DataFrame, ::Int64\u001b[1m)\u001b[22m\u001b[22m at \u001b[1m/home/annika/JuliaProDir/JuliaPro-0.6.2.1/JuliaPro/pkgs-0.6.2.1/v0.6/LowRankModels/src/fit_dataframe_w_type_imputation.jl:19\u001b[22m\u001b[22m\n",
      " [5] \u001b[1mLowRankModels.GLRM\u001b[22m\u001b[22m\u001b[1m(\u001b[22m\u001b[22m::DataFrames.DataFrame, ::Int64\u001b[1m)\u001b[22m\u001b[22m at \u001b[1m/home/annika/JuliaProDir/JuliaPro-0.6.2.1/JuliaPro/pkgs-0.6.2.1/v0.6/LowRankModels/src/fit_dataframe_w_type_imputation.jl:12\u001b[22m\u001b[22m\n",
      " [6] \u001b[1minclude_string\u001b[22m\u001b[22m\u001b[1m(\u001b[22m\u001b[22m::String, ::String\u001b[1m)\u001b[22m\u001b[22m at \u001b[1m./loading.jl:522\u001b[22m\u001b[22m\n",
      " [7] \u001b[1minclude_string\u001b[22m\u001b[22m\u001b[1m(\u001b[22m\u001b[22m::Module, ::String, ::String\u001b[1m)\u001b[22m\u001b[22m at \u001b[1m//////////////////////////////////////////////home/annika/JuliaProDir/JuliaPro-0.6.2.1/JuliaPro/pkgs-0.6.2.1/v0.6/Compat/src/Compat.jl:174\u001b[22m\u001b[22m\n",
      " [8] \u001b[1mexecute_request\u001b[22m\u001b[22m\u001b[1m(\u001b[22m\u001b[22m::ZMQ.Socket, ::IJulia.Msg\u001b[1m)\u001b[22m\u001b[22m at \u001b[1m/home/annika/JuliaProDir/JuliaPro-0.6.2.1/JuliaPro/pkgs-0.6.2.1/v0.6/IJulia/src/execute_request.jl:154\u001b[22m\u001b[22m\n",
      " [9] \u001b[1meventloop\u001b[22m\u001b[22m\u001b[1m(\u001b[22m\u001b[22m::ZMQ.Socket\u001b[1m)\u001b[22m\u001b[22m at \u001b[1m/home/annika/JuliaProDir/JuliaPro-0.6.2.1/JuliaPro/pkgs-0.6.2.1/v0.6/IJulia/src/eventloop.jl:8\u001b[22m\u001b[22m\n",
      " [10] \u001b[1m(::IJulia.##14#17)\u001b[22m\u001b[22m\u001b[1m(\u001b[22m\u001b[22m\u001b[1m)\u001b[22m\u001b[22m at \u001b[1m./task.jl:335\u001b[22m\u001b[22m\n",
      "while loading In[52], in expression starting on line 1\n"
     ]
    },
    {
     "name": "stdout",
     "output_type": "stream",
     "text": [
      "Fitting GLRM\n"
     ]
    },
    {
     "name": "stderr",
     "output_type": "stream",
     "text": [
      "\u001b[1m\u001b[33mWARNING: \u001b[39m\u001b[22m\u001b[33mArray(::Type{T}, m::Int) where T is deprecated, use Array{T}(m) instead.\u001b[39m\n",
      "Stacktrace:\n",
      " [1] \u001b[1mdepwarn\u001b[22m\u001b[22m\u001b[1m(\u001b[22m\u001b[22m::String, ::Symbol\u001b[1m)\u001b[22m\u001b[22m at \u001b[1m./deprecated.jl:70\u001b[22m\u001b[22m\n",
      " [2] \u001b[1mArray\u001b[22m\u001b[22m\u001b[1m(\u001b[22m\u001b[22m::Type{Union{Int64, Range{Int64}}}, ::Int64\u001b[1m)\u001b[22m\u001b[22m at \u001b[1m./deprecated.jl:57\u001b[22m\u001b[22m\n",
      " [3] \u001b[1mget_yidxs\u001b[22m\u001b[22m\u001b[1m(\u001b[22m\u001b[22m::Array{LowRankModels.Loss,1}\u001b[1m)\u001b[22m\u001b[22m at \u001b[1m/home/annika/JuliaProDir/JuliaPro-0.6.2.1/JuliaPro/pkgs-0.6.2.1/v0.6/LowRankModels/src/losses.jl:77\u001b[22m\u001b[22m\n",
      " [4] \u001b[1m#fit!#79\u001b[22m\u001b[22m\u001b[1m(\u001b[22m\u001b[22m::LowRankModels.ConvergenceHistory, ::Bool, ::Array{Any,1}, ::Function, ::LowRankModels.GLRM, ::LowRankModels.ProxGradParams\u001b[1m)\u001b[22m\u001b[22m at \u001b[1m/home/annika/JuliaProDir/JuliaPro-0.6.2.1/JuliaPro/pkgs-0.6.2.1/v0.6/LowRankModels/src/algorithms/proxgrad.jl:52\u001b[22m\u001b[22m\n",
      " [5] \u001b[1m#fit!#76\u001b[22m\u001b[22m\u001b[1m(\u001b[22m\u001b[22m::Array{Any,1}, ::Function, ::LowRankModels.GLRM\u001b[1m)\u001b[22m\u001b[22m at \u001b[1m/home/annika/JuliaProDir/JuliaPro-0.6.2.1/JuliaPro/pkgs-0.6.2.1/v0.6/LowRankModels/src/fit.jl:18\u001b[22m\u001b[22m\n",
      " [6] \u001b[1mfit!\u001b[22m\u001b[22m\u001b[1m(\u001b[22m\u001b[22m::LowRankModels.GLRM\u001b[1m)\u001b[22m\u001b[22m at \u001b[1m/home/annika/JuliaProDir/JuliaPro-0.6.2.1/JuliaPro/pkgs-0.6.2.1/v0.6/LowRankModels/src/fit.jl:9\u001b[22m\u001b[22m\n",
      " [7] \u001b[1minclude_string\u001b[22m\u001b[22m\u001b[1m(\u001b[22m\u001b[22m::String, ::String\u001b[1m)\u001b[22m\u001b[22m at \u001b[1m./loading.jl:522\u001b[22m\u001b[22m\n",
      " [8] \u001b[1minclude_string\u001b[22m\u001b[22m\u001b[1m(\u001b[22m\u001b[22m::Module, ::String, ::String\u001b[1m)\u001b[22m\u001b[22m at \u001b[1m//////////////////////////////////////////////home/annika/JuliaProDir/JuliaPro-0.6.2.1/JuliaPro/pkgs-0.6.2.1/v0.6/Compat/src/Compat.jl:174\u001b[22m\u001b[22m\n",
      " [9] \u001b[1mexecute_request\u001b[22m\u001b[22m\u001b[1m(\u001b[22m\u001b[22m::ZMQ.Socket, ::IJulia.Msg\u001b[1m)\u001b[22m\u001b[22m at \u001b[1m/home/annika/JuliaProDir/JuliaPro-0.6.2.1/JuliaPro/pkgs-0.6.2.1/v0.6/IJulia/src/execute_request.jl:154\u001b[22m\u001b[22m\n",
      " [10] \u001b[1meventloop\u001b[22m\u001b[22m\u001b[1m(\u001b[22m\u001b[22m::ZMQ.Socket\u001b[1m)\u001b[22m\u001b[22m at \u001b[1m/home/annika/JuliaProDir/JuliaPro-0.6.2.1/JuliaPro/pkgs-0.6.2.1/v0.6/IJulia/src/eventloop.jl:8\u001b[22m\u001b[22m\n",
      " [11] \u001b[1m(::IJulia.##14#17)\u001b[22m\u001b[22m\u001b[1m(\u001b[22m\u001b[22m\u001b[1m)\u001b[22m\u001b[22m at \u001b[1m./task.jl:335\u001b[22m\u001b[22m\n",
      "while loading In[52], in expression starting on line 2\n",
      "\u001b[1m\u001b[33mWARNING: \u001b[39m\u001b[22m\u001b[33mArray(::Type{T}, d::NTuple{N, Int}) where {T, N} is deprecated, use Array{T}(d) instead.\u001b[39m\n",
      "Stacktrace:\n",
      " [1] \u001b[1mdepwarn\u001b[22m\u001b[22m\u001b[1m(\u001b[22m\u001b[22m::String, ::Symbol\u001b[1m)\u001b[22m\u001b[22m at \u001b[1m./deprecated.jl:70\u001b[22m\u001b[22m\n",
      " [2] \u001b[1mArray\u001b[22m\u001b[22m\u001b[1m(\u001b[22m\u001b[22m::Type{Float64}, ::Tuple{Int64,Int64}\u001b[1m)\u001b[22m\u001b[22m at \u001b[1m./deprecated.jl:57\u001b[22m\u001b[22m\n",
      " [3] \u001b[1m#fit!#79\u001b[22m\u001b[22m\u001b[1m(\u001b[22m\u001b[22m::LowRankModels.ConvergenceHistory, ::Bool, ::Array{Any,1}, ::Function, ::LowRankModels.GLRM, ::LowRankModels.ProxGradParams\u001b[1m)\u001b[22m\u001b[22m at \u001b[1m/home/annika/JuliaProDir/JuliaPro-0.6.2.1/JuliaPro/pkgs-0.6.2.1/v0.6/LowRankModels/src/algorithms/proxgrad.jl:65\u001b[22m\u001b[22m\n",
      " [4] \u001b[1m#fit!#76\u001b[22m\u001b[22m\u001b[1m(\u001b[22m\u001b[22m::Array{Any,1}, ::Function, ::LowRankModels.GLRM\u001b[1m)\u001b[22m\u001b[22m at \u001b[1m/home/annika/JuliaProDir/JuliaPro-0.6.2.1/JuliaPro/pkgs-0.6.2.1/v0.6/LowRankModels/src/fit.jl:18\u001b[22m\u001b[22m\n",
      " [5] \u001b[1mfit!\u001b[22m\u001b[22m\u001b[1m(\u001b[22m\u001b[22m::LowRankModels.GLRM\u001b[1m)\u001b[22m\u001b[22m at \u001b[1m/home/annika/JuliaProDir/JuliaPro-0.6.2.1/JuliaPro/pkgs-0.6.2.1/v0.6/LowRankModels/src/fit.jl:9\u001b[22m\u001b[22m\n",
      " [6] \u001b[1minclude_string\u001b[22m\u001b[22m\u001b[1m(\u001b[22m\u001b[22m::String, ::String\u001b[1m)\u001b[22m\u001b[22m at \u001b[1m./loading.jl:522\u001b[22m\u001b[22m\n",
      " [7] \u001b[1minclude_string\u001b[22m\u001b[22m\u001b[1m(\u001b[22m\u001b[22m::Module, ::String, ::String\u001b[1m)\u001b[22m\u001b[22m at \u001b[1m//////////////////////////////////////////////home/annika/JuliaProDir/JuliaPro-0.6.2.1/JuliaPro/pkgs-0.6.2.1/v0.6/Compat/src/Compat.jl:174\u001b[22m\u001b[22m\n",
      " [8] \u001b[1mexecute_request\u001b[22m\u001b[22m\u001b[1m(\u001b[22m\u001b[22m::ZMQ.Socket, ::IJulia.Msg\u001b[1m)\u001b[22m\u001b[22m at \u001b[1m/home/annika/JuliaProDir/JuliaPro-0.6.2.1/JuliaPro/pkgs-0.6.2.1/v0.6/IJulia/src/execute_request.jl:154\u001b[22m\u001b[22m\n",
      " [9] \u001b[1meventloop\u001b[22m\u001b[22m\u001b[1m(\u001b[22m\u001b[22m::ZMQ.Socket\u001b[1m)\u001b[22m\u001b[22m at \u001b[1m/home/annika/JuliaProDir/JuliaPro-0.6.2.1/JuliaPro/pkgs-0.6.2.1/v0.6/IJulia/src/eventloop.jl:8\u001b[22m\u001b[22m\n",
      " [10] \u001b[1m(::IJulia.##14#17)\u001b[22m\u001b[22m\u001b[1m(\u001b[22m\u001b[22m\u001b[1m)\u001b[22m\u001b[22m at \u001b[1m./task.jl:335\u001b[22m\u001b[22m\n",
      "while loading In[52], in expression starting on line 2\n",
      "\u001b[1m\u001b[33mWARNING: \u001b[39m\u001b[22m\u001b[33mArray(::Type{T}, d::NTuple{N, Int}) where {T, N} is deprecated, use Array{T}(d) instead.\u001b[39m\n",
      "Stacktrace:\n",
      " [1] \u001b[1mdepwarn\u001b[22m\u001b[22m\u001b[1m(\u001b[22m\u001b[22m::String, ::Symbol\u001b[1m)\u001b[22m\u001b[22m at \u001b[1m./deprecated.jl:70\u001b[22m\u001b[22m\n",
      " [2] \u001b[1mArray\u001b[22m\u001b[22m\u001b[1m(\u001b[22m\u001b[22m::Type{Float64}, ::Tuple{Int64}\u001b[1m)\u001b[22m\u001b[22m at \u001b[1m./deprecated.jl:57\u001b[22m\u001b[22m\n",
      " [3] \u001b[1mmacro expansion\u001b[22m\u001b[22m at \u001b[1m./multidimensional.jl:511\u001b[22m\u001b[22m [inlined]\n",
      " [4] \u001b[1m_unsafe_getindex\u001b[22m\u001b[22m\u001b[1m(\u001b[22m\u001b[22m::IndexLinear, ::ArrayViews.ContiguousView{Float64,1,Array{Float64,2}}, ::UnitRange{Int64}\u001b[1m)\u001b[22m\u001b[22m at \u001b[1m./multidimensional.jl:506\u001b[22m\u001b[22m\n",
      " [5] \u001b[1mmacro expansion\u001b[22m\u001b[22m at \u001b[1m./multidimensional.jl:495\u001b[22m\u001b[22m [inlined]\n",
      " [6] \u001b[1m_getindex\u001b[22m\u001b[22m at \u001b[1m./multidimensional.jl:491\u001b[22m\u001b[22m [inlined]\n",
      " [7] \u001b[1mgetindex\u001b[22m\u001b[22m at \u001b[1m./abstractarray.jl:883\u001b[22m\u001b[22m [inlined]\n",
      " [8] \u001b[1mevaluate\u001b[22m\u001b[22m\u001b[1m(\u001b[22m\u001b[22m::LowRankModels.lastentry_unpenalized, ::ArrayViews.ContiguousView{Float64,1,Array{Float64,2}}\u001b[1m)\u001b[22m\u001b[22m at \u001b[1m/home/annika/JuliaProDir/JuliaPro-0.6.2.1/JuliaPro/pkgs-0.6.2.1/v0.6/LowRankModels/src/regularizers.jl:184\u001b[22m\u001b[22m\n",
      " [9] \u001b[1m#calc_penalty#62\u001b[22m\u001b[22m\u001b[1m(\u001b[22m\u001b[22m::Array{Union{Int64, Range{Int64}},1}, ::Function, ::LowRankModels.GLRM, ::Array{Float64,2}, ::Array{Float64,2}\u001b[1m)\u001b[22m\u001b[22m at \u001b[1m/home/annika/JuliaProDir/JuliaPro-0.6.2.1/JuliaPro/pkgs-0.6.2.1/v0.6/LowRankModels/src/evaluate_fit.jl:100\u001b[22m\u001b[22m\n",
      " [10] \u001b[1m(::LowRankModels.#kw##calc_penalty)\u001b[22m\u001b[22m\u001b[1m(\u001b[22m\u001b[22m::Array{Any,1}, ::LowRankModels.#calc_penalty, ::LowRankModels.GLRM, ::Array{Float64,2}, ::Array{Float64,2}\u001b[1m)\u001b[22m\u001b[22m at \u001b[1m./<missing>:0\u001b[22m\u001b[22m\n",
      " [11] \u001b[1m#objective#57\u001b[22m\u001b[22m\u001b[1m(\u001b[22m\u001b[22m::Array{Union{Int64, Range{Int64}},1}, ::Bool, ::Function, ::LowRankModels.GLRM, ::Array{Float64,2}, ::Array{Float64,2}, ::Array{Float64,2}\u001b[1m)\u001b[22m\u001b[22m at \u001b[1m/home/annika/JuliaProDir/JuliaPro-0.6.2.1/JuliaPro/pkgs-0.6.2.1/v0.6/LowRankModels/src/evaluate_fit.jl:20\u001b[22m\u001b[22m\n",
      " [12] \u001b[1m(::LowRankModels.#kw##objective)\u001b[22m\u001b[22m\u001b[1m(\u001b[22m\u001b[22m::Array{Any,1}, ::LowRankModels.#objective, ::LowRankModels.GLRM, ::Array{Float64,2}, ::Array{Float64,2}, ::Array{Float64,2}\u001b[1m)\u001b[22m\u001b[22m at \u001b[1m./<missing>:0\u001b[22m\u001b[22m\n",
      " [13] \u001b[1m#fit!#79\u001b[22m\u001b[22m\u001b[1m(\u001b[22m\u001b[22m::LowRankModels.ConvergenceHistory, ::Bool, ::Array{Any,1}, ::Function, ::LowRankModels.GLRM, ::LowRankModels.ProxGradParams\u001b[1m)\u001b[22m\u001b[22m at \u001b[1m/home/annika/JuliaProDir/JuliaPro-0.6.2.1/JuliaPro/pkgs-0.6.2.1/v0.6/LowRankModels/src/algorithms/proxgrad.jl:76\u001b[22m\u001b[22m\n",
      " [14] \u001b[1m#fit!#76\u001b[22m\u001b[22m\u001b[1m(\u001b[22m\u001b[22m::Array{Any,1}, ::Function, ::LowRankModels.GLRM\u001b[1m)\u001b[22m\u001b[22m at \u001b[1m/home/annika/JuliaProDir/JuliaPro-0.6.2.1/JuliaPro/pkgs-0.6.2.1/v0.6/LowRankModels/src/fit.jl:18\u001b[22m\u001b[22m\n",
      " [15] \u001b[1mfit!\u001b[22m\u001b[22m\u001b[1m(\u001b[22m\u001b[22m::LowRankModels.GLRM\u001b[1m)\u001b[22m\u001b[22m at \u001b[1m/home/annika/JuliaProDir/JuliaPro-0.6.2.1/JuliaPro/pkgs-0.6.2.1/v0.6/LowRankModels/src/fit.jl:9\u001b[22m\u001b[22m\n",
      " [16] \u001b[1minclude_string\u001b[22m\u001b[22m\u001b[1m(\u001b[22m\u001b[22m::String, ::String\u001b[1m)\u001b[22m\u001b[22m at \u001b[1m./loading.jl:522\u001b[22m\u001b[22m\n",
      " [17] \u001b[1minclude_string\u001b[22m\u001b[22m\u001b[1m(\u001b[22m\u001b[22m::Module, ::String, ::String\u001b[1m)\u001b[22m\u001b[22m at \u001b[1m//////////////////////////////////////////////home/annika/JuliaProDir/JuliaPro-0.6.2.1/JuliaPro/pkgs-0.6.2.1/v0.6/Compat/src/Compat.jl:174\u001b[22m\u001b[22m\n",
      " [18] \u001b[1mexecute_request\u001b[22m\u001b[22m\u001b[1m(\u001b[22m\u001b[22m::ZMQ.Socket, ::IJulia.Msg\u001b[1m)\u001b[22m\u001b[22m at \u001b[1m/home/annika/JuliaProDir/JuliaPro-0.6.2.1/JuliaPro/pkgs-0.6.2.1/v0.6/IJulia/src/execute_request.jl:154\u001b[22m\u001b[22m\n",
      " [19] \u001b[1meventloop\u001b[22m\u001b[22m\u001b[1m(\u001b[22m\u001b[22m::ZMQ.Socket\u001b[1m)\u001b[22m\u001b[22m at \u001b[1m/home/annika/JuliaProDir/JuliaPro-0.6.2.1/JuliaPro/pkgs-0.6.2.1/v0.6/IJulia/src/eventloop.jl:8\u001b[22m\u001b[22m\n",
      " [20] \u001b[1m(::IJulia.##14#17)\u001b[22m\u001b[22m\u001b[1m(\u001b[22m\u001b[22m\u001b[1m)\u001b[22m\u001b[22m at \u001b[1m./task.jl:335\u001b[22m\u001b[22m\n",
      "while loading In[52], in expression starting on line 2\n",
      "\u001b[1m\u001b[33mWARNING: \u001b[39m\u001b[22m\u001b[33msumabs2(x) is deprecated, use sum(abs2, x) instead.\u001b[39m\n",
      "Stacktrace:\n",
      " [1] \u001b[1mdepwarn\u001b[22m\u001b[22m\u001b[1m(\u001b[22m\u001b[22m::String, ::Symbol\u001b[1m)\u001b[22m\u001b[22m at \u001b[1m./deprecated.jl:70\u001b[22m\u001b[22m\n",
      " [2] \u001b[1msumabs2\u001b[22m\u001b[22m\u001b[1m(\u001b[22m\u001b[22m::Array{Float64,1}\u001b[1m)\u001b[22m\u001b[22m at \u001b[1m./deprecated.jl:57\u001b[22m\u001b[22m\n",
      " [3] \u001b[1mevaluate\u001b[22m\u001b[22m\u001b[1m(\u001b[22m\u001b[22m::LowRankModels.QuadReg, ::Array{Float64,1}\u001b[1m)\u001b[22m\u001b[22m at \u001b[1m/home/annika/JuliaProDir/JuliaPro-0.6.2.1/JuliaPro/pkgs-0.6.2.1/v0.6/LowRankModels/src/regularizers.jl:57\u001b[22m\u001b[22m\n",
      " [4] \u001b[1mevaluate\u001b[22m\u001b[22m\u001b[1m(\u001b[22m\u001b[22m::LowRankModels.lastentry_unpenalized, ::ArrayViews.ContiguousView{Float64,1,Array{Float64,2}}\u001b[1m)\u001b[22m\u001b[22m at \u001b[1m/home/annika/JuliaProDir/JuliaPro-0.6.2.1/JuliaPro/pkgs-0.6.2.1/v0.6/LowRankModels/src/regularizers.jl:184\u001b[22m\u001b[22m\n",
      " [5] \u001b[1m#calc_penalty#62\u001b[22m\u001b[22m\u001b[1m(\u001b[22m\u001b[22m::Array{Union{Int64, Range{Int64}},1}, ::Function, ::LowRankModels.GLRM, ::Array{Float64,2}, ::Array{Float64,2}\u001b[1m)\u001b[22m\u001b[22m at \u001b[1m/home/annika/JuliaProDir/JuliaPro-0.6.2.1/JuliaPro/pkgs-0.6.2.1/v0.6/LowRankModels/src/evaluate_fit.jl:100\u001b[22m\u001b[22m\n",
      " [6] \u001b[1m(::LowRankModels.#kw##calc_penalty)\u001b[22m\u001b[22m\u001b[1m(\u001b[22m\u001b[22m::Array{Any,1}, ::LowRankModels.#calc_penalty, ::LowRankModels.GLRM, ::Array{Float64,2}, ::Array{Float64,2}\u001b[1m)\u001b[22m\u001b[22m at \u001b[1m./<missing>:0\u001b[22m\u001b[22m\n",
      " [7] \u001b[1m#objective#57\u001b[22m\u001b[22m\u001b[1m(\u001b[22m\u001b[22m::Array{Union{Int64, Range{Int64}},1}, ::Bool, ::Function, ::LowRankModels.GLRM, ::Array{Float64,2}, ::Array{Float64,2}, ::Array{Float64,2}\u001b[1m)\u001b[22m\u001b[22m at \u001b[1m/home/annika/JuliaProDir/JuliaPro-0.6.2.1/JuliaPro/pkgs-0.6.2.1/v0.6/LowRankModels/src/evaluate_fit.jl:20\u001b[22m\u001b[22m\n",
      " [8] \u001b[1m(::LowRankModels.#kw##objective)\u001b[22m\u001b[22m\u001b[1m(\u001b[22m\u001b[22m::Array{Any,1}, ::LowRankModels.#objective, ::LowRankModels.GLRM, ::Array{Float64,2}, ::Array{Float64,2}, ::Array{Float64,2}\u001b[1m)\u001b[22m\u001b[22m at \u001b[1m./<missing>:0\u001b[22m\u001b[22m\n",
      " [9] \u001b[1m#fit!#79\u001b[22m\u001b[22m\u001b[1m(\u001b[22m\u001b[22m::LowRankModels.ConvergenceHistory, ::Bool, ::Array{Any,1}, ::Function, ::LowRankModels.GLRM, ::LowRankModels.ProxGradParams\u001b[1m)\u001b[22m\u001b[22m at \u001b[1m/home/annika/JuliaProDir/JuliaPro-0.6.2.1/JuliaPro/pkgs-0.6.2.1/v0.6/LowRankModels/src/algorithms/proxgrad.jl:76\u001b[22m\u001b[22m\n",
      " [10] \u001b[1m#fit!#76\u001b[22m\u001b[22m\u001b[1m(\u001b[22m\u001b[22m::Array{Any,1}, ::Function, ::LowRankModels.GLRM\u001b[1m)\u001b[22m\u001b[22m at \u001b[1m/home/annika/JuliaProDir/JuliaPro-0.6.2.1/JuliaPro/pkgs-0.6.2.1/v0.6/LowRankModels/src/fit.jl:18\u001b[22m\u001b[22m\n",
      " [11] \u001b[1mfit!\u001b[22m\u001b[22m\u001b[1m(\u001b[22m\u001b[22m::LowRankModels.GLRM\u001b[1m)\u001b[22m\u001b[22m at \u001b[1m/home/annika/JuliaProDir/JuliaPro-0.6.2.1/JuliaPro/pkgs-0.6.2.1/v0.6/LowRankModels/src/fit.jl:9\u001b[22m\u001b[22m\n",
      " [12] \u001b[1minclude_string\u001b[22m\u001b[22m\u001b[1m(\u001b[22m\u001b[22m::String, ::String\u001b[1m)\u001b[22m\u001b[22m at \u001b[1m./loading.jl:522\u001b[22m\u001b[22m\n",
      " [13] \u001b[1minclude_string\u001b[22m\u001b[22m\u001b[1m(\u001b[22m\u001b[22m::Module, ::String, ::String\u001b[1m)\u001b[22m\u001b[22m at \u001b[1m//////////////////////////////////////////////home/annika/JuliaProDir/JuliaPro-0.6.2.1/JuliaPro/pkgs-0.6.2.1/v0.6/Compat/src/Compat.jl:174\u001b[22m\u001b[22m\n",
      " [14] \u001b[1mexecute_request\u001b[22m\u001b[22m\u001b[1m(\u001b[22m\u001b[22m::ZMQ.Socket, ::IJulia.Msg\u001b[1m)\u001b[22m\u001b[22m at \u001b[1m/home/annika/JuliaProDir/JuliaPro-0.6.2.1/JuliaPro/pkgs-0.6.2.1/v0.6/IJulia/src/execute_request.jl:154\u001b[22m\u001b[22m\n",
      " [15] \u001b[1meventloop\u001b[22m\u001b[22m\u001b[1m(\u001b[22m\u001b[22m::ZMQ.Socket\u001b[1m)\u001b[22m\u001b[22m at \u001b[1m/home/annika/JuliaProDir/JuliaPro-0.6.2.1/JuliaPro/pkgs-0.6.2.1/v0.6/IJulia/src/eventloop.jl:8\u001b[22m\u001b[22m\n",
      " [16] \u001b[1m(::IJulia.##14#17)\u001b[22m\u001b[22m\u001b[1m(\u001b[22m\u001b[22m\u001b[1m)\u001b[22m\u001b[22m at \u001b[1m./task.jl:335\u001b[22m\u001b[22m\n",
      "while loading In[52], in expression starting on line 2\n",
      "\u001b[1m\u001b[33mWARNING: \u001b[39m\u001b[22m\u001b[33mArray(::Type{T}, d::NTuple{N, Int}) where {T, N} is deprecated, use Array{T}(d) instead.\u001b[39m\n",
      "Stacktrace:\n",
      " [1] \u001b[1mdepwarn\u001b[22m\u001b[22m\u001b[1m(\u001b[22m\u001b[22m::String, ::Symbol\u001b[1m)\u001b[22m\u001b[22m at \u001b[1m./deprecated.jl:70\u001b[22m\u001b[22m\n",
      " [2] \u001b[1mArray\u001b[22m\u001b[22m\u001b[1m(\u001b[22m\u001b[22m::Type{Float64}, ::Tuple{Int64}\u001b[1m)\u001b[22m\u001b[22m at \u001b[1m./deprecated.jl:57\u001b[22m\u001b[22m\n",
      " [3] \u001b[1mAc_mul_B\u001b[22m\u001b[22m at \u001b[1m./linalg/matmul.jl:115\u001b[22m\u001b[22m [inlined]\n",
      " [4] \u001b[1mAc_mul_B\u001b[22m\u001b[22m at \u001b[1m./linalg/rowvector.jl:227\u001b[22m\u001b[22m [inlined]\n",
      " [5] \u001b[1m#row_objective#58\u001b[22m\u001b[22m\u001b[1m(\u001b[22m\u001b[22m::Array{Union{Int64, Range{Int64}},1}, ::Bool, ::Function, ::LowRankModels.GLRM, ::Int64, ::ArrayViews.ContiguousView{Float64,1,Array{Float64,2}}, ::Array{Float64,2}\u001b[1m)\u001b[22m\u001b[22m at \u001b[1m/home/annika/JuliaProDir/JuliaPro-0.6.2.1/JuliaPro/pkgs-0.6.2.1/v0.6/LowRankModels/src/evaluate_fit.jl:29\u001b[22m\u001b[22m\n",
      " [6] \u001b[1mrow_objective\u001b[22m\u001b[22m\u001b[1m(\u001b[22m\u001b[22m::LowRankModels.GLRM, ::Int64, ::ArrayViews.ContiguousView{Float64,1,Array{Float64,2}}, ::Array{Float64,2}\u001b[1m)\u001b[22m\u001b[22m at \u001b[1m/home/annika/JuliaProDir/JuliaPro-0.6.2.1/JuliaPro/pkgs-0.6.2.1/v0.6/LowRankModels/src/evaluate_fit.jl:27\u001b[22m\u001b[22m (repeats 2 times)\n",
      " [7] \u001b[1m#fit!#79\u001b[22m\u001b[22m\u001b[1m(\u001b[22m\u001b[22m::LowRankModels.ConvergenceHistory, ::Bool, ::Array{Any,1}, ::Function, ::LowRankModels.GLRM, ::LowRankModels.ProxGradParams\u001b[1m)\u001b[22m\u001b[22m at \u001b[1m/home/annika/JuliaProDir/JuliaPro-0.6.2.1/JuliaPro/pkgs-0.6.2.1/v0.6/LowRankModels/src/algorithms/proxgrad.jl:138\u001b[22m\u001b[22m\n",
      " [8] \u001b[1m#fit!#76\u001b[22m\u001b[22m\u001b[1m(\u001b[22m\u001b[22m::Array{Any,1}, ::Function, ::LowRankModels.GLRM\u001b[1m)\u001b[22m\u001b[22m at \u001b[1m/home/annika/JuliaProDir/JuliaPro-0.6.2.1/JuliaPro/pkgs-0.6.2.1/v0.6/LowRankModels/src/fit.jl:18\u001b[22m\u001b[22m\n",
      " [9] \u001b[1mfit!\u001b[22m\u001b[22m\u001b[1m(\u001b[22m\u001b[22m::LowRankModels.GLRM\u001b[1m)\u001b[22m\u001b[22m at \u001b[1m/home/annika/JuliaProDir/JuliaPro-0.6.2.1/JuliaPro/pkgs-0.6.2.1/v0.6/LowRankModels/src/fit.jl:9\u001b[22m\u001b[22m\n",
      " [10] \u001b[1minclude_string\u001b[22m\u001b[22m\u001b[1m(\u001b[22m\u001b[22m::String, ::String\u001b[1m)\u001b[22m\u001b[22m at \u001b[1m./loading.jl:522\u001b[22m\u001b[22m\n",
      " [11] \u001b[1minclude_string\u001b[22m\u001b[22m\u001b[1m(\u001b[22m\u001b[22m::Module, ::String, ::String\u001b[1m)\u001b[22m\u001b[22m at \u001b[1m//////////////////////////////////////////////home/annika/JuliaProDir/JuliaPro-0.6.2.1/JuliaPro/pkgs-0.6.2.1/v0.6/Compat/src/Compat.jl:174\u001b[22m\u001b[22m\n",
      " [12] \u001b[1mexecute_request\u001b[22m\u001b[22m\u001b[1m(\u001b[22m\u001b[22m::ZMQ.Socket, ::IJulia.Msg\u001b[1m)\u001b[22m\u001b[22m at \u001b[1m/home/annika/JuliaProDir/JuliaPro-0.6.2.1/JuliaPro/pkgs-0.6.2.1/v0.6/IJulia/src/execute_request.jl:154\u001b[22m\u001b[22m\n",
      " [13] \u001b[1meventloop\u001b[22m\u001b[22m\u001b[1m(\u001b[22m\u001b[22m::ZMQ.Socket\u001b[1m)\u001b[22m\u001b[22m at \u001b[1m/home/annika/JuliaProDir/JuliaPro-0.6.2.1/JuliaPro/pkgs-0.6.2.1/v0.6/IJulia/src/eventloop.jl:8\u001b[22m\u001b[22m\n",
      " [14] \u001b[1m(::IJulia.##14#17)\u001b[22m\u001b[22m\u001b[1m(\u001b[22m\u001b[22m\u001b[1m)\u001b[22m\u001b[22m at \u001b[1m./task.jl:335\u001b[22m\u001b[22m\n",
      "while loading In[52], in expression starting on line 2\n"
     ]
    },
    {
     "name": "stdout",
     "output_type": "stream",
     "text": [
      "Iteration 10: objective value = 264923.0732885193\n",
      "Iteration 20: objective value = 238757.4635960281\n",
      "Iteration 30: objective value = 234403.69170629315\n",
      "Iteration 40: objective value = 232189.25431921572\n",
      "Iteration 50: objective value = 230690.07153050354\n",
      "Iteration 60: objective value = 229531.6012084008\n"
     ]
    },
    {
     "ename": "LoadError",
     "evalue": "\u001b[91mInterruptException:\u001b[39m",
     "output_type": "error",
     "traceback": [
      "\u001b[91mInterruptException:\u001b[39m",
      "",
      "Stacktrace:",
      " [1] \u001b[1mlookup\u001b[22m\u001b[22m\u001b[1m(\u001b[22m\u001b[22m::Ptr{Void}\u001b[1m)\u001b[22m\u001b[22m at \u001b[1m./stacktraces.jl:125\u001b[22m\u001b[22m",
      " [2] \u001b[1mfirstcaller\u001b[22m\u001b[22m\u001b[1m(\u001b[22m\u001b[22m::Array{Ptr{Void},1}, ::Tuple{Symbol}\u001b[1m)\u001b[22m\u001b[22m at \u001b[1m./deprecated.jl:92\u001b[22m\u001b[22m",
      " [3] \u001b[1mdepwarn\u001b[22m\u001b[22m\u001b[1m(\u001b[22m\u001b[22m::String, ::Symbol\u001b[1m)\u001b[22m\u001b[22m at \u001b[1m./deprecated.jl:71\u001b[22m\u001b[22m",
      " [4] \u001b[1mArray\u001b[22m\u001b[22m\u001b[1m(\u001b[22m\u001b[22m::Type{Float64}, ::Tuple{Int64}\u001b[1m)\u001b[22m\u001b[22m at \u001b[1m./deprecated.jl:57\u001b[22m\u001b[22m",
      " [5] \u001b[1mAc_mul_B\u001b[22m\u001b[22m at \u001b[1m./linalg/matmul.jl:115\u001b[22m\u001b[22m [inlined]",
      " [6] \u001b[1mAc_mul_B\u001b[22m\u001b[22m at \u001b[1m./linalg/rowvector.jl:227\u001b[22m\u001b[22m [inlined]",
      " [7] \u001b[1m#row_objective#58\u001b[22m\u001b[22m\u001b[1m(\u001b[22m\u001b[22m::Array{Union{Int64, Range{Int64}},1}, ::Bool, ::Function, ::LowRankModels.GLRM, ::Int64, ::ArrayViews.ContiguousView{Float64,1,Array{Float64,2}}, ::Array{Float64,2}\u001b[1m)\u001b[22m\u001b[22m at \u001b[1m/home/annika/JuliaProDir/JuliaPro-0.6.2.1/JuliaPro/pkgs-0.6.2.1/v0.6/LowRankModels/src/evaluate_fit.jl:29\u001b[22m\u001b[22m",
      " [8] \u001b[1mrow_objective\u001b[22m\u001b[22m\u001b[1m(\u001b[22m\u001b[22m::LowRankModels.GLRM, ::Int64, ::ArrayViews.ContiguousView{Float64,1,Array{Float64,2}}, ::Array{Float64,2}\u001b[1m)\u001b[22m\u001b[22m at \u001b[1m/home/annika/JuliaProDir/JuliaPro-0.6.2.1/JuliaPro/pkgs-0.6.2.1/v0.6/LowRankModels/src/evaluate_fit.jl:27\u001b[22m\u001b[22m (repeats 2 times)",
      " [9] \u001b[1m#fit!#79\u001b[22m\u001b[22m\u001b[1m(\u001b[22m\u001b[22m::LowRankModels.ConvergenceHistory, ::Bool, ::Array{Any,1}, ::Function, ::LowRankModels.GLRM, ::LowRankModels.ProxGradParams\u001b[1m)\u001b[22m\u001b[22m at \u001b[1m/home/annika/JuliaProDir/JuliaPro-0.6.2.1/JuliaPro/pkgs-0.6.2.1/v0.6/LowRankModels/src/algorithms/proxgrad.jl:138\u001b[22m\u001b[22m",
      " [10] \u001b[1m#fit!#76\u001b[22m\u001b[22m\u001b[1m(\u001b[22m\u001b[22m::Array{Any,1}, ::Function, ::LowRankModels.GLRM\u001b[1m)\u001b[22m\u001b[22m at \u001b[1m/home/annika/JuliaProDir/JuliaPro-0.6.2.1/JuliaPro/pkgs-0.6.2.1/v0.6/LowRankModels/src/fit.jl:18\u001b[22m\u001b[22m",
      " [11] \u001b[1mfit!\u001b[22m\u001b[22m\u001b[1m(\u001b[22m\u001b[22m::LowRankModels.GLRM\u001b[1m)\u001b[22m\u001b[22m at \u001b[1m/home/annika/JuliaProDir/JuliaPro-0.6.2.1/JuliaPro/pkgs-0.6.2.1/v0.6/LowRankModels/src/fit.jl:9\u001b[22m\u001b[22m",
      " [12] \u001b[1minclude_string\u001b[22m\u001b[22m\u001b[1m(\u001b[22m\u001b[22m::String, ::String\u001b[1m)\u001b[22m\u001b[22m at \u001b[1m./loading.jl:522\u001b[22m\u001b[22m"
     ]
    }
   ],
   "source": [
    "glrm, labels = GLRM(df, 3)\n",
    "X, Y, ch = fit!(glrm)"
   ]
  },
  {
   "cell_type": "markdown",
   "metadata": {},
   "source": [
    "# Simple Benchmarking against Python\n",
    "\n",
    "The authors of this package also provide a Python implementation (details can be found in the aforementioned paper). As this is very similar in strucutre we rather benchmark one of the standard methods against other implementations to see if they are comparable in speed. We choose to look at PCA and the speed of the implementation of of PCA as a GLRM with the implementation of Pythons sklearn. We fit to a randomly generated matrix A which has 100 features (columns) and 500 instances (rows). The Python implementation can found in the notebook \"Python Examples Benchmarking\" https://github.com/dominusmi/warwick-rsg/blob/master/Scouting/Python%20Examples%20Benchmarking.ipynb."
   ]
  },
  {
   "cell_type": "code",
   "execution_count": 59,
   "metadata": {
    "scrolled": false
   },
   "outputs": [
    {
     "data": {
      "text/plain": [
       "fit_pca (generic function with 1 method)"
      ]
     },
     "execution_count": 59,
     "metadata": {},
     "output_type": "execute_result"
    }
   ],
   "source": [
    "# minimize ||A - XY||^2\n",
    "function fit_pca(m,n,k)\n",
    "\t# matrix to encode\n",
    "\tA = randn(m,k)*randn(k,n)\n",
    "\tloss = QuadLoss()\n",
    "\tr = ZeroReg()\n",
    "\tglrm = GLRM(A,loss,r,r,k)\n",
    "\tX,Y,ch = fit!(glrm)\n",
    "\tprintln(\"Convergence history:\",ch.objective)\n",
    "\treturn A,X,Y,ch\n",
    "end\n"
   ]
  },
  {
   "cell_type": "code",
   "execution_count": 60,
   "metadata": {},
   "outputs": [
    {
     "name": "stdout",
     "output_type": "stream",
     "text": [
      "Fitting GLRM\n"
     ]
    },
    {
     "name": "stderr",
     "output_type": "stream",
     "text": [
      "\u001b[1m\u001b[33mWARNING: \u001b[39m\u001b[22m\u001b[33mArray(::Type{T}, m::Int) where T is deprecated, use Array{T}(m) instead.\u001b[39m\n",
      "Stacktrace:\n",
      " [1] \u001b[1mdepwarn\u001b[22m\u001b[22m\u001b[1m(\u001b[22m\u001b[22m::String, ::Symbol\u001b[1m)\u001b[22m\u001b[22m at \u001b[1m./deprecated.jl:70\u001b[22m\u001b[22m\n",
      " [2] \u001b[1mArray\u001b[22m\u001b[22m\u001b[1m(\u001b[22m\u001b[22m::Type{Union{Int64, Range{Int64}}}, ::Int64\u001b[1m)\u001b[22m\u001b[22m at \u001b[1m./deprecated.jl:57\u001b[22m\u001b[22m\n",
      " [3] \u001b[1mget_yidxs\u001b[22m\u001b[22m\u001b[1m(\u001b[22m\u001b[22m::Array{LowRankModels.Loss,1}\u001b[1m)\u001b[22m\u001b[22m at \u001b[1m/home/annika/JuliaProDir/JuliaPro-0.6.2.1/JuliaPro/pkgs-0.6.2.1/v0.6/LowRankModels/src/losses.jl:77\u001b[22m\u001b[22m\n",
      " [4] \u001b[1m#fit!#79\u001b[22m\u001b[22m\u001b[1m(\u001b[22m\u001b[22m::LowRankModels.ConvergenceHistory, ::Bool, ::Array{Any,1}, ::Function, ::LowRankModels.GLRM, ::LowRankModels.ProxGradParams\u001b[1m)\u001b[22m\u001b[22m at \u001b[1m/home/annika/JuliaProDir/JuliaPro-0.6.2.1/JuliaPro/pkgs-0.6.2.1/v0.6/LowRankModels/src/algorithms/proxgrad.jl:52\u001b[22m\u001b[22m\n",
      " [5] \u001b[1m#fit!#76\u001b[22m\u001b[22m\u001b[1m(\u001b[22m\u001b[22m::Array{Any,1}, ::Function, ::LowRankModels.GLRM\u001b[1m)\u001b[22m\u001b[22m at \u001b[1m/home/annika/JuliaProDir/JuliaPro-0.6.2.1/JuliaPro/pkgs-0.6.2.1/v0.6/LowRankModels/src/fit.jl:18\u001b[22m\u001b[22m\n",
      " [6] \u001b[1mfit_pca\u001b[22m\u001b[22m\u001b[1m(\u001b[22m\u001b[22m::Int64, ::Int64, ::Int64\u001b[1m)\u001b[22m\u001b[22m at \u001b[1m./In[59]:8\u001b[22m\u001b[22m\n",
      " [7] \u001b[1minclude_string\u001b[22m\u001b[22m\u001b[1m(\u001b[22m\u001b[22m::String, ::String\u001b[1m)\u001b[22m\u001b[22m at \u001b[1m./loading.jl:522\u001b[22m\u001b[22m\n",
      " [8] \u001b[1minclude_string\u001b[22m\u001b[22m\u001b[1m(\u001b[22m\u001b[22m::Module, ::String, ::String\u001b[1m)\u001b[22m\u001b[22m at \u001b[1m//////////////////////////////////////////////home/annika/JuliaProDir/JuliaPro-0.6.2.1/JuliaPro/pkgs-0.6.2.1/v0.6/Compat/src/Compat.jl:174\u001b[22m\u001b[22m\n",
      " [9] \u001b[1mexecute_request\u001b[22m\u001b[22m\u001b[1m(\u001b[22m\u001b[22m::ZMQ.Socket, ::IJulia.Msg\u001b[1m)\u001b[22m\u001b[22m at \u001b[1m/home/annika/JuliaProDir/JuliaPro-0.6.2.1/JuliaPro/pkgs-0.6.2.1/v0.6/IJulia/src/execute_request.jl:154\u001b[22m\u001b[22m\n",
      " [10] \u001b[1meventloop\u001b[22m\u001b[22m\u001b[1m(\u001b[22m\u001b[22m::ZMQ.Socket\u001b[1m)\u001b[22m\u001b[22m at \u001b[1m/home/annika/JuliaProDir/JuliaPro-0.6.2.1/JuliaPro/pkgs-0.6.2.1/v0.6/IJulia/src/eventloop.jl:8\u001b[22m\u001b[22m\n",
      " [11] \u001b[1m(::IJulia.##14#17)\u001b[22m\u001b[22m\u001b[1m(\u001b[22m\u001b[22m\u001b[1m)\u001b[22m\u001b[22m at \u001b[1m./task.jl:335\u001b[22m\u001b[22m\n",
      "while loading In[60], in expression starting on line 293\n",
      "\u001b[1m\u001b[33mWARNING: \u001b[39m\u001b[22m\u001b[33mArray(::Type{T}, d::NTuple{N, Int}) where {T, N} is deprecated, use Array{T}(d) instead.\u001b[39m\n",
      "Stacktrace:\n",
      " [1] \u001b[1mdepwarn\u001b[22m\u001b[22m\u001b[1m(\u001b[22m\u001b[22m::String, ::Symbol\u001b[1m)\u001b[22m\u001b[22m at \u001b[1m./deprecated.jl:70\u001b[22m\u001b[22m\n",
      " [2] \u001b[1mArray\u001b[22m\u001b[22m\u001b[1m(\u001b[22m\u001b[22m::Type{Float64}, ::Tuple{Int64,Int64}\u001b[1m)\u001b[22m\u001b[22m at \u001b[1m./deprecated.jl:57\u001b[22m\u001b[22m\n",
      " [3] \u001b[1m#fit!#79\u001b[22m\u001b[22m\u001b[1m(\u001b[22m\u001b[22m::LowRankModels.ConvergenceHistory, ::Bool, ::Array{Any,1}, ::Function, ::LowRankModels.GLRM, ::LowRankModels.ProxGradParams\u001b[1m)\u001b[22m\u001b[22m at \u001b[1m/home/annika/JuliaProDir/JuliaPro-0.6.2.1/JuliaPro/pkgs-0.6.2.1/v0.6/LowRankModels/src/algorithms/proxgrad.jl:65\u001b[22m\u001b[22m\n",
      " [4] \u001b[1m#fit!#76\u001b[22m\u001b[22m\u001b[1m(\u001b[22m\u001b[22m::Array{Any,1}, ::Function, ::LowRankModels.GLRM\u001b[1m)\u001b[22m\u001b[22m at \u001b[1m/home/annika/JuliaProDir/JuliaPro-0.6.2.1/JuliaPro/pkgs-0.6.2.1/v0.6/LowRankModels/src/fit.jl:18\u001b[22m\u001b[22m\n",
      " [5] \u001b[1mfit_pca\u001b[22m\u001b[22m\u001b[1m(\u001b[22m\u001b[22m::Int64, ::Int64, ::Int64\u001b[1m)\u001b[22m\u001b[22m at \u001b[1m./In[59]:8\u001b[22m\u001b[22m\n",
      " [6] \u001b[1minclude_string\u001b[22m\u001b[22m\u001b[1m(\u001b[22m\u001b[22m::String, ::String\u001b[1m)\u001b[22m\u001b[22m at \u001b[1m./loading.jl:522\u001b[22m\u001b[22m\n",
      " [7] \u001b[1minclude_string\u001b[22m\u001b[22m\u001b[1m(\u001b[22m\u001b[22m::Module, ::String, ::String\u001b[1m)\u001b[22m\u001b[22m at \u001b[1m//////////////////////////////////////////////home/annika/JuliaProDir/JuliaPro-0.6.2.1/JuliaPro/pkgs-0.6.2.1/v0.6/Compat/src/Compat.jl:174\u001b[22m\u001b[22m\n",
      " [8] \u001b[1mexecute_request\u001b[22m\u001b[22m\u001b[1m(\u001b[22m\u001b[22m::ZMQ.Socket, ::IJulia.Msg\u001b[1m)\u001b[22m\u001b[22m at \u001b[1m/home/annika/JuliaProDir/JuliaPro-0.6.2.1/JuliaPro/pkgs-0.6.2.1/v0.6/IJulia/src/execute_request.jl:154\u001b[22m\u001b[22m\n",
      " [9] \u001b[1meventloop\u001b[22m\u001b[22m\u001b[1m(\u001b[22m\u001b[22m::ZMQ.Socket\u001b[1m)\u001b[22m\u001b[22m at \u001b[1m/home/annika/JuliaProDir/JuliaPro-0.6.2.1/JuliaPro/pkgs-0.6.2.1/v0.6/IJulia/src/eventloop.jl:8\u001b[22m\u001b[22m\n",
      " [10] \u001b[1m(::IJulia.##14#17)\u001b[22m\u001b[22m\u001b[1m(\u001b[22m\u001b[22m\u001b[1m)\u001b[22m\u001b[22m at \u001b[1m./task.jl:335\u001b[22m\u001b[22m\n",
      "while loading In[60], in expression starting on line 293\n",
      "\u001b[1m\u001b[33mWARNING: \u001b[39m\u001b[22m\u001b[33mArray(::Type{T}, d::NTuple{N, Int}) where {T, N} is deprecated, use Array{T}(d) instead.\u001b[39m\n",
      "Stacktrace:\n",
      " [1] \u001b[1mdepwarn\u001b[22m\u001b[22m\u001b[1m(\u001b[22m\u001b[22m::String, ::Symbol\u001b[1m)\u001b[22m\u001b[22m at \u001b[1m./deprecated.jl:70\u001b[22m\u001b[22m\n",
      " [2] \u001b[1mArray\u001b[22m\u001b[22m\u001b[1m(\u001b[22m\u001b[22m::Type{Float64}, ::Tuple{Int64}\u001b[1m)\u001b[22m\u001b[22m at \u001b[1m./deprecated.jl:57\u001b[22m\u001b[22m\n",
      " [3] \u001b[1mAc_mul_B\u001b[22m\u001b[22m at \u001b[1m./linalg/matmul.jl:115\u001b[22m\u001b[22m [inlined]\n",
      " [4] \u001b[1mAc_mul_B\u001b[22m\u001b[22m at \u001b[1m./linalg/rowvector.jl:227\u001b[22m\u001b[22m [inlined]\n",
      " [5] \u001b[1m#row_objective#58\u001b[22m\u001b[22m\u001b[1m(\u001b[22m\u001b[22m::Array{Union{Int64, Range{Int64}},1}, ::Bool, ::Function, ::LowRankModels.GLRM, ::Int64, ::ArrayViews.ContiguousView{Float64,1,Array{Float64,2}}, ::Array{Float64,2}\u001b[1m)\u001b[22m\u001b[22m at \u001b[1m/home/annika/JuliaProDir/JuliaPro-0.6.2.1/JuliaPro/pkgs-0.6.2.1/v0.6/LowRankModels/src/evaluate_fit.jl:29\u001b[22m\u001b[22m\n",
      " [6] \u001b[1mrow_objective\u001b[22m\u001b[22m\u001b[1m(\u001b[22m\u001b[22m::LowRankModels.GLRM, ::Int64, ::ArrayViews.ContiguousView{Float64,1,Array{Float64,2}}, ::Array{Float64,2}\u001b[1m)\u001b[22m\u001b[22m at \u001b[1m/home/annika/JuliaProDir/JuliaPro-0.6.2.1/JuliaPro/pkgs-0.6.2.1/v0.6/LowRankModels/src/evaluate_fit.jl:27\u001b[22m\u001b[22m (repeats 2 times)\n",
      " [7] \u001b[1m#fit!#79\u001b[22m\u001b[22m\u001b[1m(\u001b[22m\u001b[22m::LowRankModels.ConvergenceHistory, ::Bool, ::Array{Any,1}, ::Function, ::LowRankModels.GLRM, ::LowRankModels.ProxGradParams\u001b[1m)\u001b[22m\u001b[22m at \u001b[1m/home/annika/JuliaProDir/JuliaPro-0.6.2.1/JuliaPro/pkgs-0.6.2.1/v0.6/LowRankModels/src/algorithms/proxgrad.jl:138\u001b[22m\u001b[22m\n",
      " [8] \u001b[1m#fit!#76\u001b[22m\u001b[22m\u001b[1m(\u001b[22m\u001b[22m::Array{Any,1}, ::Function, ::LowRankModels.GLRM\u001b[1m)\u001b[22m\u001b[22m at \u001b[1m/home/annika/JuliaProDir/JuliaPro-0.6.2.1/JuliaPro/pkgs-0.6.2.1/v0.6/LowRankModels/src/fit.jl:18\u001b[22m\u001b[22m\n",
      " [9] \u001b[1mfit_pca\u001b[22m\u001b[22m\u001b[1m(\u001b[22m\u001b[22m::Int64, ::Int64, ::Int64\u001b[1m)\u001b[22m\u001b[22m at \u001b[1m./In[59]:8\u001b[22m\u001b[22m\n",
      " [10] \u001b[1minclude_string\u001b[22m\u001b[22m\u001b[1m(\u001b[22m\u001b[22m::String, ::String\u001b[1m)\u001b[22m\u001b[22m at \u001b[1m./loading.jl:522\u001b[22m\u001b[22m\n",
      " [11] \u001b[1minclude_string\u001b[22m\u001b[22m\u001b[1m(\u001b[22m\u001b[22m::Module, ::String, ::String\u001b[1m)\u001b[22m\u001b[22m at \u001b[1m//////////////////////////////////////////////home/annika/JuliaProDir/JuliaPro-0.6.2.1/JuliaPro/pkgs-0.6.2.1/v0.6/Compat/src/Compat.jl:174\u001b[22m\u001b[22m\n",
      " [12] \u001b[1mexecute_request\u001b[22m\u001b[22m\u001b[1m(\u001b[22m\u001b[22m::ZMQ.Socket, ::IJulia.Msg\u001b[1m)\u001b[22m\u001b[22m at \u001b[1m/home/annika/JuliaProDir/JuliaPro-0.6.2.1/JuliaPro/pkgs-0.6.2.1/v0.6/IJulia/src/execute_request.jl:154\u001b[22m\u001b[22m\n",
      " [13] \u001b[1meventloop\u001b[22m\u001b[22m\u001b[1m(\u001b[22m\u001b[22m::ZMQ.Socket\u001b[1m)\u001b[22m\u001b[22m at \u001b[1m/home/annika/JuliaProDir/JuliaPro-0.6.2.1/JuliaPro/pkgs-0.6.2.1/v0.6/IJulia/src/eventloop.jl:8\u001b[22m\u001b[22m\n",
      " [14] \u001b[1m(::IJulia.##14#17)\u001b[22m\u001b[22m\u001b[1m(\u001b[22m\u001b[22m\u001b[1m)\u001b[22m\u001b[22m at \u001b[1m./task.jl:335\u001b[22m\u001b[22m\n",
      "while loading In[60], in expression starting on line 293\n"
     ]
    },
    {
     "name": "stdout",
     "output_type": "stream",
     "text": [
      "Iteration 10: objective value = 740.1456995857707\n",
      "Iteration 20: objective value = 1.069033417738775\n",
      "Convergence history:[4.97936e5, 2.59311e5, 1.30526e5, 51466.2, 23121.7, 6549.98, 3086.39, 2354.37, 1874.22, 1547.68, 740.146, 461.197, 321.236, 231.273, 168.531, 122.107, 100.591, 93.8988, 16.441, 3.74834, 1.06903, 0.403239, 0.195207]\n"
     ]
    },
    {
     "data": {
      "text/plain": [
       "6.75521661"
      ]
     },
     "execution_count": 60,
     "metadata": {},
     "output_type": "execute_result"
    }
   ],
   "source": [
    "@elapsed(fit_pca(100,500,5))"
   ]
  },
  {
   "cell_type": "markdown",
   "metadata": {},
   "source": [
    "Compared to sklearn (which is wrapping around C), this implementation of PCA is much slower.\n",
    "\n",
    "|      | Python  (sklearn)     | Julia (LowRankModels.jl)      |\n",
    "| ------------|:-------------:|-----------|\n",
    "|Time | 0.024205684661865234 | 6.75521661 |"
   ]
  }
 ],
 "metadata": {
  "kernelspec": {
   "display_name": "Julia 0.6.2",
   "language": "julia",
   "name": "julia-0.6"
  },
  "language_info": {
   "file_extension": ".jl",
   "mimetype": "application/julia",
   "name": "julia",
   "version": "0.6.2"
  }
 },
 "nbformat": 4,
 "nbformat_minor": 2
}
