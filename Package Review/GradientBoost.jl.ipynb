{
 "cells": [
  {
   "cell_type": "markdown",
   "metadata": {},
   "source": [
    "# GradientBoost.jl\n",
    "\n",
    "git: https://github.com/JuliaML/MLPreprocessing.jl\n",
    "\n",
    "### Summary\n",
    "\n",
    "Gradient boosting is a technique to form prediction models from an enseblems of smaller models, usually decision trees.\n",
    "This package sets up a framework of boosting algorithms. Unfortunately, it was it its early stage when abandoned.\n",
    "Nonetheless, it provides and interesting architecture to be built upon.\n",
    "\n",
    "### Details\n",
    "\n",
    "\n",
    "| Test                      | Results                           |            \n",
    "| :- | :- |\n",
    "| Packages works            | No                               |\n",
    "| Deprecation warnings      | Several                              |\n",
    "| Compatible with JuliaDB   | - |\n",
    "| Contains Documetation     | No, few examples            |\n",
    "| Simplicity                | Fair               |\n"
   ]
  },
  {
   "cell_type": "code",
   "execution_count": 2,
   "metadata": {},
   "outputs": [
    {
     "name": "stderr",
     "output_type": "stream",
     "text": [
      "\u001b[1m\u001b[36mINFO: \u001b[39m\u001b[22m\u001b[36mCloning GradientBoost from https://github.com/svs14/GradientBoost.jl\n",
      "\u001b[39m\u001b[1m\u001b[36mINFO: \u001b[39m\u001b[22m\u001b[36mComputing changes...\n",
      "\u001b[39m\u001b[1m\u001b[33mWARNING: \u001b[39m\u001b[22m\u001b[33mjulia is fixed at 0.6.2 conflicting with requirement for GradientBoost: [0.3.0-,0.6.0)\u001b[39m\n",
      "\u001b[1m\u001b[36mINFO: \u001b[39m\u001b[22m\u001b[36mCloning cache of DecisionTree from https://github.com/bensadeghi/DecisionTree.jl.git\n",
      "\u001b[39m\u001b[1m\u001b[36mINFO: \u001b[39m\u001b[22m\u001b[36mCloning cache of FactCheck from https://github.com/JuliaArchive/FactCheck.jl.git\n",
      "\u001b[39m\u001b[1m\u001b[36mINFO: \u001b[39m\u001b[22m\u001b[36mCloning cache of ScikitLearnBase from https://github.com/cstjean/ScikitLearnBase.jl.git\n",
      "\u001b[39m\u001b[1m\u001b[36mINFO: \u001b[39m\u001b[22m\u001b[36mCloning cache of StatsModels from https://github.com/JuliaStats/StatsModels.jl.git\n",
      "\u001b[39m\u001b[1m\u001b[36mINFO: \u001b[39m\u001b[22m\u001b[36mInstalling DecisionTree v0.6.5\n",
      "\u001b[39m\u001b[1m\u001b[36mINFO: \u001b[39m\u001b[22m\u001b[36mInstalling FactCheck v0.4.3\n",
      "\u001b[39m\u001b[1m\u001b[36mINFO: \u001b[39m\u001b[22m\u001b[36mInstalling GLM v0.10.1\n",
      "\u001b[39m\u001b[1m\u001b[36mINFO: \u001b[39m\u001b[22m\u001b[36mInstalling ScikitLearnBase v0.3.0\n",
      "\u001b[39m\u001b[1m\u001b[36mINFO: \u001b[39m\u001b[22m\u001b[36mInstalling StatsModels v0.2.2\n",
      "\u001b[39m\u001b[1m\u001b[36mINFO: \u001b[39m\u001b[22m\u001b[36mBuilding SpecialFunctions\n",
      "\u001b[39m\u001b[1m\u001b[36mINFO: \u001b[39m\u001b[22m\u001b[36mBuilding Rmath\n",
      "\u001b[39m\u001b[1m\u001b[36mINFO: \u001b[39m\u001b[22m\u001b[36mPackage database updated\n",
      "\u001b[39m"
     ]
    }
   ],
   "source": [
    "Pkg.clone(\"https://github.com/svs14/GradientBoost.jl\", \"GradientBoost\")"
   ]
  },
  {
   "cell_type": "code",
   "execution_count": 3,
   "metadata": {},
   "outputs": [
    {
     "name": "stderr",
     "output_type": "stream",
     "text": [
      "\n",
      "WARNING: deprecated syntax \"abstract LossFunction\" at /home/edoardo/.julia/v0.6/GradientBoost/src/loss.jl:16.\n",
      "Use \"abstract type LossFunction end\" instead.\n",
      "\n",
      "WARNING: deprecated syntax \"abstract GBAlgorithm\" at /home/edoardo/.julia/v0.6/GradientBoost/src/gb.jl:18.\n",
      "Use \"abstract type GBAlgorithm end\" instead.\n"
     ]
    },
    {
     "ename": "LoadError",
     "evalue": "LoadError: LoadError: \u001b[91mUndefVarError: FloatingPoint not defined\u001b[39m\nwhile loading /home/edoardo/.julia/v0.6/GradientBoost/src/gb.jl, in expression starting on line 20\nwhile loading /home/edoardo/.julia/v0.6/GradientBoost/src/GradientBoost.jl, in expression starting on line 6",
     "output_type": "error",
     "traceback": [
      "LoadError: LoadError: \u001b[91mUndefVarError: FloatingPoint not defined\u001b[39m\nwhile loading /home/edoardo/.julia/v0.6/GradientBoost/src/gb.jl, in expression starting on line 20\nwhile loading /home/edoardo/.julia/v0.6/GradientBoost/src/GradientBoost.jl, in expression starting on line 6",
      "",
      "Stacktrace:",
      " [1] \u001b[1minclude_from_node1\u001b[22m\u001b[22m\u001b[1m(\u001b[22m\u001b[22m::String\u001b[1m)\u001b[22m\u001b[22m at \u001b[1m./loading.jl:576\u001b[22m\u001b[22m",
      " [2] \u001b[1minclude\u001b[22m\u001b[22m\u001b[1m(\u001b[22m\u001b[22m::String\u001b[1m)\u001b[22m\u001b[22m at \u001b[1m./sysimg.jl:14\u001b[22m\u001b[22m",
      " [3] \u001b[1minclude_from_node1\u001b[22m\u001b[22m\u001b[1m(\u001b[22m\u001b[22m::String\u001b[1m)\u001b[22m\u001b[22m at \u001b[1m./loading.jl:576\u001b[22m\u001b[22m",
      " [4] \u001b[1meval\u001b[22m\u001b[22m\u001b[1m(\u001b[22m\u001b[22m::Module, ::Any\u001b[1m)\u001b[22m\u001b[22m at \u001b[1m./boot.jl:235\u001b[22m\u001b[22m",
      " [5] \u001b[1m_require\u001b[22m\u001b[22m\u001b[1m(\u001b[22m\u001b[22m::Symbol\u001b[1m)\u001b[22m\u001b[22m at \u001b[1m./loading.jl:490\u001b[22m\u001b[22m",
      " [6] \u001b[1mrequire\u001b[22m\u001b[22m\u001b[1m(\u001b[22m\u001b[22m::Symbol\u001b[1m)\u001b[22m\u001b[22m at \u001b[1m./loading.jl:405\u001b[22m\u001b[22m",
      " [7] \u001b[1minclude_string\u001b[22m\u001b[22m\u001b[1m(\u001b[22m\u001b[22m::String, ::String\u001b[1m)\u001b[22m\u001b[22m at \u001b[1m./loading.jl:522\u001b[22m\u001b[22m"
     ]
    }
   ],
   "source": [
    "using GradientBoost"
   ]
  }
 ],
 "metadata": {
  "kernelspec": {
   "display_name": "Julia 0.6.2",
   "language": "julia",
   "name": "julia-0.6"
  },
  "language_info": {
   "file_extension": ".jl",
   "mimetype": "application/julia",
   "name": "julia",
   "version": "0.6.2"
  }
 },
 "nbformat": 4,
 "nbformat_minor": 2
}
