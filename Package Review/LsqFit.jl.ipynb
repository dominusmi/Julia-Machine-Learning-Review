{
 "cells": [
  {
   "cell_type": "markdown",
   "metadata": {},
   "source": [
    "# LsqFit.jl\n",
    "\n",
    "https://github.com/JuliaNLSolvers/LsqFit.jl"
   ]
  },
  {
   "cell_type": "markdown",
   "metadata": {},
   "source": [
    "# Summary\n",
    "\n",
    "LsqFit.jl is a packages that provides basic least square fitting in Julia. It provides two main methods, curve_fit() and estimate_errors() which both work well. At the moment it only uses  the Levenberg-Marquardt algorithm for non-linear fitting.\n"
   ]
  },
  {
   "cell_type": "markdown",
   "metadata": {},
   "source": [
    "# Details"
   ]
  },
  {
   "cell_type": "markdown",
   "metadata": {},
   "source": [
    "| Test        | Results       |    \n",
    "| ------------|:-------------:|\n",
    "| Package work| Yes |\n",
    "| Deprecations warnings      | No     |\n",
    "| Compatible with JuliaDB | Yes |\n",
    "| Contains documentation | No, but examples |\n",
    "| Simplicity | good |"
   ]
  },
  {
   "cell_type": "markdown",
   "metadata": {},
   "source": [
    "# Functions\n",
    "\n",
    "functionality as listed in Github repository"
   ]
  },
  {
   "cell_type": "markdown",
   "metadata": {},
   "source": [
    "`fit = curve_fit(model, [jacobian], x, y, [w,] p0; kwargs...)`:\n",
    "\n",
    "* `model`: function that takes two arguments (x, params)\n",
    "* `jacobian`: (optional) function that returns the Jacobian matrix of `model`\n",
    "* `x`: the independent variable\n",
    "* `y`: the dependent variable that constrains `model`\n",
    "* `w`: (optional) weight applied to the residual; can be a vector (of `length(x)` size or empty) or matrix (inverse covariance matrix)\n",
    "* `p0`: initial guess of the model parameters\n",
    "* `kwargs`: tuning parameters for fitting, passed to `levenberg_marquardt`, such as `maxIter` or `show_trace`\n",
    "* `fit`: composite type of results (`LsqFitResult`)"
   ]
  },
  {
   "cell_type": "markdown",
   "metadata": {},
   "source": [
    "`sigma = estimate_errors(fit, alpha=0.95; atol, rtol)`:\n",
    "\n",
    "* `fit`: result of curve_fit (a `LsqFitResult` type)\n",
    "* `alpha`: confidence limit to calculate for the errors on parameters\n",
    "* `atol`: absolute tolerance for negativity check\n",
    "* `rtol`: relative tolerance for negativity check\n"
   ]
  },
  {
   "cell_type": "markdown",
   "metadata": {},
   "source": [
    "`covar = estimate_covar(fit)`:\n",
    "\n",
    "* `fit`: result of curve_fit (a `LsqFitResult` type)\n",
    "* `covar`: parameter covariance matrix calculated from the jacobian of the model at the fit point, using the weights (if specified) as the inverse covariance of observations"
   ]
  },
  {
   "cell_type": "markdown",
   "metadata": {},
   "source": [
    "# Example code\n",
    "\n",
    "Based on Github example"
   ]
  },
  {
   "cell_type": "code",
   "execution_count": 34,
   "metadata": {},
   "outputs": [],
   "source": [
    "using LsqFit\n",
    "\n",
    "# a two-parameter exponential model\n",
    "# x: array of independent variables\n",
    "# p: array of model parameters\n",
    "model(x, p) = p[1]*exp.(-x.*p[2])\n",
    "\n",
    "# some example data\n",
    "# xdata: independent variables\n",
    "# ydata: dependent variable\n",
    "xdata = linspace(0,10,20)\n",
    "ydata = model(xdata, [1.0 2.0]) + 0.01*randn(length(xdata))\n",
    "p0 = [0.5, 0.5]\n",
    "\n",
    "fit = curve_fit(model, xdata, ydata, p0)\n",
    "# fit is a composite type (LsqFitResult), with some interesting values:\n",
    "#\tfit.dof: degrees of freedom\n",
    "#\tfit.param: best fit parameters\n",
    "#\tfit.resid: residuals = vector of residuals\n",
    "#\tfit.jacobian: estimated Jacobian at solution\n",
    "\n",
    "# We can estimate errors on the fit parameters,\n",
    "# to get 95% confidence error bars:\n",
    "errors = estimate_errors(fit, 0.95)\n",
    "\n",
    "# The finite difference method is used above to approximate the Jacobian.\n",
    "# Alternatively, a function which calculates it exactly can be supplied instead.\n",
    "function jacobian_model(x,p)\n",
    "    J = Array{Float64}(length(x),length(p))\n",
    "    J[:,1] = exp.(-x.*p[2])    #dmodel/dp[1]\n",
    "    J[:,2] = -x.*p[1].*J[:,1]  #dmodel/dp[2]\n",
    "    J\n",
    "end\n",
    "fit = curve_fit(model, jacobian_model, xdata, ydata, p0);"
   ]
  },
  {
   "cell_type": "code",
   "execution_count": 37,
   "metadata": {},
   "outputs": [
    {
     "data": {
      "text/html": [
       "<img src=\"data:image/png;base64,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\" />"
      ]
     },
     "execution_count": 37,
     "metadata": {},
     "output_type": "execute_result"
    }
   ],
   "source": [
    "using Plots\n",
    "plot(xdata, model(xdata,fit.param),label = \"best fit curve\")\n",
    "scatter!(xdata,ydata,label =\"data points\",title = \"Example for a fit using a two-parameter \\n exponential model\")"
   ]
  },
  {
   "cell_type": "markdown",
   "metadata": {},
   "source": [
    "# Example Usage with Julia DB"
   ]
  },
  {
   "cell_type": "code",
   "execution_count": 17,
   "metadata": {},
   "outputs": [
    {
     "data": {
      "text/plain": [
       "load (generic function with 2 methods)"
      ]
     },
     "execution_count": 17,
     "metadata": {},
     "output_type": "execute_result"
    }
   ],
   "source": [
    "include(\"load_titanic.jl\")"
   ]
  },
  {
   "cell_type": "code",
   "execution_count": 20,
   "metadata": {
    "scrolled": true
   },
   "outputs": [
    {
     "name": "stdout",
     "output_type": "stream",
     "text": [
      "Metadata for 0 / 1 files can be loaded from cache.\n",
      "Reading 1 csv files totalling 58.201 KiB in 1 batches...\n"
     ]
    },
    {
     "data": {
      "text/plain": [
       "(Table with 634 rows, 8 columns:\n",
       "PassengerId  Pclass  Sex  Age   SibSp  Parch  Fare     Embarked\n",
       "───────────────────────────────────────────────────────────────\n",
       "1            3       1    22.0  1      0      7.25     0\n",
       "2            1       0    38.0  1      0      71.2833  1\n",
       "3            3       0    26.0  0      0      7.925    0\n",
       "4            1       0    35.0  1      0      53.1     0\n",
       "7            1       1    54.0  0      0      51.8625  0\n",
       "8            3       1    2.0   3      1      21.075   0\n",
       "9            3       0    27.0  0      2      11.1333  0\n",
       "10           2       0    14.0  1      0      30.0708  1\n",
       "11           3       0    4.0   1      1      16.7     0\n",
       "12           1       0    58.0  0      0      26.55    0\n",
       "13           3       1    20.0  0      0      8.05     0\n",
       "15           3       0    14.0  0      0      7.8542   0\n",
       "⋮\n",
       "877          3       1    20.0  0      0      9.8458   0\n",
       "878          3       1    19.0  0      0      7.8958   0\n",
       "880          1       0    56.0  0      1      83.1583  1\n",
       "881          2       0    25.0  0      1      26.0     0\n",
       "882          3       1    33.0  0      0      7.8958   0\n",
       "883          3       0    22.0  0      0      10.5167  0\n",
       "884          2       1    28.0  0      0      10.5     0\n",
       "885          3       1    25.0  0      0      7.05     0\n",
       "886          3       0    39.0  0      5      29.125   2\n",
       "887          2       1    27.0  0      0      13.0     0\n",
       "888          1       0    19.0  0      0      30.0     0, Table with 634 rows, 1 columns:\n",
       "Survived\n",
       "────────\n",
       "0\n",
       "1\n",
       "1\n",
       "1\n",
       "0\n",
       "0\n",
       "1\n",
       "1\n",
       "1\n",
       "1\n",
       "0\n",
       "0\n",
       "⋮\n",
       "0\n",
       "0\n",
       "1\n",
       "1\n",
       "0\n",
       "0\n",
       "0\n",
       "0\n",
       "0\n",
       "0\n",
       "1, Table with 80 rows, 8 columns:\n",
       "PassengerId  Pclass  Sex  Age   SibSp  Parch  Fare     Embarked\n",
       "───────────────────────────────────────────────────────────────\n",
       "5            3       1    35.0  0      0      8.05     0\n",
       "14           3       1    39.0  1      5      31.275   0\n",
       "36           1       1    42.0  1      0      52.0     0\n",
       "67           2       0    29.0  0      0      10.5     0\n",
       "90           3       1    24.0  0      0      8.05     0\n",
       "114          3       0    20.0  1      0      9.825    0\n",
       "115          3       0    17.0  0      0      14.4583  1\n",
       "116          3       1    21.0  0      0      7.925    0\n",
       "126          3       1    12.0  1      0      11.2417  1\n",
       "130          3       1    45.0  0      0      6.975    0\n",
       "133          3       0    47.0  1      0      14.5     0\n",
       "144          3       1    19.0  0      0      6.75     2\n",
       "⋮\n",
       "807          1       1    39.0  0      0      0.0      0\n",
       "814          3       0    6.0   4      2      31.275   0\n",
       "819          3       1    43.0  0      0      6.45     0\n",
       "824          3       0    27.0  0      1      12.475   0\n",
       "831          3       0    15.0  1      0      14.4542  1\n",
       "845          3       1    17.0  0      0      8.6625   0\n",
       "846          3       1    42.0  0      0      7.55     0\n",
       "849          2       1    28.0  0      1      33.0     0\n",
       "873          1       1    33.0  0      0      5.0      0\n",
       "890          1       1    26.0  0      0      30.0     1\n",
       "891          3       1    32.0  0      0      7.75     2, Table with 80 rows, 1 columns:\n",
       "Survived\n",
       "────────\n",
       "0\n",
       "0\n",
       "0\n",
       "1\n",
       "0\n",
       "0\n",
       "0\n",
       "0\n",
       "1\n",
       "0\n",
       "0\n",
       "0\n",
       "⋮\n",
       "0\n",
       "0\n",
       "0\n",
       "1\n",
       "1\n",
       "0\n",
       "0\n",
       "0\n",
       "0\n",
       "1\n",
       "0)"
      ]
     },
     "execution_count": 20,
     "metadata": {},
     "output_type": "execute_result"
    }
   ],
   "source": [
    "train, train_targets, test, test_targets = load(true)  #load as JuliaDB tables"
   ]
  },
  {
   "cell_type": "markdown",
   "metadata": {},
   "source": [
    "To check compatibility, we want to fit a curve to some random subset of the data. Pick the first 20 instances of passenger ID and Age. Get xdata = passengerID, ydata=Age."
   ]
  },
  {
   "cell_type": "code",
   "execution_count": 32,
   "metadata": {},
   "outputs": [],
   "source": [
    "ID=select(train[1:20], 1);\n",
    "Age = select(train[1:20],4);"
   ]
  },
  {
   "cell_type": "code",
   "execution_count": 42,
   "metadata": {},
   "outputs": [],
   "source": [
    "model(x, p) = p[1]*x.^5+p[2]*x.^4+p[3]*x.^3+p[4]*x.^2+p[5]*x+p[6]\n",
    "p0 = ones(6)\n",
    "fit = curve_fit(model, ID, Age,p0);"
   ]
  },
  {
   "cell_type": "code",
   "execution_count": 43,
   "metadata": {},
   "outputs": [
    {
     "data": {
      "text/html": [
       "<img src=\"data:image/png;base64,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\" />"
      ]
     },
     "execution_count": 43,
     "metadata": {},
     "output_type": "execute_result"
    }
   ],
   "source": [
    "scatter(ID,Age,label =\"data points\",title = \"Example for a fit using data from JuliaDB tables\")\n",
    "plot!(ID, model(ID,fit.param),label = \"best fit curve\")"
   ]
  },
  {
   "cell_type": "markdown",
   "metadata": {},
   "source": [
    "# Simple Benchmarking against Python"
   ]
  },
  {
   "cell_type": "markdown",
   "metadata": {},
   "source": [
    "We fit the same function to the same data set (up to noise) once using LsqFit and once using scipy.optimize.curve_fit and compare the running time."
   ]
  },
  {
   "cell_type": "code",
   "execution_count": 80,
   "metadata": {},
   "outputs": [
    {
     "data": {
      "text/plain": [
       "3-element Array{Float64,1}:\n",
       " 1.0\n",
       " 1.0\n",
       " 1.0"
      ]
     },
     "execution_count": 80,
     "metadata": {},
     "output_type": "execute_result"
    }
   ],
   "source": [
    "model(x,p) = p[1] * exp.(-p[2] * x) + p[3];\n",
    "xdata = linspace(0, 4, 50)\n",
    "ydata = model(xdata, [2.5, 1.3, 0.5])\n",
    "srand(1729)\n",
    "y_noise = 0.2 * rand(50)\n",
    "ydata = ydata+y_noise\n",
    "p0 = ones(3)"
   ]
  },
  {
   "cell_type": "code",
   "execution_count": 83,
   "metadata": {},
   "outputs": [
    {
     "data": {
      "text/plain": [
       "0.00016819"
      ]
     },
     "execution_count": 83,
     "metadata": {},
     "output_type": "execute_result"
    }
   ],
   "source": [
    "@elapsed( curve_fit(model, xdata, ydata,p0))"
   ]
  },
  {
   "cell_type": "markdown",
   "metadata": {},
   "source": [
    "|      | Python       | Julia       |\n",
    "| ------------|:-------------:|-----------|\n",
    "|Time | 0.0030889511108398438 | 0.00016819 |"
   ]
  },
  {
   "cell_type": "markdown",
   "metadata": {},
   "source": [
    "The Julia version was faster in this case. This might change for running bigger jobs. Also in Python for lots of models the function and starting parameters don't have to be specified, the programme automatically fits the best function to the data. The package here doesn't have this functionality (yet!)."
   ]
  }
 ],
 "metadata": {
  "kernelspec": {
   "display_name": "Julia 0.6.2",
   "language": "julia",
   "name": "julia-0.6"
  },
  "language_info": {
   "file_extension": ".jl",
   "mimetype": "application/julia",
   "name": "julia",
   "version": "0.6.2"
  }
 },
 "nbformat": 4,
 "nbformat_minor": 2
}
