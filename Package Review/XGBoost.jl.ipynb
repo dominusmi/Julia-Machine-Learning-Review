{
 "cells": [
  {
   "cell_type": "markdown",
   "metadata": {},
   "source": [
    "# XGBoost.jl\n",
    "\n",
    "https://github.com/dmlc/XGBoost.jl"
   ]
  },
  {
   "cell_type": "markdown",
   "metadata": {},
   "source": [
    "# Summary\n",
    "\n",
    "XGBoost.jl is an interface package for XGBoost (https://github.com/tqchen/xgboost) which is an efficient and scalable implementation of\n",
    "gradient boosting.\n",
    "\n",
    "The core functionality revolves around *xgboost* which calls a C \n",
    "wrapper to implement the boosted trees. K-fold cross validation is\n",
    "included for *xgboost* parameters. Julia matrix/array, \n",
    "SparseMatrixCSC, libSVM, and the XGBoost binary file format are\n",
    "all accepted data types. Custom loss metrics are supported."
   ]
  },
  {
   "cell_type": "markdown",
   "metadata": {},
   "source": [
    "# Details\n",
    "\n",
    "| Test                      | Results                           |            \n",
    "| :- | :- |\n",
    "| Packages works            | yes                               |\n",
    "| Deprecation warnings      | None                              |\n",
    "| Compatible with JuliaDB   | If tables are converted to arrays |\n",
    "| Contains Documetation     | Points to XGBoost (i.e not Julia specific)             |\n",
    "| Simplicity                | Good |"
   ]
  },
  {
   "cell_type": "markdown",
   "metadata": {},
   "source": [
    "# Functions\n",
    "\n",
    "xgboost(data, label, args...)\n",
    "\n",
    "    Arguments: nrounds::Integer;, param = [], \n",
    "               watchlist = [], metrics = [], obj = Union{}, \n",
    "               feval = Union{}, group = [], kwargs...\n",
    "\n",
    "predict(Booster, data, args...)\n",
    "\n",
    "    Arguments: output_margin::Bool = false, \n",
    "               ntree_limit::Integer = 0\n",
    "nfold_cv(data, args...)\n",
    "\n",
    "    Arguments: num_boost_round::Integer = 10, \n",
    "               nfold::Integer = 3; label = Union{},\n",
    "               param=[], metrics=[], obj = Union{}, \n",
    "               feval = Union{}, fpreproc = Union{},\n",
    "               show_stdv = true, seed::Integer = 0, kwargs..."
   ]
  },
  {
   "cell_type": "markdown",
   "metadata": {},
   "source": [
    "# Example Code"
   ]
  },
  {
   "cell_type": "code",
   "execution_count": 2,
   "metadata": {},
   "outputs": [
    {
     "data": {
      "text/plain": [
       "load (generic function with 2 methods)"
      ]
     },
     "execution_count": 2,
     "metadata": {},
     "output_type": "execute_result"
    }
   ],
   "source": [
    "using XGBoost\n",
    "include(\"resources/load_titanic.jl\")"
   ]
  },
  {
   "cell_type": "code",
   "execution_count": 3,
   "metadata": {},
   "outputs": [
    {
     "data": {
      "text/plain": [
       "([1.0 3.0 … 7.25 0.0; 2.0 1.0 … 71.2833 1.0; … ; 887.0 2.0 … 13.0 0.0; 888.0 1.0 … 30.0 0.0], [0, 1, 1, 1, 0, 0, 1, 1, 1, 1  …  0, 1, 1, 0, 0, 0, 0, 0, 0, 1], [5.0 3.0 … 8.05 0.0; 14.0 3.0 … 31.275 0.0; … ; 890.0 1.0 … 30.0 1.0; 891.0 3.0 … 7.75 2.0], [0, 0, 0, 1, 0, 0, 0, 0, 1, 0  …  0, 0, 1, 1, 0, 0, 0, 0, 1, 0])"
      ]
     },
     "execution_count": 3,
     "metadata": {},
     "output_type": "execute_result"
    }
   ],
   "source": [
    "train, train_targets, test, test_targets = load()"
   ]
  },
  {
   "cell_type": "markdown",
   "metadata": {},
   "source": [
    "### K-fold cross validation for max_depth and eta (learning rate)"
   ]
  },
  {
   "cell_type": "code",
   "execution_count": 5,
   "metadata": {},
   "outputs": [
    {
     "name": "stderr",
     "output_type": "stream",
     "text": [
      "[11:21:39] src/tree/updater_prune.cc:74: tree pruning end, 1 roots, 6 extra nodes, 0 pruned nodes, max_depth=2\n",
      "[11:21:39] src/tree/updater_prune.cc:74: tree pruning end, 1 roots, 6 extra nodes, 0 pruned nodes, max_depth=2\n",
      "[11:21:39] src/tree/updater_prune.cc:74: tree pruning end, 1 roots, 6 extra nodes, 0 pruned nodes, max_depth=2\n",
      "[1]\tcv-test-auc:0.798790+0.036774\tcv-train-auc:0.830975+0.016641\n",
      "[11:21:40] src/tree/updater_prune.cc:74: tree pruning end, 1 roots, 6 extra nodes, 0 pruned nodes, max_depth=2\n",
      "[11:21:40] src/tree/updater_prune.cc:74: tree pruning end, 1 roots, 6 extra nodes, 0 pruned nodes, max_depth=2\n",
      "[11:21:40] src/tree/updater_prune.cc:74: tree pruning end, 1 roots, 6 extra nodes, 0 pruned nodes, max_depth=2\n",
      "[2]\tcv-test-auc:0.847617+0.027814\tcv-train-auc:0.865430+0.014302\n",
      "[11:21:40] src/tree/updater_prune.cc:74: tree pruning end, 1 roots, 6 extra nodes, 0 pruned nodes, max_depth=2\n",
      "[11:21:40] src/tree/updater_prune.cc:74: tree pruning end, 1 roots, 6 extra nodes, 0 pruned nodes, max_depth=2\n",
      "[11:21:40] src/tree/updater_prune.cc:74: tree pruning end, 1 roots, 6 extra nodes, 0 pruned nodes, max_depth=2\n",
      "[3]\tcv-test-auc:0.851141+0.028059\tcv-train-auc:0.880686+0.008377\n",
      "[11:21:40] src/tree/updater_prune.cc:74: tree pruning end, 1 roots, 6 extra nodes, 0 pruned nodes, max_depth=2\n",
      "[11:21:40] src/tree/updater_prune.cc:74: tree pruning end, 1 roots, 6 extra nodes, 0 pruned nodes, max_depth=2\n",
      "[11:21:40] src/tree/updater_prune.cc:74: tree pruning end, 1 roots, 6 extra nodes, 0 pruned nodes, max_depth=2\n",
      "[4]\tcv-test-auc:0.856500+0.022747\tcv-train-auc:0.894906+0.010901\n",
      "[11:21:40] src/tree/updater_prune.cc:74: tree pruning end, 1 roots, 6 extra nodes, 0 pruned nodes, max_depth=2\n",
      "[11:21:40] src/tree/updater_prune.cc:74: tree pruning end, 1 roots, 4 extra nodes, 0 pruned nodes, max_depth=2\n",
      "[11:21:40] src/tree/updater_prune.cc:74: tree pruning end, 1 roots, 4 extra nodes, 0 pruned nodes, max_depth=2\n",
      "[5]\tcv-test-auc:0.853333+0.022763\tcv-train-auc:0.899897+0.011819\n"
     ]
    }
   ],
   "source": [
    "nfold = 5\n",
    "param = [\"max_depth\" => 2,\n",
    "         \"eta\" => 1,\n",
    "         \"objective\" => \"binary:logistic\"]\n",
    "metrics = [\"auc\"]\n",
    "nfold_cv(train, num_round=2, nfold, label = train_targets, param = param, metrics = metrics)"
   ]
  },
  {
   "cell_type": "code",
   "execution_count": 6,
   "metadata": {},
   "outputs": [
    {
     "name": "stderr",
     "output_type": "stream",
     "text": [
      "[1]\ttrain-rmse:0.378630\n",
      "[2]\ttrain-rmse:0.361474\n"
     ]
    },
    {
     "name": "stdout",
     "output_type": "stream",
     "text": [
      "test-error=0.175\n"
     ]
    }
   ],
   "source": [
    "num_round = 2\n",
    "bst = xgboost(train, num_round, label=train_targets, eta=1, max_depth=2)\n",
    "\n",
    "pred = predict(bst, test)\n",
    "print(\"test-error=\", sum((pred .> 0.5) .!= test_targets) / float(size(pred)[1]), \"\\n\")"
   ]
  }
 ],
 "metadata": {
  "kernelspec": {
   "display_name": "Julia 0.6.2",
   "language": "julia",
   "name": "julia-0.6"
  },
  "language_info": {
   "file_extension": ".jl",
   "mimetype": "application/julia",
   "name": "julia",
   "version": "0.6.2"
  }
 },
 "nbformat": 4,
 "nbformat_minor": 2
}
