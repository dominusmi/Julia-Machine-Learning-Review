{
 "cells": [
  {
   "cell_type": "markdown",
   "metadata": {},
   "source": [
    "# Learning Strategies\n",
    "\n",
    "_git:_ https://github.com/JuliaML/LearningStrategies.jl\n",
    "\n",
    "## Summary\n",
    "\n",
    "Through the JuliaML _Learn.jl_ and _LearningStrategies.jl_, the Julia team built a framework allowing the simple implementation of new algorithms and learning strategies through the structure, and therefore also making it extremely simple to combine multiple strategies together.\n",
    "\n",
    "A strategy here simply means a way for the user to tell how a model (stored as a _struct_) is setup, trained and updated. This idea stems from the very similar property most learning algorithms operate with, which is:\n",
    "\n",
    "```julia\n",
    "# Learning a model involves a model, a strategy and (not necessary) some data    \n",
    "function learn!(model, strat::LearningStrategy, data)   \n",
    "    # We set up the model, can be preparing arrays for training, doing some preprocessing\n",
    "    setup!(strat, model[, data])           \n",
    "    \n",
    "    # Using the \"repeated\" function  on your data allows it to replicate it infinitely\n",
    "    for (i, item) in enumerate(data)                    \n",
    "    \n",
    "        # Update the model according to the strategy(-ies) and the data  \n",
    "        update!(model, strat[, i], item) \n",
    "        \n",
    "        # Allows to record information or generally \"hook in\" the process. Should NOT modify in place\n",
    "        hook(strat, model[, data], i)    \n",
    "        \n",
    "        # Checks if the finishing condition has been reached\n",
    "        finished(strat, model[, data], i) && break      \n",
    "    end\n",
    "    \n",
    "    # Clean up after yourself\n",
    "    cleanup!(strat, model) \n",
    "    \n",
    "    # Return the trained model\n",
    "    model                                               \n",
    "end\n",
    "```\n",
    "\n",
    "Which can be translated as setup, iterate over data until some end condition is met, and clean up.\n",
    "In addition, a conventional extra function which can (and should) be defined if your model is predictive, is _predict()_, with pseudocode\n",
    "\n",
    "```julia\n",
    "function predict(model, data)\n",
    "    # Make predictions\n",
    "end\n",
    "```\n",
    "\n",
    "## LearningStrategy\n",
    "\n",
    "A LearningStrategy is simply a struct which extends _LearningStrategy_. A strategy needs not contain any variable, all that is required is that at least one of the following functions is defined:\n",
    "\n",
    "- `setup!(strat, model, data)`\n",
    "- `cleanup!(strat, model)`\n",
    "- `hook(strat, model, i)`\n",
    "- `finished(strat, model, data, i)`\n",
    "- `update!(model, strat, item)`\n",
    "\n",
    "Keep in mind of course that if only the `hook` function is defined for a generic strategy _StrategyA_, and this is the only strategy given for learning, the model will.. not learn anything!\n",
    "\n",
    "This architecture makes it extremely simple for user wanting to write his own learning algorithm to add methods as they come without need further planning. For instance, suppose one strats off by just implementing and `SGD()` optimizer, then all that would be required is to define the structure\n",
    "\n",
    "```julia\n",
    "struct SGD() <:LearningStrategy end\n",
    "```\n",
    "\n",
    "and then implement the actual optimization by defining a function `update!(model, strategy::SGD)`. Later on, if the same user or another wants to implement _AdaProx_ optimizer, they can simply add a new function `update!(model, strategy::AdaProx)`.\n",
    "\n",
    "It is not even required to explicitely wirte a `learn!` function if all you need is the `update!`, simply use the call\n",
    "```julia\n",
    "learn!(model, SGD(), data)\n",
    "```\n",
    "and Julia will handle the \"missing\" functions (by simply skipping them) and will make the call to the update you defined.\n",
    "\n",
    "**Note:** the _data_ (and _i_)parameter is not actually required, all the base functions are defined with both data and no data argument\n",
    "\n",
    "## Meta-Strategy\n",
    "\n",
    "One extremely powerful feature that this framework offers is the combination of strategies. For instance, while only one strategy will tell the model how to train and update for each iteration, extra strategies which only give side indications can be very easily used. For instance, one of the built-in strategies is `MaxIter(n=100)` which, if given in conjuction to a laerning strategy for any model, will overload the _finished_ function, and will do its own check as to whether the algorithm is indeed over. A simple use would be:\n",
    "\n",
    "```julia\n",
    "learn!(MyModel(), strategies( MyLearningStrategy(), MaxIter(20) ), MyData )\n",
    "```\n",
    "\n",
    "In this way, the learning process will end after 20 iterations, even if the conditions for _finished()_ given by the _MyLearningStrategy_ are not met (only one _finished_ condition needs to be met for the learning to stop)\n",
    "\n",
    "This means that if you develop your own learning model, you do not need to also add all this \"side functionalities\"! How great is that!\n",
    "\n",
    "\n",
    "## Passing data\n",
    "\n",
    "Different algorithms use data differently. Some iterate over each element, while other take batches and so on. \n",
    "\n",
    "The base code uses this loop: `for (i, item) in enumerate(data)`. This implies the data supplied for training is an iterable. This is often not really the case, for instance a matrix, although technically iterable, will be enumerated by element, instead of by row or column which is the more natural way.\n",
    "\n",
    "Two solutions are therefore proposed;\n",
    "\n",
    "The first is to pass a _repeated_ matrix using Base.Iterators.repeated, which will basically make every \"item\" a copy of the initial matrix. This is simply used as `repeated(matrix)`.\n",
    "\n",
    "The other is to do some preprocessing, possibly using the `setup!` function or in some other way. It would be, for example, possible to make a row iterator, in the case of a row-majored matrix."
   ]
  },
  {
   "cell_type": "markdown",
   "metadata": {},
   "source": [
    "____\n",
    "## Examples\n",
    "\n",
    "Index of examples:\n",
    "\n",
    "1. Building a simple maximum finder (model with no data)\n",
    "2. Building a simple K-means algorithm (model with data)\n",
    "3. Using meta-strategies\n",
    "4. Creating meta-strategies\n",
    "\n",
    "\n",
    "\n",
    "### Making a simple maximum finder (No data)\n",
    "\n",
    "Below I will show a and explain a code to make a simple (and not very good..) maximum finder!\n",
    "The idea is this: the model will simply include a starting point (2D space), and a _heuristic function_ that is being maximised by a (bad) strategy.\n",
    "\n",
    "First thing first, since we're going to be implementing `learn!, update!` and `finished`, we need to export them from the base package"
   ]
  },
  {
   "cell_type": "code",
   "execution_count": 19,
   "metadata": {},
   "outputs": [],
   "source": [
    "using LearningStrategies\n",
    "import LearningStrategies: setup!, learn!, update!, finished, hook"
   ]
  },
  {
   "cell_type": "markdown",
   "metadata": {},
   "source": [
    "Now we define the model. It contains 4 attributes, one of which is a generic function. x & y are the starting points, and z will just keep track of the current \"height\" (i.e. score) in the solution space. The _heuristic_ is the function to be optimised"
   ]
  },
  {
   "cell_type": "code",
   "execution_count": 20,
   "metadata": {},
   "outputs": [],
   "source": [
    "mutable struct HillClimber\n",
    "    x::Float64\n",
    "    y::Float64\n",
    "    z::Float64\n",
    "    heuristic::Function\n",
    "end"
   ]
  },
  {
   "cell_type": "markdown",
   "metadata": {},
   "source": [
    "Then, we define our learning strategy structure. Since this strategy doesn't require any attributes, its definition is trivial."
   ]
  },
  {
   "cell_type": "code",
   "execution_count": 4,
   "metadata": {},
   "outputs": [],
   "source": [
    "struct SillyOptimizer <: LearningStrategy end"
   ]
  },
  {
   "cell_type": "markdown",
   "metadata": {},
   "source": [
    "Finally we start the actual strategy building."
   ]
  },
  {
   "cell_type": "code",
   "execution_count": 5,
   "metadata": {},
   "outputs": [
    {
     "data": {
      "text/plain": [
       "finished (generic function with 13 methods)"
      ]
     },
     "execution_count": 5,
     "metadata": {},
     "output_type": "execute_result"
    }
   ],
   "source": [
    "function update!(model::HillClimber, s::SillyOptimizer)\n",
    "    # Generate 4 random direction vectors\n",
    "    choices = rand((4,2))-0.5\n",
    "\n",
    "    # Normalizes to unit step size\n",
    "    choices ./= abs.(sum(choices,2))\n",
    "\n",
    "    # Test the locations\n",
    "    heights = [heuristic(choices[i,:]+[model.x,model.y]) for i in 1:size(choices,1)]\n",
    "    \n",
    "    # Keep the best\n",
    "    (model.z, best) = findmax(heights)\n",
    "    \n",
    "    # Change current coordinates\n",
    "    model.x += choices[best,1]\n",
    "    model.y += choices[best,2]\n",
    "end\n",
    "\n",
    "# Stop after first iteration\n",
    "finished(s::SillyOptimizer, model) = true"
   ]
  },
  {
   "cell_type": "markdown",
   "metadata": {},
   "source": [
    "You may have noticed that the `learn!` did not actually need to be defined since there is no need to override the default learning structure. The _finished_ function simply returns true, hence the learning will complete after one iteration. Let's give it a try:"
   ]
  },
  {
   "cell_type": "code",
   "execution_count": 6,
   "metadata": {},
   "outputs": [
    {
     "data": {
      "text/plain": [
       "HillClimber(-1.6208914420026157, 2.120891442002616, 0.532507862944639, heuristic)"
      ]
     },
     "execution_count": 6,
     "metadata": {},
     "output_type": "execute_result"
    }
   ],
   "source": [
    "# Gaussian with max at (0,1)\n",
    "function heuristic(x)\n",
    "    arg = (x[1])^2 /5 + (x[2]-1)^2 /12\n",
    "    h = exp(-arg)\n",
    "    h\n",
    "end\n",
    "\n",
    "# Create the model, giving the attributes in order of definition\n",
    "model = HillClimber(1.5, -2, 0, heuristic)\n",
    "\n",
    "# Learn!\n",
    "learn!(model, SillyOptimizer() )"
   ]
  },
  {
   "cell_type": "markdown",
   "metadata": {},
   "source": [
    "So given that it's a pretty bad optimiser and that we only allowed for one iteration, it didn't perform very well..\n",
    "Now it's quite hard for such an optimizer to decide when to stop and building a finished function. Therefore, what I will do is intead use meta-learning to decide when to finish. \n",
    "\n",
    "To do this, I first need to redefine `finished` so that it doesn't return true, and then use a convergence strategy, such as MaxIter or TimeLimit.\n"
   ]
  },
  {
   "cell_type": "code",
   "execution_count": 7,
   "metadata": {},
   "outputs": [
    {
     "data": {
      "text/plain": [
       "HillClimber(-0.07330374821997321, -0.42669625178002624, 0.8430773770493363, heuristic)"
      ]
     },
     "execution_count": 7,
     "metadata": {},
     "output_type": "execute_result"
    }
   ],
   "source": [
    "# Redefine to never finish (careful here! #infiniteloop)\n",
    "finished(s::SillyOptimizer, model) = false\n",
    "\n",
    "# Create the model, giving the attributes in order of definition\n",
    "model = HillClimber(1.5, -2, 0, heuristic)\n",
    "\n",
    "# Use MaxIter to decide when to end learning\n",
    "learn!(model, strategy( SillyOptimizer(), MaxIter(20) ) )"
   ]
  },
  {
   "cell_type": "markdown",
   "metadata": {},
   "source": [
    "### Building a K-means learner \n",
    "\n",
    "_TODO: rewrite this terrible description_ \n",
    "\n",
    "K-means is an unsupervised-learning algorithm which attempts to find the \"means\" which cluster the data the best.\n",
    "\n",
    "The model itself doesn't require anything more than the number _K_ of clusters that the user expects, and an array of means which can be initialised in the setup."
   ]
  },
  {
   "cell_type": "code",
   "execution_count": 24,
   "metadata": {},
   "outputs": [
    {
     "data": {
      "text/plain": [
       "update! (generic function with 5 methods)"
      ]
     },
     "execution_count": 24,
     "metadata": {},
     "output_type": "execute_result"
    }
   ],
   "source": [
    "mutable struct KMeans\n",
    "    k::Int32\n",
    "    means::Array{Float64,2}\n",
    "end\n",
    "\n",
    "KMeans(k) = KMeans(k, zeros((0,2)) )\n",
    "\n",
    "mutable struct Lloyds <:LearningStrategy end\n",
    "\n",
    "function setup!(s::Lloyds, model::KMeans)\n",
    "    model.means = randn((model.k,2))\n",
    "end\n",
    "\n",
    "\n",
    "function learn!(model::KMeans, s::Lloyds, repeated_points::Array{Float64,2})\n",
    "    \n",
    "    n_obs = size(points,2)\n",
    "    distances = Float64[model.k]\n",
    "    choices = Float64[n_obs]\n",
    "        \n",
    "    setup!(s, model)\n",
    "    \n",
    "    for points in repeated_points\n",
    "       update!(model, s, points) \n",
    "    end\n",
    "end\n",
    "\n",
    "function update!(model::KMeans, s::Lloyds, points::Array{Float64,2})\n",
    "    # Assign step\n",
    "    choices = Int32[n_obs]\n",
    "    for i in 1:n_obs    \n",
    "        # Get distance from means\n",
    "        distances = Float64[model.k]\n",
    "        for j in 1:model.k\n",
    "            distances[j] = abs( points[i,:]-model.means[j] )^2\n",
    "        end\n",
    "        \n",
    "        # Assign to closest mean\n",
    "        choices[i] = findmin(distances,2)\n",
    "    end\n",
    "    \n",
    "    # Update step\n",
    "    for i in 1:model.k\n",
    "        in_cluster = (choices .== i)\n",
    "        \n",
    "        mean = sum(points[in_cluster,:],1)\n",
    "        mean /= sum(in_cluster.==true)\n",
    "        \n",
    "        model.means[i] = mean\n",
    "    end\n",
    "    model\n",
    "end"
   ]
  },
  {
   "cell_type": "code",
   "execution_count": 41,
   "metadata": {},
   "outputs": [
    {
     "data": {
      "text/html": [
       "<img src=\"data:image/png;base64,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\" />"
      ]
     },
     "execution_count": 41,
     "metadata": {},
     "output_type": "execute_result"
    }
   ],
   "source": [
    "model = KMeans(5)\n",
    "using Plots\n",
    "points = vcat( randn(100,2)*0.2 .+ [1.0 2.0], randn(100,2)*0.5 .+ [-1.0 0.0], randn(100,2)*0.35 .+ [2.0 -1.0] )\n",
    "\n",
    "scatter(points[:,1], points[:,2])"
   ]
  },
  {
   "cell_type": "code",
   "execution_count": 33,
   "metadata": {},
   "outputs": [
    {
     "data": {
      "text/plain": [
       "100×2 Array{Float64,2}:\n",
       " 1.01218   1.97301\n",
       " 1.21049   2.03698\n",
       " 1.23652   2.1481 \n",
       " 1.1154    1.73253\n",
       " 1.11719   2.02073\n",
       " 1.27488   2.18354\n",
       " 1.02382   2.21404\n",
       " 1.12586   1.84664\n",
       " 0.948509  1.97617\n",
       " 1.05152   1.80049\n",
       " 1.18676   2.09193\n",
       " 1.28904   2.01353\n",
       " 0.884006  2.0516 \n",
       " ⋮                \n",
       " 1.02936   2.08447\n",
       " 0.836537  2.30386\n",
       " 0.903281  2.33309\n",
       " 1.11648   2.27525\n",
       " 0.977585  2.35686\n",
       " 1.05292   2.00415\n",
       " 1.06815   1.84419\n",
       " 1.09951   1.95009\n",
       " 1.11082   2.11132\n",
       " 0.73388   1.70292\n",
       " 0.583742  1.82661\n",
       " 0.778028  1.87095"
      ]
     },
     "execution_count": 33,
     "metadata": {},
     "output_type": "execute_result"
    }
   ],
   "source": [
    "vcat(randn(50,2)*0.2 .+ [1.0 2.0], randn(50,2)*0.2 .+ [1.0 2.0])"
   ]
  },
  {
   "cell_type": "code",
   "execution_count": 15,
   "metadata": {},
   "outputs": [
    {
     "data": {
      "text/plain": [
       "2"
      ]
     },
     "execution_count": 15,
     "metadata": {},
     "output_type": "execute_result"
    }
   ],
   "source": [
    "p = [1,2,4,2,3,1]\n",
    "indeces = (p .== 2)\n",
    "sum(indeces.==true)"
   ]
  },
  {
   "cell_type": "markdown",
   "metadata": {},
   "source": [
    "### Making a helper strategy\n",
    "\n",
    "Now it's quite hard to tell whether it's actually working any good given the optimizer is quite bad and will keep moving even when it reaches a maximum, therefore I'd like to be able to visualise.. \n",
    "\n",
    "Why not build a path tracing strategy!"
   ]
  },
  {
   "cell_type": "code",
   "execution_count": 8,
   "metadata": {},
   "outputs": [
    {
     "data": {
      "text/plain": [
       "update! (generic function with 6 methods)"
      ]
     },
     "execution_count": 8,
     "metadata": {},
     "output_type": "execute_result"
    }
   ],
   "source": [
    "# One array for each coordinate to keep track of positions\n",
    "mutable struct PathTracer <: LearningStrategy\n",
    "    x::Array{Float64}\n",
    "    y::Array{Float64}\n",
    "    z::Array{Float64}\n",
    "end\n",
    "\n",
    "# The constructor (for any argument) is simply to initialise the arrays\n",
    "PathTracer() = PathTracer([],[],[])\n",
    "\n",
    "# On setup, save initial position\n",
    "function setup!(s::PathTracer, model::HillClimber)\n",
    "   update!(model, s) \n",
    "end\n",
    "\n",
    "# Save current position\n",
    "function update!(model::HillClimber, s::PathTracer)\n",
    "    push!(s.x, model.x)\n",
    "    push!(s.y, model.y)\n",
    "    push!(s.z, model.z)\n",
    "end"
   ]
  },
  {
   "cell_type": "code",
   "execution_count": 9,
   "metadata": {},
   "outputs": [
    {
     "data": {
      "text/plain": [
       "HillClimber(0.4190427665181933, 0.7809572334818065, 0.9616375377854732, heuristic)"
      ]
     },
     "execution_count": 9,
     "metadata": {},
     "output_type": "execute_result"
    }
   ],
   "source": [
    "# Run the model again, this time adding the path tracer strategy\n",
    "model = HillClimber(2.0, -4.8, 0.0, heuristic)\n",
    "tracer = PathTracer()\n",
    "learn!(model, strategy(SillyOptimizer(), MaxIter(30), tracer) )"
   ]
  },
  {
   "cell_type": "code",
   "execution_count": null,
   "metadata": {},
   "outputs": [],
   "source": [
    "# Plot\n",
    "using Plots\n",
    "pyplot()\n",
    "xs = linspace(-3,3,30)\n",
    "ys = linspace(-5,5,30)\n",
    "z = [heuristic([x, y]) for x=xs, y=ys]'\n",
    "\n",
    "anim = @animate for max_length = 2:length(tracer.x)-1\n",
    "    plot(xs, ys, z)\n",
    "    for i in 1:max_length\n",
    "        plot!([tracer.x[i], tracer.x[i+1]], [tracer.y[i], tracer.y[i+1]], arrow = true, color=\"black\")\n",
    "    end\n",
    "    plot!(legend=false, cb=false, title=\"SillyOptimizer Trace\")\n",
    "end"
   ]
  },
  {
   "cell_type": "markdown",
   "metadata": {},
   "source": [
    "![SillyOptimizer](resources/SillyOptimizer.gif)"
   ]
  },
  {
   "cell_type": "markdown",
   "metadata": {},
   "source": [
    "That seems to work quite well!"
   ]
  },
  {
   "cell_type": "markdown",
   "metadata": {},
   "source": [
    "### Hook Strategy\n",
    "\n",
    "The `hook` method is another method allowed in the framework, which should mostly be using for printing or logging. Nevertheless, here is a small example of what could be done with it: showing the current iteration!"
   ]
  },
  {
   "cell_type": "code",
   "execution_count": 11,
   "metadata": {},
   "outputs": [
    {
     "data": {
      "text/plain": [
       "hook (generic function with 7 methods)"
      ]
     },
     "execution_count": 11,
     "metadata": {},
     "output_type": "execute_result"
    }
   ],
   "source": [
    "# Define the structure \n",
    "mutable struct Iteration <: LearningStrategy\n",
    "    n::Int\n",
    "end\n",
    "\n",
    "# Make the constructor always initialise to iteration 0\n",
    "Iteration() = Iteration(0)\n",
    "\n",
    "# Simple function to make nice priting\n",
    "Base.show(io::IO, s::Iteration) = print(io, \"Iteration: $(s.n)\")\n",
    "\n",
    "# The main culprit\n",
    "function hook(s::Iteration, model, .. )\n",
    "    info(s)\n",
    "    s.n+=1\n",
    "end\n",
    "\n",
    "# Note: this is a slight cheat, since hook shouldn't be modifying in place.. \n",
    "#       you'd usually want to update in update!(), and hook to record/show"
   ]
  },
  {
   "cell_type": "markdown",
   "metadata": {},
   "source": [
    "Resulting in a quite horrible logging!"
   ]
  },
  {
   "cell_type": "code",
   "execution_count": 12,
   "metadata": {},
   "outputs": [
    {
     "name": "stderr",
     "output_type": "stream",
     "text": [
      "\u001b[1m\u001b[36mINFO: \u001b[39m\u001b[22m\u001b[36mIteration: 0\n",
      "\u001b[39m\u001b[1m\u001b[36mINFO: \u001b[39m\u001b[22m\u001b[36mIteration: 1\n",
      "\u001b[39m\u001b[1m\u001b[36mINFO: \u001b[39m\u001b[22m\u001b[36mIteration: 2\n",
      "\u001b[39m\u001b[1m\u001b[36mINFO: \u001b[39m\u001b[22m\u001b[36mIteration: 3\n",
      "\u001b[39m\u001b[1m\u001b[36mINFO: \u001b[39m\u001b[22m\u001b[36mIteration: 4\n",
      "\u001b[39m\u001b[1m\u001b[36mINFO: \u001b[39m\u001b[22m\u001b[36mIteration: 5\n",
      "\u001b[39m\u001b[1m\u001b[36mINFO: \u001b[39m\u001b[22m\u001b[36mIteration: 6\n",
      "\u001b[39m\u001b[1m\u001b[36mINFO: \u001b[39m\u001b[22m\u001b[36mIteration: 7\n",
      "\u001b[39m\u001b[1m\u001b[36mINFO: \u001b[39m\u001b[22m\u001b[36mIteration: 8\n",
      "\u001b[39m\u001b[1m\u001b[36mINFO: \u001b[39m\u001b[22m\u001b[36mIteration: 9\n",
      "\u001b[39m\u001b[1m\u001b[36mINFO: \u001b[39m\u001b[22m\u001b[36mIteration: 10\n",
      "\u001b[39m\u001b[1m\u001b[36mINFO: \u001b[39m\u001b[22m\u001b[36mIteration: 11\n",
      "\u001b[39m\u001b[1m\u001b[36mINFO: \u001b[39m\u001b[22m\u001b[36mIteration: 12\n",
      "\u001b[39m\u001b[1m\u001b[36mINFO: \u001b[39m\u001b[22m\u001b[36mIteration: 13\n",
      "\u001b[39m\u001b[1m\u001b[36mINFO: \u001b[39m\u001b[22m\u001b[36mIteration: 14\n",
      "\u001b[39m\u001b[1m\u001b[36mINFO: \u001b[39m\u001b[22m\u001b[36mMaxIter(15) finished\n",
      "\u001b[39m"
     ]
    },
    {
     "data": {
      "text/plain": [
       "HillClimber(-0.006653057455942357, 0.20665305745594265, 0.9488934144329644, heuristic)"
      ]
     },
     "execution_count": 12,
     "metadata": {},
     "output_type": "execute_result"
    }
   ],
   "source": [
    "# Run the model again, this time adding the path tracer strategy\n",
    "model = HillClimber(2.0, -4.8, 0.0, heuristic)\n",
    "tracer = PathTracer()\n",
    "learn!(model, Verbose(strategy(SillyOptimizer(), MaxIter(15), tracer, Iteration())) )"
   ]
  }
 ],
 "metadata": {
  "kernelspec": {
   "display_name": "Julia 0.6.2",
   "language": "julia",
   "name": "julia-0.6"
  },
  "language_info": {
   "file_extension": ".jl",
   "mimetype": "application/julia",
   "name": "julia",
   "version": "0.6.2"
  }
 },
 "nbformat": 4,
 "nbformat_minor": 2
}
