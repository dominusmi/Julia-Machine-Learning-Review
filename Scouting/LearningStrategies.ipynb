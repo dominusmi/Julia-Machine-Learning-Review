{
 "cells": [
  {
   "cell_type": "markdown",
   "metadata": {},
   "source": [
    "# Learning Strategies\n",
    "\n",
    "_git:_ https://github.com/JuliaML/LearningStrategies.jl\n",
    "\n",
    "## Summary\n",
    "\n",
    "Through the JuliaML _Learn.jl_ and _LearningStrategies.jl_, the Julia team built a framework allowing the simple implementation of new algorithms and learning strategies through the structure, and therefore also making it extremely simple to combine multiple strategies together.\n",
    "\n",
    "A strategy here simply means a way for the user to tell how a model (stored as a _struct_) is setup, trained and updated. This idea stems from the very similar property most learning algorithms operate with, which is:\n",
    "\n",
    "```julia\n",
    "# Learning a model involves a model, a strategy and (not necessary) some data    \n",
    "function learn!(model, strat::LearningStrategy, data)   \n",
    "    # We set up the model, can be preparing arrays for training, doing some preprocessing\n",
    "    setup!(strat, model[, data])           \n",
    "    \n",
    "    # Using the \"repeated\" function  on your data allows it to replicate it infinitely\n",
    "    for (i, item) in enumerate(data)                    \n",
    "    \n",
    "        # Update the model according to the strategy(-ies) and the data  \n",
    "        update!(model, strat[, i], item) \n",
    "        \n",
    "        # Allows to record information or generally \"hook in\" the process. Should NOT modify in place\n",
    "        hook(strat, model[, data], i)    \n",
    "        \n",
    "        # Checks if the finishing condition has been reached\n",
    "        finished(strat, model[, data], i) && break      \n",
    "    end\n",
    "    \n",
    "    # Clean up after yourself\n",
    "    cleanup!(strat, model) \n",
    "    \n",
    "    # Return the trained model\n",
    "    model                                               \n",
    "end\n",
    "```\n",
    "\n",
    "Which can be translated as setup, iterate over data until some end condition is met, and clean up.\n",
    "In addition, a conventional extra function which can (and should) be defined if your model is predictive, is _predict()_, with pseudocode\n",
    "\n",
    "```julia\n",
    "function predict(model, data)\n",
    "    # Make predictions\n",
    "end\n",
    "```\n",
    "\n",
    "## LearningStrategy\n",
    "\n",
    "A LearningStrategy is simply a struct which extends _LearningStrategy_. A strategy needs not contain any variable, all that is required is that at least one of the following functions is defined:\n",
    "\n",
    "- `setup!(strat, model, data)`\n",
    "- `cleanup!(strat, model)`\n",
    "- `hook(strat, model, i)`\n",
    "- `finished(strat, model, data, i)`\n",
    "- `update!(model, strat, item)`\n",
    "\n",
    "Keep in mind of course that if only the `hook` function is defined for a generic strategy _StrategyA_, and this is the only strategy given for learning, the model will.. not learn anything!\n",
    "\n",
    "This architecture makes it extremely simple for user wanting to write his own learning algorithm to add methods as they come without need further planning. For instance, suppose one strats off by just implementing and `SGD()` optimizer, then all that would be required is to define the structure\n",
    "\n",
    "```julia\n",
    "struct SGD() <:LearningStrategy end\n",
    "```\n",
    "\n",
    "and then implement the actual optimization by defining a function `update!(model, strategy::SGD)`. Later on, if the same user or another wants to implement _AdaProx_ optimizer, they can simply add a new function `update!(model, strategy::AdaProx)`.\n",
    "\n",
    "It is not even required to explicitely wirte a `learn!` function if all you need is the `update!`, simply use the call\n",
    "```julia\n",
    "learn!(model, SGD(), data)\n",
    "```\n",
    "and Julia will handle the \"missing\" functions (by simply skipping them) and will make the call to the update you defined.\n",
    "\n",
    "**Note:** the _data_ (and _i_)parameter is not actually required, all the base functions are defined with both data and no data argument\n",
    "\n",
    "## Meta-Strategy\n",
    "\n",
    "One extremely powerful feature that this framework offers is the combination of strategies. For instance, while only one strategy will tell the model how to train and update for each iteration, extra strategies which only give side indications can be very easily used. For instance, one of the built-in strategies is `MaxIter(n=100)` which, if given in conjuction to a laerning strategy for any model, will overload the _finished_ function, and will do its own check as to whether the algorithm is indeed over. A simple use would be:\n",
    "\n",
    "```julia\n",
    "learn!(MyModel(), strategies( MyLearningStrategy(), MaxIter(20) ), MyData )\n",
    "```\n",
    "\n",
    "In this way, the learning process will end after 20 iterations, even if the conditions for _finished()_ given by the _MyLearningStrategy_ are not met (only one _finished_ condition needs to be met for the learning to stop)\n",
    "\n",
    "This means that if you develop your own learning model, you do not need to also add all this \"side functionalities\"! How great is that!\n",
    "\n",
    "\n",
    "## Passing data\n",
    "\n",
    "Different algorithms use data differently. Some iterate over each element, while other take batches and so on. \n",
    "\n",
    "The base code uses this loop: `for (i, item) in enumerate(data)`. This implies the data supplied for training is an iterable. This is often not really the case, for instance a matrix, although technically iterable, will be enumerated by element, instead of by row or column which is the more natural way.\n",
    "\n",
    "Two solutions are therefore proposed;\n",
    "\n",
    "The first is to pass a _repeated_ matrix using Base.Iterators.repeated, which will basically make every \"item\" a copy of the initial matrix. This is simply used as `repeated(matrix)`.\n",
    "\n",
    "The other is to do some preprocessing, possibly using the `setup!` function or in some other way. It would be, for example, possible to make a row iterator, in the case of a row-majored matrix."
   ]
  },
  {
   "cell_type": "markdown",
   "metadata": {},
   "source": [
    "____\n",
    "## Examples\n",
    "\n",
    "Index of examples:\n",
    "\n",
    "1. Building a simple maximum finder (model with no data)\n",
    "2. Building a simple K-means algorithm (model with data)\n",
    "3. Using meta-strategies\n",
    "4. Creating meta-strategies\n",
    "\n",
    "\n",
    "\n",
    "### Making a simple maximum finder (No data)\n",
    "\n",
    "Below I will show a and explain a code to make a simple (and not very good..) maximum finder!\n",
    "The idea is this: the model will simply include a starting point (2D space), and a _heuristic function_ that is being maximised by a (bad) strategy.\n",
    "\n",
    "First thing first, since we're going to be implementing `learn!, update!` and `finished`, we need to export them from the base package"
   ]
  },
  {
   "cell_type": "code",
   "execution_count": 19,
   "metadata": {},
   "outputs": [],
   "source": [
    "using LearningStrategies\n",
    "import LearningStrategies: setup!, learn!, update!, finished, hook"
   ]
  },
  {
   "cell_type": "markdown",
   "metadata": {},
   "source": [
    "Now we define the model. It contains 4 attributes, one of which is a generic function. x & y are the starting points, and z will just keep track of the current \"height\" (i.e. score) in the solution space. The _heuristic_ is the function to be optimised"
   ]
  },
  {
   "cell_type": "code",
   "execution_count": 20,
   "metadata": {},
   "outputs": [],
   "source": [
    "mutable struct HillClimber\n",
    "    x::Float64\n",
    "    y::Float64\n",
    "    z::Float64\n",
    "    heuristic::Function\n",
    "end"
   ]
  },
  {
   "cell_type": "markdown",
   "metadata": {},
   "source": [
    "Then, we define our learning strategy structure. Since this strategy doesn't require any attributes, its definition is trivial."
   ]
  },
  {
   "cell_type": "code",
   "execution_count": 4,
   "metadata": {},
   "outputs": [],
   "source": [
    "struct SillyOptimizer <: LearningStrategy end"
   ]
  },
  {
   "cell_type": "markdown",
   "metadata": {},
   "source": [
    "Finally we start the actual strategy building."
   ]
  },
  {
   "cell_type": "code",
   "execution_count": 5,
   "metadata": {},
   "outputs": [
    {
     "data": {
      "text/plain": [
       "finished (generic function with 13 methods)"
      ]
     },
     "execution_count": 5,
     "metadata": {},
     "output_type": "execute_result"
    }
   ],
   "source": [
    "function update!(model::HillClimber, s::SillyOptimizer)\n",
    "    # Generate 4 random direction vectors\n",
    "    choices = rand((4,2))-0.5\n",
    "\n",
    "    # Normalizes to unit step size\n",
    "    choices ./= abs.(sum(choices,2))\n",
    "\n",
    "    # Test the locations\n",
    "    heights = [heuristic(choices[i,:]+[model.x,model.y]) for i in 1:size(choices,1)]\n",
    "    \n",
    "    # Keep the best\n",
    "    (model.z, best) = findmax(heights)\n",
    "    \n",
    "    # Change current coordinates\n",
    "    model.x += choices[best,1]\n",
    "    model.y += choices[best,2]\n",
    "end\n",
    "\n",
    "# Stop after first iteration\n",
    "finished(s::SillyOptimizer, model) = true"
   ]
  },
  {
   "cell_type": "markdown",
   "metadata": {},
   "source": [
    "You may have noticed that the `learn!` did not actually need to be defined since there is no need to override the default learning structure. The _finished_ function simply returns true, hence the learning will complete after one iteration. Let's give it a try:"
   ]
  },
  {
   "cell_type": "code",
   "execution_count": 6,
   "metadata": {},
   "outputs": [
    {
     "data": {
      "text/plain": [
       "HillClimber(-1.6208914420026157, 2.120891442002616, 0.532507862944639, heuristic)"
      ]
     },
     "execution_count": 6,
     "metadata": {},
     "output_type": "execute_result"
    }
   ],
   "source": [
    "# Gaussian with max at (0,1)\n",
    "function heuristic(x)\n",
    "    arg = (x[1])^2 /5 + (x[2]-1)^2 /12\n",
    "    h = exp(-arg)\n",
    "    h\n",
    "end\n",
    "\n",
    "# Create the model, giving the attributes in order of definition\n",
    "model = HillClimber(1.5, -2, 0, heuristic)\n",
    "\n",
    "# Learn!\n",
    "learn!(model, SillyOptimizer() )"
   ]
  },
  {
   "cell_type": "markdown",
   "metadata": {},
   "source": [
    "So given that it's a pretty bad optimiser and that we only allowed for one iteration, it didn't perform very well..\n",
    "Now it's quite hard for such an optimizer to decide when to stop and building a finished function. Therefore, what I will do is intead use meta-learning to decide when to finish. \n",
    "\n",
    "To do this, I first need to redefine `finished` so that it doesn't return true, and then use a convergence strategy, such as MaxIter or TimeLimit.\n"
   ]
  },
  {
   "cell_type": "code",
   "execution_count": 7,
   "metadata": {},
   "outputs": [
    {
     "data": {
      "text/plain": [
       "HillClimber(-0.07330374821997321, -0.42669625178002624, 0.8430773770493363, heuristic)"
      ]
     },
     "execution_count": 7,
     "metadata": {},
     "output_type": "execute_result"
    }
   ],
   "source": [
    "# Redefine to never finish (careful here! #infiniteloop)\n",
    "finished(s::SillyOptimizer, model) = false\n",
    "\n",
    "# Create the model, giving the attributes in order of definition\n",
    "model = HillClimber(1.5, -2, 0, heuristic)\n",
    "\n",
    "# Use MaxIter to decide when to end learning\n",
    "learn!(model, strategy( SillyOptimizer(), MaxIter(20) ) )"
   ]
  },
  {
   "cell_type": "markdown",
   "metadata": {},
   "source": [
    "### Building a K-means learner \n",
    "\n",
    "_TODO: rewrite this terrible description_ \n",
    "\n",
    "K-means is an unsupervised-learning algorithm which attempts to find the \"means\" which cluster the data the best.\n",
    "\n",
    "The model itself doesn't require anything more than the number _K_ of clusters that the user expects, and an array of means which can be initialised in the setup."
   ]
  },
  {
   "cell_type": "code",
   "execution_count": 24,
   "metadata": {},
   "outputs": [
    {
     "data": {
      "text/plain": [
       "update! (generic function with 5 methods)"
      ]
     },
     "execution_count": 24,
     "metadata": {},
     "output_type": "execute_result"
    }
   ],
   "source": [
    "mutable struct KMeans\n",
    "    k::Int32\n",
    "    means::Array{Float64,2}\n",
    "end\n",
    "\n",
    "KMeans(k) = KMeans(k, zeros((0,2)) )\n",
    "\n",
    "mutable struct Lloyds <:LearningStrategy end\n",
    "\n",
    "function setup!(s::Lloyds, model::KMeans)\n",
    "    model.means = randn((model.k,2))\n",
    "end\n",
    "\n",
    "\n",
    "function learn!(model::KMeans, s::Lloyds, repeated_points::Array{Float64,2})\n",
    "    \n",
    "    n_obs = size(points,2)\n",
    "    distances = Float64[model.k]\n",
    "    choices = Float64[n_obs]\n",
    "        \n",
    "    setup!(s, model)\n",
    "    \n",
    "    for points in repeated_points\n",
    "       update!(model, s, points) \n",
    "    end\n",
    "end\n",
    "\n",
    "function update!(model::KMeans, s::Lloyds, points::Array{Float64,2})\n",
    "    # Assign step\n",
    "    choices = Int32[n_obs]\n",
    "    for i in 1:n_obs    \n",
    "        # Get distance from means\n",
    "        distances = Float64[model.k]\n",
    "        for j in 1:model.k\n",
    "            distances[j] = abs( points[i,:]-model.means[j] )^2\n",
    "        end\n",
    "        \n",
    "        # Assign to closest mean\n",
    "        choices[i] = findmin(distances,2)\n",
    "    end\n",
    "    \n",
    "    # Update step\n",
    "    for i in 1:model.k\n",
    "        in_cluster = (choices .== i)\n",
    "        \n",
    "        mean = sum(points[in_cluster,:],1)\n",
    "        mean /= sum(in_cluster.==true)\n",
    "        \n",
    "        model.means[i] = mean\n",
    "    end\n",
    "    model\n",
    "end"
   ]
  },
  {
   "cell_type": "code",
   "execution_count": 38,
   "metadata": {},
   "outputs": [
    {
     "data": {
      "text/html": [
       "<img src=\"data:image/png;base64,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\" />"
      ]
     },
     "execution_count": 38,
     "metadata": {},
     "output_type": "execute_result"
    }
   ],
   "source": [
    "model = KMeans(5)\n",
    "using Plots\n",
    "points = vcat( randn(50,2)*0.2 .+ [1.0 2.0], randn(50,2)*0.5 .+ [-1.0 0.0], randn(50,2)*0.5 .+ [2.0 -1.0] )\n",
    "\n",
    "scatter(points)"
   ]
  },
  {
   "cell_type": "code",
   "execution_count": 33,
   "metadata": {},
   "outputs": [
    {
     "data": {
      "text/plain": [
       "100×2 Array{Float64,2}:\n",
       " 1.01218   1.97301\n",
       " 1.21049   2.03698\n",
       " 1.23652   2.1481 \n",
       " 1.1154    1.73253\n",
       " 1.11719   2.02073\n",
       " 1.27488   2.18354\n",
       " 1.02382   2.21404\n",
       " 1.12586   1.84664\n",
       " 0.948509  1.97617\n",
       " 1.05152   1.80049\n",
       " 1.18676   2.09193\n",
       " 1.28904   2.01353\n",
       " 0.884006  2.0516 \n",
       " ⋮                \n",
       " 1.02936   2.08447\n",
       " 0.836537  2.30386\n",
       " 0.903281  2.33309\n",
       " 1.11648   2.27525\n",
       " 0.977585  2.35686\n",
       " 1.05292   2.00415\n",
       " 1.06815   1.84419\n",
       " 1.09951   1.95009\n",
       " 1.11082   2.11132\n",
       " 0.73388   1.70292\n",
       " 0.583742  1.82661\n",
       " 0.778028  1.87095"
      ]
     },
     "execution_count": 33,
     "metadata": {},
     "output_type": "execute_result"
    }
   ],
   "source": [
    "vcat(randn(50,2)*0.2 .+ [1.0 2.0], randn(50,2)*0.2 .+ [1.0 2.0])"
   ]
  },
  {
   "cell_type": "code",
   "execution_count": 15,
   "metadata": {},
   "outputs": [
    {
     "data": {
      "text/plain": [
       "2"
      ]
     },
     "execution_count": 15,
     "metadata": {},
     "output_type": "execute_result"
    }
   ],
   "source": [
    "p = [1,2,4,2,3,1]\n",
    "indeces = (p .== 2)\n",
    "sum(indeces.==true)"
   ]
  },
  {
   "cell_type": "markdown",
   "metadata": {},
   "source": [
    "### Making a helper strategy\n",
    "\n",
    "Now it's quite hard to tell whether it's actually working any good given the optimizer is quite bad and will keep moving even when it reaches a maximum, therefore I'd like to be able to visualise.. \n",
    "\n",
    "Why not build a path tracing strategy!"
   ]
  },
  {
   "cell_type": "code",
   "execution_count": 8,
   "metadata": {},
   "outputs": [
    {
     "data": {
      "text/plain": [
       "update! (generic function with 6 methods)"
      ]
     },
     "execution_count": 8,
     "metadata": {},
     "output_type": "execute_result"
    }
   ],
   "source": [
    "# One array for each coordinate to keep track of positions\n",
    "mutable struct PathTracer <: LearningStrategy\n",
    "    x::Array{Float64}\n",
    "    y::Array{Float64}\n",
    "    z::Array{Float64}\n",
    "end\n",
    "\n",
    "# The constructor (for any argument) is simply to initialise the arrays\n",
    "PathTracer() = PathTracer([],[],[])\n",
    "\n",
    "# On setup, save initial position\n",
    "function setup!(s::PathTracer, model::HillClimber)\n",
    "   update!(model, s) \n",
    "end\n",
    "\n",
    "# Save current position\n",
    "function update!(model::HillClimber, s::PathTracer)\n",
    "    push!(s.x, model.x)\n",
    "    push!(s.y, model.y)\n",
    "    push!(s.z, model.z)\n",
    "end"
   ]
  },
  {
   "cell_type": "code",
   "execution_count": 9,
   "metadata": {},
   "outputs": [
    {
     "data": {
      "text/plain": [
       "HillClimber(0.4190427665181933, 0.7809572334818065, 0.9616375377854732, heuristic)"
      ]
     },
     "execution_count": 9,
     "metadata": {},
     "output_type": "execute_result"
    }
   ],
   "source": [
    "# Run the model again, this time adding the path tracer strategy\n",
    "model = HillClimber(2.0, -4.8, 0.0, heuristic)\n",
    "tracer = PathTracer()\n",
    "learn!(model, strategy(SillyOptimizer(), MaxIter(30), tracer) )"
   ]
  },
  {
   "cell_type": "code",
   "execution_count": null,
   "metadata": {},
   "outputs": [],
   "source": [
    "# Plot\n",
    "using Plots\n",
    "pyplot()\n",
    "xs = linspace(-3,3,30)\n",
    "ys = linspace(-5,5,30)\n",
    "z = [heuristic([x, y]) for x=xs, y=ys]'\n",
    "\n",
    "anim = @animate for max_length = 2:length(tracer.x)-1\n",
    "    plot(xs, ys, z)\n",
    "    for i in 1:max_length\n",
    "        plot!([tracer.x[i], tracer.x[i+1]], [tracer.y[i], tracer.y[i+1]], arrow = true, color=\"black\")\n",
    "    end\n",
    "    plot!(legend=false, cb=false, title=\"SillyOptimizer Trace\")\n",
    "end"
   ]
  },
  {
   "cell_type": "markdown",
   "metadata": {},
   "source": [
    "![SillyOptimizer](resources/SillyOptimizer.gif)"
   ]
  },
  {
   "cell_type": "markdown",
   "metadata": {},
   "source": [
    "That seems to work quite well!"
   ]
  },
  {
   "cell_type": "markdown",
   "metadata": {},
   "source": [
    "### Hook Strategy\n",
    "\n",
    "The `hook` method is another method allowed in the framework, which should mostly be using for printing or logging. Nevertheless, here is a small example of what could be done with it: showing the current iteration!"
   ]
  },
  {
   "cell_type": "code",
   "execution_count": 11,
   "metadata": {},
   "outputs": [
    {
     "data": {
      "text/plain": [
       "hook (generic function with 7 methods)"
      ]
     },
     "execution_count": 11,
     "metadata": {},
     "output_type": "execute_result"
    }
   ],
   "source": [
    "# Define the structure \n",
    "mutable struct Iteration <: LearningStrategy\n",
    "    n::Int\n",
    "end\n",
    "\n",
    "# Make the constructor always initialise to iteration 0\n",
    "Iteration() = Iteration(0)\n",
    "\n",
    "# Simple function to make nice priting\n",
    "Base.show(io::IO, s::Iteration) = print(io, \"Iteration: $(s.n)\")\n",
    "\n",
    "# The main culprit\n",
    "function hook(s::Iteration, model, .. )\n",
    "    info(s)\n",
    "    s.n+=1\n",
    "end\n",
    "\n",
    "# Note: this is a slight cheat, since hook shouldn't be modifying in place.. \n",
    "#       you'd usually want to update in update!(), and hook to record/show"
   ]
  },
  {
   "cell_type": "markdown",
   "metadata": {},
   "source": [
    "Resulting in a quite horrible logging!"
   ]
  },
  {
   "cell_type": "code",
   "execution_count": 12,
   "metadata": {},
   "outputs": [
    {
     "name": "stderr",
     "output_type": "stream",
     "text": [
      "\u001b[1m\u001b[36mINFO: \u001b[39m\u001b[22m\u001b[36mIteration: 0\n",
      "\u001b[39m\u001b[1m\u001b[36mINFO: \u001b[39m\u001b[22m\u001b[36mIteration: 1\n",
      "\u001b[39m\u001b[1m\u001b[36mINFO: \u001b[39m\u001b[22m\u001b[36mIteration: 2\n",
      "\u001b[39m\u001b[1m\u001b[36mINFO: \u001b[39m\u001b[22m\u001b[36mIteration: 3\n",
      "\u001b[39m\u001b[1m\u001b[36mINFO: \u001b[39m\u001b[22m\u001b[36mIteration: 4\n",
      "\u001b[39m\u001b[1m\u001b[36mINFO: \u001b[39m\u001b[22m\u001b[36mIteration: 5\n",
      "\u001b[39m\u001b[1m\u001b[36mINFO: \u001b[39m\u001b[22m\u001b[36mIteration: 6\n",
      "\u001b[39m\u001b[1m\u001b[36mINFO: \u001b[39m\u001b[22m\u001b[36mIteration: 7\n",
      "\u001b[39m\u001b[1m\u001b[36mINFO: \u001b[39m\u001b[22m\u001b[36mIteration: 8\n",
      "\u001b[39m\u001b[1m\u001b[36mINFO: \u001b[39m\u001b[22m\u001b[36mIteration: 9\n",
      "\u001b[39m\u001b[1m\u001b[36mINFO: \u001b[39m\u001b[22m\u001b[36mIteration: 10\n",
      "\u001b[39m\u001b[1m\u001b[36mINFO: \u001b[39m\u001b[22m\u001b[36mIteration: 11\n",
      "\u001b[39m\u001b[1m\u001b[36mINFO: \u001b[39m\u001b[22m\u001b[36mIteration: 12\n",
      "\u001b[39m\u001b[1m\u001b[36mINFO: \u001b[39m\u001b[22m\u001b[36mIteration: 13\n",
      "\u001b[39m\u001b[1m\u001b[36mINFO: \u001b[39m\u001b[22m\u001b[36mIteration: 14\n",
      "\u001b[39m\u001b[1m\u001b[36mINFO: \u001b[39m\u001b[22m\u001b[36mMaxIter(15) finished\n",
      "\u001b[39m"
     ]
    },
    {
     "data": {
      "text/plain": [
       "HillClimber(-0.006653057455942357, 0.20665305745594265, 0.9488934144329644, heuristic)"
      ]
     },
     "execution_count": 12,
     "metadata": {},
     "output_type": "execute_result"
    }
   ],
   "source": [
    "# Run the model again, this time adding the path tracer strategy\n",
    "model = HillClimber(2.0, -4.8, 0.0, heuristic)\n",
    "tracer = PathTracer()\n",
    "learn!(model, Verbose(strategy(SillyOptimizer(), MaxIter(15), tracer, Iteration())) )"
   ]
  }
 ],
 "metadata": {
  "kernelspec": {
   "display_name": "Julia 0.6.2",
   "language": "julia",
   "name": "julia-0.6"
  },
  "language_info": {
   "file_extension": ".jl",
   "mimetype": "application/julia",
   "name": "julia",
   "version": "0.6.2"
  }
 },
 "nbformat": 4,
 "nbformat_minor": 2
}
