{
 "cells": [
  {
   "cell_type": "markdown",
   "metadata": {},
   "source": [
    "# Orchestra.jl\n",
    "\n",
    "https://github.com/svs14/Orchestra.jl"
   ]
  },
  {
   "cell_type": "markdown",
   "metadata": {},
   "source": [
    "# Summary\n",
    "\n",
    "Orchestra.jl attempts to build a uniform machine learner API. It is wrapping around multiple packages in Julia, Python and R to enable the user in the usage of different methods without having to load multiple packages and use different APIs. Here an overview of the packages Orchestra relies on:\n",
    "\n",
    "#### Julia\n",
    "<ul>\n",
    "<li>decisiontree.jl (review and demo see https://github.com/dominusmi/warwick-rsg/blob/master/Scouting/DecisionTree.ipynb)</li>\n",
    "<li>DimensionalityReduction.jl (https://github.com/JuliaStats/DimensionalityReduction.jl)</li>\n",
    "<li>MLBase.jl (https://github.com/JuliaStats/MLBase.jl)</li>\n",
    "<li>StatsBase.jl (https://github.com/JuliaStats/StatsBase.jl)</li>\n",
    "</ul>\n",
    "\n",
    "#### Python\n",
    "\n",
    "<ul>\n",
    "<li>scikit-learn (http://scikit-learn.org/stable/modules/classes.html)</li>\n",
    "</ul>\n",
    "\n",
    "#### R\n",
    "<ul>\n",
    "<li>caret (http://topepo.github.io/caret/available-models.html)</li>\n",
    "</ul>\n",
    "\n",
    "To install the package it needs to be cloned from github (Pkg.clone(\"url github repo\",\"pkg name\"). Unfortunately Orchestra is not compatible with Julia 0.6.2, as the package DimensionalityReduction.jl, which is relies on, is not compatible. It might work with lower Julia releases, however this could lead to problems with other packages, plotting and general usage. "
   ]
  },
  {
   "cell_type": "code",
   "execution_count": 5,
   "metadata": {},
   "outputs": [
    {
     "name": "stderr",
     "output_type": "stream",
     "text": [
      "\u001b[1m\u001b[36mINFO: \u001b[39m\u001b[22m\u001b[36mCloning Orchestra from https://github.com/svs14/Orchestra.jl\n",
      "\u001b[39m\u001b[1m\u001b[36mINFO: \u001b[39m\u001b[22m\u001b[36mComputing changes...\n",
      "\u001b[39m\u001b[1m\u001b[33mWARNING: \u001b[39m\u001b[22m\u001b[33mjulia is fixed at 0.6.2 conflicting with requirement for Orchestra: [0.3.0-,0.6.0)\u001b[39m\n"
     ]
    },
    {
     "ename": "LoadError",
     "evalue": "\u001b[91mDimensionalityReduction can't be installed because it has no versions that support 0.6.2 of julia. You may need to update METADATA by running `Pkg.update()`\u001b[39m",
     "output_type": "error",
     "traceback": [
      "\u001b[91mDimensionalityReduction can't be installed because it has no versions that support 0.6.2 of julia. You may need to update METADATA by running `Pkg.update()`\u001b[39m",
      "",
      "Stacktrace:",
      " [1] \u001b[1mresolve\u001b[22m\u001b[22m\u001b[1m(\u001b[22m\u001b[22m::Dict{String,Base.Pkg.Types.VersionSet}, ::Dict{String,Dict{VersionNumber,Base.Pkg.Types.Available}}, ::Dict{String,Tuple{VersionNumber,Bool}}, ::Dict{String,Base.Pkg.Types.Fixed}, ::Dict{String,VersionNumber}, ::Set{String}\u001b[1m)\u001b[22m\u001b[22m at \u001b[1m./pkg/entry.jl:486\u001b[22m\u001b[22m",
      " [2] \u001b[1mresolve\u001b[22m\u001b[22m\u001b[1m(\u001b[22m\u001b[22m::Dict{String,Base.Pkg.Types.VersionSet}, ::Dict{String,Dict{VersionNumber,Base.Pkg.Types.Available}}, ::Dict{String,Tuple{VersionNumber,Bool}}, ::Dict{String,Base.Pkg.Types.Fixed}\u001b[1m)\u001b[22m\u001b[22m at \u001b[1m./pkg/entry.jl:479\u001b[22m\u001b[22m",
      " [3] \u001b[1medit\u001b[22m\u001b[22m\u001b[1m(\u001b[22m\u001b[22m::Function, ::String\u001b[1m)\u001b[22m\u001b[22m at \u001b[1m./pkg/entry.jl:30\u001b[22m\u001b[22m",
      " [4] \u001b[1mclone\u001b[22m\u001b[22m\u001b[1m(\u001b[22m\u001b[22m::String, ::String\u001b[1m)\u001b[22m\u001b[22m at \u001b[1m./pkg/entry.jl:203\u001b[22m\u001b[22m",
      " [5] \u001b[1m(::Base.Pkg.Dir.##3#6{Array{Any,1},Base.Pkg.Entry.#clone,Tuple{String,String}})\u001b[22m\u001b[22m\u001b[1m(\u001b[22m\u001b[22m\u001b[1m)\u001b[22m\u001b[22m at \u001b[1m./pkg/dir.jl:33\u001b[22m\u001b[22m",
      " [6] \u001b[1mcd\u001b[22m\u001b[22m\u001b[1m(\u001b[22m\u001b[22m::Base.Pkg.Dir.##3#6{Array{Any,1},Base.Pkg.Entry.#clone,Tuple{String,String}}, ::String\u001b[1m)\u001b[22m\u001b[22m at \u001b[1m./file.jl:70\u001b[22m\u001b[22m",
      " [7] \u001b[1mwithenv\u001b[22m\u001b[22m\u001b[1m(\u001b[22m\u001b[22m::Base.Pkg.Dir.##2#5{Array{Any,1},Base.Pkg.Entry.#clone,Tuple{String,String},String}, ::Pair{String,String}, ::Vararg{Pair{String,String},N} where N\u001b[1m)\u001b[22m\u001b[22m at \u001b[1m./env.jl:157\u001b[22m\u001b[22m",
      " [8] \u001b[1m#cd#1\u001b[22m\u001b[22m\u001b[1m(\u001b[22m\u001b[22m::Array{Any,1}, ::Function, ::Function, ::String, ::Vararg{String,N} where N\u001b[1m)\u001b[22m\u001b[22m at \u001b[1m./pkg/dir.jl:32\u001b[22m\u001b[22m",
      " [9] \u001b[1mclone\u001b[22m\u001b[22m\u001b[1m(\u001b[22m\u001b[22m::String, ::String\u001b[1m)\u001b[22m\u001b[22m at \u001b[1m./pkg/pkg.jl:178\u001b[22m\u001b[22m",
      " [10] \u001b[1minclude_string\u001b[22m\u001b[22m\u001b[1m(\u001b[22m\u001b[22m::String, ::String\u001b[1m)\u001b[22m\u001b[22m at \u001b[1m./loading.jl:522\u001b[22m\u001b[22m"
     ]
    }
   ],
   "source": [
    "Pkg.clone(\"https://github.com/svs14/Orchestra.jl\",\"Orchestra.jl\");"
   ]
  },
  {
   "cell_type": "code",
   "execution_count": 9,
   "metadata": {},
   "outputs": [
    {
     "name": "stderr",
     "output_type": "stream",
     "text": [
      "\u001b[1m\u001b[36mINFO: \u001b[39m\u001b[22m\u001b[36mUpdating METADATA...\n",
      "\u001b[39m\u001b[1m\u001b[36mINFO: \u001b[39m\u001b[22m\u001b[36mUpdating SVM master...\n",
      "\u001b[39m\u001b[1m\u001b[36mINFO: \u001b[39m\u001b[22m\u001b[36mUpdating TikzGraphs master...\n",
      "\u001b[39m\u001b[1m\u001b[36mINFO: \u001b[39m\u001b[22m\u001b[36mUpdating Orchestra master...\n",
      "\u001b[39m\u001b[1m\u001b[36mINFO: \u001b[39m\u001b[22m\u001b[36mUpdating KSVM master...\n",
      "\u001b[39m\u001b[1m\u001b[36mINFO: \u001b[39m\u001b[22m\u001b[36mComputing changes...\n",
      "\u001b[39m\u001b[1m\u001b[33mWARNING: \u001b[39m\u001b[22m\u001b[33mjulia is fixed at 0.6.2 conflicting with requirement for Orchestra: [0.3.0-,0.6.0)\u001b[39m\n"
     ]
    },
    {
     "ename": "LoadError",
     "evalue": "\u001b[91mDimensionalityReduction can't be installed because it has no versions that support 0.6.2 of julia. You may need to update METADATA by running `Pkg.update()`\u001b[39m",
     "output_type": "error",
     "traceback": [
      "\u001b[91mDimensionalityReduction can't be installed because it has no versions that support 0.6.2 of julia. You may need to update METADATA by running `Pkg.update()`\u001b[39m",
      "",
      "Stacktrace:",
      " [1] \u001b[1mresolve\u001b[22m\u001b[22m\u001b[1m(\u001b[22m\u001b[22m::Dict{String,Base.Pkg.Types.VersionSet}, ::Dict{String,Dict{VersionNumber,Base.Pkg.Types.Available}}, ::Dict{String,Tuple{VersionNumber,Bool}}, ::Dict{String,Base.Pkg.Types.Fixed}, ::Dict{String,VersionNumber}, ::Set{String}\u001b[1m)\u001b[22m\u001b[22m at \u001b[1m./pkg/entry.jl:486\u001b[22m\u001b[22m",
      " [2] \u001b[1mupdate\u001b[22m\u001b[22m\u001b[1m(\u001b[22m\u001b[22m::String, ::Set{String}\u001b[1m)\u001b[22m\u001b[22m at \u001b[1m./pkg/entry.jl:461\u001b[22m\u001b[22m",
      " [3] \u001b[1m(::Base.Pkg.Dir.##3#6{Array{Any,1},Base.Pkg.Entry.#update,Tuple{String,Set{String}}})\u001b[22m\u001b[22m\u001b[1m(\u001b[22m\u001b[22m\u001b[1m)\u001b[22m\u001b[22m at \u001b[1m./pkg/dir.jl:33\u001b[22m\u001b[22m",
      " [4] \u001b[1mcd\u001b[22m\u001b[22m\u001b[1m(\u001b[22m\u001b[22m::Base.Pkg.Dir.##3#6{Array{Any,1},Base.Pkg.Entry.#update,Tuple{String,Set{String}}}, ::String\u001b[1m)\u001b[22m\u001b[22m at \u001b[1m./file.jl:70\u001b[22m\u001b[22m",
      " [5] \u001b[1mwithenv\u001b[22m\u001b[22m\u001b[1m(\u001b[22m\u001b[22m::Base.Pkg.Dir.##2#5{Array{Any,1},Base.Pkg.Entry.#update,Tuple{String,Set{String}},String}, ::Pair{String,String}, ::Vararg{Pair{String,String},N} where N\u001b[1m)\u001b[22m\u001b[22m at \u001b[1m./env.jl:157\u001b[22m\u001b[22m",
      " [6] \u001b[1m#cd#1\u001b[22m\u001b[22m\u001b[1m(\u001b[22m\u001b[22m::Array{Any,1}, ::Function, ::Function, ::String, ::Vararg{Any,N} where N\u001b[1m)\u001b[22m\u001b[22m at \u001b[1m./pkg/dir.jl:32\u001b[22m\u001b[22m",
      " [7] \u001b[1mupdate\u001b[22m\u001b[22m\u001b[1m(\u001b[22m\u001b[22m\u001b[1m)\u001b[22m\u001b[22m at \u001b[1m./pkg/pkg.jl:228\u001b[22m\u001b[22m",
      " [8] \u001b[1minclude_string\u001b[22m\u001b[22m\u001b[1m(\u001b[22m\u001b[22m::String, ::String\u001b[1m)\u001b[22m\u001b[22m at \u001b[1m./loading.jl:522\u001b[22m\u001b[22m"
     ]
    }
   ],
   "source": [
    "Pkg.update()"
   ]
  },
  {
   "cell_type": "markdown",
   "metadata": {},
   "source": [
    "# Details"
   ]
  },
  {
   "cell_type": "markdown",
   "metadata": {},
   "source": [
    "| Test        | Results       |    \n",
    "| ------------|:-------------:|\n",
    "| Package work| No (not with newer Julia versions) |\n",
    "| Deprecations warnings      | Yes     |\n",
    "| Compatible with JuliaDB | Unclear, potentially yes |\n",
    "| Contains documentation | No, but examples |\n",
    "| Simplicity | okay |"
   ]
  },
  {
   "cell_type": "markdown",
   "metadata": {},
   "source": [
    "# Functions\n",
    "\n",
    "Orchestra.jl builds on the abstract types \"Transformer\" and \"Learner\". Every transformer needs to be equipped with a fit! and a transform! function. Learners are subgroups of Transformers. The package comes with fit! and transform! functions which rely on the fit! and transform! functions of the individual transformers which are being called from the respective package they belong to. Else the package comes with some utils function that can be found in the github repository."
   ]
  },
  {
   "cell_type": "markdown",
   "metadata": {},
   "source": [
    "# Example code\n",
    "\n",
    "As the package is not being build, I suggest looking at the examples provided in the github repository https://github.com/svs14/Orchestra.jl."
   ]
  }
 ],
 "metadata": {
  "kernelspec": {
   "display_name": "Julia 0.6.2",
   "language": "julia",
   "name": "julia-0.6"
  },
  "language_info": {
   "file_extension": ".jl",
   "mimetype": "application/julia",
   "name": "julia",
   "version": "0.6.2"
  }
 },
 "nbformat": 4,
 "nbformat_minor": 2
}
