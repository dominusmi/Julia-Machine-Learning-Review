{
 "cells": [
  {
   "cell_type": "markdown",
   "metadata": {},
   "source": [
    "# OnlineStats.jl\n",
    "\n",
    "_git:_ https://github.com/joshday/OnlineStats.jl\n",
    "_documentation:_ http://joshday.github.io/OnlineStats.jl/stable/index.html\n",
    "\n",
    "## Summary\n",
    "\n",
    "Online stats provide multipel analysis algorithms together with a framework to apply them to online data, this means that instead of requiring all the data to be loaded and analysed at once, one can feed it over time and update the current model.\n",
    "\n",
    "This is an extremely interesting feature since it not only allows to work with data coming through a live feed and constantly updating the model, it also allows the user to divide the input up into smaller parts if it is too large to be handled at once, for instance for memory usage. Additionally, the library allows merging of its model, making parallelization extremely simple, since the data can simply be divided into subsets, each fitted separately, and then merged at the end.\n",
    "\n",
    "\n",
    "The library includes models ranging from mean and variance, to statistical learning methods such as SVM and multivariate analysis such as PCA. A full list of models it supports can be found [here](http://joshday.github.io/OnlineStats.jl/stable/stats_and_models.html#Statistics-and-Models-1)\n",
    "\n",
    "\n",
    "## Usage\n",
    "\n",
    "\n",
    "The package works mostly using only two functions\n",
    "\n",
    "```julia\n",
    "    s = Series( Model1(), Model2(), .. (, x, Weight() ) )\n",
    "```\n",
    "\n",
    "Here we instantiate a Series, using $x$ as initial input (optional), any number of _models_ from the models list listed above, and a _weight_ function, which determines how the weight of observation varies as more observations are added.\n",
    "\n",
    "```julia\n",
    "    fit!(s, y (,Cols()/Rows()) )\n",
    "```\n",
    "\n",
    "Here we are fitting the new inputs y to the already instantiated series s. Can additionally tell the fitting to use columns or rows for observations, which defaults to row.\n",
    "\n",
    "```julia\n",
    "    s = merge(s1, s2)\n",
    "    # or merge!(s1,s2)\n",
    "    \n",
    "```"
   ]
  }
 ],
 "metadata": {
  "kernelspec": {
   "display_name": "Julia 0.6.2",
   "language": "julia",
   "name": "julia-0.6"
  },
  "language_info": {
   "file_extension": ".jl",
   "mimetype": "application/julia",
   "name": "julia",
   "version": "0.6.2"
  }
 },
 "nbformat": 4,
 "nbformat_minor": 2
}
