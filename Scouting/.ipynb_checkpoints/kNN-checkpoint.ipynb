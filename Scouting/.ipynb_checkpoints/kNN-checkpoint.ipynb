{
 "cells": [
  {
   "cell_type": "markdown",
   "metadata": {},
   "source": [
    "# kNN.jl \n",
    "Includes k-nearest neighhbour classification and regression"
   ]
  },
  {
   "cell_type": "markdown",
   "metadata": {},
   "source": [
    "1. The package does not work\n",
    "2. No proper unit test\n",
    "3. Many deprecation errors\n",
    "5. No JuliaDB support, would need to convert to Matrix/Vector types\n",
    "6. No documentation\n",
    "7. Some examples (but of course not working)\n",
    "8. NA (doesn't run)\n",
    "9. Would be a simple implementation if it worked"
   ]
  },
  {
   "cell_type": "markdown",
   "metadata": {},
   "source": [
    "## Summary\n",
    "\n",
    "The package was given up in 2015-16, quote 'This package is totally broken. I'm going to mark it as abandoned forever soon'. Fixing isn't simple, as dependent library functions have changed name/syntax completely, and some of those dependent packages are broken too."
   ]
  },
  {
   "cell_type": "markdown",
   "metadata": {},
   "source": [
    "## User Functions\n",
    "\n",
    "knn\n",
    "    \n",
    "    Type Arguments: \n",
    "    Arguemnts: X::Matrix, y::Vector; metric::Metric = Euclidean()\n",
    "    Returns kNNClassifier object\n",
    "\n",
    "kernelregression\n",
    "\n",
    "    Type Arguments: R <: Any, T <: Real\n",
    "    Arguments: x::Vector{R}, y::Vector{T}; \n",
    "               kernel::Symbol = :epanechnikov, bandwidth::Real = NaN,\n",
    "               getbandwidth::Function = StatsBase.bandwidth)\n",
    "    Returns KernelRegression object "
   ]
  },
  {
   "cell_type": "markdown",
   "metadata": {},
   "source": [
    "## Additional Notes\n",
    "\n",
    "1. Prediction is handled by passing the kNNClassifier and KernelRegression objects to StatsBase.predict"
   ]
  },
  {
   "cell_type": "markdown",
   "metadata": {},
   "source": [
    "## kNN.jl Contributer graph\n",
    "<img src=\"resources/kNN_contrib_graph.png\">"
   ]
  },
  {
   "cell_type": "code",
   "execution_count": null,
   "metadata": {},
   "outputs": [],
   "source": []
  }
 ],
 "metadata": {
  "kernelspec": {
   "display_name": "Julia 0.6.2",
   "language": "julia",
   "name": "julia-0.6"
  },
  "language_info": {
   "file_extension": ".jl",
   "mimetype": "application/julia",
   "name": "julia",
   "version": "0.6.2"
  }
 },
 "nbformat": 4,
 "nbformat_minor": 2
}
