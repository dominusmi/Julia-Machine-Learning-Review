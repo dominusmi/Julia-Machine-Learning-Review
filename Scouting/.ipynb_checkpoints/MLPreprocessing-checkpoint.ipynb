{
 "cells": [
  {
   "cell_type": "markdown",
   "metadata": {},
   "source": [
    "## MLPreprocessing.jl\n",
    "\n",
    "git: https://github.com/JuliaML/MLPreprocessing.jl\n",
    "\n",
    "*Note:* Package is not yet registered in teh julia repo, therefore one needs to manually add it through Pkg.clone(git_url, \"MLPreprocesing\")\n",
    "\n",
    "### Summary\n",
    "\n",
    "Often in ML tasks, the data is required to be preprocessed in one way or another. $MLPreprocessing$ offers a few generic preprocessing, such as centering and scaling to any $\\mu, \\sigma$. The package also allows for a fixed range scaling on matrices (or dataframes). Finally, polynomial expansion is also supported.\n",
    "\n",
    "### Details\n",
    "\n",
    "| Test                      | Results                           |            \n",
    "| :- | :- |\n",
    "| Packages works            | yes                               |\n",
    "| Deprecation warnings      | None                              |\n",
    "| Compatible with JuliaDB   | If tables are converted to arrays or dataframes |\n",
    "| Contains Documetation     | No, but sufficient examples             |\n",
    "| Simplicity                | Fair               |\n",
    "\n",
    "\n",
    "### Issues\n",
    "\n",
    "Although the package says to support Vector types, it did not seem to work and 1-dimensional vectors had to be transformed into matrices (see end of notebook)\n",
    "\n",
    "### Main Functions\n",
    "\n",
    "```\n",
    "fit(StandardScaler, X[, μ, σ; obsdim, operate_on])\n",
    "\n",
    "    obsdim: like axis in python, whether to preprocess in rows or columns\n",
    "    operate_on: Specify the indices of columns or rows to be transformed\n",
    "    Operates in place on StandardScaler\n",
    "\n",
    "\n",
    "fit_transform(StandardScaler, X[, μ, σ; obsdim, operate_on])\n",
    "\n",
    "    @return: Scaled X, scaler object\n",
    "    Note: if \"!\" suffix is used, the function will act on X in place, and only return the scaler\n",
    "    \n",
    "    \n",
    " fit(FixedRangeScaler, X[, lower, upper; obsdim, operate_on])\n",
    "\n",
    "     lower, upper: lower and upper boundaries to transform data to\n",
    " \n",
    " fit_transform(FixedRangeScaler, X[, lower, upper; obsdim, operate_on])\n",
    " \n",
    "     @return: Scaled X, scaler object\n",
    "     Note: if \"!\" suffix is used, the function will act on X in place, and only return the scaler     \n",
    "  \n",
    "  \n",
    " transform(X, scaler)\n",
    "\n",
    "    Requires scaler to be fitted\n",
    "    @return: scaled X\n",
    "```\n",
    "\n",
    "The lower level functions that compose these transformation can also be used independently. Refer to the github page to see more.\n"
   ]
  },
  {
   "cell_type": "markdown",
   "metadata": {},
   "source": [
    "### Example"
   ]
  },
  {
   "cell_type": "code",
   "execution_count": 20,
   "metadata": {},
   "outputs": [
    {
     "data": {
      "text/plain": [
       "Plots.PyPlotBackend()"
      ]
     },
     "execution_count": 20,
     "metadata": {},
     "output_type": "execute_result"
    }
   ],
   "source": [
    "using MLPreprocessing\n",
    "using Plots\n",
    "include(\"load_titanic.jl\");\n",
    "pyplot();"
   ]
  },
  {
   "cell_type": "code",
   "execution_count": 21,
   "metadata": {},
   "outputs": [],
   "source": [
    "# Loading titanic data\n",
    "X_train, y_train, X_test, y_test = load();"
   ]
  },
  {
   "cell_type": "markdown",
   "metadata": {},
   "source": [
    "---\n",
    "#### Standardising"
   ]
  },
  {
   "cell_type": "code",
   "execution_count": 22,
   "metadata": {},
   "outputs": [
    {
     "name": "stdout",
     "output_type": "stream",
     "text": [
      "μ: [447.267 2.23028 0.632492 29.5113 0.501577 0.430599 35.1627 0.269716]\n",
      "σ: [258.502 0.835979 0.482507 14.5776 0.903301 0.831305 54.4096 0.52861]\n"
     ]
    }
   ],
   "source": [
    "println(\"μ: $(mean(X_train, 1))\")\n",
    "println(\"σ: $(std(X_train, 1))\")"
   ]
  },
  {
   "cell_type": "code",
   "execution_count": 23,
   "metadata": {},
   "outputs": [],
   "source": [
    "scaler = fit(StandardScaler, X_train, obsdim=2);\n",
    "Xt_train = transform(X_train, scaler);"
   ]
  },
  {
   "cell_type": "code",
   "execution_count": 24,
   "metadata": {},
   "outputs": [
    {
     "name": "stdout",
     "output_type": "stream",
     "text": [
      "μ: [2.32711 -0.413391 -0.43731 -0.0899352 -0.436092 -0.439052 -0.0700642 -0.441263]\n",
      "σ: [0.431171 0.0671616 0.082835 0.41062 0.07978 0.0826051 0.496512 0.0847349]\n"
     ]
    }
   ],
   "source": [
    "println(\"μ: $(mean(Xt_train, 1))\")\n",
    "println(\"σ: $(std(Xt_train, 1))\")"
   ]
  },
  {
   "cell_type": "markdown",
   "metadata": {},
   "source": [
    "---\n",
    "#### Transforming to range"
   ]
  },
  {
   "cell_type": "code",
   "execution_count": 25,
   "metadata": {},
   "outputs": [
    {
     "data": {
      "text/plain": [
       "([1.0 3.0 … 7.25 0.0; 2.0 1.0 … 71.2833 1.0; … ; 887.0 2.0 … 13.0 0.0; 888.0 1.0 … 30.0 0.0], MLPreprocessing.FixedRangeScaler{Int64,Int64,Float64,Float64,1,Int64}(1, 3, [0.42], [80.0], LearnBase.ObsDim.Constant{1}(), [4]))"
      ]
     },
     "execution_count": 25,
     "metadata": {},
     "output_type": "execute_result"
    }
   ],
   "source": [
    "Xt_train, scaler = fit_transform(FixedRangeScaler, X_train, 1, 3, operate_on=[4], obsdim=1);"
   ]
  },
  {
   "cell_type": "code",
   "execution_count": 34,
   "metadata": {},
   "outputs": [
    {
     "name": "stdout",
     "output_type": "stream",
     "text": [
      "Before:\tmin=0.42, max=80.0\n",
      "After:\tmin=1.0, max=3.0\n"
     ]
    }
   ],
   "source": [
    "# And now the 1st column values all are between 1 and 3\n",
    "println(\"Before:\\tmin=$(minimum(X_train[:,4])), max=$(maximum(X_train[:,4]))\")\n",
    "println(\"After:\\tmin=$(minimum(Xt_train[:,4])), max=$(maximum(Xt_train[:,4]))\")"
   ]
  },
  {
   "cell_type": "markdown",
   "metadata": {},
   "source": [
    "---\n",
    "#### Issue with vectors / 1-d arrays"
   ]
  },
  {
   "cell_type": "code",
   "execution_count": 27,
   "metadata": {},
   "outputs": [
    {
     "ename": "LoadError",
     "evalue": "\u001b[91mMethodError: no method matching fit(::Type{MLPreprocessing.StandardScaler}, ::Array{Float64,1})\u001b[0m\nClosest candidates are:\n  fit(\u001b[91m::Type{StatsBase.Histogram}\u001b[39m, ::AbstractArray{T,1} where T, \u001b[91m::StatsBase.AbstractWeights{W,T,V} where V<:AbstractArray{T,1} where T<:Real\u001b[39m, \u001b[91m::Any...\u001b[39m; kwargs...) where W at /home/edoardo/.julia/v0.6/StatsBase/src/hist.jl:233\n  fit(\u001b[91m::Type{StatsBase.Histogram{T,N,E} where E where N}\u001b[39m, ::AbstractArray{T,1} where T; closed, nbins) where T at /home/edoardo/.julia/v0.6/StatsBase/src/hist.jl:226\n  fit(\u001b[91m::Type{StatsBase.Histogram{T,N,E} where E where N}\u001b[39m, ::AbstractArray{T,1} where T, \u001b[91m::StatsBase.AbstractWeights\u001b[39m; closed, nbins) where T at /home/edoardo/.julia/v0.6/StatsBase/src/hist.jl:230\n  ...\u001b[39m",
     "output_type": "error",
     "traceback": [
      "\u001b[91mMethodError: no method matching fit(::Type{MLPreprocessing.StandardScaler}, ::Array{Float64,1})\u001b[0m\nClosest candidates are:\n  fit(\u001b[91m::Type{StatsBase.Histogram}\u001b[39m, ::AbstractArray{T,1} where T, \u001b[91m::StatsBase.AbstractWeights{W,T,V} where V<:AbstractArray{T,1} where T<:Real\u001b[39m, \u001b[91m::Any...\u001b[39m; kwargs...) where W at /home/edoardo/.julia/v0.6/StatsBase/src/hist.jl:233\n  fit(\u001b[91m::Type{StatsBase.Histogram{T,N,E} where E where N}\u001b[39m, ::AbstractArray{T,1} where T; closed, nbins) where T at /home/edoardo/.julia/v0.6/StatsBase/src/hist.jl:226\n  fit(\u001b[91m::Type{StatsBase.Histogram{T,N,E} where E where N}\u001b[39m, ::AbstractArray{T,1} where T, \u001b[91m::StatsBase.AbstractWeights\u001b[39m; closed, nbins) where T at /home/edoardo/.julia/v0.6/StatsBase/src/hist.jl:230\n  ...\u001b[39m",
      "",
      "Stacktrace:",
      " [1] \u001b[1minclude_string\u001b[22m\u001b[22m\u001b[1m(\u001b[22m\u001b[22m::String, ::String\u001b[1m)\u001b[22m\u001b[22m at \u001b[1m./loading.jl:522\u001b[22m\u001b[22m"
     ]
    }
   ],
   "source": [
    "# Doesn't work although package supposedly compatible with vectors. No example code given for vector example\n",
    "x = randn(100)\n",
    "fit(StandardScaler, Vector{Float64}(x) )"
   ]
  },
  {
   "cell_type": "code",
   "execution_count": 28,
   "metadata": {},
   "outputs": [
    {
     "name": "stdout",
     "output_type": "stream",
     "text": [
      "mu = 0.0866453490584669\n",
      "sigma = 0.9381369913673726\n"
     ]
    }
   ],
   "source": [
    "# A fix is to simply make the 1-d array a one column-matrix\n",
    "x = randn(100,1)\n",
    "scler = fit(StandardScaler, x )\n",
    "xt = transform(x, scaler)\n",
    "\n",
    "println(\"\\mu = $(mean(xt))\")\n",
    "println(\"\\sigma = $(std(xt))\")"
   ]
  }
 ],
 "metadata": {
  "kernelspec": {
   "display_name": "Julia 0.6.2",
   "language": "julia",
   "name": "julia-0.6"
  },
  "language_info": {
   "file_extension": ".jl",
   "mimetype": "application/julia",
   "name": "julia",
   "version": "0.6.2"
  }
 },
 "nbformat": 4,
 "nbformat_minor": 2
}
