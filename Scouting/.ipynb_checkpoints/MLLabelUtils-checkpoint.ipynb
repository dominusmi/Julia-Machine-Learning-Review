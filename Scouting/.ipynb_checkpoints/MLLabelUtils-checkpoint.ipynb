{
 "cells": [
  {
   "cell_type": "code",
   "execution_count": 2,
   "metadata": {},
   "outputs": [
    {
     "name": "stderr",
     "output_type": "stream",
     "text": [
      "\u001b[1m\u001b[36mINFO: \u001b[39m\u001b[22m\u001b[36mRecompiling stale cache file /home/edoardo/.julia/lib/v0.6/CSV.ji for module CSV.\n",
      "\u001b[39m"
     ]
    }
   ],
   "source": []
  },
  {
   "cell_type": "code",
   "execution_count": 23,
   "metadata": {},
   "outputs": [
    {
     "name": "stdout",
     "output_type": "stream",
     "text": [
      "Array{Int64,1}\n",
      "Array{Int64,1}\n",
      "Array{Int64,1}\n",
      "WeakRefStrings.WeakRefStringArray{WeakRefString{UInt8},1,Union{}}\n",
      "CategoricalArrays.CategoricalArray{String,1,UInt32,String,CategoricalArrays.CategoricalString{UInt32},Union{}}\n",
      "Array{Union{Float64, Missings.Missing},1}\n",
      "Array{Int64,1}\n",
      "Array{Int64,1}\n",
      "WeakRefStrings.WeakRefStringArray{WeakRefString{UInt8},1,Union{}}\n",
      "Array{Float64,1}\n",
      "WeakRefStrings.WeakRefStringArray{WeakRefString{UInt8},1,Missings.Missing}\n",
      "CategoricalArrays.CategoricalArray{Union{Missings.Missing, String},1,UInt32,String,CategoricalArrays.CategoricalString{UInt32},Missings.Missing}\n"
     ]
    }
   ],
   "source": [
    "using MLLabelUtils\n"
   ]
  },
  {
   "cell_type": "code",
   "execution_count": 156,
   "metadata": {},
   "outputs": [
    {
     "data": {
      "text/html": [
       "<table class=\"data-frame\"><thead><tr><th></th><th>PassengerId</th><th>Survived</th><th>Pclass</th><th>Sex</th><th>Age</th><th>SibSp</th><th>Parch</th><th>Fare</th><th>Embarked</th></tr></thead><tbody><tr><th>1</th><td>665</td><td>1</td><td>3</td><td>1</td><td>20.0</td><td>1</td><td>0</td><td>7.925</td><td>0</td></tr><tr><th>2</th><td>377</td><td>1</td><td>3</td><td>0</td><td>22.0</td><td>0</td><td>0</td><td>7.25</td><td>0</td></tr><tr><th>3</th><td>660</td><td>0</td><td>1</td><td>1</td><td>58.0</td><td>0</td><td>2</td><td>113.275</td><td>1</td></tr><tr><th>4</th><td>361</td><td>0</td><td>3</td><td>1</td><td>40.0</td><td>1</td><td>4</td><td>27.9</td><td>0</td></tr><tr><th>5</th><td>238</td><td>1</td><td>2</td><td>0</td><td>8.0</td><td>0</td><td>2</td><td>26.25</td><td>0</td></tr><tr><th>6</th><td>763</td><td>1</td><td>3</td><td>1</td><td>20.0</td><td>0</td><td>0</td><td>7.2292</td><td>1</td></tr><tr><th>7</th><td>401</td><td>1</td><td>3</td><td>1</td><td>39.0</td><td>0</td><td>0</td><td>7.925</td><td>0</td></tr><tr><th>8</th><td>456</td><td>1</td><td>3</td><td>1</td><td>29.0</td><td>0</td><td>0</td><td>7.8958</td><td>1</td></tr><tr><th>9</th><td>189</td><td>0</td><td>3</td><td>1</td><td>40.0</td><td>1</td><td>1</td><td>15.5</td><td>2</td></tr><tr><th>10</th><td>337</td><td>0</td><td>1</td><td>1</td><td>29.0</td><td>1</td><td>0</td><td>66.6</td><td>0</td></tr><tr><th>11</th><td>227</td><td>1</td><td>2</td><td>1</td><td>19.0</td><td>0</td><td>0</td><td>10.5</td><td>0</td></tr><tr><th>12</th><td>130</td><td>0</td><td>3</td><td>1</td><td>45.0</td><td>0</td><td>0</td><td>6.975</td><td>0</td></tr><tr><th>13</th><td>563</td><td>0</td><td>2</td><td>1</td><td>28.0</td><td>0</td><td>0</td><td>13.5</td><td>0</td></tr><tr><th>14</th><td>180</td><td>0</td><td>3</td><td>1</td><td>36.0</td><td>0</td><td>0</td><td>0.0</td><td>0</td></tr><tr><th>15</th><td>244</td><td>0</td><td>3</td><td>1</td><td>22.0</td><td>0</td><td>0</td><td>7.125</td><td>0</td></tr><tr><th>16</th><td>511</td><td>1</td><td>3</td><td>1</td><td>29.0</td><td>0</td><td>0</td><td>7.75</td><td>2</td></tr><tr><th>17</th><td>8</td><td>0</td><td>3</td><td>1</td><td>2.0</td><td>3</td><td>1</td><td>21.075</td><td>0</td></tr><tr><th>18</th><td>437</td><td>0</td><td>3</td><td>0</td><td>21.0</td><td>2</td><td>2</td><td>34.375</td><td>0</td></tr><tr><th>19</th><td>243</td><td>0</td><td>2</td><td>1</td><td>29.0</td><td>0</td><td>0</td><td>10.5</td><td>0</td></tr><tr><th>20</th><td>97</td><td>0</td><td>1</td><td>1</td><td>71.0</td><td>0</td><td>0</td><td>34.6542</td><td>1</td></tr><tr><th>21</th><td>44</td><td>1</td><td>2</td><td>0</td><td>3.0</td><td>1</td><td>2</td><td>41.5792</td><td>1</td></tr><tr><th>22</th><td>524</td><td>1</td><td>1</td><td>0</td><td>44.0</td><td>0</td><td>1</td><td>57.9792</td><td>1</td></tr><tr><th>23</th><td>479</td><td>0</td><td>3</td><td>1</td><td>22.0</td><td>0</td><td>0</td><td>7.5208</td><td>0</td></tr><tr><th>24</th><td>783</td><td>0</td><td>1</td><td>1</td><td>29.0</td><td>0</td><td>0</td><td>30.0</td><td>0</td></tr><tr><th>25</th><td>424</td><td>0</td><td>3</td><td>0</td><td>28.0</td><td>1</td><td>1</td><td>14.4</td><td>0</td></tr><tr><th>26</th><td>35</td><td>0</td><td>1</td><td>1</td><td>28.0</td><td>1</td><td>0</td><td>82.1708</td><td>1</td></tr><tr><th>27</th><td>645</td><td>1</td><td>3</td><td>0</td><td>0.75</td><td>2</td><td>1</td><td>19.2583</td><td>1</td></tr><tr><th>28</th><td>237</td><td>0</td><td>2</td><td>1</td><td>44.0</td><td>1</td><td>0</td><td>26.0</td><td>0</td></tr><tr><th>29</th><td>795</td><td>0</td><td>3</td><td>1</td><td>25.0</td><td>0</td><td>0</td><td>7.8958</td><td>0</td></tr><tr><th>30</th><td>857</td><td>1</td><td>1</td><td>0</td><td>45.0</td><td>1</td><td>1</td><td>164.867</td><td>0</td></tr><tr><th>&vellip;</th><td>&vellip;</td><td>&vellip;</td><td>&vellip;</td><td>&vellip;</td><td>&vellip;</td><td>&vellip;</td><td>&vellip;</td><td>&vellip;</td><td>&vellip;</td></tr></tbody></table>"
      ],
      "text/plain": [
       "632×9 DataFrames.DataFrame. Omitted printing of 1 columns\n",
       "│ Row │ PassengerId │ Survived │ Pclass │ Sex │ Age  │ SibSp │ Parch │ Fare    │\n",
       "├─────┼─────────────┼──────────┼────────┼─────┼──────┼───────┼───────┼─────────┤\n",
       "│ 1   │ 665         │ 1        │ 3      │ 1   │ 20.0 │ 1     │ 0     │ 7.925   │\n",
       "│ 2   │ 377         │ 1        │ 3      │ 0   │ 22.0 │ 0     │ 0     │ 7.25    │\n",
       "│ 3   │ 660         │ 0        │ 1      │ 1   │ 58.0 │ 0     │ 2     │ 113.275 │\n",
       "│ 4   │ 361         │ 0        │ 3      │ 1   │ 40.0 │ 1     │ 4     │ 27.9    │\n",
       "│ 5   │ 238         │ 1        │ 2      │ 0   │ 8.0  │ 0     │ 2     │ 26.25   │\n",
       "│ 6   │ 763         │ 1        │ 3      │ 1   │ 20.0 │ 0     │ 0     │ 7.2292  │\n",
       "│ 7   │ 401         │ 1        │ 3      │ 1   │ 39.0 │ 0     │ 0     │ 7.925   │\n",
       "│ 8   │ 456         │ 1        │ 3      │ 1   │ 29.0 │ 0     │ 0     │ 7.8958  │\n",
       "│ 9   │ 189         │ 0        │ 3      │ 1   │ 40.0 │ 1     │ 1     │ 15.5    │\n",
       "│ 10  │ 337         │ 0        │ 1      │ 1   │ 29.0 │ 1     │ 0     │ 66.6    │\n",
       "│ 11  │ 227         │ 1        │ 2      │ 1   │ 19.0 │ 0     │ 0     │ 10.5    │\n",
       "⋮\n",
       "│ 621 │ 535         │ 0        │ 3      │ 0   │ 30.0 │ 0     │ 0     │ 8.6625  │\n",
       "│ 622 │ 800         │ 0        │ 3      │ 0   │ 30.0 │ 1     │ 1     │ 24.15   │\n",
       "│ 623 │ 704         │ 0        │ 3      │ 1   │ 25.0 │ 0     │ 0     │ 7.7417  │\n",
       "│ 624 │ 768         │ 0        │ 3      │ 0   │ 30.5 │ 0     │ 0     │ 7.75    │\n",
       "│ 625 │ 105         │ 0        │ 3      │ 1   │ 37.0 │ 2     │ 0     │ 7.925   │\n",
       "│ 626 │ 580         │ 1        │ 3      │ 1   │ 32.0 │ 0     │ 0     │ 7.925   │\n",
       "│ 627 │ 256         │ 1        │ 3      │ 0   │ 29.0 │ 0     │ 2     │ 15.2458 │\n",
       "│ 628 │ 770         │ 0        │ 3      │ 1   │ 32.0 │ 0     │ 0     │ 8.3625  │\n",
       "│ 629 │ 880         │ 1        │ 1      │ 0   │ 56.0 │ 0     │ 1     │ 83.1583 │\n",
       "│ 630 │ 395         │ 1        │ 3      │ 0   │ 24.0 │ 0     │ 2     │ 16.7    │\n",
       "│ 631 │ 627         │ 0        │ 2      │ 1   │ 57.0 │ 0     │ 0     │ 12.35   │\n",
       "│ 632 │ 620         │ 0        │ 2      │ 1   │ 26.0 │ 0     │ 0     │ 10.5    │"
      ]
     },
     "execution_count": 156,
     "metadata": {},
     "output_type": "execute_result"
    }
   ],
   "source": []
  }
 ],
 "metadata": {
  "kernelspec": {
   "display_name": "Julia 0.6.2",
   "language": "julia",
   "name": "julia-0.6"
  },
  "language_info": {
   "file_extension": ".jl",
   "mimetype": "application/julia",
   "name": "julia",
   "version": "0.6.2"
  }
 },
 "nbformat": 4,
 "nbformat_minor": 2
}
