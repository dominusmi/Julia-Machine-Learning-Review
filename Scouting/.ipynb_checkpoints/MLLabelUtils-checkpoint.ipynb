{
 "cells": [
  {
   "cell_type": "markdown",
   "metadata": {},
   "source": [
    "This library is a utility library used to transform targets which can come in an array of ways (booleans, $(-1,1)$, continuous variables) into specific labels. This is very important in many classification problems, since for instance NNs expect vectors of the form $[1,0,0]$ for three classes, while SVMs expect scalars in the set ${-1,1}$.\n"
   ]
  },
  {
   "cell_type": "code",
   "execution_count": 69,
   "metadata": {},
   "outputs": [],
   "source": [
    "using MLLabelUtils\n",
    "include(\"load_titanic.jl\");"
   ]
  },
  {
   "cell_type": "code",
   "execution_count": 74,
   "metadata": {},
   "outputs": [],
   "source": [
    "train, train_targets, test, test_targets = load();"
   ]
  },
  {
   "cell_type": "markdown",
   "metadata": {},
   "source": [
    "Note that $train\\_targets$ is an Int64 array of ones and zeros.\n",
    "If we wanted to quickly find this, we could use:"
   ]
  },
  {
   "cell_type": "code",
   "execution_count": 79,
   "metadata": {},
   "outputs": [
    {
     "data": {
      "text/plain": [
       "MLLabelUtils.LabelEnc.ZeroOne{Int64,Float64}(0.5)"
      ]
     },
     "execution_count": 79,
     "metadata": {},
     "output_type": "execute_result"
    }
   ],
   "source": [
    "# Automatically finds most adapted label type\n",
    "encoded_tragets = labelenc(train_targets)"
   ]
  },
  {
   "cell_type": "markdown",
   "metadata": {},
   "source": [
    "Note that for the previous step to work, the array must be truly 1-dimensional. If a column is taken from a matrix as is often the case since targets tend to be stored as one of the columns in the training dataset, this method will fail as it will think of the 1-dimensional array as a matrix with one column, and will therefore give a \"OneVsK\" type as can be seen. \n",
    "\n",
    "To avoid this:"
   ]
  },
  {
   "cell_type": "code",
   "execution_count": 76,
   "metadata": {},
   "outputs": [
    {
     "name": "stdout",
     "output_type": "stream",
     "text": [
      "Current type is: Array{Int64,2}\n",
      "The modified type is: Array{Int64,1}\n"
     ]
    }
   ],
   "source": [
    "println(\"Current type is: $(typeof(train_targets))\")\n",
    "train_targets = train_targets[:]\n",
    "println(\"The modified type is: $(typeof(train_targets))\")"
   ]
  },
  {
   "cell_type": "markdown",
   "metadata": {},
   "source": [
    "And now we would get the correct format:"
   ]
  },
  {
   "cell_type": "code",
   "execution_count": null,
   "metadata": {},
   "outputs": [],
   "source": [
    "encoded_tragets = labelenc(true_targets);\n"
   ]
  },
  {
   "cell_type": "markdown",
   "metadata": {},
   "source": [
    "If we were to train an SVM, we would need margin based targets, which can be calculated from:"
   ]
  },
  {
   "cell_type": "code",
   "execution_count": 78,
   "metadata": {},
   "outputs": [],
   "source": [
    "convertlabel(LabelEnc.MarginBased, train_targets);\n",
    "# Returns arrays of 1 & -1"
   ]
  },
  {
   "cell_type": "code",
   "execution_count": 8,
   "metadata": {},
   "outputs": [],
   "source": [
    "\n",
    "# Tells if the current variable is of this encoding type\n",
    "islabelenc(true_targets, LabelEnc.ZeroOne); # True\n",
    "islabelenc(true_targets, LabelEnc.MarginBased); # False"
   ]
  },
  {
   "cell_type": "code",
   "execution_count": 7,
   "metadata": {},
   "outputs": [
    {
     "data": {
      "text/plain": [
       "Dict{Symbol,Array{Int64,1}} with 3 entries:\n",
       "  :yes   => [1, 4]\n",
       "  :maybe => [3, 5]\n",
       "  :no    => [2]"
      ]
     },
     "execution_count": 7,
     "metadata": {},
     "output_type": "execute_result"
    }
   ],
   "source": [
    "# Can also compute the label map, which returns a dictionary of telling for each label, which indeces belong to it\n",
    "true_targets = [:yes,:no,:maybe,:yes, :maybe];\n",
    "labelmap(true_targets)"
   ]
  },
  {
   "cell_type": "markdown",
   "metadata": {},
   "source": [
    "One can convert one type of label to another:"
   ]
  },
  {
   "cell_type": "code",
   "execution_count": 9,
   "metadata": {},
   "outputs": [],
   "source": [
    "true_targets = Int8[0, 1, 0, 1, 1];"
   ]
  },
  {
   "cell_type": "code",
   "execution_count": 10,
   "metadata": {},
   "outputs": [],
   "source": [
    "convertlabel([:yes,:no], true_targets); # Equivalent to LabelEnc.NativeLabels([:yes,:no])"
   ]
  },
  {
   "cell_type": "code",
   "execution_count": 11,
   "metadata": {},
   "outputs": [
    {
     "data": {
      "text/plain": [
       "5-element Array{Int8,1}:\n",
       " -1\n",
       "  1\n",
       " -1\n",
       "  1\n",
       "  1"
      ]
     },
     "execution_count": 11,
     "metadata": {},
     "output_type": "execute_result"
    }
   ],
   "source": [
    "convertlabel(LabelEnc.MarginBased, true_targets) # Preserves eltype"
   ]
  },
  {
   "cell_type": "code",
   "execution_count": 12,
   "metadata": {},
   "outputs": [
    {
     "data": {
      "text/plain": [
       "5-element Array{Float32,1}:\n",
       " -1.0\n",
       "  1.0\n",
       " -1.0\n",
       "  1.0\n",
       "  1.0"
      ]
     },
     "execution_count": 12,
     "metadata": {},
     "output_type": "execute_result"
    }
   ],
   "source": [
    "convertlabel(LabelEnc.MarginBased(Float32), true_targets) # Force new eltype"
   ]
  },
  {
   "cell_type": "code",
   "execution_count": 15,
   "metadata": {},
   "outputs": [
    {
     "data": {
      "text/plain": [
       "3×7 Array{Float32,2}:\n",
       " 1.0  0.0  1.0  0.0  0.0  0.0  1.0\n",
       " 0.0  1.0  0.0  1.0  0.0  1.0  0.0\n",
       " 0.0  0.0  0.0  0.0  1.0  0.0  0.0"
      ]
     },
     "execution_count": 15,
     "metadata": {},
     "output_type": "execute_result"
    }
   ],
   "source": [
    "# Converting to categorical data for NNs\n",
    "convertlabel(LabelEnc.OneOfK(Float32,3), [-1,1,-1,1,0,1,-1])"
   ]
  }
 ],
 "metadata": {
  "kernelspec": {
   "display_name": "Julia 0.6.2",
   "language": "julia",
   "name": "julia-0.6"
  },
  "language_info": {
   "file_extension": ".jl",
   "mimetype": "application/julia",
   "name": "julia",
   "version": "0.6.2"
  }
 },
 "nbformat": 4,
 "nbformat_minor": 2
}
