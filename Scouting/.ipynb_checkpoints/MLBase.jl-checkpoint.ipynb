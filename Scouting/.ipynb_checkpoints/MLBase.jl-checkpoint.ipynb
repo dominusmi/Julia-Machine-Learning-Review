{
 "cells": [
  {
   "cell_type": "markdown",
   "metadata": {},
   "source": [
    "# MLBase.jl\n",
    "\n",
    "https://github.com/JuliaStats/MLBase.jl"
   ]
  },
  {
   "cell_type": "markdown",
   "metadata": {},
   "source": [
    "# Summary\n",
    "\n",
    "This package is designed as a support package for general machine learning tasks. utilities include\n",
    "\n",
    "    -Data manipulation\n",
    "    -Score based classification\n",
    "    -Performance evaluation\n",
    "    -Cross validation\n",
    "    -Hyperparameter tuning\n",
    "    \n",
    "The utilities that are implemented work well with general packages and models. But there seems to be quite a few\n",
    "missing features, for example the data manipulation is limited to converting string labels to integers and repeating data\n",
    "entries, and hyperparameter tuning is simply gridsearch rather than something more clever etc. \n",
    "\n",
    "Altogether a good package which could easily be improved. "
   ]
  },
  {
   "cell_type": "markdown",
   "metadata": {},
   "source": [
    "# Details\n",
    "\n",
    "| Test                      | Results                           |            \n",
    "| :- | :- |\n",
    "| Packages works            | yes                               |\n",
    "| Deprecation warnings      | None                              |\n",
    "| Compatible with JuliaDB   | If tables are converted to arrays |\n",
    "| Contains Documetation     | Yes and very good             |\n",
    "| Simplicity                | Very good                |"
   ]
  },
  {
   "cell_type": "markdown",
   "metadata": {},
   "source": [
    "# Example Usage"
   ]
  },
  {
   "cell_type": "markdown",
   "metadata": {},
   "source": [
    "### Pre-processing\n",
    "\n",
    "Encoding is supported for transforming discrete values to integer labels. Groups can be formed based on \n",
    "these encoded labels for separating data set easily."
   ]
  },
  {
   "cell_type": "code",
   "execution_count": 1,
   "metadata": {},
   "outputs": [
    {
     "name": "stdout",
     "output_type": "stream",
     "text": [
      "Raw labels: String[\"No\", \"Yes\", \"No\", \"Yes\", \"No\", \"Yes\", \"No\", \"No\", \"Yes\", \"No\"]\n",
      "\n",
      "Mapped labels: LabelMap (with 2 labels):\n",
      "[1] No\n",
      "[2] Yes\n",
      "\n",
      "Encoded labels: [1, 2, 1, 2, 1, 2, 1, 1, 2, 1]\n"
     ]
    },
    {
     "data": {
      "text/plain": [
       "2-element Array{Array{Int64,1},1}:\n",
       " [1, 3, 5, 7, 8, 10, 11, 18, 19, 20] \n",
       " [2, 4, 6, 9, 12, 13, 14, 15, 16, 17]"
      ]
     },
     "execution_count": 1,
     "metadata": {},
     "output_type": "execute_result"
    }
   ],
   "source": [
    "using MLBase\n",
    "\n",
    "Survived = vcat(repeat([\"Yes\"],outer=[10]),repeat([\"No\"],outer=[10]))[shuffle(1:end)];\n",
    "println(\"Raw labels: \", Survived[1:10], \"\\n\")\n",
    "lm = labelmap(Survived);\n",
    "println(\"Mapped labels: \", lm)\n",
    "Class = labelencode(lm, Survived);\n",
    "println(\"Encoded labels: \", Class[1:10])\n",
    "groupindices(lm,Survived)"
   ]
  },
  {
   "cell_type": "markdown",
   "metadata": {},
   "source": [
    "### Classification\n",
    "\n",
    "Given a matrix of observed model prediction scores (or a single prediction) it is possible to return the predicted value. \n",
    "Each column is an observation and each row the score for each possible class."
   ]
  },
  {
   "cell_type": "code",
   "execution_count": 2,
   "metadata": {},
   "outputs": [
    {
     "name": "stdout",
     "output_type": "stream",
     "text": [
      "[3, 2, 1]\n",
      "([3, 2, 1], [0.6, 10.0, 100.0])\n"
     ]
    },
    {
     "data": {
      "text/plain": [
       "3×3 Array{Float64,2}:\n",
       " 0.2   0.5  100.0\n",
       " 0.5  10.0    9.6\n",
       " 0.6   0.7    1.0"
      ]
     },
     "execution_count": 2,
     "metadata": {},
     "output_type": "execute_result"
    }
   ],
   "source": [
    "A = [0.2 0.5 100;0.5 10 9.6; 0.6 0.7 1];\n",
    "println(classify(A))\n",
    "println(classify_withscores(A))\n",
    "A"
   ]
  },
  {
   "cell_type": "markdown",
   "metadata": {},
   "source": [
    "### Performance Evaluation"
   ]
  },
  {
   "cell_type": "code",
   "execution_count": 3,
   "metadata": {},
   "outputs": [
    {
     "data": {
      "text/plain": [
       "Ensemble of Decision Trees\n",
       "Trees:      200\n",
       "Avg Leaves: 39.935\n",
       "Avg Depth:  10.93"
      ]
     },
     "execution_count": 3,
     "metadata": {},
     "output_type": "execute_result"
    }
   ],
   "source": [
    "using DecisionTree\n",
    "# generate a fake dataset and train a randomforest\n",
    "function Fakedata(n,dim) \n",
    "    x = randn(n,dim)\n",
    "    y = (sum(exp.(x)/(1+exp.(x)),2)).>0.5\n",
    "    return 1.0*x,1*y[:,1]\n",
    "end\n",
    "\n",
    "d=5\n",
    "X, Y = Fakedata(1000,d);\n",
    "forest = build_forest(Y, X, d, 200)"
   ]
  },
  {
   "cell_type": "markdown",
   "metadata": {},
   "source": [
    "Using the trained classifier it is now possible to generate a confusion matrix and error/correct rates. \n",
    "\n",
    "NB classes must be $1,2,\\ldots,n_{classes}$ for confusion matrix which is inconsitent with\n",
    "other functions, it appears to be as a result of indexing the array by the class values so 0 throws a\n",
    "bounds error."
   ]
  },
  {
   "cell_type": "code",
   "execution_count": 4,
   "metadata": {},
   "outputs": [
    {
     "name": "stdout",
     "output_type": "stream",
     "text": [
      "Correct: 0.857\n",
      "Error: 0.143\n",
      "\n",
      "Confusion: \n"
     ]
    },
    {
     "data": {
      "text/plain": [
       "2×2 Array{Int64,2}:\n",
       " 486   55\n",
       "  88  371"
      ]
     },
     "execution_count": 4,
     "metadata": {},
     "output_type": "execute_result"
    }
   ],
   "source": [
    "test_x,test_y = Fakedata(1000,d)\n",
    "test_y = test_y\n",
    "pred = 1*apply_forest(forest,test_x)\n",
    "println(\"Correct: \", correctrate(test_y, pred))\n",
    "println(\"Error: \", errorrate(test_y,pred))\n",
    "println(\"\\nConfusion: \")\n",
    "confusmat(2,test_y.+1,pred.+1)"
   ]
  },
  {
   "cell_type": "markdown",
   "metadata": {},
   "source": [
    "True positive , true negative, false positive, and false negative numbers and rates are also supported. First\n",
    "we must create an object of type *ROCNums* by calling *roc(truth,predicted)*, these can then be accessed by functions of\n",
    "th form *true_positive(::ROCNums)*. Similarly precision, recall, and f1 are available."
   ]
  },
  {
   "cell_type": "code",
   "execution_count": 5,
   "metadata": {},
   "outputs": [
    {
     "name": "stdout",
     "output_type": "stream",
     "text": [
      "False Positives: 88\n",
      "\n",
      "True Negative rate: 0.8983364140480592\n",
      "\n",
      "F1 score: 0.8384180790960452\n",
      "\n"
     ]
    },
    {
     "data": {
      "text/plain": [
       "MLBase.ROCNums{Int64}\n",
       "  p = 459\n",
       "  n = 541\n",
       "  tp = 371\n",
       "  tn = 486\n",
       "  fp = 55\n",
       "  fn = 88\n"
      ]
     },
     "execution_count": 5,
     "metadata": {},
     "output_type": "execute_result"
    }
   ],
   "source": [
    "r = roc(test_y,pred)\n",
    "println(\"False Positives: \", false_negative(r), \"\\n\")\n",
    "println(\"True Negative rate: \", true_negative_rate(r), \"\\n\")\n",
    "println(\"F1 score: \", f1score(r), \"\\n\")\n",
    "r"
   ]
  },
  {
   "cell_type": "code",
   "execution_count": 7,
   "metadata": {},
   "outputs": [
    {
     "name": "stdout",
     "output_type": "stream",
     "text": [
      "False Positives: 88\n",
      "\n",
      "True Negative rate: 0.8983364140480592\n",
      "\n",
      "F1 score: 0.8384180790960452\n",
      "\n"
     ]
    },
    {
     "data": {
      "image/png": "[encoded data removed]"
     },
     "execution_count": 7,
     "metadata": {},
     "output_type": "execute_result"
    }
   ],
   "source": [
    "r = roc(test_y,pred)\n",
    "println(\"False Positives: \", false_negative(r), \"\\n\")\n",
    "println(\"True Negative rate: \", true_negative_rate(r), \"\\n\")\n",
    "println(\"F1 score: \", f1score(r), \"\\n\")\n",
    "r\n",
    "\n",
    "scores = apply_forest_proba(forest,test_x, [0,1]);\n",
    "r = roc(test_y, scores[:,1]);\n",
    "\n",
    "using Plots\n",
    "\n",
    "x = []\n",
    "y = []\n",
    "for roc in r\n",
    "    push!(x,true_positive_rate(roc))\n",
    "    push!(y,false_positive_rate(roc))\n",
    "end\n",
    "\n",
    "plot(x,y,label=\"Random Forest\")\n",
    "plot!(x,x)\n",
    "plot!(title = \"ROC curve\", xlabel = \"True Positive Rate\", ylabel = \"False Positive Rate\")"
   ]
  },
  {
   "cell_type": "markdown",
   "metadata": {},
   "source": [
    "### Cross Validation\n",
    "\n",
    "Normal K-fold cross validation and stratified K-fold are supported as well as leave-one-out, random subsampling and\n",
    "stratified random subsampling.\n",
    "\n",
    "This can be done on indices"
   ]
  },
  {
   "cell_type": "code",
   "execution_count": 8,
   "metadata": {},
   "outputs": [
    {
     "data": {
      "text/plain": [
       "3-element Array{Any,1}:\n",
       " [1, 4, 5, 6, 9, 10, 11, 13, 14, 15  …  986, 988, 992, 993, 994, 995, 996, 997, 999, 1000]\n",
       " [1, 2, 3, 4, 5, 6, 7, 8, 9, 10  …  987, 988, 989, 990, 991, 992, 993, 995, 998, 1000]    \n",
       " [2, 3, 7, 8, 12, 13, 14, 15, 16, 19  …  984, 987, 989, 990, 991, 994, 996, 997, 998, 999]"
      ]
     },
     "execution_count": 8,
     "metadata": {},
     "output_type": "execute_result"
    }
   ],
   "source": [
    "# returns the 10 fold indices with indices 1 to length of X\n",
    "collect(Kfold(size(X)[1],3))"
   ]
  },
  {
   "cell_type": "markdown",
   "metadata": {},
   "source": [
    "Cross validation may be performed using the *cross_validate* function. To do this we must create\n",
    "predictor and evaluator functions and pass a cross validation scheme as follows"
   ]
  },
  {
   "cell_type": "code",
   "execution_count": 9,
   "metadata": {},
   "outputs": [
    {
     "data": {
      "text/plain": [
       "3-element Array{Float64,1}:\n",
       " 0.948949\n",
       " 0.934132\n",
       " 0.945946"
      ]
     },
     "execution_count": 9,
     "metadata": {},
     "output_type": "execute_result"
    }
   ],
   "source": [
    "function estfun(id)\n",
    "    return build_forest(Y[id],X[id,:],5,200)\n",
    "end\n",
    "\n",
    "function evalfun(model, id)\n",
    "    return correctrate(Y[id], 1*apply_forest(model,X[id,:]))\n",
    "end\n",
    "# perform 3-fold cross validation for the random forest model \n",
    "cross_validate(estfun,evalfun,size(X)[1], Kfold(size(X)[1],3))"
   ]
  },
  {
   "cell_type": "markdown",
   "metadata": {},
   "source": [
    "### Model Hyperparameter Tuning\n",
    "\n",
    "A grid search *gridtune* is implemented following a similar structure to the *cross_validation* function. \n",
    "\n",
    "NB it appears the order of hyperparameters matters otherwise it runs with *forest_size* as the *random_features* parameter!"
   ]
  },
  {
   "cell_type": "code",
   "execution_count": 74,
   "metadata": {},
   "outputs": [
    {
     "name": "stdout",
     "output_type": "stream",
     "text": [
      "[random_features=1, forest_size=100] => 0.922\n",
      "[random_features=2, forest_size=100] => 0.899\n",
      "[random_features=3, forest_size=100] => 0.904\n",
      "[random_features=4, forest_size=100] => 0.896\n",
      "[random_features=5, forest_size=100] => 0.907\n",
      "[random_features=1, forest_size=500] => 0.915\n",
      "[random_features=2, forest_size=500] => 0.906\n",
      "[random_features=3, forest_size=500] => 0.903\n",
      "[random_features=4, forest_size=500] => 0.902\n",
      "[random_features=5, forest_size=500] => 0.902\n",
      "[random_features=1, forest_size=1000] => 0.908\n",
      "[random_features=2, forest_size=1000] => 0.906\n",
      "[random_features=3, forest_size=1000] => 0.905\n",
      "[random_features=4, forest_size=1000] => 0.905\n",
      "[random_features=5, forest_size=1000] => 0.904\n",
      "\n",
      "Best model: Ensemble of Decision Trees\n",
      "Trees:      100\n",
      "Avg Leaves: 85.02\n",
      "Avg Depth:  15.68\n",
      "\n",
      "Best Configuration: (1, 100)\n",
      "\n",
      "Best score: 0.922\n"
     ]
    }
   ],
   "source": [
    "function estfun(random_features,forest_size)\n",
    "    return build_forest(Y,X,random_features,forest_size)\n",
    "end\n",
    "\n",
    "function evalfun(model)\n",
    "    return correctrate(test_y, 1*apply_forest(model,test_x))\n",
    "end\n",
    "\n",
    "best_model, best_config, best_score = gridtune(estfun, \n",
    "                                               evalfun, \n",
    "                                               (\"random_features\",[1,2,3,4,5]),\n",
    "                                               (\"forest_size\",[100,500,1000]),\n",
    "                                               verbose=true\n",
    ")\n",
    "\n",
    "println(\"\\nBest model: \", best_model)\n",
    "println(\"\\nBest Configuration: \", best_config)\n",
    "println(\"\\nBest score: \", best_score)"
   ]
  }
 ],
 "metadata": {
  "kernelspec": {
   "display_name": "Julia 0.6.2",
   "language": "julia",
   "name": "julia-0.6"
  },
  "language_info": {
   "file_extension": ".jl",
   "mimetype": "application/julia",
   "name": "julia",
   "version": "0.6.2"
  }
 },
 "nbformat": 4,
 "nbformat_minor": 2
}
