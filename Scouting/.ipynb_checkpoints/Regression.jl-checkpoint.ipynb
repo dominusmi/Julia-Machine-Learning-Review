{
 "cells": [
  {
   "cell_type": "markdown",
   "metadata": {},
   "source": [
    "## Regression.jl\n",
    "git: https://github.com/lindahua/Regression.jl\n",
    "\n",
    "#### Summary\n",
    "\n",
    "The package provides multiple types of regressions, using a high level interface, and includes multiple solvers. In addition, it supports callbacks and other learning parameters. \n",
    "The general usage is as such:\n",
    "\n",
    "```\n",
    "Regression.solve(\n",
    "    logisticreg(X, y; bias=1.0),   # construct a logistic regression problem\n",
    "    reg=SqrL2Reg(1.0e-2),          # apply squared L2 regularization\n",
    "    options=Options(verbosity=:iter, grtol=1.0e-6 * n))  # set options\n",
    "```\n",
    "\n",
    "---\n",
    "#### Details\n",
    "\n",
    "| Test        | Results           \n",
    "| ------------- |:-------------:|\n",
    "| Package works | No |\n",
    "| Deprecations warnings      | Several      |\n",
    "| Compatible with JuliaDB | - |\n",
    "| Contains documentation | yes, complete |\n",
    "| Simplicity | high |\n",
    "\n",
    "\n",
    "\n"
   ]
  },
  {
   "cell_type": "markdown",
   "metadata": {},
   "source": []
  }
 ],
 "metadata": {
  "kernelspec": {
   "display_name": "Julia 0.6.2",
   "language": "julia",
   "name": "julia-0.6"
  },
  "language_info": {
   "file_extension": ".jl",
   "mimetype": "application/julia",
   "name": "julia",
   "version": "0.6.2"
  }
 },
 "nbformat": 4,
 "nbformat_minor": 2
}
