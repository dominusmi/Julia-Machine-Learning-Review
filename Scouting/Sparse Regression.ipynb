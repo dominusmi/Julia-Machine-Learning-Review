{
 "cells": [
  {
   "cell_type": "markdown",
   "metadata": {},
   "source": [
    "## SparseRegression.jl\n",
    "Git: https://github.com/joshday/SparseRegression.jl\n",
    "\n",
    "\n",
    "\n",
    "### TODO:\n",
    "\n",
    "-  Add more extensive benchmark\n",
    "-  Find out what $\\omega$ parameter is\n",
    "\n",
    "---\n",
    "\n",
    "### Summary\n",
    "Sparse regression is a package to achieve high performance regression of linear models for large dataset where coefficients often turn out to be sparse.\n",
    "The main call follows the form SModel(x,y, args) where arguments include the loss, penalty, and the $\\lambda$ and $\\omega$ arguments.\n",
    "Prediction are done through *predict(X, model)* call\n",
    "\n",
    "The loss and penalty functions are based on the _LossFunctions_ and _PenaltyFunctions_ MLJulia core packages.\n",
    "\n",
    "Additionally, one can use learning strategies from the _LearningStategies_ package. This allows to set parameters that are purely learning based, such as optimizers, max iterations or max items. \n",
    "More on this in the documentation.\n",
    "\n",
    "This structure allows for one model to be used for the many linear models such as OLS, ridge, lasso etc. which all have the same underlying structure.\n",
    "\n",
    "The library only supports univariate regression.\n",
    "\n",
    "---\n",
    "### Details\n",
    "\n",
    "| Test        | Results           \n",
    "| ------------- |:-------------:|\n",
    "| Package works | yes |\n",
    "| Deprecations warnings      | No      |\n",
    "| Compatible with JuliaDB | If targets transformed into array |\n",
    "| Contains documentation | yes, but not great |\n",
    "| Simplicity | good |\n",
    "\n",
    "\n",
    "---\n",
    "### Usage\n",
    "\n",
    "\n",
    "**SModel(x, y, args...)**\n",
    "\n",
    "Arguments\n",
    "\n",
    "- loss::Loss = .5 * L2DistLoss()\n",
    "\n",
    "- penalty::Penalty = L2Penalty()\n",
    "\n",
    "- λ::Vector{Float64} = fill(size(x, 2), .1)\n",
    "\n",
    "- w::Union{Void, AbstractWeights} = nothing\n",
    "\n",
    "_Note: these are interpreted from the type by the function, not from keys_\n",
    "\n",
    "Using personalised learning strategies [(see more)](https://github.com/JuliaML/LearningStrategies.jl):\n",
    "\n",
    "```\n",
    "learn!(s, strategy(ProxGrad(s), MaxIter(25), TimeLimit(.5)))\n",
    "```\n",
    "\n",
    "**Important:** Although the library supposedly accepts integer arrays, it doesn't seem to actually work in practice\n",
    "\n",
    "---\n",
    "\n",
    "### Differences with Python's scikit-learn\n",
    "\n",
    "-  Scikit-learn offers the *fit_intercept* parameter, which here is not a choice.\n",
    "-  $\\alpha$ parameter, $\\lambda$ in this package, can only be given as a scalar in scikit, while this package allows the user to pass a vector, allowing different regularizations on features.\n",
    "-  Scikit offers to normalize the data, here it is assumed the user will have done any preprocessing before using the model\n",
    "-  Scikit offers to precompute the Gram matrix, which can speed up calculations\n",
    "-  Scikit offers an argument named _positive_, which forces the coefficients to be positive\n",
    "-  Scikit allows to give a seed for which coefficient to update, if the argument _selection_ is set to \"random\"\n",
    "-  In scikit, all these different linear models use different functions, while this package groups them by simply allowing the user to select the loss and penalty, allowing for greater flexibility\n",
    "-  Through the use of _LearningStrategies_, this package allows a lot of flexibility on the user side as to how to learn. More on these strategies can be found [here](https://github.com/JuliaML/LearningStrategies.jl)\n",
    "\n"
   ]
  },
  {
   "cell_type": "markdown",
   "metadata": {},
   "source": [
    "---\n",
    "\n",
    "### Incorporation of different models\n",
    "\n",
    "**Ridge** \n",
    "`model = SModel(X_train,y_train, L2DistLoss(), L2Penalty());`\n",
    "\n",
    "**Lasso**\n",
    "`model = SModel(X_train,y_train, L2DistLoss(), L1Penalty());`\n",
    "\n",
    "**Elastic-Net**\n",
    "`model = SModel(X_train,y_train, L2DistLoss(), ElasticNetPenalty(α = 0.5));`\n",
    "\n",
    "_Note: these penalties have default parameters, for more information, see the [git hub repository](https://github.com/JuliaML/PenaltyFunctions.jl)_\n",
    "\n",
    "___\n",
    "\n",
    "### Sample code"
   ]
  },
  {
   "cell_type": "code",
   "execution_count": 11,
   "metadata": {},
   "outputs": [],
   "source": [
    "using SparseRegression;\n",
    "include(\"load_titanic.jl\");"
   ]
  },
  {
   "cell_type": "code",
   "execution_count": 12,
   "metadata": {},
   "outputs": [],
   "source": [
    "X_train, y_train, X_test, y_test = load();"
   ]
  },
  {
   "cell_type": "code",
   "execution_count": 13,
   "metadata": {
    "scrolled": true
   },
   "outputs": [
    {
     "name": "stderr",
     "output_type": "stream",
     "text": [
      "\u001b[1m\u001b[36mINFO: \u001b[39m\u001b[22m\u001b[36mMaxIter(100) finished\n",
      "\u001b[39m"
     ]
    },
    {
     "data": {
      "text/plain": [
       "█ SModel\n",
       "  > β        : [2.52083e74 -4.01126e74 … -2.42626e75 -1.07446e73]\n",
       "  > λ factor : [0.1 0.1 … 0.1 0.1]\n",
       "  > Loss     : L2DistLoss\n",
       "  > Penalty  : L1Penalty\n",
       "  > Data\n",
       "    - x : 634×8 Array{Float64,2}\n",
       "    - y : 634-element Array{Int64,1}\n",
       "    - w : Void"
      ]
     },
     "execution_count": 13,
     "metadata": {},
     "output_type": "execute_result"
    }
   ],
   "source": [
    "# Example using lasso regression\n",
    "model = SModel(X_train,y_train, L2DistLoss(), L1Penalty());\n",
    "learn!(model);\n",
    "model"
   ]
  },
  {
   "cell_type": "code",
   "execution_count": 14,
   "metadata": {},
   "outputs": [],
   "source": [
    "# Predicting new data\n",
    "predict(model, X_test);"
   ]
  },
  {
   "cell_type": "markdown",
   "metadata": {},
   "source": [
    "---\n",
    "### (Very) Simple benchmark vs python "
   ]
  },
  {
   "cell_type": "markdown",
   "metadata": {},
   "source": [
    "(Only lasso regression is tested)"
   ]
  },
  {
   "cell_type": "code",
   "execution_count": 6,
   "metadata": {},
   "outputs": [
    {
     "data": {
      "text/plain": [
       "compute_regression (generic function with 1 method)"
      ]
     },
     "execution_count": 6,
     "metadata": {},
     "output_type": "execute_result"
    }
   ],
   "source": [
    "function compute_regression(n_points::Int64, n_dims::Int64)\n",
    "    x = randn(n_points, n_dims);\n",
    "    y = x * linspace(-1, 1, n_dims) + randn(n_points);\n",
    "    s = SModel(x, y, L2DistLoss(), L1Penalty(), fill(1.0, size(x, 2)));\n",
    "\n",
    "    tic();\n",
    "    learn!(s);\n",
    "    time = toc();\n",
    "   \n",
    "    return time\n",
    "end"
   ]
  },
  {
   "cell_type": "code",
   "execution_count": null,
   "metadata": {},
   "outputs": [],
   "source": [
    "IJulia.set_verbose(false)\n",
    "\n",
    "n_points = 10_000\n",
    "n_dims = [10, 100, 1000, 5000]\n",
    "\n",
    "avg_times = []\n",
    "\n",
    "for n_dim in n_dims\n",
    "    times = []\n",
    "    for i in 1:5\n",
    "        time = compute_regression(n_points, n_dim);\n",
    "        \n",
    "        push!(times, time);\n",
    "    end\n",
    "    avg_times = mean(times);\n",
    "    println(\"Average time $(avg_times) for $(n_dim) dimensions\")\n",
    "end\n",
    "\n",
    "IJulia.set_verbose(true)"
   ]
  },
  {
   "cell_type": "markdown",
   "metadata": {},
   "source": [
    "#### Results\n",
    "\n",
    "| Dimensions    | Julia | Python    \n",
    "| ------------- |:-----:|:-----:|\n",
    "| 10 | 0.0028s | 0.023s |\n",
    "| 100 | 0.0078s | 0.19s |\n",
    "| 1000 | 0.61s | 2.3s|\n",
    "| 5000 | 4.59s | 17s|\n",
    "\n",
    "The code for the python's results can be found in *python_scripts.py*"
   ]
  },
  {
   "cell_type": "markdown",
   "metadata": {},
   "source": [
    "#### Example varying $\\beta$ in lasso regression"
   ]
  },
  {
   "cell_type": "code",
   "execution_count": null,
   "metadata": {},
   "outputs": [],
   "source": [
    "using MLPreprocessing\n",
    "using Plots\n",
    "pyplot()\n",
    "X_train, y_train, X_test, y_test = load();\n",
    "y_train = convert(Array{Float64}, y_train)\n",
    "\n",
    "scaler = fit(StandardScaler, X_train, obsdim=2);\n",
    "X_train = MLPreprocessing.transform(X_train, scaler);\n",
    "\n",
    "βs = []\n",
    "for λ in 0.001:0.001:2.0\n",
    "    model = SModel(X_train, y_train, L2DistLoss(), L1Penalty(), fill(λ, size(X_train, 2)) );\n",
    "    learn!(model);\n",
    "    \n",
    "    push!( βs, model.β )\n",
    "end"
   ]
  },
  {
   "cell_type": "code",
   "execution_count": 16,
   "metadata": {},
   "outputs": [],
   "source": [
    "coefficients = zeros(length(βs), 8);\n",
    "for i in 1:length(βs)\n",
    "     coefficients[i,:] = convert(Array{Float64}, βs[i]);\n",
    "end"
   ]
  },
  {
   "cell_type": "code",
   "execution_count": 19,
   "metadata": {},
   "outputs": [
    {
     "data": {
      "text/html": [
       "<img src=\"data:image/png;base64,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\" />"
      ]
     },
     "execution_count": 19,
     "metadata": {},
     "output_type": "execute_result"
    }
   ],
   "source": [
    "plot(log.(collect(0.001:0.001:2.0)), coefficients, title=\"β coefficients\", xlabel=\"log10 λ\", ylabel=\"β\")"
   ]
  }
 ],
 "metadata": {
  "kernelspec": {
   "display_name": "Julia 0.6.2",
   "language": "julia",
   "name": "julia-0.6"
  },
  "language_info": {
   "file_extension": ".jl",
   "mimetype": "application/julia",
   "name": "julia",
   "version": "0.6.2"
  }
 },
 "nbformat": 4,
 "nbformat_minor": 2
}
