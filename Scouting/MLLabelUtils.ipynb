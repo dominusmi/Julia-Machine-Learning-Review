{
 "cells": [
  {
   "cell_type": "markdown",
   "metadata": {},
   "source": [
    "This library is a utility library used to transform targets which can come in an array of ways (booleans, $(-1,1)$, continuous variables) into specific labels. This is very important in many classification problems, since for instance NNs expect vectors of the form $[1,0,0]$ for three classes, while SVMs expect scalars in the set ${-1,1}$.\n",
    "\n",
    "Current state:\n",
    "\n",
    "| Test        | Results           \n",
    "| ------------- |:-------------:|\n",
    "| Package works | yes |\n",
    "| Deprecations warnings      | No      |\n",
    "| Compatible with JuliaDB | If targets transformed into array |\n",
    "| Contains documentation | yes |\n",
    "| Simplicity | good |\n"
   ]
  },
  {
   "cell_type": "code",
   "execution_count": 1,
   "metadata": {},
   "outputs": [],
   "source": [
    "using MLLabelUtils\n",
    "include(\"load_titanic.jl\");"
   ]
  },
  {
   "cell_type": "code",
   "execution_count": 2,
   "metadata": {},
   "outputs": [],
   "source": [
    "train, train_targets, test, test_targets = load();"
   ]
  },
  {
   "cell_type": "markdown",
   "metadata": {},
   "source": [
    "Note that $train\\_targets$ is an Int64 array of ones and zeros.\n",
    "If we wanted to quickly find this, we could use:"
   ]
  },
  {
   "cell_type": "code",
   "execution_count": 3,
   "metadata": {},
   "outputs": [
    {
     "data": {
      "text/plain": [
       "MLLabelUtils.LabelEnc.OneOfK{Int64,632}()"
      ]
     },
     "execution_count": 3,
     "metadata": {},
     "output_type": "execute_result"
    }
   ],
   "source": [
    "# Automatically finds most adapted label type\n",
    "encoded_tragets = labelenc(train_targets)"
   ]
  },
  {
   "cell_type": "markdown",
   "metadata": {},
   "source": [
    "Note that for the previous step to work, the array must be truly 1-dimensional. If a column is taken from a matrix as is often the case since targets tend to be stored as one of the columns in the training dataset, this method will fail as it will think of the 1-dimensional array as a matrix with one column, and will therefore give a \"OneVsK\" type as can be seen. \n",
    "\n",
    "To avoid this:"
   ]
  },
  {
   "cell_type": "code",
   "execution_count": 4,
   "metadata": {},
   "outputs": [
    {
     "name": "stdout",
     "output_type": "stream",
     "text": [
      "Current type is: Array{Int64,2}\n",
      "The modified type is: Array{Int64,1}\n"
     ]
    }
   ],
   "source": [
    "println(\"Current type is: $(typeof(train_targets))\")\n",
    "train_targets = train_targets[:]\n",
    "println(\"The modified type is: $(typeof(train_targets))\")"
   ]
  },
  {
   "cell_type": "markdown",
   "metadata": {},
   "source": [
    "And now we would get the correct format:"
   ]
  },
  {
   "cell_type": "code",
   "execution_count": 5,
   "metadata": {},
   "outputs": [],
   "source": [
    "encoded_tragets = labelenc(train_targets);"
   ]
  },
  {
   "cell_type": "markdown",
   "metadata": {},
   "source": [
    "If we were to train an SVM, we would need margin based targets, which can be calculated from:"
   ]
  },
  {
   "cell_type": "code",
   "execution_count": 6,
   "metadata": {},
   "outputs": [],
   "source": [
    "convertlabel(LabelEnc.MarginBased, train_targets);\n",
    "# Returns arrays of 1 & -1"
   ]
  },
  {
   "cell_type": "markdown",
   "metadata": {},
   "source": [
    "We can also check whether the current encoding is of a given type:"
   ]
  },
  {
   "cell_type": "code",
   "execution_count": 7,
   "metadata": {},
   "outputs": [],
   "source": [
    "# Tells if the current variable is of this encoding type\n",
    "islabelenc(train_targets, LabelEnc.ZeroOne); # True\n",
    "islabelenc(train_targets, LabelEnc.MarginBased); # False"
   ]
  },
  {
   "cell_type": "markdown",
   "metadata": {},
   "source": [
    "A label very often required is the categorical label, which transforms scalar labels into vector labels. This can be done using"
   ]
  },
  {
   "cell_type": "code",
   "execution_count": 8,
   "metadata": {},
   "outputs": [
    {
     "data": {
      "text/plain": [
       "3×7 Array{Float32,2}:\n",
       " 1.0  0.0  1.0  0.0  0.0  0.0  1.0\n",
       " 0.0  1.0  0.0  1.0  0.0  1.0  0.0\n",
       " 0.0  0.0  0.0  0.0  1.0  0.0  0.0"
      ]
     },
     "execution_count": 8,
     "metadata": {},
     "output_type": "execute_result"
    }
   ],
   "source": [
    "# Converting to categorical data for NNs with 3 theoretical classes\n",
    "convertlabel(LabelEnc.OneOfK(Float32,3), [-1,1,-1,1,0,1,-1])"
   ]
  }
 ],
 "metadata": {
  "kernelspec": {
   "display_name": "Julia 0.6.2",
   "language": "julia",
   "name": "julia-0.6"
  },
  "language_info": {
   "file_extension": ".jl",
   "mimetype": "application/julia",
   "name": "julia",
   "version": "0.6.2"
  }
 },
 "nbformat": 4,
 "nbformat_minor": 2
}
