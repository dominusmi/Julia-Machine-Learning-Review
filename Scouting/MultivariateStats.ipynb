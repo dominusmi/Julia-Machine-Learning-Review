{
 "cells": [
  {
   "cell_type": "markdown",
   "metadata": {},
   "source": [
    "# MultivariateStats\n",
    "\n",
    "_git_: https://github.com/JuliaStats/MultivariateStats.jl           \n",
    "_documentation_: http://multivariatestatsjl.readthedocs.io/en/latest/index.html\n",
    "\n",
    "### Summary\n",
    "\n",
    "Multivariate is a package providing many multivariate statistics functions, including regression, dimensionality extraction and feature selection methods.\n",
    "\n",
    "These can be loosely divided into:\n",
    "\n",
    "-  **Dimensionality reduction**: PCA, Probabilistic PCA, Classical MDS, Kernel PCA, Factor Analysis\n",
    "-  **Statistical analysis**: CCA, LDA, Multi-class LDA\n",
    "-  **Statistical preprocessing**: Data Whitening\n",
    "-  **Multivariate regression**: OLS/LLSq, Ridge\n",
    "\n",
    "**Important notice:** the package adopts the column major convetion, meaning that columns are observations, and rows are features/variables\n",
    "\n",
    "### Details\n",
    "\n",
    "| Test        | Results           \n",
    "| ------------- |:-------------:|\n",
    "| Package works | yes |\n",
    "| Deprecations warnings      | No      |\n",
    "| Compatible with JuliaDB | If targets transformed into array |\n",
    "| Documentation | very good |\n",
    "| Simplicity | good |\n",
    "\n",
    "\n",
    "\n",
    "### Dimensionality reduction\n",
    "\n",
    "Dimensionality reduction methods are a subset of general statistical methods, whereas in addition to providing information about the data, such as capturing the combination of features that capture the variance well, they allow the user to transform the data into a latent space of reduced dimensionality, where these dimensions are not simple observable features, but are a linear combination of multiple features. \n",
    "\n",
    "For instance, suppose the data being analysed is physical features of a group of people, some features might be entangled together, such as height and weight, therefore reducing the dimensionality. Since this can be done using multiple features and multipel subsets, one could imagine combinations of features such as _height & weight_, _skin colour & hair colour_ etc. to capture more information than _size of hand & eye colour_.\n",
    "\n",
    "Techniques such as PCA will find these correlations, and create new features made of a linear combination of the original features. \n",
    "\n",
    "\n",
    "#### Sample code (from documentation)"
   ]
  },
  {
   "cell_type": "code",
   "execution_count": null,
   "metadata": {},
   "outputs": [],
   "source": [
    "using MultivariateStats, RDatasets, Plots\n",
    "plotly() # using plotly for 3D-interacive graphing\n",
    "\n",
    "# load iris dataset\n",
    "iris = dataset(\"datasets\", \"iris\")\n",
    "\n",
    "# split half to training set\n",
    "Xtr = convert(Array,iris[1:2:end,1:4])'\n",
    "Xtr_labels = convert(Array,iris[1:2:end,5])\n",
    "\n",
    "# split other half to testing set\n",
    "Xte = convert(Array,iris[2:2:end,1:4])'\n",
    "Xte_labels = convert(Array,iris[2:2:end,5])\n",
    "\n",
    "# suppose Xtr and Xte are training and testing data matrix,\n",
    "# with each observation in a column\n",
    "\n",
    "# train a PCA model, allowing up to 3 dimensions\n",
    "M = fit(PCA, Xtr; maxoutdim=3)\n",
    "\n",
    "# apply PCA model to testing set\n",
    "Yte = transform(M, Xte)\n",
    "\n",
    "# reconstruct testing observations (approximately)\n",
    "Xr = reconstruct(M, Yte)\n",
    "\n",
    "# group results by testing set labels for color coding\n",
    "setosa = Yte[:,Xte_labels.==\"setosa\"]\n",
    "versicolor = Yte[:,Xte_labels.==\"versicolor\"]\n",
    "virginica = Yte[:,Xte_labels.==\"virginica\"]\n",
    "\n",
    "# visualize first 3 principal components in 3D interacive plot\n",
    "p = scatter(setosa[1,:],setosa[2,:],setosa[3,:],marker=:circle,linewidth=0, label=\"setosa\")\n",
    "scatter!(versicolor[1,:],versicolor[2,:],versicolor[3,:],marker=:circle,linewidth=0, label=\"versicolor\")\n",
    "scatter!(virginica[1,:],virginica[2,:],virginica[3,:],marker=:circle,linewidth=0, label=\"virginica\")\n",
    "plot!(p,xlabel=\"PC1\",ylabel=\"PC2\",zlabel=\"PC3\")"
   ]
  },
  {
   "cell_type": "markdown",
   "metadata": {},
   "source": [
    "![PCA](resources/pca.png)"
   ]
  },
  {
   "cell_type": "markdown",
   "metadata": {},
   "source": [
    "### Classification using multivariate linear regression\n",
    "\n",
    "Julia doesn't currently have any classification method using linear models, but using this library, an implementation is quite simple.\n",
    "\n",
    "More information can be found regarding the theory in this [notebook](Linear%20Models%20%20for%20Regression%20%26%20Classification.ipynb)"
   ]
  },
  {
   "cell_type": "code",
   "execution_count": 2,
   "metadata": {},
   "outputs": [],
   "source": [
    "using MultivariateStats\n",
    "using StatsFuns\n",
    "using Plots\n",
    "plotly()\n",
    "\n",
    "# Linearly separable generating functions\n",
    "f(x) = -x + 1 + 0.3*randn()\n",
    "g(x) = -x - 1 + 0.3*randn()\n",
    "\n",
    "# Generate points\n",
    "N = 100\n",
    "x = rand( Int(N/2)  ,1)\n",
    "y_p = f.(x)\n",
    "y_n = g.(x)\n",
    "\n",
    "# Set up matrix\n",
    "X = hcat(x,y_p)\n",
    "X = vcat(X, hcat(x, y_n))\n",
    "\n",
    "# Set up targets matrix\n",
    "Y = zeros(N,2)\n",
    "\n",
    "for i in 1:Int(N/2)\n",
    "    Y[i,:] = [1,0]\n",
    "end\n",
    "for i in Int(N/2):N\n",
    "    Y[i,:] = [0,1]\n",
    "end\n",
    "\n",
    "# Compute linear least square fit\n",
    "a = llsq(X, Y; bias=false);"
   ]
  },
  {
   "cell_type": "code",
   "execution_count": 3,
   "metadata": {},
   "outputs": [
    {
     "data": {
      "text/html": [
       "<script src=\"file:///home/edoardo/.julia/v0.6/Plots/src/backends/../../deps/plotly-latest.min.js\"></script>    <div id=\"036cbd47-134c-425a-a325-662cc6ddc1b7\" style=\"width:600px;height:400px;\"></div>\n",
       "    <script>\n",
       "    PLOT = document.getElementById('036cbd47-134c-425a-a325-662cc6ddc1b7');\n",
       "    Plotly.plot(PLOT, [{\"showlegend\":true,\"mode\":\"markers\",\"xaxis\":\"x\",\"colorbar\":{\"title\":\"\"},\"marker\":{\"symbol\":\"circle\",\"color\":[\"rgba(255, 255, 255, 1.000)\",\"rgba(255, 255, 255, 1.000)\",\"rgba(255, 255, 255, 1.000)\",\"rgba(255, 255, 255, 1.000)\",\"rgba(255, 255, 255, 1.000)\",\"rgba(255, 255, 255, 1.000)\",\"rgba(255, 255, 255, 1.000)\",\"rgba(255, 255, 255, 1.000)\",\"rgba(255, 255, 255, 1.000)\",\"rgba(255, 255, 255, 1.000)\",\"rgba(255, 255, 255, 1.000)\",\"rgba(255, 255, 255, 1.000)\",\"rgba(255, 255, 255, 1.000)\",\"rgba(255, 255, 255, 1.000)\",\"rgba(255, 255, 255, 1.000)\",\"rgba(255, 255, 255, 1.000)\",\"rgba(255, 255, 255, 1.000)\",\"rgba(255, 255, 255, 1.000)\",\"rgba(255, 255, 255, 1.000)\",\"rgba(255, 255, 255, 1.000)\",\"rgba(255, 255, 255, 1.000)\",\"rgba(255, 255, 255, 1.000)\",\"rgba(255, 255, 255, 1.000)\",\"rgba(255, 255, 255, 1.000)\",\"rgba(255, 255, 255, 1.000)\",\"rgba(255, 255, 255, 1.000)\",\"rgba(255, 255, 255, 1.000)\",\"rgba(255, 255, 255, 1.000)\",\"rgba(255, 255, 255, 1.000)\",\"rgba(255, 255, 255, 1.000)\",\"rgba(255, 255, 255, 1.000)\",\"rgba(255, 255, 255, 1.000)\",\"rgba(255, 255, 255, 1.000)\",\"rgba(255, 255, 255, 1.000)\",\"rgba(255, 255, 255, 1.000)\",\"rgba(255, 255, 255, 1.000)\",\"rgba(255, 255, 255, 1.000)\",\"rgba(255, 255, 255, 1.000)\",\"rgba(255, 255, 255, 1.000)\",\"rgba(255, 255, 255, 1.000)\",\"rgba(255, 255, 255, 1.000)\",\"rgba(255, 255, 255, 1.000)\",\"rgba(255, 255, 255, 1.000)\",\"rgba(255, 255, 255, 1.000)\",\"rgba(255, 255, 255, 1.000)\",\"rgba(255, 255, 255, 1.000)\",\"rgba(255, 255, 255, 1.000)\",\"rgba(255, 255, 255, 1.000)\",\"rgba(255, 255, 255, 1.000)\",\"rgba(255, 255, 255, 1.000)\",\"rgba(255, 255, 255, 1.000)\",\"rgba(255, 255, 255, 1.000)\",\"rgba(255, 255, 255, 1.000)\",\"rgba(255, 255, 255, 1.000)\",\"rgba(255, 255, 255, 1.000)\",\"rgba(255, 255, 255, 1.000)\",\"rgba(255, 255, 255, 1.000)\",\"rgba(255, 255, 255, 1.000)\",\"rgba(255, 255, 255, 1.000)\",\"rgba(255, 255, 255, 1.000)\",\"rgba(255, 255, 255, 1.000)\",\"rgba(255, 255, 255, 1.000)\",\"rgba(255, 255, 255, 1.000)\",\"rgba(255, 255, 255, 1.000)\",\"rgba(255, 255, 255, 1.000)\",\"rgba(255, 255, 255, 1.000)\",\"rgba(255, 255, 255, 1.000)\",\"rgba(255, 255, 255, 1.000)\",\"rgba(255, 255, 255, 1.000)\",\"rgba(255, 255, 255, 1.000)\",\"rgba(255, 255, 255, 1.000)\",\"rgba(255, 255, 255, 1.000)\",\"rgba(255, 255, 255, 1.000)\",\"rgba(255, 255, 255, 1.000)\",\"rgba(255, 255, 255, 1.000)\",\"rgba(255, 255, 255, 1.000)\",\"rgba(255, 255, 255, 1.000)\",\"rgba(255, 255, 255, 1.000)\",\"rgba(255, 255, 255, 1.000)\",\"rgba(255, 255, 255, 1.000)\",\"rgba(255, 255, 255, 1.000)\",\"rgba(255, 255, 255, 1.000)\",\"rgba(255, 255, 255, 1.000)\",\"rgba(255, 255, 255, 1.000)\",\"rgba(255, 255, 255, 1.000)\",\"rgba(255, 255, 255, 1.000)\",\"rgba(255, 255, 255, 1.000)\",\"rgba(255, 255, 255, 1.000)\",\"rgba(255, 255, 255, 1.000)\",\"rgba(255, 255, 255, 1.000)\",\"rgba(255, 255, 255, 1.000)\",\"rgba(255, 255, 255, 1.000)\",\"rgba(255, 255, 255, 1.000)\",\"rgba(255, 255, 255, 1.000)\",\"rgba(255, 255, 255, 1.000)\",\"rgba(255, 255, 255, 1.000)\",\"rgba(255, 255, 255, 1.000)\",\"rgba(255, 255, 255, 1.000)\",\"rgba(255, 255, 255, 1.000)\",\"rgba(255, 255, 255, 1.000)\"],\"line\":{\"color\":[\"rgba(0, 0, 0, 1.000)\",\"rgba(0, 0, 0, 1.000)\",\"rgba(0, 0, 0, 1.000)\",\"rgba(0, 0, 0, 1.000)\",\"rgba(0, 0, 0, 1.000)\",\"rgba(0, 0, 0, 1.000)\",\"rgba(0, 0, 0, 1.000)\",\"rgba(0, 0, 0, 1.000)\",\"rgba(0, 0, 0, 1.000)\",\"rgba(0, 0, 0, 1.000)\",\"rgba(0, 0, 0, 1.000)\",\"rgba(0, 0, 0, 1.000)\",\"rgba(0, 0, 0, 1.000)\",\"rgba(0, 0, 0, 1.000)\",\"rgba(0, 0, 0, 1.000)\",\"rgba(0, 0, 0, 1.000)\",\"rgba(0, 0, 0, 1.000)\",\"rgba(0, 0, 0, 1.000)\",\"rgba(0, 0, 0, 1.000)\",\"rgba(0, 0, 0, 1.000)\",\"rgba(0, 0, 0, 1.000)\",\"rgba(0, 0, 0, 1.000)\",\"rgba(0, 0, 0, 1.000)\",\"rgba(0, 0, 0, 1.000)\",\"rgba(0, 0, 0, 1.000)\",\"rgba(0, 0, 0, 1.000)\",\"rgba(0, 0, 0, 1.000)\",\"rgba(0, 0, 0, 1.000)\",\"rgba(0, 0, 0, 1.000)\",\"rgba(0, 0, 0, 1.000)\",\"rgba(0, 0, 0, 1.000)\",\"rgba(0, 0, 0, 1.000)\",\"rgba(0, 0, 0, 1.000)\",\"rgba(0, 0, 0, 1.000)\",\"rgba(0, 0, 0, 1.000)\",\"rgba(0, 0, 0, 1.000)\",\"rgba(0, 0, 0, 1.000)\",\"rgba(0, 0, 0, 1.000)\",\"rgba(0, 0, 0, 1.000)\",\"rgba(0, 0, 0, 1.000)\",\"rgba(0, 0, 0, 1.000)\",\"rgba(0, 0, 0, 1.000)\",\"rgba(0, 0, 0, 1.000)\",\"rgba(0, 0, 0, 1.000)\",\"rgba(0, 0, 0, 1.000)\",\"rgba(0, 0, 0, 1.000)\",\"rgba(0, 0, 0, 1.000)\",\"rgba(0, 0, 0, 1.000)\",\"rgba(0, 0, 0, 1.000)\",\"rgba(0, 0, 0, 1.000)\",\"rgba(0, 0, 0, 1.000)\",\"rgba(0, 0, 0, 1.000)\",\"rgba(0, 0, 0, 1.000)\",\"rgba(0, 0, 0, 1.000)\",\"rgba(0, 0, 0, 1.000)\",\"rgba(0, 0, 0, 1.000)\",\"rgba(0, 0, 0, 1.000)\",\"rgba(0, 0, 0, 1.000)\",\"rgba(0, 0, 0, 1.000)\",\"rgba(0, 0, 0, 1.000)\",\"rgba(0, 0, 0, 1.000)\",\"rgba(0, 0, 0, 1.000)\",\"rgba(0, 0, 0, 1.000)\",\"rgba(0, 0, 0, 1.000)\",\"rgba(0, 0, 0, 1.000)\",\"rgba(0, 0, 0, 1.000)\",\"rgba(0, 0, 0, 1.000)\",\"rgba(0, 0, 0, 1.000)\",\"rgba(0, 0, 0, 1.000)\",\"rgba(0, 0, 0, 1.000)\",\"rgba(0, 0, 0, 1.000)\",\"rgba(0, 0, 0, 1.000)\",\"rgba(0, 0, 0, 1.000)\",\"rgba(0, 0, 0, 1.000)\",\"rgba(0, 0, 0, 1.000)\",\"rgba(0, 0, 0, 1.000)\",\"rgba(0, 0, 0, 1.000)\",\"rgba(0, 0, 0, 1.000)\",\"rgba(0, 0, 0, 1.000)\",\"rgba(0, 0, 0, 1.000)\",\"rgba(0, 0, 0, 1.000)\",\"rgba(0, 0, 0, 1.000)\",\"rgba(0, 0, 0, 1.000)\",\"rgba(0, 0, 0, 1.000)\",\"rgba(0, 0, 0, 1.000)\",\"rgba(0, 0, 0, 1.000)\",\"rgba(0, 0, 0, 1.000)\",\"rgba(0, 0, 0, 1.000)\",\"rgba(0, 0, 0, 1.000)\",\"rgba(0, 0, 0, 1.000)\",\"rgba(0, 0, 0, 1.000)\",\"rgba(0, 0, 0, 1.000)\",\"rgba(0, 0, 0, 1.000)\",\"rgba(0, 0, 0, 1.000)\",\"rgba(0, 0, 0, 1.000)\",\"rgba(0, 0, 0, 1.000)\",\"rgba(0, 0, 0, 1.000)\",\"rgba(0, 0, 0, 1.000)\",\"rgba(0, 0, 0, 1.000)\",\"rgba(0, 0, 0, 1.000)\"],\"width\":1},\"size\":8},\"y\":[0.5731566936906374,0.620293921482292,0.493238925492485,-0.19951192580792676,0.3161543079072242,0.24477019940824918,0.866309146381682,0.958758793698803,0.9061328708239708,0.5006236703583288,-0.5096268330921246,0.5694332734391175,0.38544862817321246,0.7662681112406634,1.0397898890549688,0.05452744093400687,0.4359014765266582,-0.1023825350856067,0.8027905288941679,0.7511548631618201,1.4369156861682004,0.8050876231004938,0.18476726850415703,1.0502746303471107,0.42022149171998036,0.13947274875360452,-0.3846350688715383,0.13628051609191866,0.20645705321032506,0.8440779004360078,0.7570052739726868,0.48754169160473415,0.48575399063003416,0.5976427727978191,0.27874647825082594,0.14224177812995104,0.999374805116642,1.0967111399960214,0.4190126777782333,0.4923119336084055,0.2467645392598139,0.17966807865534923,0.4355008586844948,0.662848766607626,1.0064279049208171,0.9095007227679724,1.4707759290844087,-0.2842159732040338,0.959241528238627,0.2522601450447371,-1.45757670556978,-1.595581954438588,-1.2898660458145068,-1.2458651948398858,-2.0882995567504583,-1.3598606361046608,-1.1063403267127134,-1.548078902659605,-1.2643358244400857,-1.8844704270000041,-2.255529953614092,-1.3716205671301824,-2.094576607480212,-1.9466132818636004,-0.9795619661058601,-1.6257687773696496,-1.433487753757356,-1.289279122117629,-1.3718770094487214,-1.2402980960575525,-1.037464483705881,-0.8795078246545194,-2.278180086338224,-1.2600282005901657,-1.4032913078137388,-1.6321980347269018,-2.006159614176332,-0.8071228338138807,-1.192428306280554,-0.9207327936617518,-1.569725685116131,-1.3377768857961903,-1.7611663352105582,-1.027935662872831,-1.4846755563718252,-1.385802094216727,-1.4194728948404138,-1.5496972744333732,-1.7677511021401051,-1.5631952925388224,-1.691521388601318,-1.0320360595740692,-0.895546413157295,-1.1534720505910776,-1.3692130701364449,-1.0685281109987124,-1.2289492741877543,-1.9102462739680548,-1.5207449179051946,-1.1537930802736969],\"type\":\"scatter\",\"name\":\"Training\",\"yaxis\":\"y\",\"x\":[0.6809057266003393,0.9035996755588587,0.6920459954431581,0.6260972838297998,0.8375357662750189,0.2409127951786496,0.20898313556906034,0.03588099669391065,0.34776925843988704,0.4524701362159682,0.7870753254756904,0.8476007635302403,0.9337672757077307,0.80854878538267,0.11473553415993587,0.8669353219066873,0.021804005326871323,0.9923613719042204,0.11750248061019097,0.6509392889866696,0.4324624729282722,0.04007207453890116,0.9139811084149012,0.2818350588134524,0.652590633731762,0.6303764618748047,0.9735948296241794,0.5639301445196456,0.651318491643389,0.09697564859377361,0.16759124572254835,0.4104350859793613,0.5286042683021297,0.23465443764171878,0.7142559538164099,0.6056093706380632,0.10893693007560246,0.717334977869512,0.5812963452038589,0.4617080160693825,0.7853295137164167,0.7669379499333093,0.5736212698929943,0.3197047001809652,0.11610462382422337,0.018379474506280413,0.19722739943674128,0.7302558272541566,0.5261497281104945,0.44417370674605006,0.6809057266003393,0.9035996755588587,0.6920459954431581,0.6260972838297998,0.8375357662750189,0.2409127951786496,0.20898313556906034,0.03588099669391065,0.34776925843988704,0.4524701362159682,0.7870753254756904,0.8476007635302403,0.9337672757077307,0.80854878538267,0.11473553415993587,0.8669353219066873,0.021804005326871323,0.9923613719042204,0.11750248061019097,0.6509392889866696,0.4324624729282722,0.04007207453890116,0.9139811084149012,0.2818350588134524,0.652590633731762,0.6303764618748047,0.9735948296241794,0.5639301445196456,0.651318491643389,0.09697564859377361,0.16759124572254835,0.4104350859793613,0.5286042683021297,0.23465443764171878,0.7142559538164099,0.6056093706380632,0.10893693007560246,0.717334977869512,0.5812963452038589,0.4617080160693825,0.7853295137164167,0.7669379499333093,0.5736212698929943,0.3197047001809652,0.11610462382422337,0.018379474506280413,0.19722739943674128,0.7302558272541566,0.5261497281104945,0.44417370674605006]},{\"showlegend\":true,\"mode\":\"markers\",\"xaxis\":\"x\",\"colorbar\":{\"title\":\"\"},\"marker\":{\"symbol\":\"circle\",\"color\":[\"rgba(0, 0, 255, 0.701)\",\"rgba(0, 0, 255, 0.613)\",\"rgba(0, 0, 255, 0.667)\",\"rgba(0, 0, 255, 0.627)\",\"rgba(0, 0, 255, 0.638)\",\"rgba(0, 0, 255, 0.666)\",\"rgba(0, 0, 255, 0.700)\",\"rgba(0, 0, 255, 0.725)\",\"rgba(0, 0, 255, 0.697)\",\"rgba(0, 0, 255, 0.684)\",\"rgba(255, 0, 0, 0.601)\",\"rgba(255, 0, 0, 0.694)\",\"rgba(255, 0, 0, 0.712)\",\"rgba(255, 0, 0, 0.703)\",\"rgba(255, 0, 0, 0.760)\",\"rgba(255, 0, 0, 0.769)\",\"rgba(255, 0, 0, 0.731)\",\"rgba(255, 0, 0, 0.718)\",\"rgba(255, 0, 0, 0.850)\",\"rgba(255, 0, 0, 0.770)\"],\"line\":{\"color\":[\"rgba(0, 0, 0, 1.000)\",\"rgba(0, 0, 0, 1.000)\",\"rgba(0, 0, 0, 1.000)\",\"rgba(0, 0, 0, 1.000)\",\"rgba(0, 0, 0, 1.000)\",\"rgba(0, 0, 0, 1.000)\",\"rgba(0, 0, 0, 1.000)\",\"rgba(0, 0, 0, 1.000)\",\"rgba(0, 0, 0, 1.000)\",\"rgba(0, 0, 0, 1.000)\",\"rgba(0, 0, 0, 1.000)\",\"rgba(0, 0, 0, 1.000)\",\"rgba(0, 0, 0, 1.000)\",\"rgba(0, 0, 0, 1.000)\",\"rgba(0, 0, 0, 1.000)\",\"rgba(0, 0, 0, 1.000)\",\"rgba(0, 0, 0, 1.000)\",\"rgba(0, 0, 0, 1.000)\",\"rgba(0, 0, 0, 1.000)\",\"rgba(0, 0, 0, 1.000)\"],\"width\":1},\"size\":8},\"y\":[0.4601859208063266,-0.2576184108607958,0.47620837780703423,0.10308103437726512,-0.21314639766099766,-0.0787288277272179,0.7433068747149724,0.9803695198582157,0.232251789315269,0.6870895045789835,-0.9286467895664129,-1.6651923974667713,-1.2804799448055793,-1.4160726416062384,-2.1046126539029006,-2.161066876466385,-1.291497802919161,-1.115884018803635,-2.5867853534570995,-1.491240999484439],\"type\":\"scatter\",\"name\":\"Predictions\",\"yaxis\":\"y\",\"x\":[0.5689354964844135,0.9077893307714273,0.3401371099526782,0.5542833109066494,0.994034329554456,0.9925852417182726,0.22526190378062427,0.10294048257671284,0.8094691766196733,0.19476712379933803,0.5689354964844135,0.9077893307714273,0.3401371099526782,0.5542833109066494,0.994034329554456,0.9925852417182726,0.22526190378062427,0.10294048257671284,0.8094691766196733,0.19476712379933803]},{\"showlegend\":true,\"mode\":\"lines\",\"xaxis\":\"x\",\"colorbar\":{\"title\":\"\"},\"line\":{\"color\":\"rgba(0, 0, 255, 1.000)\",\"shape\":\"linear\",\"dash\":\"solid\",\"width\":1},\"y\":[1,0],\"type\":\"scatter\",\"name\":\"Ground truth (blue)\",\"yaxis\":\"y\",\"x\":[0,1]},{\"showlegend\":true,\"mode\":\"lines\",\"xaxis\":\"x\",\"colorbar\":{\"title\":\"\"},\"line\":{\"color\":\"rgba(255, 0, 0, 1.000)\",\"shape\":\"linear\",\"dash\":\"solid\",\"width\":1},\"y\":[-1,-2],\"type\":\"scatter\",\"name\":\"Ground truth (red)\",\"yaxis\":\"y\",\"x\":[0,1]}], {\"showlegend\":true,\"xaxis\":{\"showticklabels\":true,\"gridwidth\":0.5,\"tickvals\":[0.0,0.25,0.5,0.75,1.0],\"visible\":true,\"ticks\":\"inside\",\"range\":[-0.03,1.03],\"domain\":[0.061654272382618835,0.9934383202099737],\"tickmode\":\"array\",\"linecolor\":\"rgba(0, 0, 0, 1.000)\",\"showgrid\":true,\"title\":\"x\",\"mirror\":false,\"tickangle\":0,\"showline\":true,\"gridcolor\":\"rgba(0, 0, 0, 0.100)\",\"titlefont\":{\"color\":\"rgba(0, 0, 0, 1.000)\",\"family\":\"sans-serif\",\"size\":15},\"tickcolor\":\"rgb(0, 0, 0)\",\"ticktext\":[\"0.00\",\"0.25\",\"0.50\",\"0.75\",\"1.00\"],\"zeroline\":false,\"type\":\"-\",\"tickfont\":{\"color\":\"rgba(0, 0, 0, 1.000)\",\"family\":\"sans-serif\",\"size\":11},\"zerolinecolor\":\"rgba(0, 0, 0, 1.000)\",\"anchor\":\"y\"},\"paper_bgcolor\":\"rgba(255, 255, 255, 1.000)\",\"annotations\":[{\"yanchor\":\"top\",\"xanchor\":\"center\",\"rotation\":-0.0,\"y\":1.0,\"font\":{\"color\":\"rgba(0, 0, 0, 1.000)\",\"family\":\"sans-serif\",\"size\":20},\"yref\":\"paper\",\"showarrow\":false,\"text\":\"Multivariate OLS classification\",\"xref\":\"paper\",\"x\":0.5275462962962963}],\"height\":400,\"margin\":{\"l\":0,\"b\":20,\"r\":0,\"t\":20},\"plot_bgcolor\":\"rgba(255, 255, 255, 1.000)\",\"yaxis\":{\"showticklabels\":true,\"gridwidth\":0.5,\"tickvals\":[-2.0,-1.0,0.0,1.0],\"visible\":true,\"ticks\":\"inside\",\"range\":[-2.7085121919333446,1.592502767560654],\"domain\":[0.07581474190726165,0.9415463692038496],\"tickmode\":\"array\",\"linecolor\":\"rgba(0, 0, 0, 1.000)\",\"showgrid\":true,\"title\":\"y\",\"mirror\":false,\"tickangle\":0,\"showline\":true,\"gridcolor\":\"rgba(0, 0, 0, 0.100)\",\"titlefont\":{\"color\":\"rgba(0, 0, 0, 1.000)\",\"family\":\"sans-serif\",\"size\":15},\"tickcolor\":\"rgb(0, 0, 0)\",\"ticktext\":[\"-2\",\"-1\",\"0\",\"1\"],\"zeroline\":false,\"type\":\"-\",\"tickfont\":{\"color\":\"rgba(0, 0, 0, 1.000)\",\"family\":\"sans-serif\",\"size\":11},\"zerolinecolor\":\"rgba(0, 0, 0, 1.000)\",\"anchor\":\"x\"},\"legend\":{\"bordercolor\":\"rgba(0, 0, 0, 1.000)\",\"bgcolor\":\"rgba(255, 255, 255, 1.000)\",\"font\":{\"color\":\"rgba(0, 0, 0, 1.000)\",\"family\":\"sans-serif\",\"size\":11},\"y\":1.0,\"x\":1.0},\"width\":600});\n",
       "    </script>\n"
      ]
     },
     "execution_count": 3,
     "metadata": {},
     "output_type": "execute_result"
    }
   ],
   "source": [
    "# Generate new points\n",
    "xt = rand(10)\n",
    "y_p = f.(xt)\n",
    "y_n = g.(xt)\n",
    "\n",
    "Xt = hcat(xt,y_p)\n",
    "Xt = vcat(Xt, hcat(xt, y_n))\n",
    "\n",
    "\n",
    "pred_proba = []\n",
    "pred_class = []\n",
    "\n",
    "# Compute classes and associated probabilities\n",
    "for i in 1:size(Xt,1)\n",
    "    # Use softmax to transform to probability\n",
    "    push!(pred_proba, softmax( reshape(Xt[i,:], (1,2)) *a ) )\n",
    "    \n",
    "    # Certainty given by the probability\n",
    "    certainty = maximum(pred_proba[i])\n",
    "\n",
    "    # Prepare colours for plot\n",
    "    if pred_proba[i][1] > pred_proba[i][2]\n",
    "        push!(pred_class,RGBA(0,0,1, certainty))\n",
    "    else\n",
    "        push!(pred_class,RGBA(1,0,0, certainty))\n",
    "    end\n",
    "end\n",
    "\n",
    "\n",
    "scatter(X[:,1], X[:,2], color=\"white\", label=\"Training\", \n",
    "    title=\"Multivariate OLS classification\",\n",
    "    xlabel=\"x\",\n",
    "    ylabel=\"y\")\n",
    "\n",
    "scatter!(Xt[:,1], Xt[:,2], color=pred_class, label=\"Predictions\")\n",
    "plot!([0,1], [1,0], label=\"Ground truth (blue)\", color=\"blue\")\n",
    "plot!([0,1], [-1,-2], label=\"Ground truth (red)\", color=\"red\")"
   ]
  },
  {
   "cell_type": "markdown",
   "metadata": {},
   "source": [
    "_Figure: opacity of colour relates to certainty of the prediction_"
   ]
  }
 ],
 "metadata": {
  "kernelspec": {
   "display_name": "Julia 0.6.2",
   "language": "julia",
   "name": "julia-0.6"
  },
  "language_info": {
   "file_extension": ".jl",
   "mimetype": "application/julia",
   "name": "julia",
   "version": "0.6.2"
  }
 },
 "nbformat": 4,
 "nbformat_minor": 2
}
