{
 "cells": [
  {
   "cell_type": "markdown",
   "metadata": {},
   "source": [
    "#### Plotting KMeans"
   ]
  },
  {
   "cell_type": "code",
   "execution_count": null,
   "metadata": {},
   "outputs": [],
   "source": [
    "anim = @animate for (i, t_model) in enumerate(t.storage)\n",
    "    scatter(points[:,1], points[:,2], color=predict(t_model, points), label=\"Training points\")\n",
    "    scatter!(t_model.means[:,1], t_model.means[:,2], shape=[:+ :o :utri], ms=10, color=\"red\",\n",
    "        label=\"Means\",\n",
    "        title=\"Evolution of means position\"\n",
    "    )\n",
    "end\n",
    "gif(anim, fps = 2)"
   ]
  }
 ],
 "metadata": {
  "kernelspec": {
   "display_name": "Julia 0.6.2",
   "language": "julia",
   "name": "julia-0.6"
  },
  "language_info": {
   "file_extension": ".jl",
   "mimetype": "application/julia",
   "name": "julia",
   "version": "0.6.2"
  }
 },
 "nbformat": 4,
 "nbformat_minor": 2
}
