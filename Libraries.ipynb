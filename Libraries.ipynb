{
 "cells": [
  {
   "cell_type": "markdown",
   "metadata": {},
   "source": [
    "## Linear Regression & Classification\n",
    "\n",
    "A generic notebook describing the methods can be found [here](Scouting/Linear Models for Regression & Classification.ipynb).\n",
    "\n",
    "|        | [SparseRegression.jl](Scouting/Sparse Regression.ipynb) |  [MultivariateStats.jl](Scouting/MultivariateStats.ipynb) | [OnlineStats.jl](Scouting/OnlineStats.ipynb) |\n",
    "| ------------- |:-------------:|:-------------:|:-:|\n",
    "| Package works | yes | yes | yes |\n",
    "| Deprecations warnings      | No | No | No |\n",
    "| Compatible with JuliaDB | If transformed into matrix | If transformed into matrix | If transformed into matrix |\n",
    "| Contains documentation | yes, but not great | very good | Yes, mostly very good |\n",
    "| Simplicity | good | good | High |\n",
    "\n",
    "\n",
    "\n",
    "## Decision Trees\n",
    "\n",
    "|                       | [DecisionTrees.jl](Scouting/DecisionTree.ipynb) |  [ScikitLearn.jl](Scouting/ScikitLearn.jl.ipynb) |\n",
    "| :- | :- |\n",
    "| Packages works            | yes                               | Yes |\n",
    "| Deprecation warnings      | None                              | Some      |\n",
    "| Compatible with JuliaDB   | If tables are converted to arrays | Yes (transformation of tables to arrays required) |\n",
    "| Contains Documetation     | No, but many examples             | Yes (very good!) |\n",
    "| Simplicity                | Good, like sklearn                | good |\n",
    "\n",
    "### Utilities\n",
    "\n",
    "- _MLPreprocessing_ is used to do simple scaling/normalising\n",
    "- _MLLabelUtils_ provides functions to modify the labels to be compatible with whatever the algorithm requires. For instance transform into categorical, booleans, from text to number etc\n",
    "- MLBase provides function for label encoding, classification from model scores, performance evaluation (ROC, F1 etc),\n",
    "  cross-validation (Kfold, stratified Kfold, subsmapling), and grid search hyperparameter tuning.\n",
    "\n",
    "\n",
    "\n",
    "|                       | [MLPreprocessing.jl](Scouting/MLPreprocessing.ipynb) | [MLLabelUtils.jl](Scouting/MLLabelUtils.ipynb) | [MLBase.jl](Scouting/MLBase.jl.ipynb)|\n",
    "| :- | :- | :- | :- |\n",
    "| Packages works            | yes | yes | yes|\n",
    "| Deprecation warnings      | None | No |No|\n",
    "| Compatible with JuliaDB   | If tables are converted to arrays or dataframes | If tables transformed into arrays |If tables transformed into arrays|\n",
    "| Contains Documetation     | No, but sufficient examples | yes |yes|\n",
    "| Simplicity                | Fair | good |good|\n",
    "\n",
    "\n"
   ]
  },
  {
   "cell_type": "code",
   "execution_count": null,
   "metadata": {},
   "outputs": [],
   "source": []
  }
 ],
 "metadata": {
  "kernelspec": {
   "display_name": "Julia 0.6.2",
   "language": "julia",
   "name": "julia-0.6"
  },
  "language_info": {
   "file_extension": ".jl",
   "mimetype": "application/julia",
   "name": "julia",
   "version": "0.6.2"
  }
 },
 "nbformat": 4,
 "nbformat_minor": 2
}
